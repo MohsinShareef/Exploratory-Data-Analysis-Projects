{
 "cells": [
  {
   "cell_type": "markdown",
   "metadata": {},
   "source": [
    "# About Author:\n",
    "- Name: Moshin Shareef.\n",
    "- [Email](mohsinshareef822@gmail.com)\n",
    "- [Github](https://github.com/MohsinShareef)\n",
    "- [Kaggle](https://www.kaggle.com/mohsin31202)\n",
    "- Project: Animated Movies and TV Shows.\n",
    "- Submission Date: March 2024."
   ]
  },
  {
   "cell_type": "markdown",
   "metadata": {},
   "source": [
    "## About Dataset\n",
    "### Context\n",
    "- All Animated TV shows with IMDb and Google user rating\n",
    "\n",
    "- Presenting a comprehensive compilation of Animated television series, featuring essential details such as series name, episode/season count, release year, streaming platform, production company, co-producers, IMDb rating, and Google user rating.\n",
    "\n",
    "### Content\n",
    "- ID: ID for each Animated TV shows\n",
    "- Title: Name of each Animated TV shows\n",
    "- Episodes: Number of Episodes\n",
    "- Year: The release year of the animated movie\n",
    "- Original channel: The streaming platform where the animated series originally aired\n",
    "- American company: The Animation's production company\n",
    "- Note: The Animation's co-production company\n",
    "- Technique: The artistic methodology utilized in the creation of the animation\n",
    "- IMDb: The IMDb rating\n",
    "- Google users: The Percentage of Google users liked this TV Show\n",
    "### Collected by:\n",
    "- Name: Kumar Arnav\n",
    "- [Kaggle id Kumar Arnav](https://www.kaggle.com/arnavvvvv)"
   ]
  },
  {
   "cell_type": "markdown",
   "metadata": {},
   "source": [
    "## Important libraries \n",
    "- Pandas: For Data Analysis.\n",
    "- Numpy: For Math Functions.\n",
    "- Matplotlib: Data Visualization.\n",
    "- Seaborn: Data Visualization in Attractive Way.\n",
    "- Plotly Data Visualization in Interactive and Attractive Way.\n",
    "## Python Version:\n",
    "- Python 3.11.5  "
   ]
  },
  {
   "cell_type": "code",
   "execution_count": 60,
   "metadata": {},
   "outputs": [],
   "source": [
    "# Importing the libraries\n",
    "import pandas as pd\n",
    "import numpy as np\n",
    "import matplotlib.pyplot as plt\n",
    "import seaborn as sns\n",
    "import plotly.express as px\n",
    "# display all columns\n",
    "pd.set_option('display.max_columns', None)\n",
    "# display all rows\n",
    "pd.set_option('display.max_rows', None)\n",
    "\n",
    "# Load online dataset\n",
    "import os\n",
    "for dirname, _, filenames in os.walk('/kaggle/input'):\n",
    "    for filename in filenames:\n",
    "        print(os.path.join(dirname, filename))\n",
    "\n",
    "# ignore warnings\n",
    "import warnings\n",
    "warnings.filterwarnings('ignore')"
   ]
  },
  {
   "cell_type": "markdown",
   "metadata": {},
   "source": [
    "## Load the Dataset\n",
    "- Create new dataframe.\n",
    "- Create df for accumulation of data."
   ]
  },
  {
   "cell_type": "code",
   "execution_count": 2,
   "metadata": {},
   "outputs": [],
   "source": [
    "# load dataset from kaggle \n",
    "\n",
    "# df = pd.read_csv('/kaggle/input/student-study-performance/study_performance.csv')\n",
    "\n",
    "# Load dataset \n",
    "df = pd.read_csv('./data/Animated_Tv_Series.csv', encoding = \"ISO-8859-1\")"
   ]
  },
  {
   "cell_type": "markdown",
   "metadata": {},
   "source": [
    "# Let's Start Data Wrangling\n",
    "- Look first five rows"
   ]
  },
  {
   "cell_type": "code",
   "execution_count": 3,
   "metadata": {},
   "outputs": [
    {
     "data": {
      "text/html": [
       "<div>\n",
       "<style scoped>\n",
       "    .dataframe tbody tr th:only-of-type {\n",
       "        vertical-align: middle;\n",
       "    }\n",
       "\n",
       "    .dataframe tbody tr th {\n",
       "        vertical-align: top;\n",
       "    }\n",
       "\n",
       "    .dataframe thead th {\n",
       "        text-align: right;\n",
       "    }\n",
       "</style>\n",
       "<table border=\"1\" class=\"dataframe\">\n",
       "  <thead>\n",
       "    <tr style=\"text-align: right;\">\n",
       "      <th></th>\n",
       "      <th>Id</th>\n",
       "      <th>Title</th>\n",
       "      <th>Episodes</th>\n",
       "      <th>Year</th>\n",
       "      <th>Original channel</th>\n",
       "      <th>American company</th>\n",
       "      <th>Note</th>\n",
       "      <th>Technique</th>\n",
       "      <th>IMDb</th>\n",
       "      <th>Google users</th>\n",
       "    </tr>\n",
       "  </thead>\n",
       "  <tbody>\n",
       "    <tr>\n",
       "      <th>0</th>\n",
       "      <td>1</td>\n",
       "      <td>2 Stupid Dogs</td>\n",
       "      <td>26.0</td>\n",
       "      <td>1993-1995</td>\n",
       "      <td>TBS</td>\n",
       "      <td>Hanna-Barbera</td>\n",
       "      <td>NaN</td>\n",
       "      <td>Traditional</td>\n",
       "      <td>7.2</td>\n",
       "      <td>91%</td>\n",
       "    </tr>\n",
       "    <tr>\n",
       "      <th>1</th>\n",
       "      <td>2</td>\n",
       "      <td>3-2-1 Penguins!</td>\n",
       "      <td>27.0</td>\n",
       "      <td>2000-2008</td>\n",
       "      <td>Direct to video</td>\n",
       "      <td>Big Idea Productions</td>\n",
       "      <td>NaN</td>\n",
       "      <td>CGI</td>\n",
       "      <td>6.5</td>\n",
       "      <td>91%</td>\n",
       "    </tr>\n",
       "    <tr>\n",
       "      <th>2</th>\n",
       "      <td>3</td>\n",
       "      <td>3-South</td>\n",
       "      <td>13.0</td>\n",
       "      <td>2002-2003</td>\n",
       "      <td>MTV</td>\n",
       "      <td>Warner Bros. AnimationMTV Animation</td>\n",
       "      <td>NaN</td>\n",
       "      <td>Traditional</td>\n",
       "      <td>8.0</td>\n",
       "      <td>87%</td>\n",
       "    </tr>\n",
       "    <tr>\n",
       "      <th>3</th>\n",
       "      <td>4</td>\n",
       "      <td>3Below: Tales of Arcadia</td>\n",
       "      <td>28.0</td>\n",
       "      <td>2018-2019</td>\n",
       "      <td>Netflix</td>\n",
       "      <td>DreamWorks Animation Television</td>\n",
       "      <td>NaN</td>\n",
       "      <td>CGI</td>\n",
       "      <td>7.6</td>\n",
       "      <td>77%</td>\n",
       "    </tr>\n",
       "    <tr>\n",
       "      <th>4</th>\n",
       "      <td>5</td>\n",
       "      <td>3rd &amp; Bird</td>\n",
       "      <td>51.0</td>\n",
       "      <td>2008-2010</td>\n",
       "      <td>Playhouse Disney</td>\n",
       "      <td>Little Airplane Productions</td>\n",
       "      <td>British co-production</td>\n",
       "      <td>Flash</td>\n",
       "      <td>7.8</td>\n",
       "      <td>92%</td>\n",
       "    </tr>\n",
       "  </tbody>\n",
       "</table>\n",
       "</div>"
      ],
      "text/plain": [
       "   Id                     Title  Episodes       Year  Original channel  \\\n",
       "0   1             2 Stupid Dogs      26.0  1993-1995               TBS   \n",
       "1   2           3-2-1 Penguins!      27.0  2000-2008   Direct to video   \n",
       "2   3                   3-South      13.0  2002-2003               MTV   \n",
       "3   4  3Below: Tales of Arcadia      28.0  2018-2019           Netflix   \n",
       "4   5                3rd & Bird      51.0  2008-2010  Playhouse Disney   \n",
       "\n",
       "                      American company                   Note    Technique  \\\n",
       "0                        Hanna-Barbera                    NaN  Traditional   \n",
       "1                 Big Idea Productions                    NaN          CGI   \n",
       "2  Warner Bros. AnimationMTV Animation                    NaN  Traditional   \n",
       "3      DreamWorks Animation Television                    NaN          CGI   \n",
       "4          Little Airplane Productions  British co-production        Flash   \n",
       "\n",
       "   IMDb Google users  \n",
       "0   7.2          91%  \n",
       "1   6.5          91%  \n",
       "2   8.0          87%  \n",
       "3   7.6          77%  \n",
       "4   7.8          92%  "
      ]
     },
     "execution_count": 3,
     "metadata": {},
     "output_type": "execute_result"
    }
   ],
   "source": [
    "df.head()"
   ]
  },
  {
   "cell_type": "markdown",
   "metadata": {},
   "source": [
    "- Shape of the dataset."
   ]
  },
  {
   "cell_type": "code",
   "execution_count": 4,
   "metadata": {},
   "outputs": [
    {
     "data": {
      "text/plain": [
       "(1816, 10)"
      ]
     },
     "execution_count": 4,
     "metadata": {},
     "output_type": "execute_result"
    }
   ],
   "source": [
    "df.shape"
   ]
  },
  {
   "cell_type": "markdown",
   "metadata": {},
   "source": [
    "- Information of the dataset."
   ]
  },
  {
   "cell_type": "code",
   "execution_count": 5,
   "metadata": {},
   "outputs": [
    {
     "name": "stdout",
     "output_type": "stream",
     "text": [
      "<class 'pandas.core.frame.DataFrame'>\n",
      "RangeIndex: 1816 entries, 0 to 1815\n",
      "Data columns (total 10 columns):\n",
      " #   Column            Non-Null Count  Dtype  \n",
      "---  ------            --------------  -----  \n",
      " 0   Id                1816 non-null   int64  \n",
      " 1   Title             1816 non-null   object \n",
      " 2   Episodes          1798 non-null   float64\n",
      " 3   Year              1816 non-null   object \n",
      " 4   Original channel  1809 non-null   object \n",
      " 5   American company  1771 non-null   object \n",
      " 6   Note              488 non-null    object \n",
      " 7   Technique         1816 non-null   object \n",
      " 8   IMDb              1812 non-null   float64\n",
      " 9   Google users      1812 non-null   object \n",
      "dtypes: float64(2), int64(1), object(7)\n",
      "memory usage: 142.0+ KB\n"
     ]
    }
   ],
   "source": [
    "df.info()"
   ]
  },
  {
   "cell_type": "markdown",
   "metadata": {},
   "source": [
    "- Print the columns name."
   ]
  },
  {
   "cell_type": "code",
   "execution_count": 6,
   "metadata": {},
   "outputs": [
    {
     "data": {
      "text/plain": [
       "Index(['Id', 'Title', 'Episodes', 'Year', 'Original channel',\n",
       "       'American company', 'Note', 'Technique', 'IMDb', 'Google users'],\n",
       "      dtype='object')"
      ]
     },
     "execution_count": 6,
     "metadata": {},
     "output_type": "execute_result"
    }
   ],
   "source": [
    "df.columns"
   ]
  },
  {
   "cell_type": "markdown",
   "metadata": {},
   "source": [
    "## Obervation Set 1:-\n",
    "- The data have 10 columns/attributes.\n",
    "- The dataset have 1816 rows/entries. \n",
    "- 3 columns/attributes are numerical data type according to python.\n",
    "- 7 rows/entries are object data type according to python.\n",
    "- The columns name are following:\n",
    "  - ['Id', 'Title', 'Episodes', 'Year', 'Original channel',\n",
    "  - 'American company', 'Note', 'Technique', 'IMDb', 'Google users'].\n"
   ]
  },
  {
   "cell_type": "markdown",
   "metadata": {},
   "source": [
    "- Statistical summay of dataset"
   ]
  },
  {
   "cell_type": "code",
   "execution_count": 7,
   "metadata": {},
   "outputs": [
    {
     "data": {
      "text/html": [
       "<div>\n",
       "<style scoped>\n",
       "    .dataframe tbody tr th:only-of-type {\n",
       "        vertical-align: middle;\n",
       "    }\n",
       "\n",
       "    .dataframe tbody tr th {\n",
       "        vertical-align: top;\n",
       "    }\n",
       "\n",
       "    .dataframe thead th {\n",
       "        text-align: right;\n",
       "    }\n",
       "</style>\n",
       "<table border=\"1\" class=\"dataframe\">\n",
       "  <thead>\n",
       "    <tr style=\"text-align: right;\">\n",
       "      <th></th>\n",
       "      <th>Id</th>\n",
       "      <th>Episodes</th>\n",
       "      <th>IMDb</th>\n",
       "    </tr>\n",
       "  </thead>\n",
       "  <tbody>\n",
       "    <tr>\n",
       "      <th>count</th>\n",
       "      <td>1816.000000</td>\n",
       "      <td>1798.000000</td>\n",
       "      <td>1812.000000</td>\n",
       "    </tr>\n",
       "    <tr>\n",
       "      <th>mean</th>\n",
       "      <td>908.500000</td>\n",
       "      <td>45.366518</td>\n",
       "      <td>6.712031</td>\n",
       "    </tr>\n",
       "    <tr>\n",
       "      <th>std</th>\n",
       "      <td>524.378362</td>\n",
       "      <td>120.085662</td>\n",
       "      <td>1.228804</td>\n",
       "    </tr>\n",
       "    <tr>\n",
       "      <th>min</th>\n",
       "      <td>1.000000</td>\n",
       "      <td>1.000000</td>\n",
       "      <td>1.500000</td>\n",
       "    </tr>\n",
       "    <tr>\n",
       "      <th>25%</th>\n",
       "      <td>454.750000</td>\n",
       "      <td>13.000000</td>\n",
       "      <td>6.200000</td>\n",
       "    </tr>\n",
       "    <tr>\n",
       "      <th>50%</th>\n",
       "      <td>908.500000</td>\n",
       "      <td>26.000000</td>\n",
       "      <td>6.900000</td>\n",
       "    </tr>\n",
       "    <tr>\n",
       "      <th>75%</th>\n",
       "      <td>1362.250000</td>\n",
       "      <td>52.000000</td>\n",
       "      <td>7.500000</td>\n",
       "    </tr>\n",
       "    <tr>\n",
       "      <th>max</th>\n",
       "      <td>1816.000000</td>\n",
       "      <td>4633.000000</td>\n",
       "      <td>9.300000</td>\n",
       "    </tr>\n",
       "  </tbody>\n",
       "</table>\n",
       "</div>"
      ],
      "text/plain": [
       "                Id     Episodes         IMDb\n",
       "count  1816.000000  1798.000000  1812.000000\n",
       "mean    908.500000    45.366518     6.712031\n",
       "std     524.378362   120.085662     1.228804\n",
       "min       1.000000     1.000000     1.500000\n",
       "25%     454.750000    13.000000     6.200000\n",
       "50%     908.500000    26.000000     6.900000\n",
       "75%    1362.250000    52.000000     7.500000\n",
       "max    1816.000000  4633.000000     9.300000"
      ]
     },
     "execution_count": 7,
     "metadata": {},
     "output_type": "execute_result"
    }
   ],
   "source": [
    "# summary of dataset\n",
    "df.describe()"
   ]
  },
  {
   "cell_type": "markdown",
   "metadata": {},
   "source": [
    "## Obervation Set 2:-\n",
    "- In `Episodes` column maximum value is 4633 and minimum 1.\n",
    "- It's vary big number 4633 maybe this is outlier.\n",
    "- `IMDb` maximum rating is 9.3 and minimum is 1.5.\n",
    "- `Google users` column are object data type i convert into integer.\n",
    "- `Year` column are object data type it's also convertable into date data type."
   ]
  },
  {
   "cell_type": "markdown",
   "metadata": {},
   "source": [
    "### Check the missing values of this dataset"
   ]
  },
  {
   "cell_type": "code",
   "execution_count": 8,
   "metadata": {},
   "outputs": [
    {
     "data": {
      "text/plain": [
       "Note                1328\n",
       "American company      45\n",
       "Episodes              18\n",
       "Original channel       7\n",
       "IMDb                   4\n",
       "Google users           4\n",
       "Id                     0\n",
       "Title                  0\n",
       "Year                   0\n",
       "Technique              0\n",
       "dtype: int64"
      ]
     },
     "execution_count": 8,
     "metadata": {},
     "output_type": "execute_result"
    }
   ],
   "source": [
    "df.isnull().sum().sort_values(ascending = False)"
   ]
  },
  {
   "cell_type": "markdown",
   "metadata": {},
   "source": [
    "- Check the percentage of missing values"
   ]
  },
  {
   "cell_type": "code",
   "execution_count": 9,
   "metadata": {},
   "outputs": [
    {
     "data": {
      "text/plain": [
       "Note                73.127753\n",
       "American company     2.477974\n",
       "Episodes             0.991189\n",
       "Original channel     0.385463\n",
       "IMDb                 0.220264\n",
       "Google users         0.220264\n",
       "Id                   0.000000\n",
       "Title                0.000000\n",
       "Year                 0.000000\n",
       "Technique            0.000000\n",
       "dtype: float64"
      ]
     },
     "execution_count": 9,
     "metadata": {},
     "output_type": "execute_result"
    }
   ],
   "source": [
    "(df.isnull().sum() / len(df) * 100).sort_values(ascending = False)"
   ]
  },
  {
   "cell_type": "code",
   "execution_count": 10,
   "metadata": {},
   "outputs": [
    {
     "data": {
      "image/png": "[encoded data removed]",
      "text/plain": [
       "<Figure size 1200x600 with 2 Axes>"
      ]
     },
     "metadata": {},
     "output_type": "display_data"
    }
   ],
   "source": [
    "# missing values \n",
    "plt.figure(figsize = (12, 6))\n",
    "sns.heatmap(df.isnull(), cmap = 'viridis')\n",
    "plt.show()"
   ]
  },
  {
   "cell_type": "markdown",
   "metadata": {},
   "source": [
    "<center><b>Figure 1.</b>- Show the missing values</center>"
   ]
  },
  {
   "cell_type": "code",
   "execution_count": 11,
   "metadata": {},
   "outputs": [
    {
     "data": {
      "text/html": [
       "<div>\n",
       "<style scoped>\n",
       "    .dataframe tbody tr th:only-of-type {\n",
       "        vertical-align: middle;\n",
       "    }\n",
       "\n",
       "    .dataframe tbody tr th {\n",
       "        vertical-align: top;\n",
       "    }\n",
       "\n",
       "    .dataframe thead th {\n",
       "        text-align: right;\n",
       "    }\n",
       "</style>\n",
       "<table border=\"1\" class=\"dataframe\">\n",
       "  <thead>\n",
       "    <tr style=\"text-align: right;\">\n",
       "      <th></th>\n",
       "      <th>Id</th>\n",
       "      <th>Title</th>\n",
       "      <th>Episodes</th>\n",
       "      <th>Year</th>\n",
       "      <th>Original channel</th>\n",
       "      <th>American company</th>\n",
       "      <th>Note</th>\n",
       "      <th>Technique</th>\n",
       "      <th>IMDb</th>\n",
       "      <th>Google users</th>\n",
       "    </tr>\n",
       "  </thead>\n",
       "  <tbody>\n",
       "    <tr>\n",
       "      <th>11</th>\n",
       "      <td>12</td>\n",
       "      <td>ABC Galaxy</td>\n",
       "      <td>26.0</td>\n",
       "      <td>2015</td>\n",
       "      <td>BabyFirst</td>\n",
       "      <td>NaN</td>\n",
       "      <td>NaN</td>\n",
       "      <td>Flash</td>\n",
       "      <td>4.2</td>\n",
       "      <td>57%</td>\n",
       "    </tr>\n",
       "    <tr>\n",
       "      <th>12</th>\n",
       "      <td>13</td>\n",
       "      <td>The ABC Saturday Superstar Movie</td>\n",
       "      <td>20.0</td>\n",
       "      <td>1972-1973</td>\n",
       "      <td>ABC</td>\n",
       "      <td>NaN</td>\n",
       "      <td>NaN</td>\n",
       "      <td>Traditional</td>\n",
       "      <td>7.8</td>\n",
       "      <td>60%</td>\n",
       "    </tr>\n",
       "    <tr>\n",
       "      <th>27</th>\n",
       "      <td>28</td>\n",
       "      <td>The Adventures of Edward the Less</td>\n",
       "      <td>13.0</td>\n",
       "      <td>2001</td>\n",
       "      <td>Sci-Fi Channel</td>\n",
       "      <td>NaN</td>\n",
       "      <td>NaN</td>\n",
       "      <td>Flash</td>\n",
       "      <td>6.4</td>\n",
       "      <td>64%</td>\n",
       "    </tr>\n",
       "    <tr>\n",
       "      <th>32</th>\n",
       "      <td>33</td>\n",
       "      <td>Adventures in Nutrition with Captain Carlos</td>\n",
       "      <td>20.0</td>\n",
       "      <td>2004-2005</td>\n",
       "      <td>Playhouse Disney</td>\n",
       "      <td>NaN</td>\n",
       "      <td>NaN</td>\n",
       "      <td>Flash</td>\n",
       "      <td>5.2</td>\n",
       "      <td>55%</td>\n",
       "    </tr>\n",
       "    <tr>\n",
       "      <th>119</th>\n",
       "      <td>120</td>\n",
       "      <td>Around the World in Eighty Days</td>\n",
       "      <td>16.0</td>\n",
       "      <td>1972-1973</td>\n",
       "      <td>NBC</td>\n",
       "      <td>NaN</td>\n",
       "      <td>Australian co-production</td>\n",
       "      <td>Traditional</td>\n",
       "      <td>6.9</td>\n",
       "      <td>74%</td>\n",
       "    </tr>\n",
       "  </tbody>\n",
       "</table>\n",
       "</div>"
      ],
      "text/plain": [
       "      Id                                        Title  Episodes       Year  \\\n",
       "11    12                                   ABC Galaxy      26.0       2015   \n",
       "12    13             The ABC Saturday Superstar Movie      20.0  1972-1973   \n",
       "27    28            The Adventures of Edward the Less      13.0       2001   \n",
       "32    33  Adventures in Nutrition with Captain Carlos      20.0  2004-2005   \n",
       "119  120              Around the World in Eighty Days      16.0  1972-1973   \n",
       "\n",
       "     Original channel American company                      Note    Technique  \\\n",
       "11          BabyFirst              NaN                       NaN        Flash   \n",
       "12                ABC              NaN                       NaN  Traditional   \n",
       "27     Sci-Fi Channel              NaN                       NaN        Flash   \n",
       "32   Playhouse Disney              NaN                       NaN        Flash   \n",
       "119               NBC              NaN  Australian co-production  Traditional   \n",
       "\n",
       "     IMDb Google users  \n",
       "11    4.2          57%  \n",
       "12    7.8          60%  \n",
       "27    6.4          64%  \n",
       "32    5.2          55%  \n",
       "119   6.9          74%  "
      ]
     },
     "execution_count": 11,
     "metadata": {},
     "output_type": "execute_result"
    }
   ],
   "source": [
    "df[df['American company'].isnull()].head()"
   ]
  },
  {
   "cell_type": "code",
   "execution_count": 12,
   "metadata": {},
   "outputs": [
    {
     "data": {
      "text/plain": [
       "505"
      ]
     },
     "execution_count": 12,
     "metadata": {},
     "output_type": "execute_result"
    }
   ],
   "source": [
    "df['American company'].nunique()"
   ]
  },
  {
   "cell_type": "code",
   "execution_count": 13,
   "metadata": {},
   "outputs": [],
   "source": [
    "# the missing values in the 'American company' column with backfill\n",
    "df['American company'] = df['American company'].fillna(method = 'bfill')"
   ]
  },
  {
   "cell_type": "code",
   "execution_count": 14,
   "metadata": {},
   "outputs": [
    {
     "data": {
      "text/html": [
       "<div>\n",
       "<style scoped>\n",
       "    .dataframe tbody tr th:only-of-type {\n",
       "        vertical-align: middle;\n",
       "    }\n",
       "\n",
       "    .dataframe tbody tr th {\n",
       "        vertical-align: top;\n",
       "    }\n",
       "\n",
       "    .dataframe thead th {\n",
       "        text-align: right;\n",
       "    }\n",
       "</style>\n",
       "<table border=\"1\" class=\"dataframe\">\n",
       "  <thead>\n",
       "    <tr style=\"text-align: right;\">\n",
       "      <th></th>\n",
       "      <th>Id</th>\n",
       "      <th>Title</th>\n",
       "      <th>Episodes</th>\n",
       "      <th>Year</th>\n",
       "      <th>Original channel</th>\n",
       "      <th>American company</th>\n",
       "      <th>Note</th>\n",
       "      <th>Technique</th>\n",
       "      <th>IMDb</th>\n",
       "      <th>Google users</th>\n",
       "    </tr>\n",
       "  </thead>\n",
       "  <tbody>\n",
       "    <tr>\n",
       "      <th>132</th>\n",
       "      <td>133</td>\n",
       "      <td>Barker Bill's Cartoon Show</td>\n",
       "      <td>NaN</td>\n",
       "      <td>1953-1955</td>\n",
       "      <td>CBS</td>\n",
       "      <td>Terrytoons</td>\n",
       "      <td>NaN</td>\n",
       "      <td>Traditional</td>\n",
       "      <td>4.2</td>\n",
       "      <td>75%</td>\n",
       "    </tr>\n",
       "    <tr>\n",
       "      <th>258</th>\n",
       "      <td>259</td>\n",
       "      <td>Calliope</td>\n",
       "      <td>NaN</td>\n",
       "      <td>1978-1993</td>\n",
       "      <td>USA Network</td>\n",
       "      <td>Buzzco Associates</td>\n",
       "      <td>NaN</td>\n",
       "      <td>Traditional/Live-Action</td>\n",
       "      <td>8.0</td>\n",
       "      <td>89%</td>\n",
       "    </tr>\n",
       "    <tr>\n",
       "      <th>283</th>\n",
       "      <td>284</td>\n",
       "      <td>The Cat&amp;Birdy Warneroonie PinkyBrainy Big Cart...</td>\n",
       "      <td>NaN</td>\n",
       "      <td>1999-2000</td>\n",
       "      <td>Kids' WB</td>\n",
       "      <td>Warner Bros. Animation</td>\n",
       "      <td>NaN</td>\n",
       "      <td>Traditional</td>\n",
       "      <td>6.7</td>\n",
       "      <td>54%</td>\n",
       "    </tr>\n",
       "    <tr>\n",
       "      <th>286</th>\n",
       "      <td>287</td>\n",
       "      <td>The Catillac Cats</td>\n",
       "      <td>NaN</td>\n",
       "      <td>1984-1985</td>\n",
       "      <td>Syndication</td>\n",
       "      <td>DIC Entertainment</td>\n",
       "      <td>NaN</td>\n",
       "      <td>Traditional</td>\n",
       "      <td>6.6</td>\n",
       "      <td>95%</td>\n",
       "    </tr>\n",
       "    <tr>\n",
       "      <th>309</th>\n",
       "      <td>310</td>\n",
       "      <td>Cita's World</td>\n",
       "      <td>NaN</td>\n",
       "      <td>1999-2003</td>\n",
       "      <td>BET</td>\n",
       "      <td>Cartoon Network Studios</td>\n",
       "      <td>NaN</td>\n",
       "      <td>CGI</td>\n",
       "      <td>6.5</td>\n",
       "      <td>94%</td>\n",
       "    </tr>\n",
       "  </tbody>\n",
       "</table>\n",
       "</div>"
      ],
      "text/plain": [
       "      Id                                              Title  Episodes  \\\n",
       "132  133                         Barker Bill's Cartoon Show       NaN   \n",
       "258  259                                           Calliope       NaN   \n",
       "283  284  The Cat&Birdy Warneroonie PinkyBrainy Big Cart...       NaN   \n",
       "286  287                                  The Catillac Cats       NaN   \n",
       "309  310                                       Cita's World       NaN   \n",
       "\n",
       "          Year Original channel         American company Note  \\\n",
       "132  1953-1955              CBS               Terrytoons  NaN   \n",
       "258  1978-1993      USA Network        Buzzco Associates  NaN   \n",
       "283  1999-2000         Kids' WB   Warner Bros. Animation  NaN   \n",
       "286  1984-1985      Syndication        DIC Entertainment  NaN   \n",
       "309  1999-2003              BET  Cartoon Network Studios  NaN   \n",
       "\n",
       "                   Technique  IMDb Google users  \n",
       "132              Traditional   4.2          75%  \n",
       "258  Traditional/Live-Action   8.0          89%  \n",
       "283              Traditional   6.7          54%  \n",
       "286              Traditional   6.6          95%  \n",
       "309                      CGI   6.5          94%  "
      ]
     },
     "execution_count": 14,
     "metadata": {},
     "output_type": "execute_result"
    }
   ],
   "source": [
    "df[df['Episodes'].isnull()].head()"
   ]
  },
  {
   "cell_type": "code",
   "execution_count": 15,
   "metadata": {},
   "outputs": [],
   "source": [
    "# the missing values in the 'Episodes' column with median\n",
    "df['Episodes'] = df['Episodes'].fillna(df['Episodes'].median())"
   ]
  },
  {
   "cell_type": "code",
   "execution_count": 16,
   "metadata": {},
   "outputs": [
    {
     "data": {
      "text/plain": [
       "226"
      ]
     },
     "execution_count": 16,
     "metadata": {},
     "output_type": "execute_result"
    }
   ],
   "source": [
    "df['Original channel'].nunique()"
   ]
  },
  {
   "cell_type": "code",
   "execution_count": 17,
   "metadata": {},
   "outputs": [],
   "source": [
    "# the missing values in the 'Original channel' column with mode\n",
    "df['Original channel'] = df['Original channel'].fillna(df['Original channel'].mode()[0])\n"
   ]
  },
  {
   "cell_type": "code",
   "execution_count": 18,
   "metadata": {},
   "outputs": [
    {
     "data": {
      "text/html": [
       "<div>\n",
       "<style scoped>\n",
       "    .dataframe tbody tr th:only-of-type {\n",
       "        vertical-align: middle;\n",
       "    }\n",
       "\n",
       "    .dataframe tbody tr th {\n",
       "        vertical-align: top;\n",
       "    }\n",
       "\n",
       "    .dataframe thead th {\n",
       "        text-align: right;\n",
       "    }\n",
       "</style>\n",
       "<table border=\"1\" class=\"dataframe\">\n",
       "  <thead>\n",
       "    <tr style=\"text-align: right;\">\n",
       "      <th></th>\n",
       "      <th>Id</th>\n",
       "      <th>Title</th>\n",
       "      <th>Episodes</th>\n",
       "      <th>Year</th>\n",
       "      <th>Original channel</th>\n",
       "      <th>American company</th>\n",
       "      <th>Note</th>\n",
       "      <th>Technique</th>\n",
       "      <th>IMDb</th>\n",
       "      <th>Google users</th>\n",
       "    </tr>\n",
       "  </thead>\n",
       "  <tbody>\n",
       "    <tr>\n",
       "      <th>112</th>\n",
       "      <td>113</td>\n",
       "      <td>The Ambiguously Gay Duo</td>\n",
       "      <td>12.0</td>\n",
       "      <td>1996-2011</td>\n",
       "      <td>NBC</td>\n",
       "      <td>J.J. Sedelmaier Productions, Inc.</td>\n",
       "      <td>Shown on TV Funhouse</td>\n",
       "      <td>Traditional</td>\n",
       "      <td>NaN</td>\n",
       "      <td>84%</td>\n",
       "    </tr>\n",
       "    <tr>\n",
       "      <th>226</th>\n",
       "      <td>227</td>\n",
       "      <td>Bedtime Primetime Classics</td>\n",
       "      <td>12.0</td>\n",
       "      <td>1996</td>\n",
       "      <td>Direct-to-Video</td>\n",
       "      <td>Phoenix Animation Studios\\r\\nBlye Migicovsky P...</td>\n",
       "      <td>Canadian co-production</td>\n",
       "      <td>Traditional</td>\n",
       "      <td>NaN</td>\n",
       "      <td>NaN</td>\n",
       "    </tr>\n",
       "    <tr>\n",
       "      <th>299</th>\n",
       "      <td>300</td>\n",
       "      <td>Cherub Wings</td>\n",
       "      <td>15.0</td>\n",
       "      <td>2000-2005</td>\n",
       "      <td>Direct-to-Video</td>\n",
       "      <td>Sunny Side-Up Entertainment</td>\n",
       "      <td>NaN</td>\n",
       "      <td>CGI</td>\n",
       "      <td>NaN</td>\n",
       "      <td>63%</td>\n",
       "    </tr>\n",
       "    <tr>\n",
       "      <th>552</th>\n",
       "      <td>553</td>\n",
       "      <td>The Fox Cubhouse</td>\n",
       "      <td>234.0</td>\n",
       "      <td>1994-1996</td>\n",
       "      <td>Fox Kids</td>\n",
       "      <td>WQED</td>\n",
       "      <td>NaN</td>\n",
       "      <td>Traditional/Live-action</td>\n",
       "      <td>NaN</td>\n",
       "      <td>NaN</td>\n",
       "    </tr>\n",
       "  </tbody>\n",
       "</table>\n",
       "</div>"
      ],
      "text/plain": [
       "      Id                       Title  Episodes       Year Original channel  \\\n",
       "112  113     The Ambiguously Gay Duo      12.0  1996-2011              NBC   \n",
       "226  227  Bedtime Primetime Classics      12.0       1996  Direct-to-Video   \n",
       "299  300                Cherub Wings      15.0  2000-2005  Direct-to-Video   \n",
       "552  553            The Fox Cubhouse     234.0  1994-1996         Fox Kids   \n",
       "\n",
       "                                      American company  \\\n",
       "112                  J.J. Sedelmaier Productions, Inc.   \n",
       "226  Phoenix Animation Studios\\r\\nBlye Migicovsky P...   \n",
       "299                        Sunny Side-Up Entertainment   \n",
       "552                                               WQED   \n",
       "\n",
       "                       Note                Technique  IMDb Google users  \n",
       "112    Shown on TV Funhouse              Traditional   NaN          84%  \n",
       "226  Canadian co-production              Traditional   NaN          NaN  \n",
       "299                     NaN                      CGI   NaN          63%  \n",
       "552                     NaN  Traditional/Live-action   NaN          NaN  "
      ]
     },
     "execution_count": 18,
     "metadata": {},
     "output_type": "execute_result"
    }
   ],
   "source": [
    "df[df['IMDb'].isnull()].head()"
   ]
  },
  {
   "cell_type": "code",
   "execution_count": 19,
   "metadata": {},
   "outputs": [],
   "source": [
    "# the missing values in the 'IMDb' column with median\n",
    "df['IMDb'] = df['IMDb'].fillna(df['IMDb'].median())"
   ]
  },
  {
   "cell_type": "code",
   "execution_count": 20,
   "metadata": {},
   "outputs": [
    {
     "data": {
      "text/html": [
       "<div>\n",
       "<style scoped>\n",
       "    .dataframe tbody tr th:only-of-type {\n",
       "        vertical-align: middle;\n",
       "    }\n",
       "\n",
       "    .dataframe tbody tr th {\n",
       "        vertical-align: top;\n",
       "    }\n",
       "\n",
       "    .dataframe thead th {\n",
       "        text-align: right;\n",
       "    }\n",
       "</style>\n",
       "<table border=\"1\" class=\"dataframe\">\n",
       "  <thead>\n",
       "    <tr style=\"text-align: right;\">\n",
       "      <th></th>\n",
       "      <th>Id</th>\n",
       "      <th>Title</th>\n",
       "      <th>Episodes</th>\n",
       "      <th>Year</th>\n",
       "      <th>Original channel</th>\n",
       "      <th>American company</th>\n",
       "      <th>Note</th>\n",
       "      <th>Technique</th>\n",
       "      <th>IMDb</th>\n",
       "      <th>Google users</th>\n",
       "    </tr>\n",
       "  </thead>\n",
       "  <tbody>\n",
       "    <tr>\n",
       "      <th>214</th>\n",
       "      <td>215</td>\n",
       "      <td>Baby Shark's Big Show!</td>\n",
       "      <td>52.0</td>\n",
       "      <td>2020-present</td>\n",
       "      <td>Nickelodeon</td>\n",
       "      <td>Nickelodeon Animation Studio</td>\n",
       "      <td>South Korean co-production</td>\n",
       "      <td>Flash</td>\n",
       "      <td>3.1</td>\n",
       "      <td>NaN</td>\n",
       "    </tr>\n",
       "    <tr>\n",
       "      <th>219</th>\n",
       "      <td>220</td>\n",
       "      <td>Barbie Dreamhouse Adventures</td>\n",
       "      <td>52.0</td>\n",
       "      <td>2018-2020</td>\n",
       "      <td>Netflix</td>\n",
       "      <td>Mattel Television</td>\n",
       "      <td>Canadian co-production</td>\n",
       "      <td>CGI</td>\n",
       "      <td>6.7</td>\n",
       "      <td>NaN</td>\n",
       "    </tr>\n",
       "    <tr>\n",
       "      <th>226</th>\n",
       "      <td>227</td>\n",
       "      <td>Bedtime Primetime Classics</td>\n",
       "      <td>12.0</td>\n",
       "      <td>1996</td>\n",
       "      <td>Direct-to-Video</td>\n",
       "      <td>Phoenix Animation Studios\\r\\nBlye Migicovsky P...</td>\n",
       "      <td>Canadian co-production</td>\n",
       "      <td>Traditional</td>\n",
       "      <td>6.9</td>\n",
       "      <td>NaN</td>\n",
       "    </tr>\n",
       "    <tr>\n",
       "      <th>552</th>\n",
       "      <td>553</td>\n",
       "      <td>The Fox Cubhouse</td>\n",
       "      <td>234.0</td>\n",
       "      <td>1994-1996</td>\n",
       "      <td>Fox Kids</td>\n",
       "      <td>WQED</td>\n",
       "      <td>NaN</td>\n",
       "      <td>Traditional/Live-action</td>\n",
       "      <td>6.9</td>\n",
       "      <td>NaN</td>\n",
       "    </tr>\n",
       "  </tbody>\n",
       "</table>\n",
       "</div>"
      ],
      "text/plain": [
       "      Id                         Title  Episodes          Year  \\\n",
       "214  215        Baby Shark's Big Show!      52.0  2020-present   \n",
       "219  220  Barbie Dreamhouse Adventures      52.0     2018-2020   \n",
       "226  227    Bedtime Primetime Classics      12.0          1996   \n",
       "552  553              The Fox Cubhouse     234.0     1994-1996   \n",
       "\n",
       "    Original channel                                   American company  \\\n",
       "214      Nickelodeon                       Nickelodeon Animation Studio   \n",
       "219          Netflix                                  Mattel Television   \n",
       "226  Direct-to-Video  Phoenix Animation Studios\\r\\nBlye Migicovsky P...   \n",
       "552         Fox Kids                                               WQED   \n",
       "\n",
       "                           Note                Technique  IMDb Google users  \n",
       "214  South Korean co-production                    Flash   3.1          NaN  \n",
       "219      Canadian co-production                      CGI   6.7          NaN  \n",
       "226      Canadian co-production              Traditional   6.9          NaN  \n",
       "552                         NaN  Traditional/Live-action   6.9          NaN  "
      ]
     },
     "execution_count": 20,
     "metadata": {},
     "output_type": "execute_result"
    }
   ],
   "source": [
    "df[df['Google users'].isnull()].head()"
   ]
  },
  {
   "cell_type": "code",
   "execution_count": 21,
   "metadata": {},
   "outputs": [],
   "source": [
    "# the missing values in the 'Google users' column with mode\n",
    "df['Google users'] = df['Google users'].fillna(df['Google users'].mode()[0])"
   ]
  },
  {
   "cell_type": "code",
   "execution_count": 22,
   "metadata": {},
   "outputs": [],
   "source": [
    "# the missing values in the 'Note' column with Not Available\n",
    "df['Note'] = df['Note'].fillna('Not Available')"
   ]
  },
  {
   "cell_type": "code",
   "execution_count": 23,
   "metadata": {},
   "outputs": [
    {
     "data": {
      "text/plain": [
       "Id                  0\n",
       "Title               0\n",
       "Episodes            0\n",
       "Year                0\n",
       "Original channel    0\n",
       "American company    0\n",
       "Note                0\n",
       "Technique           0\n",
       "IMDb                0\n",
       "Google users        0\n",
       "dtype: int64"
      ]
     },
     "execution_count": 23,
     "metadata": {},
     "output_type": "execute_result"
    }
   ],
   "source": [
    "df.isnull().sum()"
   ]
  },
  {
   "cell_type": "code",
   "execution_count": 24,
   "metadata": {},
   "outputs": [
    {
     "data": {
      "image/png": "[encoded data removed]",
      "text/plain": [
       "<Figure size 1200x600 with 2 Axes>"
      ]
     },
     "metadata": {},
     "output_type": "display_data"
    }
   ],
   "source": [
    "\n",
    "plt.figure(figsize = (12, 6))\n",
    "sns.heatmap(df.isnull(), cmap = 'viridis')\n",
    "plt.show()"
   ]
  },
  {
   "cell_type": "markdown",
   "metadata": {},
   "source": [
    "<center><b>Figure 2.</b>- Show the missing values</center>"
   ]
  },
  {
   "cell_type": "markdown",
   "metadata": {},
   "source": [
    "## Complete 1 Milestone:-\n",
    "### Check the duplicates values in the dataset."
   ]
  },
  {
   "cell_type": "code",
   "execution_count": 25,
   "metadata": {},
   "outputs": [
    {
     "data": {
      "text/plain": [
       "0"
      ]
     },
     "execution_count": 25,
     "metadata": {},
     "output_type": "execute_result"
    }
   ],
   "source": [
    "df.duplicated().sum()"
   ]
  },
  {
   "cell_type": "code",
   "execution_count": 26,
   "metadata": {},
   "outputs": [
    {
     "data": {
      "text/plain": [
       "2"
      ]
     },
     "execution_count": 26,
     "metadata": {},
     "output_type": "execute_result"
    }
   ],
   "source": [
    "df['Title'].duplicated().sum()"
   ]
  },
  {
   "cell_type": "code",
   "execution_count": 27,
   "metadata": {},
   "outputs": [
    {
     "data": {
      "text/html": [
       "<div>\n",
       "<style scoped>\n",
       "    .dataframe tbody tr th:only-of-type {\n",
       "        vertical-align: middle;\n",
       "    }\n",
       "\n",
       "    .dataframe tbody tr th {\n",
       "        vertical-align: top;\n",
       "    }\n",
       "\n",
       "    .dataframe thead th {\n",
       "        text-align: right;\n",
       "    }\n",
       "</style>\n",
       "<table border=\"1\" class=\"dataframe\">\n",
       "  <thead>\n",
       "    <tr style=\"text-align: right;\">\n",
       "      <th></th>\n",
       "      <th>Id</th>\n",
       "      <th>Title</th>\n",
       "      <th>Episodes</th>\n",
       "      <th>Year</th>\n",
       "      <th>Original channel</th>\n",
       "      <th>American company</th>\n",
       "      <th>Note</th>\n",
       "      <th>Technique</th>\n",
       "      <th>IMDb</th>\n",
       "      <th>Google users</th>\n",
       "    </tr>\n",
       "  </thead>\n",
       "  <tbody>\n",
       "    <tr>\n",
       "      <th>266</th>\n",
       "      <td>267</td>\n",
       "      <td>Capt'n Sailorbird</td>\n",
       "      <td>190.0</td>\n",
       "      <td>1959-1960</td>\n",
       "      <td>Syndication</td>\n",
       "      <td>Magic Screen Pictures Inc.</td>\n",
       "      <td>Not Available</td>\n",
       "      <td>Traditional</td>\n",
       "      <td>5.4</td>\n",
       "      <td>68%</td>\n",
       "    </tr>\n",
       "    <tr>\n",
       "      <th>271</th>\n",
       "      <td>272</td>\n",
       "      <td>Capt'n Sailorbird</td>\n",
       "      <td>190.0</td>\n",
       "      <td>1959</td>\n",
       "      <td>Syndication</td>\n",
       "      <td>Magic Screen Pictures Inc.</td>\n",
       "      <td>Not Available</td>\n",
       "      <td>Traditional</td>\n",
       "      <td>4.2</td>\n",
       "      <td>64%</td>\n",
       "    </tr>\n",
       "    <tr>\n",
       "      <th>1385</th>\n",
       "      <td>1386</td>\n",
       "      <td>Space Sentinels</td>\n",
       "      <td>13.0</td>\n",
       "      <td>1977</td>\n",
       "      <td>NBC</td>\n",
       "      <td>Filmation</td>\n",
       "      <td>Not Available</td>\n",
       "      <td>Traditional</td>\n",
       "      <td>6.9</td>\n",
       "      <td>94%</td>\n",
       "    </tr>\n",
       "    <tr>\n",
       "      <th>1386</th>\n",
       "      <td>1387</td>\n",
       "      <td>Space Sentinels</td>\n",
       "      <td>13.0</td>\n",
       "      <td>1977</td>\n",
       "      <td>NBC</td>\n",
       "      <td>Filmation</td>\n",
       "      <td>Not Available</td>\n",
       "      <td>Traditional</td>\n",
       "      <td>6.9</td>\n",
       "      <td>94%</td>\n",
       "    </tr>\n",
       "  </tbody>\n",
       "</table>\n",
       "</div>"
      ],
      "text/plain": [
       "        Id              Title  Episodes       Year Original channel  \\\n",
       "266    267  Capt'n Sailorbird     190.0  1959-1960      Syndication   \n",
       "271    272  Capt'n Sailorbird     190.0       1959      Syndication   \n",
       "1385  1386    Space Sentinels      13.0       1977              NBC   \n",
       "1386  1387    Space Sentinels      13.0       1977              NBC   \n",
       "\n",
       "                American company           Note    Technique  IMDb  \\\n",
       "266   Magic Screen Pictures Inc.  Not Available  Traditional   5.4   \n",
       "271   Magic Screen Pictures Inc.  Not Available  Traditional   4.2   \n",
       "1385                   Filmation  Not Available  Traditional   6.9   \n",
       "1386                   Filmation  Not Available  Traditional   6.9   \n",
       "\n",
       "     Google users  \n",
       "266           68%  \n",
       "271           64%  \n",
       "1385          94%  \n",
       "1386          94%  "
      ]
     },
     "execution_count": 27,
     "metadata": {},
     "output_type": "execute_result"
    }
   ],
   "source": [
    "# Show the title duplicate rows\n",
    "df[df['Title'].duplicated(keep = False)]"
   ]
  },
  {
   "cell_type": "code",
   "execution_count": 28,
   "metadata": {},
   "outputs": [
    {
     "data": {
      "text/plain": [
       "(1816, 10)"
      ]
     },
     "execution_count": 28,
     "metadata": {},
     "output_type": "execute_result"
    }
   ],
   "source": [
    "# before dropping shape of data\n",
    "df.shape"
   ]
  },
  {
   "cell_type": "code",
   "execution_count": 29,
   "metadata": {},
   "outputs": [],
   "source": [
    "# drop title duplicates\n",
    "df.drop_duplicates(subset = 'Title', keep = 'first', inplace = True)"
   ]
  },
  {
   "cell_type": "code",
   "execution_count": 30,
   "metadata": {},
   "outputs": [
    {
     "data": {
      "text/plain": [
       "(1814, 10)"
      ]
     },
     "execution_count": 30,
     "metadata": {},
     "output_type": "execute_result"
    }
   ],
   "source": [
    "# after dropping shape of data\n",
    "df.shape"
   ]
  },
  {
   "cell_type": "markdown",
   "metadata": {},
   "source": [
    "## Complete 2 Milestone:-"
   ]
  },
  {
   "cell_type": "markdown",
   "metadata": {},
   "source": [
    "# Let's Start Exploratory Data Analysis.\n",
    "- Find the hidden insighs of data.\n",
    "- Explore column by column."
   ]
  },
  {
   "cell_type": "code",
   "execution_count": 31,
   "metadata": {},
   "outputs": [
    {
     "data": {
      "text/html": [
       "<div>\n",
       "<style scoped>\n",
       "    .dataframe tbody tr th:only-of-type {\n",
       "        vertical-align: middle;\n",
       "    }\n",
       "\n",
       "    .dataframe tbody tr th {\n",
       "        vertical-align: top;\n",
       "    }\n",
       "\n",
       "    .dataframe thead th {\n",
       "        text-align: right;\n",
       "    }\n",
       "</style>\n",
       "<table border=\"1\" class=\"dataframe\">\n",
       "  <thead>\n",
       "    <tr style=\"text-align: right;\">\n",
       "      <th></th>\n",
       "      <th>Id</th>\n",
       "      <th>Title</th>\n",
       "      <th>Episodes</th>\n",
       "      <th>Year</th>\n",
       "      <th>Original channel</th>\n",
       "      <th>American company</th>\n",
       "      <th>Note</th>\n",
       "      <th>Technique</th>\n",
       "      <th>IMDb</th>\n",
       "      <th>Google users</th>\n",
       "    </tr>\n",
       "  </thead>\n",
       "  <tbody>\n",
       "    <tr>\n",
       "      <th>0</th>\n",
       "      <td>1</td>\n",
       "      <td>2 Stupid Dogs</td>\n",
       "      <td>26.0</td>\n",
       "      <td>1993-1995</td>\n",
       "      <td>TBS</td>\n",
       "      <td>Hanna-Barbera</td>\n",
       "      <td>Not Available</td>\n",
       "      <td>Traditional</td>\n",
       "      <td>7.2</td>\n",
       "      <td>91%</td>\n",
       "    </tr>\n",
       "    <tr>\n",
       "      <th>1</th>\n",
       "      <td>2</td>\n",
       "      <td>3-2-1 Penguins!</td>\n",
       "      <td>27.0</td>\n",
       "      <td>2000-2008</td>\n",
       "      <td>Direct to video</td>\n",
       "      <td>Big Idea Productions</td>\n",
       "      <td>Not Available</td>\n",
       "      <td>CGI</td>\n",
       "      <td>6.5</td>\n",
       "      <td>91%</td>\n",
       "    </tr>\n",
       "    <tr>\n",
       "      <th>2</th>\n",
       "      <td>3</td>\n",
       "      <td>3-South</td>\n",
       "      <td>13.0</td>\n",
       "      <td>2002-2003</td>\n",
       "      <td>MTV</td>\n",
       "      <td>Warner Bros. AnimationMTV Animation</td>\n",
       "      <td>Not Available</td>\n",
       "      <td>Traditional</td>\n",
       "      <td>8.0</td>\n",
       "      <td>87%</td>\n",
       "    </tr>\n",
       "    <tr>\n",
       "      <th>3</th>\n",
       "      <td>4</td>\n",
       "      <td>3Below: Tales of Arcadia</td>\n",
       "      <td>28.0</td>\n",
       "      <td>2018-2019</td>\n",
       "      <td>Netflix</td>\n",
       "      <td>DreamWorks Animation Television</td>\n",
       "      <td>Not Available</td>\n",
       "      <td>CGI</td>\n",
       "      <td>7.6</td>\n",
       "      <td>77%</td>\n",
       "    </tr>\n",
       "    <tr>\n",
       "      <th>4</th>\n",
       "      <td>5</td>\n",
       "      <td>3rd &amp; Bird</td>\n",
       "      <td>51.0</td>\n",
       "      <td>2008-2010</td>\n",
       "      <td>Playhouse Disney</td>\n",
       "      <td>Little Airplane Productions</td>\n",
       "      <td>British co-production</td>\n",
       "      <td>Flash</td>\n",
       "      <td>7.8</td>\n",
       "      <td>92%</td>\n",
       "    </tr>\n",
       "  </tbody>\n",
       "</table>\n",
       "</div>"
      ],
      "text/plain": [
       "   Id                     Title  Episodes       Year  Original channel  \\\n",
       "0   1             2 Stupid Dogs      26.0  1993-1995               TBS   \n",
       "1   2           3-2-1 Penguins!      27.0  2000-2008   Direct to video   \n",
       "2   3                   3-South      13.0  2002-2003               MTV   \n",
       "3   4  3Below: Tales of Arcadia      28.0  2018-2019           Netflix   \n",
       "4   5                3rd & Bird      51.0  2008-2010  Playhouse Disney   \n",
       "\n",
       "                      American company                   Note    Technique  \\\n",
       "0                        Hanna-Barbera          Not Available  Traditional   \n",
       "1                 Big Idea Productions          Not Available          CGI   \n",
       "2  Warner Bros. AnimationMTV Animation          Not Available  Traditional   \n",
       "3      DreamWorks Animation Television          Not Available          CGI   \n",
       "4          Little Airplane Productions  British co-production        Flash   \n",
       "\n",
       "   IMDb Google users  \n",
       "0   7.2          91%  \n",
       "1   6.5          91%  \n",
       "2   8.0          87%  \n",
       "3   7.6          77%  \n",
       "4   7.8          92%  "
      ]
     },
     "execution_count": 31,
     "metadata": {},
     "output_type": "execute_result"
    }
   ],
   "source": [
    "df.head()"
   ]
  },
  {
   "cell_type": "markdown",
   "metadata": {},
   "source": [
    "- Explore the `Episodes` column.\n",
    "- Check the highest value."
   ]
  },
  {
   "cell_type": "code",
   "execution_count": 36,
   "metadata": {},
   "outputs": [
    {
     "name": "stdout",
     "output_type": "stream",
     "text": [
      "177\n",
      "4633.0\n",
      "[2.600e+01 2.700e+01 1.300e+01 2.800e+01 5.100e+01 4.400e+01 3.100e+01\n",
      " 6.500e+01 5.200e+01 2.000e+01 3.900e+01 1.200e+01 4.100e+01 1.600e+01\n",
      " 2.100e+01 6.000e+00 2.830e+02 4.000e+00 2.000e+00 1.700e+01 5.000e+00\n",
      " 6.100e+01 4.500e+01 7.800e+01 1.630e+02 1.500e+02 3.400e+01 1.000e+01\n",
      " 7.000e+00 8.600e+01 4.000e+01 5.500e+01 3.360e+02 1.500e+01 1.020e+02\n",
      " 3.520e+02 9.000e+00 5.800e+01 6.200e+01 3.000e+01 9.900e+01 3.600e+01\n",
      " 7.600e+01 1.390e+02 3.000e+00 1.800e+01 1.450e+02 5.000e+01 2.200e+01\n",
      " 1.900e+01 6.300e+01 1.270e+02 6.000e+01 1.300e+02 2.400e+02 2.530e+02\n",
      " 7.200e+01 5.300e+01 3.200e+01 1.000e+02 8.500e+01 2.700e+02 1.780e+02\n",
      " 4.600e+01 8.000e+01 5.600e+01 1.100e+02 8.000e+00 1.430e+02 2.600e+02\n",
      " 7.700e+01 4.900e+01 1.570e+02 2.300e+01 6.840e+02 1.040e+02 7.500e+01\n",
      " 9.400e+01 1.250e+02 4.200e+01 6.900e+01 8.100e+01 8.200e+01 4.700e+01\n",
      " 1.900e+02 1.130e+02 1.460e+02 7.000e+01 6.800e+01 2.900e+01 2.400e+01\n",
      " 8.900e+01 4.800e+01 1.400e+01 1.700e+02 1.980e+02 1.100e+01 9.300e+01\n",
      " 7.900e+01 3.800e+01 6.600e+01 4.550e+02 1.400e+02 9.100e+01 7.300e+01\n",
      " 1.620e+02 1.120e+02 5.400e+01 2.440e+02 7.100e+01 1.770e+02 1.180e+02\n",
      " 1.340e+02 3.300e+01 1.170e+02 1.550e+02 1.720e+02 4.090e+02 1.660e+02\n",
      " 2.340e+02 9.500e+01 2.500e+01 5.700e+01 1.210e+02 1.070e+02 8.400e+01\n",
      " 1.000e+00 4.300e+01 3.500e+01 1.290e+02 1.160e+02 1.310e+02 9.200e+01\n",
      " 2.590e+02 1.560e+02 6.400e+01 6.700e+01 7.400e+01 2.450e+02 1.030e+02\n",
      " 1.080e+02 9.600e+01 1.740e+02 1.750e+02 5.900e+01 1.280e+02 2.220e+02\n",
      " 1.140e+02 2.200e+02 1.190e+02 3.700e+01 1.490e+02 2.610e+02 7.530e+02\n",
      " 2.580e+02 2.960e+02 1.600e+02 4.633e+03 9.000e+01 1.090e+02 3.250e+02\n",
      " 1.320e+02 1.330e+02 2.640e+02 1.650e+02 3.870e+02 1.930e+02 1.240e+02\n",
      " 9.800e+01 6.000e+02 2.630e+02 1.530e+02 2.080e+02 1.470e+02 8.300e+01\n",
      " 1.580e+02 1.050e+02]\n"
     ]
    }
   ],
   "source": [
    "\n",
    "print(df['Episodes'].nunique())\n",
    "print(df[\"Episodes\"].max())\n",
    "print(df[\"Episodes\"].unique())"
   ]
  },
  {
   "cell_type": "code",
   "execution_count": 33,
   "metadata": {},
   "outputs": [
    {
     "data": {
      "text/html": [
       "<div>\n",
       "<style scoped>\n",
       "    .dataframe tbody tr th:only-of-type {\n",
       "        vertical-align: middle;\n",
       "    }\n",
       "\n",
       "    .dataframe tbody tr th {\n",
       "        vertical-align: top;\n",
       "    }\n",
       "\n",
       "    .dataframe thead th {\n",
       "        text-align: right;\n",
       "    }\n",
       "</style>\n",
       "<table border=\"1\" class=\"dataframe\">\n",
       "  <thead>\n",
       "    <tr style=\"text-align: right;\">\n",
       "      <th></th>\n",
       "      <th>Id</th>\n",
       "      <th>Title</th>\n",
       "      <th>Episodes</th>\n",
       "      <th>Year</th>\n",
       "      <th>Original channel</th>\n",
       "      <th>American company</th>\n",
       "      <th>Note</th>\n",
       "      <th>Technique</th>\n",
       "      <th>IMDb</th>\n",
       "      <th>Google users</th>\n",
       "    </tr>\n",
       "  </thead>\n",
       "  <tbody>\n",
       "    <tr>\n",
       "      <th>1445</th>\n",
       "      <td>1446</td>\n",
       "      <td>Sesame Street</td>\n",
       "      <td>4633.0</td>\n",
       "      <td>1969-present</td>\n",
       "      <td>PBSPBS KidsHBO</td>\n",
       "      <td>Sesame Workshop</td>\n",
       "      <td>Not Available</td>\n",
       "      <td>CGI/Flash/Stop-Motion/Traditional/Live-action</td>\n",
       "      <td>8.1</td>\n",
       "      <td>78%</td>\n",
       "    </tr>\n",
       "  </tbody>\n",
       "</table>\n",
       "</div>"
      ],
      "text/plain": [
       "        Id          Title  Episodes          Year Original channel  \\\n",
       "1445  1446  Sesame Street    4633.0  1969-present   PBSPBS KidsHBO   \n",
       "\n",
       "     American company           Note  \\\n",
       "1445  Sesame Workshop  Not Available   \n",
       "\n",
       "                                          Technique  IMDb Google users  \n",
       "1445  CGI/Flash/Stop-Motion/Traditional/Live-action   8.1          78%  "
      ]
     },
     "execution_count": 33,
     "metadata": {},
     "output_type": "execute_result"
    }
   ],
   "source": [
    "df[df['Episodes'] == 4633].head()"
   ]
  },
  {
   "cell_type": "markdown",
   "metadata": {},
   "source": [
    "- The `Title` `Sesame Street` have 4633 `Episodes` this is a outlier we ferther deal when we need"
   ]
  },
  {
   "cell_type": "code",
   "execution_count": 35,
   "metadata": {},
   "outputs": [
    {
     "name": "stdout",
     "output_type": "stream",
     "text": [
      "422\n",
      "['1993-1995' '2000-2008' '2002-2003' '2018-2019' '2008-2010' '2014-2016'\n",
      " '2005-2020' '1985' '1997-1998' '1994-1997' '2009-2012' '2015' '1972-1973'\n",
      " '1967-1968' '2022-2023' '2001-2002' '1995-1996' '2021-present' '1973'\n",
      " '1992-1993' '2013-2015' '2010-2018' '2020-2021' '2023-present'\n",
      " '1996-2000' '1968-1969' '2006' '2001' '2002-2006' '2018' '2004-2005'\n",
      " '2015-2016' '1950' '1956-1957' '2015-2018' '1988' '1959-1964' '1992-1996'\n",
      " '1958-1961' '1966-1968' '1985-1991' '1991-1995' '2023' '2022' '1994-1995'\n",
      " '1988-1989' '1987-1989' '2022-present' '2019' '1996-1998' '2003-2008'\n",
      " '2014-2017' '1978-1983' '1993' '1977-1978' '2011' '1983-1990' '1961-1962'\n",
      " '1972' '2005-present' '2005-2007' '2019-2022' '1997-2001' '2016-2018'\n",
      " '1993-1998' '2020-2023' '2017' '2018-2021' '2000-present' '1967-1970'\n",
      " '2021' '2009-2023' '2019-2021' '1971-1973' '2016-2019' '2006-2008'\n",
      " '2014-2015' '1965-1967' '1990-1991' '1965-1968' '1959-1962' '2005-2006'\n",
      " '2005-2008' '2013-2019' '2010-2011' '1995-2000' '2000-2001' '2010-2012'\n",
      " '2013-2017' '1990' '2015-2023' '2006-2007' '2011-present' '1996-2011'\n",
      " '1999-2001' '2009-2010' '2007-2008' '1999-2000' '1996-2022' '2000-2006'\n",
      " '2000-2002' '2001-2006' '1977' '1973-1974' '2018-2020' '2009-present'\n",
      " '1968-1970' '1953-1955' '1966-1967' '2004-2008' '1992-1995' '2008-2011'\n",
      " '1994' '1993-present' '2017-2021' '2012-2014' '2008' '2000-2010'\n",
      " '2016-2020' '2018-present' '2017-present' '1964' '1993-1996' '2021-2022'\n",
      " '1983-1984' '2012-2015' '2010' '2020' '2007' '1996-2006' '2014-2020'\n",
      " '1993-1994' '2005-2014' '2016' '1958-1962' '1983-1985' '2000-2003'\n",
      " '2004-2006' '1998-1999' '1987-1988' '1964-1965' '1991-1993' '1959-1960'\n",
      " '1991' '2019-2020' '1960-2000' '2004-2007' '2020-present' '2007-2011'\n",
      " '1991-1992' '2004-2013' '1998-2000' '2012-2018' '1978-1980' '1996-1999'\n",
      " '1996' '1989-1991' '1985-1987' '1987' '1981' '2014-present' '2015-2017'\n",
      " '2019-present' '1990-1998' '2013' '1999' '2017-2018' '2001-2003' '1989'\n",
      " '1978-1993' '1961-1962, 1964-1965' '2016-present' '1978-1979' '1990-1996'\n",
      " '1996-1997' '2012' '2008-2014' '1995-1998, 2012-2014' '1979' '1998-2005'\n",
      " '1984-1985' '1969-1971' '2020-2022' '1986' '2002-2008' '1978' '2000-2005'\n",
      " '2011-2015' '1989-1990' '2007-2010' '2014' '1999-2003' '2014-2018' '2005'\n",
      " '2009-2013' '1976' '1957-1960' '1964-1966' '1999-2002' '1960-1962'\n",
      " '1997-1999' '2021-2023' '2006-2022' '2014-2019' '1989-1992' '1986-1988'\n",
      " '1985-1989' '1998-2002, 2006-2007' '2006-2010' '2009-2014' '2003-2006'\n",
      " '2002-2003, 2023-present' '2004' '1994-1996' '1950-1959' '1982'\n",
      " '2002-present' '1984' '2011-2013' '1997-2002' '1995' '1969-1970'\n",
      " '1961-1973' '2011-2014' '1986-1987' '1960-1964' '1974' '1996-2003'\n",
      " '2010-2015' '2018-2023' '2009' '2012-2020' '1970-1971' '1983-1992'\n",
      " '1992-1997' '2000-2019' '2017-2020' '1979-1980' '2008-2009' '1995-2002'\n",
      " '2003-2005' '1987-1990' '1983' '1976-1977' '2012-present' '2024-present'\n",
      " '1980' '2009-2020' '2000' '1992-1994' '2013-2018' '1991-1999' '1999-2005'\n",
      " '1999-2009' '2001-2004' '1985-1986' '1997' '2002' '2015-2021' '2001-2017'\n",
      " '1999-present' '1970-1984' '2018-2022' '1988-1990' '1998' '1972-1985'\n",
      " '1958-1960' '1992' '2002-2004' '2010-2014' '1972-1974' '1980-1981'\n",
      " '1982-1984' '1960-1966' '2004-2009' '1975' '2003' '1971-1972' '1963'\n",
      " '1983-1986' '1995-1998' '1988-1994' '2009-2016' '2003-2004' '2010-2013'\n",
      " '1967' '2007-2017' '2021-2024' '2009-2011' '2005-2011' '2000, 2011'\n",
      " '2013-2014' '2012-2016' '2003-2007' '2015-2019' '1956' '2017-2019'\n",
      " '1962-1963' '1978-1984' '2000-2007' '1950-1964' '1987-1993' '2002-2010'\n",
      " '1981-1982' '1996-2004' '1960-1961' '2006-2009' '1999-2004' '1964-1967'\n",
      " '2024' '2006-2013' '1997-2000' '1982-1983' '2011-2016' '1985-1988'\n",
      " '1962-1963, 1985-1987' '1949-1950' '1997-2004' '1970-1972' '1965-1974'\n",
      " '2012-2013' '2002-2007' '1966-1969' '1960-1963' '1997-present'\n",
      " '2016-2017' '2008-2012' '1964-1969' '2005-2009' '1995-1999' '1963-1965'\n",
      " '1965-1966' '1995-1997' '1959-1961' '1989-1995' '1990-1994' '2006-2016'\n",
      " '1955-1967' '2011-2016, 2021-present' '2012-2017' '2002-2005' '1984-1991'\n",
      " '1993-2001' '1963-1966' '2003-2009' '2010-2019' '2015-2024' '1979-1982'\n",
      " '1974-1975' '1980-1982' '1961' '1966-1970' '1988-1991' '1963-1964'\n",
      " '2015-2020' '2007-2009' '1960' '1998-2001' '2009-2015' '2004-2007, 2014'\n",
      " '2004-2012' '2007-present' '1984-1986' '1969-1980' '1979-1981'\n",
      " '2001-2005' '2004-2011' '2008-2015' '2006-2011' '2010-2017' '1970'\n",
      " '1991-1996' '1980-1984' '2013-present' '1966-1972' '2005-2022'\n",
      " '1965-1969' '1991-2004' '2016-2021' '1970-1974' '2013-2016' '1973-2009'\n",
      " '1976-1978' '1969-1978' '2011-2012' '1989-present' '1965' '1981-1989'\n",
      " '1984-1989' '1981-1983' '2000-2004' '1980-1983' '2010-2023'\n",
      " '1969-present' '2008-2013' '1962-1964' '1994-2008' '2005-2021'\n",
      " '2008-2020' '2011-2021' '2005-2010' '2011-2017' '2007-2016' '1949-1952'\n",
      " '1987-1996' '1996-2002' '1990-1995' '1990-1993' '2014-2021' '1957-1959'\n",
      " '1992-2003' '1984-1987' '1993-1999' '1975-1976' '1993-2015' '1990-1992'\n",
      " '1994-1999' '1998-2004' '1953-1957, 1969-1973' '1957-1977' '2007-2015'\n",
      " '2010-2022']\n"
     ]
    }
   ],
   "source": [
    "print(df['Year'].nunique())\n",
    "print(df[\"Year\"].unique())"
   ]
  },
  {
   "cell_type": "code",
   "execution_count": 40,
   "metadata": {},
   "outputs": [
    {
     "name": "stdout",
     "output_type": "stream",
     "text": [
      "226\n",
      "['TBS' 'Direct to video' 'MTV' 'Netflix' 'Playhouse Disney' 'Disney XD'\n",
      " 'Adult Swim' 'ABC' 'ABCSyndication' 'Nickelodeon' 'PBS Kids' 'BabyFirst'\n",
      " 'Syndication' 'HuluPeacock' 'NBC' 'Fox' 'Cartoon Network' 'HBO Max' 'Max'\n",
      " 'PBSPBS Kids' 'CBS' 'MTV2' 'Sci-Fi Channel' 'FXX' 'Amazon Prime Video'\n",
      " 'ABCNBC' 'YouTube' 'Disney Junior' 'IGN' 'Syfy' 'Fox Family Channel'\n",
      " 'ANC' 'Fox (2005-2014)TBS (2014-present)' 'Disney Channel' 'Showtime'\n",
      " 'HBO' \"Fox Kids (1993-1995)Kids' WB (1995-1998)\" 'Hulu'\n",
      " 'FX (2009-2016)FXX (2017-2023)' 'NetflixPeacock' 'Sprout'\n",
      " \"Fox Children's Network\" 'FoxFXX' 'CBSNickelodeon' 'Fox Kids' 'The Hub'\n",
      " 'CBC Kids' 'PBS Kids Go!' 'Pax' 'Fox Kids Network' 'Peacock' 'The WB'\n",
      " \"Kids' WB (season 1)Cartoon Network (season 2)\" \"Kids' WB\" 'Cartoonito'\n",
      " 'Disney+' 'MTVParamount+' 'Direct-to-Video' 'Paramount+' '4Kids TV' 'BET'\n",
      " 'BabyFirstTV' 'The Disney Channel' 'Nick Jr.' 'Fox (4Kids TV)'\n",
      " 'Comedy Central' 'ABC\\r\\nCBS' 'TBN' 'Cartoon NetworkBoomerang' 'UPNABC'\n",
      " 'Fox Family' 'Discovery Kids' 'Discovery Family' 'CMT' 'CBBC'\n",
      " 'YouTubeVRV' 'USA Network' 'WWE Network' 'Turner Classic Movies'\n",
      " 'TBSCartoon Network' 'Apple TV+' 'LATV' 'FX' 'HBO Family' 'G4' 'CW Seed'\n",
      " 'PBS KidsPeacock' 'YouTubeSeesoVRV' 'Boomerang' 'MTV, MTV2' 'PBS'\n",
      " 'PBS KidsAmazon Prime Video' 'MTVMax' 'Animalia HDThe Hub'\n",
      " 'PBS Kids (2002-2004, 2013-present)PBS Kids Go! (2004-2013)'\n",
      " 'YouTube Premium' 'Amazon Video' 'History Channel' 'UPN'\n",
      " 'Cartoon NetworkNetflix'\n",
      " 'Disney XD (2017, 2020-21)Disney Channel (2018-19)' 'Nicktoons Network'\n",
      " 'The Roku Channel' 'Universal Kids'\n",
      " 'Nickelodeon (Seasons 1-4)\\r\\nABC (Seasons 5-7)' 'Qubo'\n",
      " 'Starz Kids & Family' 'VRV' 'Sci Fi Channel' 'TechTV' 'Nick at Nite'\n",
      " 'ABC\\r\\nToon Disney' 'TBSAdult Swim' 'PBS Kids Sprout' 'Tubi'\n",
      " 'MaxCartoon Network' 'Fox\\r\\nComedy Central\\r\\nHulu'\n",
      " 'VRVAmazon Prime Video' 'Spike TV' 'Rooster TeethHBO Max' 'WCBS-TV'\n",
      " 'Kabillion' 'Nicktoons' 'Jetix' 'ABCd' 'NBCAdult Swim' 'Fusion TV'\n",
      " 'warnerbros.com' 'Disney Channel (2012-14)Disney XD (2014-16)'\n",
      " 'YouTubeDiscovery Family' 'SeesoVRV' 'DC UniverseMax' 'DrinkTVSyfy' 'VH1'\n",
      " 'Crunchyroll' 'UPNAdult Swim' 'IFC' 'Channel 101' 'Facebook Watch' 'CITV'\n",
      " 'Discovery Familia' 'Animalia HD' 'ESPN'\n",
      " 'Cartoon Network (2019)HBO Max (2020-2022)' 'The History Channel'\n",
      " 'Disney.com' 'TLCPBS Kids'\n",
      " \"The WB (Kids' WB) (2005-2008)Cartoon Network (2009-2014)\"\n",
      " 'UPNSyndication' 'Machinima' 'The Hub Network' 'Noggin' 'NetflixHulu'\n",
      " 'NickelodeonNetflixYouTube' 'CBSABC' 'The Hub Network / Discovery Family'\n",
      " 'ABCToon Disney' 'mun2' 'SyndicationFox Kids'\n",
      " 'Playhouse Disney (2006-11)Disney Junior (2011-16)' 'Cinemax'\n",
      " 'Disney XD (season 1)Disney Channel (season 2)' 'The WBAdult Swim'\n",
      " 'Fox FamilyABCDisney Channel' 'PTV' 'NickelodeonNicktoons'\n",
      " 'Sprout / Universal Kids' 'Rooster Teeth' 'Myx' 'The N' 'Direct-to-video'\n",
      " 'AMC+' 'Viceland' 'Cartoon Network (Season 1)\\r\\nkabillion (season 2)'\n",
      " 'NBCABC' 'Playboy TV' 'Freeform' 'Universal KidsNetflix' 'Feeln'\n",
      " 'Nick Jr. Channel' 'Spike' 'Logo TV' 'ABC/UPN' 'TLC'\n",
      " 'Cartoon Network (2001-04)Adult Swim (2017)' 'ABC Family'\n",
      " 'The CW4KidsDisney XD' 'Disney XD (seasons 1-3)Disney Channel (season 4)'\n",
      " 'Jetix[4]Toon DisneyABC Family' 'Motor Trend'\n",
      " 'PBS Kids Go! (2010-2013)PBS Kids (2013-2023)' 'PBSPBS KidsHBO'\n",
      " 'American Forces NetworkGPB'\n",
      " 'Cartoon Network (1994-2001)Adult Swim (2001-2004)'\n",
      " 'PBS Kids (season 1)Sprout / Universal Kids (season 2)'\n",
      " 'Playhouse Disney (2009-11)Disney Junior (2011-12)'\n",
      " 'Cartoon NetworkNetflixDisney+' 'The Hub / Discovery Family' 'Fuse' 'CBN'\n",
      " 'Current TV' 'Hub Network' 'BYUtv' 'qubo' 'Fox KidsSyndication'\n",
      " 'France 2' 'FoxBox' 'E!' 'Toon Disney' 'SyndicationCBS' 'HBO Max / Max'\n",
      " 'MeTV' 'go90' 'NetflixAdult Swim' 'Sci Fi' 'AMC' 'Tencent Video'\n",
      " 'Trinity Broadcasting Network'\n",
      " 'Disney Channel (2013-14)Disney XD (2014-16)' 'ABCUPNToon Disney'\n",
      " 'PBS Kids Go! (2011-13)PBS Kids (2013-present)'\n",
      " 'CBSBroadcast syndication' 'PBS Kids Go! (2007-13)\\r\\nPBS Kids (2013-15)'\n",
      " 'Jetix (on Toon Disney) (2006-09)Disney XD (2009)' 'IMDB'\n",
      " 'Cartoon NetworkDC UniverseHBO Max']\n"
     ]
    }
   ],
   "source": [
    "print(df['Original channel'].nunique())\n",
    "print(df['Original channel'].unique())"
   ]
  },
  {
   "cell_type": "code",
   "execution_count": 43,
   "metadata": {},
   "outputs": [
    {
     "name": "stdout",
     "output_type": "stream",
     "text": [
      "505\n",
      "['Hanna-Barbera' 'Big Idea Productions'\n",
      " 'Warner Bros. AnimationMTV Animation' 'DreamWorks Animation Television'\n",
      " 'Little Airplane Productions' 'Disney Television Animation'\n",
      " 'Williams Street' 'Jumbo PicturesDisney Television Animation'\n",
      " 'Klasky CsupoGames Animation' 'Sesame Workshop'\n",
      " 'Nickelodeon Animation Studio' 'DIC Entertainment' 'Netflix Animation'\n",
      " 'ADHD Studios' 'Frederator StudiosCartoon Network Studios'\n",
      " 'PorchLight Entertainment' 'Filmation' 'MTV Animation'\n",
      " 'Hyperion Animation'\n",
      " 'O EntertainmentDNA ProductionsNickelodeon Animation Studio'\n",
      " \"Schneider's BakeryNickelodeon Animation Studio\" 'Tempe-Toons'\n",
      " 'CBS Entertainment Productions' 'Jay Ward Productions'\n",
      " 'Beverly Hills Productions' 'Walt Disney Television Animation'\n",
      " 'Sony Pictures Animation' 'Stoopid Buddy Stoodios'\n",
      " 'Reverse Engineering Studios' 'Broadway Video' 'MGM Animation'\n",
      " 'Klasky CsupoNickelodeon Animation Studio' 'DIC Animation City'\n",
      " 'Chernin Entertainment' 'Bagdasarian Productions'\n",
      " 'Fuzzy Door Productions' 'Rabbit Ears Productions'\n",
      " 'Duplass Brothers Productions' 'Warner Bros. Animation'\n",
      " 'Marvel Animation' '6 Point Harness' 'Cartoon Network Studios'\n",
      " 'William Street' 'Warner Bros. AnimationDC Entertainment'\n",
      " 'Floyd County Productions' 'JibJab Bros. Studios' 'Soup2Nuts'\n",
      " 'Terrytoons' 'Marvel Productions' 'Wet Cement ProductionsGold King Media'\n",
      " 'Nickelodeon Animation Studios' 'Bento Box Entertainment' 'Nelvana'\n",
      " 'Saban Entertainment' 'OddBot Inc.' 'Mission Control Media'\n",
      " 'Hasbro Studios' 'SD Entertainment' 'DIC Entertainment, L.P.'\n",
      " 'Fred Rogers Productions' 'Cartoon Network Development Studio Europe'\n",
      " 'J.J. Sedelmaier Productions, Inc.' 'C.O.R.E. Digital Pictures'\n",
      " 'Riot Games' 'WGBH' 'Split the Difference Productions'\n",
      " 'Harvey Entertainment' 'DePatie-Freleng Enterprises' 'Mondo Media'\n",
      " 'Hal Seeger Productions' 'Walt Disney Animation Studios'\n",
      " 'Total Television' 'Universal Cartoon Studios' 'Polkadot Productions'\n",
      " 'Pamplin Entertainment' \"Children's Television Workshop\"\n",
      " 'Adelaide Productions'\n",
      " 'Disney Television AnimationMan of Action Entertainment' 'Titmouse, Inc.'\n",
      " 'New World Animation' 'Brentwood Television Funnies'\n",
      " 'Powerhouse Animation Studios' 'Warner Bros. Cartoons' 'ShadowMachine'\n",
      " 'Renegade Animation' 'Amazon Studios' 'Larry Harmon Pictures'\n",
      " 'Eliot Noyes Productions' 'The Jim Henson Company'\n",
      " 'Mike Young Productions' 'Damn! Show Productions'\n",
      " 'Encyclopædia Britannica Films' 'Trans-Artists Productions'\n",
      " 'Sunbow Entertainment' 'Stoopid Buddy StoodiosAmerican Greetings'\n",
      " 'Lightning Bug Flix' 'Greengrass Productions'\n",
      " 'Walt Disney Television AnimationPixar Animation Studios'\n",
      " 'Omation Animation StudioNickelodeon Animation Studio'\n",
      " 'Universal Animation Studios' 'Mattel Television' 'Fred Wolf Films'\n",
      " 'Sandy Frank Entertainment' 'Hasbro'\n",
      " 'Phoenix Animation Studios\\r\\nBlye Migicovsky Productions'\n",
      " 'Frederator Studios' 'Endgame Entertainment' 'MCA TV'\n",
      " 'Alcon Entertainment' 'Knowledge Adventure' 'Moonbug Entertainment'\n",
      " '3 Arts Entertainment' 'Film Roman' 'Parallel Entertainment'\n",
      " 'Cloudco Entertainment' 'Big Bad Boo' 'a.k.a. Cartoon' 'CINAR'\n",
      " 'Billionfold Inc.Nickelodeon Animation Studio' 'SLQAR'\n",
      " 'Will Vinton Productions' 'Buzzco Associates' 'Kayro Productions'\n",
      " 'Rooster Teeth' 'Magic Screen Pictures Inc.'\n",
      " 'DIC EntertainmentHanna-Barbera' 'Monkeyshine Productions, Inc.'\n",
      " 'Splash EntertainmentAmerican Greetings'\n",
      " 'MoonScoop EntertainmentAmerican Greetings' 'Pixar Animation Studios'\n",
      " 'Peter Hannan Productions\\r\\nNickelodeon Animation Studio'\n",
      " 'Wilo Productions' 'Ruby-Spears Enterprises' 'Overman Productions'\n",
      " 'Bill Melendez Productions' 'Sunny Side-Up Entertainment'\n",
      " 'Sprout Originals' 'Wild Canary Animation' 'MaGiK World Animation'\n",
      " 'View Askew Productions' 'Cambria Productions'\n",
      " 'Monkey Wrangler Productions' 'Curious Pictures' 'Richard M. Ullcan Inc.'\n",
      " 'Rankin/Bass Animated Entertainment' 'Stretch Films' 'Gracie Films'\n",
      " 'LowBrow Studios' 'Harmony Gold USA' 'Ubisoft Film & Television'\n",
      " 'Top Draw Animation' 'Bardel Entertainment'\n",
      " 'The Harvey Entertainment Company' 'Random House' 'CBS Productions'\n",
      " 'Fogelmania ProductionsMTV Animation' '9 Story USA' 'Silvergate Media'\n",
      " 'MoonScoop Entertainment' 'Atomic Cartoons' 'Scholastic Corporation'\n",
      " 'Scholastic Entertainment' 'MTV AnimationShadowMachine' 'Treasure Studio'\n",
      " 'King Features Entertainment' 'Cuppa Coffee Animation'\n",
      " 'Amazon Studios9 Story USA' 'Television Arts Productions'\n",
      " 'Atkinson Film-Arts' 'WNET Thirteen' 'The Walt Disney Company' 'PUNY'\n",
      " 'Educational Adventures' 'Graz Entertainment' 'Chokey Productions'\n",
      " 'Lighthouse Studios' 'Psyop' 'United Productions of America'\n",
      " 'Adelaide ProductionsIdbox' 'Mobius.LabKids' 'The ULULU Company'\n",
      " 'Brown Bag Films' 'Walt Disney Productions'\n",
      " 'Michael Made MeGaumont International Television'\n",
      " 'Comedy PartnersDouble Hemm' 'Mirari FilmsWilliams Street'\n",
      " 'Tom Snyder Productions' 'Klasky Csupo' 'Jambalaya Studios'\n",
      " 'Toon Farm Animation LLC.' 'World Events Productions'\n",
      " 'Look Mom! Productions' 'Kaiju Boulevard'\n",
      " 'Jumbo PicturesGames Animation (seasons 1-4)Walt Disney Television Animation (seasons 5-7)'\n",
      " 'Abrams/Gentile Entertainment' 'MWM Studios' 'Paper Kite Productions'\n",
      " 'Star Farm Productions' 'Pipeline Studios' 'Animation Collective'\n",
      " 'Cartoon Network Studios Europe' 'Fred Calvert Productions'\n",
      " 'DreamWorks Animation TelevisionScholastic Corporation' 'Lucasfilm'\n",
      " 'Gaumont International Television'\n",
      " 'Frederator StudiosNickelodeon Animation Studio'\n",
      " 'Late Night Cartoons, Inc.' 'Amblin Television' 'Marvel Entertainment'\n",
      " 'Filmation Associates'\n",
      " 'DreamWorks Animation TelevisionUniversal Pictures' 'Smiley, Inc.'\n",
      " 'Cartoon Pizza' 'Rankin/Bass Productions' 'Felix the Cat Productions'\n",
      " 'Amblimation' 'Pat & Mike Productions' 'Jim Terry Productions' 'WQED'\n",
      " 'Jim Henson Productions' 'Colossal Pictures'\n",
      " 'The Jim Henson Company\\r\\nHIT Entertainment' 'Lionsgate Television'\n",
      " 'Radical Axis' 'Warner Bros. Television' 'Joe Murray Productions'\n",
      " 'MoonScoop Group' 'Ken Snyder Productions' 'The Curiosity Company'\n",
      " 'King Features Syndicate' 'TMS Entertainment' 'Carsey-Werner Productions'\n",
      " 'Paws, Inc.' 'Bahr-Small Productions' 'Spike Animation Studios'\n",
      " 'Rooster Teeth Studios' 'B-Train Films' 'Blizzard Entertainment'\n",
      " 'Cookie Jar Entertainment' 'Marathon Media' 'Jetix Animation Concepts'\n",
      " 'Blue Ribbon Content' 'The Tornante Company' 'Sunbow Productions'\n",
      " 'Sonar Entertainment' 'Total Television\\r\\nLeonardo Television' 'Spümcø'\n",
      " 'Judgmental Films' 'ShadowMachineMTV Animation' 'Bootleg Universe'\n",
      " 'Clokey Productions\\r\\nPremavision' 'Titmouse, Inc' 'icebox.com'\n",
      " 'Universal Content Productions' 'CBS Eye Animation Productions'\n",
      " 'Cartoon Network Studios (season 1)Williams Street' 'Famous Studios'\n",
      " 'SpindleHorse Toons\\r\\nA24\\r\\nBento Box Entertainment'\n",
      " 'Michael Sporn AnimationKlasky CsupoCinarRandom House'\n",
      " 'Headspace Studios' 'Dr. God Productions' 'SpindleHorse Toons'\n",
      " 'GlueWorks Entertainment\\r\\nTommy Nelson'\n",
      " 'Renegade AnimationCartoon Network Studios' 'Wild Brain'\n",
      " 'Annoying Orange, Inc.' 'Crunchyroll Studios' 'PocketWatch, Inc.'\n",
      " 'Nickelodeon Animation StudioAmerican Greetings' 'Tom Synder Productions'\n",
      " 'Pepper Hill Productions' 'Noodlesoup Productions'\n",
      " 'Ken Snyder Properties' 'Cartuna' 'Kickstart Productions'\n",
      " 'Twin Cities PBS' 'Threshold Animation Studios' 'Mattel, Inc.'\n",
      " 'Marvel Studios Animation' 'Farmhouse Films' 'Scholastic Media'\n",
      " 'Blue Sky Studios' 'Dinamo Productions' 'National Geographic Kids'\n",
      " 'Happy Madison Productions' '4Kids Entertainment' 'Marvel Studios'\n",
      " 'Mercury Filmworks' 'Hyperion Pictures' 'Murakami-Wolf-Swenson'\n",
      " 'Augenblick Studios' 'Television Screen Productions'\n",
      " 'Oriolo Film Studios, Inc.' 'Warner Bros. Animation (seasons 1-2)'\n",
      " 'Saban Brands' 'Spider Eye Productions'\n",
      " 'DreamWorks Animation TelevisionAmblin Entertainment'\n",
      " 'United Plankton PicturesNickelodeon Animation Studio' 'Phase 4'\n",
      " 'Triggerfish Animation Studios' 'Bohbot Entertainment'\n",
      " 'Videocraft International' 'Deedle-Dee Productions' 'YouTube Studio'\n",
      " 'KidsCave Entertainment' 'Sprite Animation Studios'\n",
      " 'Splash Entertainment'\n",
      " 'DreamWorks Animation TelevisionNickelodeon Animation Studio'\n",
      " 'Red Flags Fly' 'Classic Media' 'Ruby-Spears Productions'\n",
      " 'Gangster Production' 'Hearst Entertainment Productions' 'The Lego Group'\n",
      " 'A&E Studios' 'Insane Loon Productions' 'Sugarshack Animation'\n",
      " 'Ed Graham Productions' 'Bandai Entertainment'\n",
      " 'The Baby Einstein CompanyCurious Pictures' 'Golden Book Video'\n",
      " 'Henson Associates' 'Allspark' 'Genius Brands' 'Format Films'\n",
      " 'Industrial Light & Magic' 'Blur Studio' 'Marvel Comics'\n",
      " 'American Greetings' 'Harvey Films' 'Scholastic Productions'\n",
      " 'Tyndale Productions' 'Polygon Pictures' 'United Artists Television'\n",
      " 'Bakshi Animation' 'Judgemental FilmsZipper Bros Films'\n",
      " 'Warner Bros. AnimationWilliams Street' 'Castle Rock Entertainment'\n",
      " 'The Lego GroupCartoon Network Studios'\n",
      " 'DreamWorks AnimationNickelodeon Animation Studio'\n",
      " 'ShadowMachineWilliams Street' 'Extra Credit Studios'\n",
      " 'Zodiac Entertainment' 'The Muppets Studio' 'Claster Television'\n",
      " 'DC Studios' 'Georgia Public Broadcasting' 'National Geographic Society'\n",
      " 'Sony Wonder Television' 'Dentsu Entertainment USA'\n",
      " 'Paper Kite ProductionsNickelodeon Animation Studio'\n",
      " 'Adventure Cartoon Productions' 'MGM Television' 'Kinofilm'\n",
      " 'Topps Animation' 'PolyGram Entertainment' 'Breakthrough Entertainment'\n",
      " 'Scully Productions' 'Spiffy PicturesWTTW' 'Friends Night'\n",
      " 'FilmationDC Comics' 'Videocraft Productions'\n",
      " 'Warner Bros. AnimationDC Comics' 'Paramount Cartoon Studios' 'NFL Films'\n",
      " 'Spacetoonz' 'BBC Worldwide' 'Otter Media' 'Factory'\n",
      " 'ABS-CBN International' 'Transfilm-Wylde Animation' 'Mohawk Productions'\n",
      " 'MGM Animation/Visual Arts' 'Cottonwood Media' 'Nico Animation, LLC'\n",
      " 'Quincy Productions' 'Russell Barrett Productions' 'Pickaxe Productions'\n",
      " 'Field Recordings'\n",
      " 'United Plankton Pictures\\r\\nNickelodeon Animation Studio'\n",
      " 'Jumbo PicturesWalt Disney Television Animation' 'Primal Screen'\n",
      " 'MTV AnimationPossible Worlds' 'Rubicon Studios'\n",
      " 'Mirisch-Geoffrey-DePatie-Freleng' 'Playboy Enterprises'\n",
      " 'TZGZ Productions' 'WildBrain Entertainment'\n",
      " 'Animax EntertainmentMTV Animation' 'HarperCollins Productions'\n",
      " 'Cartoon Network StudiosWilliams Street'\n",
      " '41 EntertainmentSprite Animation Studios' 'Peanuts Worldwide'\n",
      " 'Sesame WorkshopCartoon Pizza' 'Marc Brown StudiosWGBH'\n",
      " 'Man of Action Entertainment' 'Animation Associates' 'Icebox' 'Raggs LLC'\n",
      " 'Funrise Toys' 'Wind Dancer Films\\r\\nSnee-Oosh, Inc.'\n",
      " 'Deos Animation Studios' 'Cuppa Coffee Studios' 'Wildbrain Entertainment'\n",
      " 'Games Animation' 'Pantomime Pictures' 'BKN' 'Rooster Teeth Animation'\n",
      " 'Cartoon Network StudiosWilliams Street (S5)' 'Scholastic Rock, Inc.'\n",
      " 'Gracie Films20th century' 'Pantomime Picture Production'\n",
      " 'Paul Fusco Productions' 'HBO Animation' 'Atlantic/Kushner-Locke'\n",
      " 'Harveytoons' 'LucasfilmCartoon Network Studios' 'Spike Animation'\n",
      " 'Walt Disney Television Animation (credited as Jetix Animation Concepts)[5]'\n",
      " 'Williams Street70/30 Productions' 'Broadman & Holman Publishers'\n",
      " 'One Red Room' 'Bix Pix Entertainment' 'PFFR' 'World Famous Pictures'\n",
      " 'Walt Disney Television' 'Activision Blizzard Studios'\n",
      " 'Cosmic Toast Studios' 'Starburns Industries' 'Agnew Jorné Productions'\n",
      " 'South Park Studios' 'Space Race, LLCMaryland Public TelevisionWNET'\n",
      " 'G4 Media' 'Lucasfilm Animation' 'Studio B Productions' 'SYBO'\n",
      " 'Sphere Animation' 'Bang Zoom! Entertainment' 'One Animation'\n",
      " 'YouTube Originals' 'Creative Capers Entertainment'\n",
      " 'Gaumont Film Company' 'Rankin/Bass Enterprises' 'Sega'\n",
      " 'Speed Racer Enterprises' 'Grantray-Lawrence Animation'\n",
      " 'Sony Pictures Television' 'Dimension Television'\n",
      " 'Fogelmania Productions' 'Millarworld' 'Skybound Entertainment'\n",
      " '41 Entertainment' 'Out of the Blue Enterprises'\n",
      " 'Sony Pictures Television Kids' 'Disney Interactive' 'Studio T'\n",
      " 'Curious PicturesNickelodeon Animation Studio'\n",
      " 'Total TelevisionLeonardo Television'\n",
      " 'MGM Cartoon Studio\\r\\nWarner Bros. Cartoons'\n",
      " 'Lee Mendelson Film Productions' 'Stoop!d Monkey' 'Spartina Productions'\n",
      " 'Associated Studios' 'Netflix Studios'\n",
      " 'Amazon StudiosBix Pix Entertainment' 'Poochie Doochie Productions'\n",
      " 'Puny Entertainment' 'Southern Star/Hanna-Barbera Australia'\n",
      " 'Home Plate Entertainment' 'Soup2NutsWGBH' 'Fresh TV'\n",
      " 'The Lego GroupWarner Bros. Animation' 'DreamEast Pictures'\n",
      " 'Camp Chaos Productions' 'Big Bear Entertainment' 'Biscuit Filmworks'\n",
      " 'Testor Corporation' 'CinéGroupe'\n",
      " 'Hanna-Barbera (pilot)Cartoon Network Studios' 'Animax Entertainment'\n",
      " 'DIC Enterprises'\n",
      " 'DreamWorks Animation Television\\r\\nSnipple Animation Studios'\n",
      " 'Disney Publishing' 'WETA' 'Kratt Brothers Company'\n",
      " 'King World Productions' 'Universal Television'\n",
      " 'Amazon StudiosOut of the Blue Enterprises'\n",
      " 'Nickelodeon Animation StudioLittle Airplane Productions' 'Krantz Films'\n",
      " 'Walter Lantz Productions' 'Soup2NutsScholastic Entertainment'\n",
      " 'The Learning Box' 'Cookie Jar' 'Bolder MediaFilm Roman'\n",
      " 'Walt Disney Pictures Television Animation Group' 'WWE'\n",
      " 'Marvel Entertainment Group' 'PFFRWilliams Street'\n",
      " 'ActionFliks Media Corporation' 'Bold Soul Studios' 'Zafari Productions'\n",
      " 'Cepia LLC' 'Maryland Public Television' 'The Hatchery']\n"
     ]
    }
   ],
   "source": [
    "print(df['American company'].nunique())\n",
    "print(df['American company'].unique())"
   ]
  },
  {
   "cell_type": "code",
   "execution_count": 44,
   "metadata": {},
   "outputs": [
    {
     "name": "stdout",
     "output_type": "stream",
     "text": [
      "101\n",
      "['Not Available' 'British co-production' 'Canadian co-production'\n",
      " 'British-Canadian co-production' 'Australian co-production'\n",
      " 'Italian co-production' 'Canadian-Italian co-production'\n",
      " 'French-Japanese co-production' 'French co-production'\n",
      " 'Shown on Maya & Miguel' 'Shown on TV Funhouse'\n",
      " 'British-Canadian-Finnish co-production'\n",
      " 'The last 2 episodes aired on Nicktoons leaving 6 unaired.'\n",
      " 'South Korean co-production'\n",
      " 'The last 6 episodes aired on Nicktoons in 2011.'\n",
      " 'Japanese co-production' 'Canadian-Taiwanese co-production'\n",
      " 'Chinese co-production'\n",
      " 'The last 10 episodes aired on Nicktoons in 2016.' 'German co-production'\n",
      " 'The last 10 episodes aired on Nicktoons.'\n",
      " 'British-Chinese co-production' 'Irish co-production'\n",
      " 'French-Indian co-production' 'British-Irish co-production'\n",
      " 'Canadian co-production (season 1 only)' 'Canadian-French co-production'\n",
      " 'French-German co-production'\n",
      " 'British-German co-production. Season 1 only.'\n",
      " \"First children's animated television series.\"\n",
      " 'Canadian-German co-production' 'French-Italian co-production'\n",
      " 'British-Canadian-Irish co-production'\n",
      " 'Canadian-Singaporean co-production' 'French co-production (seasons 2-4)'\n",
      " 'Canadian-German-South Korean co-production'\n",
      " 'The last 6 episodes aired on Hulu.' '26 episodes were left unaired.'\n",
      " 'The last 11 episodes aired on Nicktoons in 2017.'\n",
      " 'The last episode aired on Nicktoons in 2014.'\n",
      " 'First adult animated television series.'\n",
      " 'Canadian co-production (season 3 only)'\n",
      " 'French co-production. Seasons 1-2 only.'\n",
      " 'The last 15 episodes aired on Nicktoons in 2017.'\n",
      " 'Canadian-Japanese co-production' 'Chinese-Danish co-production'\n",
      " 'British-Chinese-Taiwanese co-production'\n",
      " 'The last episode aired on FXX in 2015.'\n",
      " 'The last 6 episodes aired on Nicktoons Network in 2006.'\n",
      " 'British co-production. Season 2 aired on Nicktoons.'\n",
      " \"Shown on Alma's Way.\"\n",
      " 'Canadian co-production (season 2). Seasons 1-2 only.'\n",
      " 'First animated preschool series.' 'South African co-production'\n",
      " 'Canadian-French-South African co-production'\n",
      " 'Canadian-Japanese-Malaysian co-production' 'Danish co-production'\n",
      " '3 episodes were left unaired.' 'French-Canadian co-production'\n",
      " 'Canadian co-production. Season 2 aired on Netflix.'\n",
      " 'Mexican co-production' 'The last 13 episodes aired on Nicktoons.'\n",
      " 'Russian co-production' 'Season 3 aired on Nicktoons Network.'\n",
      " 'British-French co-production' 'Filipino co-production'\n",
      " 'Segment on KaBlam!.'\n",
      " 'Canadian co-production. Seasons 4-5 aired on PBS Kids.'\n",
      " 'The last 7 episodes aired on Nicktoons.'\n",
      " 'Season 1, Episodes 21-30 and Season 2 aired on Nicktoons.'\n",
      " 'Irish-Germany co-production' 'The last 15 episodes aired on Nicktoons.'\n",
      " 'Spanish co-production (season 1) and Canadian co-production (season 2)'\n",
      " 'Season 2 aired on Nicktoons.'\n",
      " 'The last 3 episodes aired on Nicktoons and the last episode was released on Noggin.'\n",
      " 'Canadian-French-Indian-Irish co-production'\n",
      " 'The last 4 episodes aired on qubo.' 'Singaporian co-production'\n",
      " 'Singaporean-Thai co-production. Season 1 only.'\n",
      " 'Irish-New Zealand co-production' 'Australian-Canadian co-production'\n",
      " 'British-Kenyan co-production' 'Shown on KaBlam!.'\n",
      " 'Italitan co-production' 'Indian-Irish co-production'\n",
      " 'Chinese-South Korean co-production'\n",
      " 'Season 2, Episodes 10-26 and Season 3 aired on Nicktoons.'\n",
      " 'Australian-Irish-Mexican co-production' 'Season 7 aired on The CW4Kids.'\n",
      " 'The last 4 episodes aired on Nicktoons Network.'\n",
      " 'Canadian-Irish co-production'\n",
      " 'Irish co-production. Season 4 aired on Netflix.'\n",
      " 'Canadian-New Zealand co-production'\n",
      " 'Canadian co-production. Season 1, Episodes 10-20 and Season 2 aired on Nicktoons.'\n",
      " 'Dutch co-production' 'Canadian co-production. Season 1 only.'\n",
      " 'Italian co-production. Seasons 5-7 only.'\n",
      " 'Canadian co-production (season 1)' 'One episode was left unaired.'\n",
      " 'French co-production. The last 6 episodes aired on Netflix.'\n",
      " 'French-Indonesian-Italian-South Korean co-production']\n"
     ]
    }
   ],
   "source": [
    "print(df['Note'].nunique())\n",
    "print(df['Note'].unique())"
   ]
  },
  {
   "cell_type": "code",
   "execution_count": 45,
   "metadata": {},
   "outputs": [
    {
     "name": "stdout",
     "output_type": "stream",
     "text": [
      "41\n",
      "['Traditional' 'CGI' 'Flash' 'Stop-Motion' 'Traditional/Live-Action'\n",
      " 'CGI/Flash/Stop-Motion/Live-Action' 'Flash/Live-Action'\n",
      " 'CGI/Flash/Stop-motion/Traditional'\n",
      " 'Traditional (Seasons 1-15, 20-25)\\r\\nCel (Seasons 1-3)\\r\\nDigital ink-and-paint (Seasons 4-15, 20-25)\\r\\nFlash (Seasons 16-25)\\r\\nAdobe Flash (Seasons 16-19)\\r\\nToon Boom Harmony (Seasons 20-25)'\n",
      " 'Traditional/Live-Action/Flash/CGI' 'CGI/Live-Action'\n",
      " 'Traditional (season 1)/Flash (season 2-3)' 'Flash/Traditional/CGI'\n",
      " 'Traditional/Stop-Motion/CGI/Flash'\n",
      " 'Traditional (season 1)/Flash (season 2)'\n",
      " 'Traditional/Digital ink-and-paint (seasons 1-5)/Flash/Adobe Flash (season 6-present)'\n",
      " 'Flash/Traditional' 'Traditional (seasons 1-9)/Flash (season 10)'\n",
      " 'Stop-motion' 'Flash/Live-action' 'Traditional/Live-action'\n",
      " 'Live-Action/Traditional' 'Live-Action/Flash' 'CGI/Flash/Live-action'\n",
      " 'CGI/Live-action'\n",
      " 'Traditional/Digital ink-and-paint (season 1)/Flash/Adobe Flash (seasons 2-6)'\n",
      " 'Traditional/CGI' 'Traditional/Flash' 'Traditional/CGI/Stop-Motion'\n",
      " 'Traditional/CGI/Stop-Motion/Live-Action' 'Stop-Motion/Live-Action'\n",
      " 'Stop-Motion/CGI/Flash' 'Flash/Live action'\n",
      " 'Traditional/Flash/CGI/Stop-Motion' 'CGI/Flash' 'CGI/Traditional/Flash'\n",
      " 'CGI/Flash/Stop-Motion/Traditional/Live-action'\n",
      " 'CGI/Stop-Motion/Flash/Traditional' 'Flash/Live-Action/Traditional/CGI'\n",
      " 'Flash/Traditional/Live-Action' 'Stop-motion/Live-action']\n"
     ]
    }
   ],
   "source": [
    "print(df['Technique'].nunique())\n",
    "print(df['Technique'].unique())"
   ]
  },
  {
   "cell_type": "code",
   "execution_count": 46,
   "metadata": {},
   "outputs": [
    {
     "name": "stdout",
     "output_type": "stream",
     "text": [
      "76\n",
      "[7.2 6.5 8.  7.6 7.8 5.7 7.3 6.1 4.9 4.2 7.  6.4 5.8 6.6 8.6 8.7 8.9 5.9\n",
      " 6.7 2.6 5.2 7.5 1.6 4.7 4.3 6.3 6.2 6.  5.4 6.8 8.4 5.5 7.1 7.4 8.3 7.9\n",
      " 7.7 8.1 6.9 8.5 4.6 9.3 4.5 9.  5.3 8.2 5.6 2.8 8.8 3.7 1.9 3.1 5.  2.\n",
      " 4.  3.  3.4 2.1 4.1 5.1 3.8 4.4 2.5 1.5 3.3 3.9 3.2 3.6 4.8 2.2 9.1 2.3\n",
      " 3.5 2.9 1.7 2.7]\n"
     ]
    }
   ],
   "source": [
    "print(df['IMDb'].nunique())\n",
    "print(df['IMDb'].unique())"
   ]
  },
  {
   "cell_type": "code",
   "execution_count": 47,
   "metadata": {},
   "outputs": [
    {
     "name": "stdout",
     "output_type": "stream",
     "text": [
      "78\n",
      "['91%' '87%' '77%' '92%' '85%' '72%' '83%' '86%' '76%' '57%' '60%' '78%'\n",
      " '66%' '81%' '54%' '93%' '95%' '82%' '88%' '94%' '73%' '64%' '89%' '80%'\n",
      " '55%' '25%' '74%' '79%' '69%' '62%' '90%' '84%' '61%' '39%' '65%' '59%'\n",
      " '70%' '68%' '96%' '53%' '71%' '41%' '44%' '75%' '52%' '46%' '56%' '58%'\n",
      " '98%' '67%' '10%' '48%' '42%' '49%' '63%' '50%' '34%' '45%' '36%' '97%'\n",
      " '26%' '9%' '47%' '12%' '51%' '31%' '33%' '37%' '32%' '35%' '24%' '21%'\n",
      " '14%' '38%' '16%' '43%' '11%' '100%']\n"
     ]
    }
   ],
   "source": [
    "print(df['Google users'].nunique())\n",
    "print(df['Google users'].unique())"
   ]
  },
  {
   "cell_type": "markdown",
   "metadata": {},
   "source": [
    "- Remove the percentage sign.\n",
    "- Change the datatype of `Google users`. "
   ]
  },
  {
   "cell_type": "code",
   "execution_count": 48,
   "metadata": {},
   "outputs": [],
   "source": [
    "df['Google users'] = df['Google users'].str.replace('%', '').astype('float')"
   ]
  },
  {
   "cell_type": "code",
   "execution_count": 50,
   "metadata": {},
   "outputs": [
    {
     "data": {
      "text/plain": [
       "dtype('float64')"
      ]
     },
     "execution_count": 50,
     "metadata": {},
     "output_type": "execute_result"
    }
   ],
   "source": [
    "df['Google users'].dtypes"
   ]
  },
  {
   "cell_type": "markdown",
   "metadata": {},
   "source": [
    "# Let's start find the patterns and insight."
   ]
  },
  {
   "cell_type": "markdown",
   "metadata": {},
   "source": [
    "### Q1. Find out the Top `Original Channels` Name?\n",
    "### Q2. Top 5 popular `American production` companies?\n",
    "### Q3. Check the Co-Producers(Note) top companies?\n",
    "### Q4. Find out the top `Technique` used in animated series?\n",
    "### Q5. Highest IMDs rating TV Series?\n",
    "### Q6. TV Series with highest google users likes?\n",
    "### Q7. Original Channel with highest google Rating?\n",
    "### Q8. Original Channel with highest IMDb Rating?\n",
    "### Q9. Lowest IMDb rating tv series?\n",
    "### Q10. Lowest Google rating tv series?\n",
    "### Q11. Which TV Series produce highest numbers of episodes?\n",
    "### Q12. Which Original channel Produce highest numbers of episodes?\n",
    "### Q13. Which Company Produce highest numbers of episodes?\n",
    "### Q14. How many Tv Series are continue in present year according to given dataset?\n",
    "### Q15. Check the Correlation between `IMDb` and `Google users`?"
   ]
  },
  {
   "cell_type": "code",
   "execution_count": 51,
   "metadata": {},
   "outputs": [
    {
     "data": {
      "text/html": [
       "<div>\n",
       "<style scoped>\n",
       "    .dataframe tbody tr th:only-of-type {\n",
       "        vertical-align: middle;\n",
       "    }\n",
       "\n",
       "    .dataframe tbody tr th {\n",
       "        vertical-align: top;\n",
       "    }\n",
       "\n",
       "    .dataframe thead th {\n",
       "        text-align: right;\n",
       "    }\n",
       "</style>\n",
       "<table border=\"1\" class=\"dataframe\">\n",
       "  <thead>\n",
       "    <tr style=\"text-align: right;\">\n",
       "      <th></th>\n",
       "      <th>Id</th>\n",
       "      <th>Title</th>\n",
       "      <th>Episodes</th>\n",
       "      <th>Year</th>\n",
       "      <th>Original channel</th>\n",
       "      <th>American company</th>\n",
       "      <th>Note</th>\n",
       "      <th>Technique</th>\n",
       "      <th>IMDb</th>\n",
       "      <th>Google users</th>\n",
       "    </tr>\n",
       "  </thead>\n",
       "  <tbody>\n",
       "    <tr>\n",
       "      <th>0</th>\n",
       "      <td>1</td>\n",
       "      <td>2 Stupid Dogs</td>\n",
       "      <td>26.0</td>\n",
       "      <td>1993-1995</td>\n",
       "      <td>TBS</td>\n",
       "      <td>Hanna-Barbera</td>\n",
       "      <td>Not Available</td>\n",
       "      <td>Traditional</td>\n",
       "      <td>7.2</td>\n",
       "      <td>91.0</td>\n",
       "    </tr>\n",
       "    <tr>\n",
       "      <th>1</th>\n",
       "      <td>2</td>\n",
       "      <td>3-2-1 Penguins!</td>\n",
       "      <td>27.0</td>\n",
       "      <td>2000-2008</td>\n",
       "      <td>Direct to video</td>\n",
       "      <td>Big Idea Productions</td>\n",
       "      <td>Not Available</td>\n",
       "      <td>CGI</td>\n",
       "      <td>6.5</td>\n",
       "      <td>91.0</td>\n",
       "    </tr>\n",
       "    <tr>\n",
       "      <th>2</th>\n",
       "      <td>3</td>\n",
       "      <td>3-South</td>\n",
       "      <td>13.0</td>\n",
       "      <td>2002-2003</td>\n",
       "      <td>MTV</td>\n",
       "      <td>Warner Bros. AnimationMTV Animation</td>\n",
       "      <td>Not Available</td>\n",
       "      <td>Traditional</td>\n",
       "      <td>8.0</td>\n",
       "      <td>87.0</td>\n",
       "    </tr>\n",
       "    <tr>\n",
       "      <th>3</th>\n",
       "      <td>4</td>\n",
       "      <td>3Below: Tales of Arcadia</td>\n",
       "      <td>28.0</td>\n",
       "      <td>2018-2019</td>\n",
       "      <td>Netflix</td>\n",
       "      <td>DreamWorks Animation Television</td>\n",
       "      <td>Not Available</td>\n",
       "      <td>CGI</td>\n",
       "      <td>7.6</td>\n",
       "      <td>77.0</td>\n",
       "    </tr>\n",
       "    <tr>\n",
       "      <th>4</th>\n",
       "      <td>5</td>\n",
       "      <td>3rd &amp; Bird</td>\n",
       "      <td>51.0</td>\n",
       "      <td>2008-2010</td>\n",
       "      <td>Playhouse Disney</td>\n",
       "      <td>Little Airplane Productions</td>\n",
       "      <td>British co-production</td>\n",
       "      <td>Flash</td>\n",
       "      <td>7.8</td>\n",
       "      <td>92.0</td>\n",
       "    </tr>\n",
       "  </tbody>\n",
       "</table>\n",
       "</div>"
      ],
      "text/plain": [
       "   Id                     Title  Episodes       Year  Original channel  \\\n",
       "0   1             2 Stupid Dogs      26.0  1993-1995               TBS   \n",
       "1   2           3-2-1 Penguins!      27.0  2000-2008   Direct to video   \n",
       "2   3                   3-South      13.0  2002-2003               MTV   \n",
       "3   4  3Below: Tales of Arcadia      28.0  2018-2019           Netflix   \n",
       "4   5                3rd & Bird      51.0  2008-2010  Playhouse Disney   \n",
       "\n",
       "                      American company                   Note    Technique  \\\n",
       "0                        Hanna-Barbera          Not Available  Traditional   \n",
       "1                 Big Idea Productions          Not Available          CGI   \n",
       "2  Warner Bros. AnimationMTV Animation          Not Available  Traditional   \n",
       "3      DreamWorks Animation Television          Not Available          CGI   \n",
       "4          Little Airplane Productions  British co-production        Flash   \n",
       "\n",
       "   IMDb  Google users  \n",
       "0   7.2          91.0  \n",
       "1   6.5          91.0  \n",
       "2   8.0          87.0  \n",
       "3   7.6          77.0  \n",
       "4   7.8          92.0  "
      ]
     },
     "execution_count": 51,
     "metadata": {},
     "output_type": "execute_result"
    }
   ],
   "source": [
    "df.head()"
   ]
  },
  {
   "cell_type": "markdown",
   "metadata": {},
   "source": [
    "### Q1. Find out the Top `Original Channels` Name?"
   ]
  },
  {
   "cell_type": "code",
   "execution_count": 56,
   "metadata": {},
   "outputs": [
    {
     "data": {
      "text/html": [
       "<div>\n",
       "<style scoped>\n",
       "    .dataframe tbody tr th:only-of-type {\n",
       "        vertical-align: middle;\n",
       "    }\n",
       "\n",
       "    .dataframe tbody tr th {\n",
       "        vertical-align: top;\n",
       "    }\n",
       "\n",
       "    .dataframe thead th {\n",
       "        text-align: right;\n",
       "    }\n",
       "</style>\n",
       "<table border=\"1\" class=\"dataframe\">\n",
       "  <thead>\n",
       "    <tr style=\"text-align: right;\">\n",
       "      <th></th>\n",
       "      <th>Channel Name</th>\n",
       "      <th>count</th>\n",
       "    </tr>\n",
       "  </thead>\n",
       "  <tbody>\n",
       "    <tr>\n",
       "      <th>0</th>\n",
       "      <td>Syndication</td>\n",
       "      <td>205</td>\n",
       "    </tr>\n",
       "    <tr>\n",
       "      <th>1</th>\n",
       "      <td>Netflix</td>\n",
       "      <td>143</td>\n",
       "    </tr>\n",
       "    <tr>\n",
       "      <th>2</th>\n",
       "      <td>ABC</td>\n",
       "      <td>132</td>\n",
       "    </tr>\n",
       "    <tr>\n",
       "      <th>3</th>\n",
       "      <td>CBS</td>\n",
       "      <td>123</td>\n",
       "    </tr>\n",
       "    <tr>\n",
       "      <th>4</th>\n",
       "      <td>Cartoon Network</td>\n",
       "      <td>116</td>\n",
       "    </tr>\n",
       "  </tbody>\n",
       "</table>\n",
       "</div>"
      ],
      "text/plain": [
       "      Channel Name  count\n",
       "0      Syndication    205\n",
       "1          Netflix    143\n",
       "2              ABC    132\n",
       "3              CBS    123\n",
       "4  Cartoon Network    116"
      ]
     },
     "execution_count": 56,
     "metadata": {},
     "output_type": "execute_result"
    }
   ],
   "source": [
    "\n",
    "top_5_original_channels = df['Original channel'].value_counts().sort_values(ascending = False).head()\n",
    "top_5_original_channels.reset_index().rename(columns = {'index': 'Original channel', 'Original channel': 'Channel Name'})"
   ]
  },
  {
   "cell_type": "code",
   "execution_count": 63,
   "metadata": {},
   "outputs": [
    {
     "data": {
      "application/vnd.plotly.v1+json": {
       "config": {
        "plotlyServerURL": "https://plot.ly"
       },
       "data": [
        {
         "alignmentgroup": "True",
         "hovertemplate": "x=%{x}<br>y=%{y}<extra></extra>",
         "legendgroup": "",
         "marker": {
          "color": "#636efa",
          "pattern": {
           "shape": ""
          }
         },
         "name": "",
         "offsetgroup": "",
         "orientation": "v",
         "showlegend": false,
         "textposition": "auto",
         "type": "bar",
         "x": [
          "Syndication",
          "Netflix",
          "ABC",
          "CBS",
          "Cartoon Network"
         ],
         "xaxis": "x",
         "y": [
          205,
          143,
          132,
          123,
          116
         ],
         "yaxis": "y"
        }
       ],
       "layout": {
        "barmode": "relative",
        "legend": {
         "tracegroupgap": 0
        },
        "margin": {
         "t": 60
        },
        "template": {
         "data": {
          "bar": [
           {
            "error_x": {
             "color": "#2a3f5f"
            },
            "error_y": {
             "color": "#2a3f5f"
            },
            "marker": {
             "line": {
              "color": "#E5ECF6",
              "width": 0.5
             },
             "pattern": {
              "fillmode": "overlay",
              "size": 10,
              "solidity": 0.2
             }
            },
            "type": "bar"
           }
          ],
          "barpolar": [
           {
            "marker": {
             "line": {
              "color": "#E5ECF6",
              "width": 0.5
             },
             "pattern": {
              "fillmode": "overlay",
              "size": 10,
              "solidity": 0.2
             }
            },
            "type": "barpolar"
           }
          ],
          "carpet": [
           {
            "aaxis": {
             "endlinecolor": "#2a3f5f",
             "gridcolor": "white",
             "linecolor": "white",
             "minorgridcolor": "white",
             "startlinecolor": "#2a3f5f"
            },
            "baxis": {
             "endlinecolor": "#2a3f5f",
             "gridcolor": "white",
             "linecolor": "white",
             "minorgridcolor": "white",
             "startlinecolor": "#2a3f5f"
            },
            "type": "carpet"
           }
          ],
          "choropleth": [
           {
            "colorbar": {
             "outlinewidth": 0,
             "ticks": ""
            },
            "type": "choropleth"
           }
          ],
          "contour": [
           {
            "colorbar": {
             "outlinewidth": 0,
             "ticks": ""
            },
            "colorscale": [
             [
              0,
              "#0d0887"
             ],
             [
              0.1111111111111111,
              "#46039f"
             ],
             [
              0.2222222222222222,
              "#7201a8"
             ],
             [
              0.3333333333333333,
              "#9c179e"
             ],
             [
              0.4444444444444444,
              "#bd3786"
             ],
             [
              0.5555555555555556,
              "#d8576b"
             ],
             [
              0.6666666666666666,
              "#ed7953"
             ],
             [
              0.7777777777777778,
              "#fb9f3a"
             ],
             [
              0.8888888888888888,
              "#fdca26"
             ],
             [
              1,
              "#f0f921"
             ]
            ],
            "type": "contour"
           }
          ],
          "contourcarpet": [
           {
            "colorbar": {
             "outlinewidth": 0,
             "ticks": ""
            },
            "type": "contourcarpet"
           }
          ],
          "heatmap": [
           {
            "colorbar": {
             "outlinewidth": 0,
             "ticks": ""
            },
            "colorscale": [
             [
              0,
              "#0d0887"
             ],
             [
              0.1111111111111111,
              "#46039f"
             ],
             [
              0.2222222222222222,
              "#7201a8"
             ],
             [
              0.3333333333333333,
              "#9c179e"
             ],
             [
              0.4444444444444444,
              "#bd3786"
             ],
             [
              0.5555555555555556,
              "#d8576b"
             ],
             [
              0.6666666666666666,
              "#ed7953"
             ],
             [
              0.7777777777777778,
              "#fb9f3a"
             ],
             [
              0.8888888888888888,
              "#fdca26"
             ],
             [
              1,
              "#f0f921"
             ]
            ],
            "type": "heatmap"
           }
          ],
          "heatmapgl": [
           {
            "colorbar": {
             "outlinewidth": 0,
             "ticks": ""
            },
            "colorscale": [
             [
              0,
              "#0d0887"
             ],
             [
              0.1111111111111111,
              "#46039f"
             ],
             [
              0.2222222222222222,
              "#7201a8"
             ],
             [
              0.3333333333333333,
              "#9c179e"
             ],
             [
              0.4444444444444444,
              "#bd3786"
             ],
             [
              0.5555555555555556,
              "#d8576b"
             ],
             [
              0.6666666666666666,
              "#ed7953"
             ],
             [
              0.7777777777777778,
              "#fb9f3a"
             ],
             [
              0.8888888888888888,
              "#fdca26"
             ],
             [
              1,
              "#f0f921"
             ]
            ],
            "type": "heatmapgl"
           }
          ],
          "histogram": [
           {
            "marker": {
             "pattern": {
              "fillmode": "overlay",
              "size": 10,
              "solidity": 0.2
             }
            },
            "type": "histogram"
           }
          ],
          "histogram2d": [
           {
            "colorbar": {
             "outlinewidth": 0,
             "ticks": ""
            },
            "colorscale": [
             [
              0,
              "#0d0887"
             ],
             [
              0.1111111111111111,
              "#46039f"
             ],
             [
              0.2222222222222222,
              "#7201a8"
             ],
             [
              0.3333333333333333,
              "#9c179e"
             ],
             [
              0.4444444444444444,
              "#bd3786"
             ],
             [
              0.5555555555555556,
              "#d8576b"
             ],
             [
              0.6666666666666666,
              "#ed7953"
             ],
             [
              0.7777777777777778,
              "#fb9f3a"
             ],
             [
              0.8888888888888888,
              "#fdca26"
             ],
             [
              1,
              "#f0f921"
             ]
            ],
            "type": "histogram2d"
           }
          ],
          "histogram2dcontour": [
           {
            "colorbar": {
             "outlinewidth": 0,
             "ticks": ""
            },
            "colorscale": [
             [
              0,
              "#0d0887"
             ],
             [
              0.1111111111111111,
              "#46039f"
             ],
             [
              0.2222222222222222,
              "#7201a8"
             ],
             [
              0.3333333333333333,
              "#9c179e"
             ],
             [
              0.4444444444444444,
              "#bd3786"
             ],
             [
              0.5555555555555556,
              "#d8576b"
             ],
             [
              0.6666666666666666,
              "#ed7953"
             ],
             [
              0.7777777777777778,
              "#fb9f3a"
             ],
             [
              0.8888888888888888,
              "#fdca26"
             ],
             [
              1,
              "#f0f921"
             ]
            ],
            "type": "histogram2dcontour"
           }
          ],
          "mesh3d": [
           {
            "colorbar": {
             "outlinewidth": 0,
             "ticks": ""
            },
            "type": "mesh3d"
           }
          ],
          "parcoords": [
           {
            "line": {
             "colorbar": {
              "outlinewidth": 0,
              "ticks": ""
             }
            },
            "type": "parcoords"
           }
          ],
          "pie": [
           {
            "automargin": true,
            "type": "pie"
           }
          ],
          "scatter": [
           {
            "fillpattern": {
             "fillmode": "overlay",
             "size": 10,
             "solidity": 0.2
            },
            "type": "scatter"
           }
          ],
          "scatter3d": [
           {
            "line": {
             "colorbar": {
              "outlinewidth": 0,
              "ticks": ""
             }
            },
            "marker": {
             "colorbar": {
              "outlinewidth": 0,
              "ticks": ""
             }
            },
            "type": "scatter3d"
           }
          ],
          "scattercarpet": [
           {
            "marker": {
             "colorbar": {
              "outlinewidth": 0,
              "ticks": ""
             }
            },
            "type": "scattercarpet"
           }
          ],
          "scattergeo": [
           {
            "marker": {
             "colorbar": {
              "outlinewidth": 0,
              "ticks": ""
             }
            },
            "type": "scattergeo"
           }
          ],
          "scattergl": [
           {
            "marker": {
             "colorbar": {
              "outlinewidth": 0,
              "ticks": ""
             }
            },
            "type": "scattergl"
           }
          ],
          "scattermapbox": [
           {
            "marker": {
             "colorbar": {
              "outlinewidth": 0,
              "ticks": ""
             }
            },
            "type": "scattermapbox"
           }
          ],
          "scatterpolar": [
           {
            "marker": {
             "colorbar": {
              "outlinewidth": 0,
              "ticks": ""
             }
            },
            "type": "scatterpolar"
           }
          ],
          "scatterpolargl": [
           {
            "marker": {
             "colorbar": {
              "outlinewidth": 0,
              "ticks": ""
             }
            },
            "type": "scatterpolargl"
           }
          ],
          "scatterternary": [
           {
            "marker": {
             "colorbar": {
              "outlinewidth": 0,
              "ticks": ""
             }
            },
            "type": "scatterternary"
           }
          ],
          "surface": [
           {
            "colorbar": {
             "outlinewidth": 0,
             "ticks": ""
            },
            "colorscale": [
             [
              0,
              "#0d0887"
             ],
             [
              0.1111111111111111,
              "#46039f"
             ],
             [
              0.2222222222222222,
              "#7201a8"
             ],
             [
              0.3333333333333333,
              "#9c179e"
             ],
             [
              0.4444444444444444,
              "#bd3786"
             ],
             [
              0.5555555555555556,
              "#d8576b"
             ],
             [
              0.6666666666666666,
              "#ed7953"
             ],
             [
              0.7777777777777778,
              "#fb9f3a"
             ],
             [
              0.8888888888888888,
              "#fdca26"
             ],
             [
              1,
              "#f0f921"
             ]
            ],
            "type": "surface"
           }
          ],
          "table": [
           {
            "cells": {
             "fill": {
              "color": "#EBF0F8"
             },
             "line": {
              "color": "white"
             }
            },
            "header": {
             "fill": {
              "color": "#C8D4E3"
             },
             "line": {
              "color": "white"
             }
            },
            "type": "table"
           }
          ]
         },
         "layout": {
          "annotationdefaults": {
           "arrowcolor": "#2a3f5f",
           "arrowhead": 0,
           "arrowwidth": 1
          },
          "autotypenumbers": "strict",
          "coloraxis": {
           "colorbar": {
            "outlinewidth": 0,
            "ticks": ""
           }
          },
          "colorscale": {
           "diverging": [
            [
             0,
             "#8e0152"
            ],
            [
             0.1,
             "#c51b7d"
            ],
            [
             0.2,
             "#de77ae"
            ],
            [
             0.3,
             "#f1b6da"
            ],
            [
             0.4,
             "#fde0ef"
            ],
            [
             0.5,
             "#f7f7f7"
            ],
            [
             0.6,
             "#e6f5d0"
            ],
            [
             0.7,
             "#b8e186"
            ],
            [
             0.8,
             "#7fbc41"
            ],
            [
             0.9,
             "#4d9221"
            ],
            [
             1,
             "#276419"
            ]
           ],
           "sequential": [
            [
             0,
             "#0d0887"
            ],
            [
             0.1111111111111111,
             "#46039f"
            ],
            [
             0.2222222222222222,
             "#7201a8"
            ],
            [
             0.3333333333333333,
             "#9c179e"
            ],
            [
             0.4444444444444444,
             "#bd3786"
            ],
            [
             0.5555555555555556,
             "#d8576b"
            ],
            [
             0.6666666666666666,
             "#ed7953"
            ],
            [
             0.7777777777777778,
             "#fb9f3a"
            ],
            [
             0.8888888888888888,
             "#fdca26"
            ],
            [
             1,
             "#f0f921"
            ]
           ],
           "sequentialminus": [
            [
             0,
             "#0d0887"
            ],
            [
             0.1111111111111111,
             "#46039f"
            ],
            [
             0.2222222222222222,
             "#7201a8"
            ],
            [
             0.3333333333333333,
             "#9c179e"
            ],
            [
             0.4444444444444444,
             "#bd3786"
            ],
            [
             0.5555555555555556,
             "#d8576b"
            ],
            [
             0.6666666666666666,
             "#ed7953"
            ],
            [
             0.7777777777777778,
             "#fb9f3a"
            ],
            [
             0.8888888888888888,
             "#fdca26"
            ],
            [
             1,
             "#f0f921"
            ]
           ]
          },
          "colorway": [
           "#636efa",
           "#EF553B",
           "#00cc96",
           "#ab63fa",
           "#FFA15A",
           "#19d3f3",
           "#FF6692",
           "#B6E880",
           "#FF97FF",
           "#FECB52"
          ],
          "font": {
           "color": "#2a3f5f"
          },
          "geo": {
           "bgcolor": "white",
           "lakecolor": "white",
           "landcolor": "#E5ECF6",
           "showlakes": true,
           "showland": true,
           "subunitcolor": "white"
          },
          "hoverlabel": {
           "align": "left"
          },
          "hovermode": "closest",
          "mapbox": {
           "style": "light"
          },
          "paper_bgcolor": "white",
          "plot_bgcolor": "#E5ECF6",
          "polar": {
           "angularaxis": {
            "gridcolor": "white",
            "linecolor": "white",
            "ticks": ""
           },
           "bgcolor": "#E5ECF6",
           "radialaxis": {
            "gridcolor": "white",
            "linecolor": "white",
            "ticks": ""
           }
          },
          "scene": {
           "xaxis": {
            "backgroundcolor": "#E5ECF6",
            "gridcolor": "white",
            "gridwidth": 2,
            "linecolor": "white",
            "showbackground": true,
            "ticks": "",
            "zerolinecolor": "white"
           },
           "yaxis": {
            "backgroundcolor": "#E5ECF6",
            "gridcolor": "white",
            "gridwidth": 2,
            "linecolor": "white",
            "showbackground": true,
            "ticks": "",
            "zerolinecolor": "white"
           },
           "zaxis": {
            "backgroundcolor": "#E5ECF6",
            "gridcolor": "white",
            "gridwidth": 2,
            "linecolor": "white",
            "showbackground": true,
            "ticks": "",
            "zerolinecolor": "white"
           }
          },
          "shapedefaults": {
           "line": {
            "color": "#2a3f5f"
           }
          },
          "ternary": {
           "aaxis": {
            "gridcolor": "white",
            "linecolor": "white",
            "ticks": ""
           },
           "baxis": {
            "gridcolor": "white",
            "linecolor": "white",
            "ticks": ""
           },
           "bgcolor": "#E5ECF6",
           "caxis": {
            "gridcolor": "white",
            "linecolor": "white",
            "ticks": ""
           }
          },
          "title": {
           "x": 0.05
          },
          "xaxis": {
           "automargin": true,
           "gridcolor": "white",
           "linecolor": "white",
           "ticks": "",
           "title": {
            "standoff": 15
           },
           "zerolinecolor": "white",
           "zerolinewidth": 2
          },
          "yaxis": {
           "automargin": true,
           "gridcolor": "white",
           "linecolor": "white",
           "ticks": "",
           "title": {
            "standoff": 15
           },
           "zerolinecolor": "white",
           "zerolinewidth": 2
          }
         }
        },
        "title": {
         "text": "Top 5 Original Channels"
        },
        "xaxis": {
         "anchor": "y",
         "domain": [
          0,
          1
         ],
         "title": {
          "text": "Channels"
         }
        },
        "yaxis": {
         "anchor": "x",
         "domain": [
          0,
          1
         ],
         "title": {
          "text": "Count"
         }
        }
       }
      }
     },
     "metadata": {},
     "output_type": "display_data"
    }
   ],
   "source": [
    "fig = px.bar(x= top_5_original_channels.index, y = top_5_original_channels.values)\n",
    "fig.update_layout(title = 'Top 5 Original Channels', xaxis_title = 'Channels', yaxis_title = 'Count')\n",
    "fig.show()"
   ]
  },
  {
   "cell_type": "markdown",
   "metadata": {},
   "source": [
    "<center><b>Figure 3.</b>- Top 5 Channels</center>"
   ]
  },
  {
   "cell_type": "markdown",
   "metadata": {},
   "source": [
    "### Q2. Top 5 popular `American production` companies?"
   ]
  },
  {
   "cell_type": "code",
   "execution_count": 59,
   "metadata": {},
   "outputs": [
    {
     "data": {
      "text/html": [
       "<div>\n",
       "<style scoped>\n",
       "    .dataframe tbody tr th:only-of-type {\n",
       "        vertical-align: middle;\n",
       "    }\n",
       "\n",
       "    .dataframe tbody tr th {\n",
       "        vertical-align: top;\n",
       "    }\n",
       "\n",
       "    .dataframe thead th {\n",
       "        text-align: right;\n",
       "    }\n",
       "</style>\n",
       "<table border=\"1\" class=\"dataframe\">\n",
       "  <thead>\n",
       "    <tr style=\"text-align: right;\">\n",
       "      <th></th>\n",
       "      <th>Company Name</th>\n",
       "      <th>count</th>\n",
       "    </tr>\n",
       "  </thead>\n",
       "  <tbody>\n",
       "    <tr>\n",
       "      <th>0</th>\n",
       "      <td>Hanna-Barbera</td>\n",
       "      <td>193</td>\n",
       "    </tr>\n",
       "    <tr>\n",
       "      <th>1</th>\n",
       "      <td>DIC Entertainment</td>\n",
       "      <td>72</td>\n",
       "    </tr>\n",
       "    <tr>\n",
       "      <th>2</th>\n",
       "      <td>Warner Bros. Animation</td>\n",
       "      <td>63</td>\n",
       "    </tr>\n",
       "    <tr>\n",
       "      <th>3</th>\n",
       "      <td>Nickelodeon Animation Studio</td>\n",
       "      <td>61</td>\n",
       "    </tr>\n",
       "    <tr>\n",
       "      <th>4</th>\n",
       "      <td>Cartoon Network Studios</td>\n",
       "      <td>57</td>\n",
       "    </tr>\n",
       "  </tbody>\n",
       "</table>\n",
       "</div>"
      ],
      "text/plain": [
       "                   Company Name  count\n",
       "0                 Hanna-Barbera    193\n",
       "1             DIC Entertainment     72\n",
       "2        Warner Bros. Animation     63\n",
       "3  Nickelodeon Animation Studio     61\n",
       "4       Cartoon Network Studios     57"
      ]
     },
     "execution_count": 59,
     "metadata": {},
     "output_type": "execute_result"
    }
   ],
   "source": [
    "\n",
    "top_5_american_companies = df['American company'].value_counts().sort_values(ascending = False).head()\n",
    "top_5_american_companies.reset_index().rename(columns = {'index': 'American company', 'American company': 'Company Name'})"
   ]
  },
  {
   "cell_type": "code",
   "execution_count": 62,
   "metadata": {},
   "outputs": [
    {
     "data": {
      "application/vnd.plotly.v1+json": {
       "config": {
        "plotlyServerURL": "https://plot.ly"
       },
       "data": [
        {
         "alignmentgroup": "True",
         "hovertemplate": "x=%{x}<br>y=%{y}<extra></extra>",
         "legendgroup": "",
         "marker": {
          "color": "#636efa",
          "pattern": {
           "shape": ""
          }
         },
         "name": "",
         "offsetgroup": "",
         "orientation": "v",
         "showlegend": false,
         "textposition": "auto",
         "type": "bar",
         "x": [
          "Hanna-Barbera",
          "DIC Entertainment",
          "Warner Bros. Animation",
          "Nickelodeon Animation Studio",
          "Cartoon Network Studios"
         ],
         "xaxis": "x",
         "y": [
          193,
          72,
          63,
          61,
          57
         ],
         "yaxis": "y"
        }
       ],
       "layout": {
        "barmode": "relative",
        "legend": {
         "tracegroupgap": 0
        },
        "margin": {
         "t": 60
        },
        "template": {
         "data": {
          "bar": [
           {
            "error_x": {
             "color": "#2a3f5f"
            },
            "error_y": {
             "color": "#2a3f5f"
            },
            "marker": {
             "line": {
              "color": "#E5ECF6",
              "width": 0.5
             },
             "pattern": {
              "fillmode": "overlay",
              "size": 10,
              "solidity": 0.2
             }
            },
            "type": "bar"
           }
          ],
          "barpolar": [
           {
            "marker": {
             "line": {
              "color": "#E5ECF6",
              "width": 0.5
             },
             "pattern": {
              "fillmode": "overlay",
              "size": 10,
              "solidity": 0.2
             }
            },
            "type": "barpolar"
           }
          ],
          "carpet": [
           {
            "aaxis": {
             "endlinecolor": "#2a3f5f",
             "gridcolor": "white",
             "linecolor": "white",
             "minorgridcolor": "white",
             "startlinecolor": "#2a3f5f"
            },
            "baxis": {
             "endlinecolor": "#2a3f5f",
             "gridcolor": "white",
             "linecolor": "white",
             "minorgridcolor": "white",
             "startlinecolor": "#2a3f5f"
            },
            "type": "carpet"
           }
          ],
          "choropleth": [
           {
            "colorbar": {
             "outlinewidth": 0,
             "ticks": ""
            },
            "type": "choropleth"
           }
          ],
          "contour": [
           {
            "colorbar": {
             "outlinewidth": 0,
             "ticks": ""
            },
            "colorscale": [
             [
              0,
              "#0d0887"
             ],
             [
              0.1111111111111111,
              "#46039f"
             ],
             [
              0.2222222222222222,
              "#7201a8"
             ],
             [
              0.3333333333333333,
              "#9c179e"
             ],
             [
              0.4444444444444444,
              "#bd3786"
             ],
             [
              0.5555555555555556,
              "#d8576b"
             ],
             [
              0.6666666666666666,
              "#ed7953"
             ],
             [
              0.7777777777777778,
              "#fb9f3a"
             ],
             [
              0.8888888888888888,
              "#fdca26"
             ],
             [
              1,
              "#f0f921"
             ]
            ],
            "type": "contour"
           }
          ],
          "contourcarpet": [
           {
            "colorbar": {
             "outlinewidth": 0,
             "ticks": ""
            },
            "type": "contourcarpet"
           }
          ],
          "heatmap": [
           {
            "colorbar": {
             "outlinewidth": 0,
             "ticks": ""
            },
            "colorscale": [
             [
              0,
              "#0d0887"
             ],
             [
              0.1111111111111111,
              "#46039f"
             ],
             [
              0.2222222222222222,
              "#7201a8"
             ],
             [
              0.3333333333333333,
              "#9c179e"
             ],
             [
              0.4444444444444444,
              "#bd3786"
             ],
             [
              0.5555555555555556,
              "#d8576b"
             ],
             [
              0.6666666666666666,
              "#ed7953"
             ],
             [
              0.7777777777777778,
              "#fb9f3a"
             ],
             [
              0.8888888888888888,
              "#fdca26"
             ],
             [
              1,
              "#f0f921"
             ]
            ],
            "type": "heatmap"
           }
          ],
          "heatmapgl": [
           {
            "colorbar": {
             "outlinewidth": 0,
             "ticks": ""
            },
            "colorscale": [
             [
              0,
              "#0d0887"
             ],
             [
              0.1111111111111111,
              "#46039f"
             ],
             [
              0.2222222222222222,
              "#7201a8"
             ],
             [
              0.3333333333333333,
              "#9c179e"
             ],
             [
              0.4444444444444444,
              "#bd3786"
             ],
             [
              0.5555555555555556,
              "#d8576b"
             ],
             [
              0.6666666666666666,
              "#ed7953"
             ],
             [
              0.7777777777777778,
              "#fb9f3a"
             ],
             [
              0.8888888888888888,
              "#fdca26"
             ],
             [
              1,
              "#f0f921"
             ]
            ],
            "type": "heatmapgl"
           }
          ],
          "histogram": [
           {
            "marker": {
             "pattern": {
              "fillmode": "overlay",
              "size": 10,
              "solidity": 0.2
             }
            },
            "type": "histogram"
           }
          ],
          "histogram2d": [
           {
            "colorbar": {
             "outlinewidth": 0,
             "ticks": ""
            },
            "colorscale": [
             [
              0,
              "#0d0887"
             ],
             [
              0.1111111111111111,
              "#46039f"
             ],
             [
              0.2222222222222222,
              "#7201a8"
             ],
             [
              0.3333333333333333,
              "#9c179e"
             ],
             [
              0.4444444444444444,
              "#bd3786"
             ],
             [
              0.5555555555555556,
              "#d8576b"
             ],
             [
              0.6666666666666666,
              "#ed7953"
             ],
             [
              0.7777777777777778,
              "#fb9f3a"
             ],
             [
              0.8888888888888888,
              "#fdca26"
             ],
             [
              1,
              "#f0f921"
             ]
            ],
            "type": "histogram2d"
           }
          ],
          "histogram2dcontour": [
           {
            "colorbar": {
             "outlinewidth": 0,
             "ticks": ""
            },
            "colorscale": [
             [
              0,
              "#0d0887"
             ],
             [
              0.1111111111111111,
              "#46039f"
             ],
             [
              0.2222222222222222,
              "#7201a8"
             ],
             [
              0.3333333333333333,
              "#9c179e"
             ],
             [
              0.4444444444444444,
              "#bd3786"
             ],
             [
              0.5555555555555556,
              "#d8576b"
             ],
             [
              0.6666666666666666,
              "#ed7953"
             ],
             [
              0.7777777777777778,
              "#fb9f3a"
             ],
             [
              0.8888888888888888,
              "#fdca26"
             ],
             [
              1,
              "#f0f921"
             ]
            ],
            "type": "histogram2dcontour"
           }
          ],
          "mesh3d": [
           {
            "colorbar": {
             "outlinewidth": 0,
             "ticks": ""
            },
            "type": "mesh3d"
           }
          ],
          "parcoords": [
           {
            "line": {
             "colorbar": {
              "outlinewidth": 0,
              "ticks": ""
             }
            },
            "type": "parcoords"
           }
          ],
          "pie": [
           {
            "automargin": true,
            "type": "pie"
           }
          ],
          "scatter": [
           {
            "fillpattern": {
             "fillmode": "overlay",
             "size": 10,
             "solidity": 0.2
            },
            "type": "scatter"
           }
          ],
          "scatter3d": [
           {
            "line": {
             "colorbar": {
              "outlinewidth": 0,
              "ticks": ""
             }
            },
            "marker": {
             "colorbar": {
              "outlinewidth": 0,
              "ticks": ""
             }
            },
            "type": "scatter3d"
           }
          ],
          "scattercarpet": [
           {
            "marker": {
             "colorbar": {
              "outlinewidth": 0,
              "ticks": ""
             }
            },
            "type": "scattercarpet"
           }
          ],
          "scattergeo": [
           {
            "marker": {
             "colorbar": {
              "outlinewidth": 0,
              "ticks": ""
             }
            },
            "type": "scattergeo"
           }
          ],
          "scattergl": [
           {
            "marker": {
             "colorbar": {
              "outlinewidth": 0,
              "ticks": ""
             }
            },
            "type": "scattergl"
           }
          ],
          "scattermapbox": [
           {
            "marker": {
             "colorbar": {
              "outlinewidth": 0,
              "ticks": ""
             }
            },
            "type": "scattermapbox"
           }
          ],
          "scatterpolar": [
           {
            "marker": {
             "colorbar": {
              "outlinewidth": 0,
              "ticks": ""
             }
            },
            "type": "scatterpolar"
           }
          ],
          "scatterpolargl": [
           {
            "marker": {
             "colorbar": {
              "outlinewidth": 0,
              "ticks": ""
             }
            },
            "type": "scatterpolargl"
           }
          ],
          "scatterternary": [
           {
            "marker": {
             "colorbar": {
              "outlinewidth": 0,
              "ticks": ""
             }
            },
            "type": "scatterternary"
           }
          ],
          "surface": [
           {
            "colorbar": {
             "outlinewidth": 0,
             "ticks": ""
            },
            "colorscale": [
             [
              0,
              "#0d0887"
             ],
             [
              0.1111111111111111,
              "#46039f"
             ],
             [
              0.2222222222222222,
              "#7201a8"
             ],
             [
              0.3333333333333333,
              "#9c179e"
             ],
             [
              0.4444444444444444,
              "#bd3786"
             ],
             [
              0.5555555555555556,
              "#d8576b"
             ],
             [
              0.6666666666666666,
              "#ed7953"
             ],
             [
              0.7777777777777778,
              "#fb9f3a"
             ],
             [
              0.8888888888888888,
              "#fdca26"
             ],
             [
              1,
              "#f0f921"
             ]
            ],
            "type": "surface"
           }
          ],
          "table": [
           {
            "cells": {
             "fill": {
              "color": "#EBF0F8"
             },
             "line": {
              "color": "white"
             }
            },
            "header": {
             "fill": {
              "color": "#C8D4E3"
             },
             "line": {
              "color": "white"
             }
            },
            "type": "table"
           }
          ]
         },
         "layout": {
          "annotationdefaults": {
           "arrowcolor": "#2a3f5f",
           "arrowhead": 0,
           "arrowwidth": 1
          },
          "autotypenumbers": "strict",
          "coloraxis": {
           "colorbar": {
            "outlinewidth": 0,
            "ticks": ""
           }
          },
          "colorscale": {
           "diverging": [
            [
             0,
             "#8e0152"
            ],
            [
             0.1,
             "#c51b7d"
            ],
            [
             0.2,
             "#de77ae"
            ],
            [
             0.3,
             "#f1b6da"
            ],
            [
             0.4,
             "#fde0ef"
            ],
            [
             0.5,
             "#f7f7f7"
            ],
            [
             0.6,
             "#e6f5d0"
            ],
            [
             0.7,
             "#b8e186"
            ],
            [
             0.8,
             "#7fbc41"
            ],
            [
             0.9,
             "#4d9221"
            ],
            [
             1,
             "#276419"
            ]
           ],
           "sequential": [
            [
             0,
             "#0d0887"
            ],
            [
             0.1111111111111111,
             "#46039f"
            ],
            [
             0.2222222222222222,
             "#7201a8"
            ],
            [
             0.3333333333333333,
             "#9c179e"
            ],
            [
             0.4444444444444444,
             "#bd3786"
            ],
            [
             0.5555555555555556,
             "#d8576b"
            ],
            [
             0.6666666666666666,
             "#ed7953"
            ],
            [
             0.7777777777777778,
             "#fb9f3a"
            ],
            [
             0.8888888888888888,
             "#fdca26"
            ],
            [
             1,
             "#f0f921"
            ]
           ],
           "sequentialminus": [
            [
             0,
             "#0d0887"
            ],
            [
             0.1111111111111111,
             "#46039f"
            ],
            [
             0.2222222222222222,
             "#7201a8"
            ],
            [
             0.3333333333333333,
             "#9c179e"
            ],
            [
             0.4444444444444444,
             "#bd3786"
            ],
            [
             0.5555555555555556,
             "#d8576b"
            ],
            [
             0.6666666666666666,
             "#ed7953"
            ],
            [
             0.7777777777777778,
             "#fb9f3a"
            ],
            [
             0.8888888888888888,
             "#fdca26"
            ],
            [
             1,
             "#f0f921"
            ]
           ]
          },
          "colorway": [
           "#636efa",
           "#EF553B",
           "#00cc96",
           "#ab63fa",
           "#FFA15A",
           "#19d3f3",
           "#FF6692",
           "#B6E880",
           "#FF97FF",
           "#FECB52"
          ],
          "font": {
           "color": "#2a3f5f"
          },
          "geo": {
           "bgcolor": "white",
           "lakecolor": "white",
           "landcolor": "#E5ECF6",
           "showlakes": true,
           "showland": true,
           "subunitcolor": "white"
          },
          "hoverlabel": {
           "align": "left"
          },
          "hovermode": "closest",
          "mapbox": {
           "style": "light"
          },
          "paper_bgcolor": "white",
          "plot_bgcolor": "#E5ECF6",
          "polar": {
           "angularaxis": {
            "gridcolor": "white",
            "linecolor": "white",
            "ticks": ""
           },
           "bgcolor": "#E5ECF6",
           "radialaxis": {
            "gridcolor": "white",
            "linecolor": "white",
            "ticks": ""
           }
          },
          "scene": {
           "xaxis": {
            "backgroundcolor": "#E5ECF6",
            "gridcolor": "white",
            "gridwidth": 2,
            "linecolor": "white",
            "showbackground": true,
            "ticks": "",
            "zerolinecolor": "white"
           },
           "yaxis": {
            "backgroundcolor": "#E5ECF6",
            "gridcolor": "white",
            "gridwidth": 2,
            "linecolor": "white",
            "showbackground": true,
            "ticks": "",
            "zerolinecolor": "white"
           },
           "zaxis": {
            "backgroundcolor": "#E5ECF6",
            "gridcolor": "white",
            "gridwidth": 2,
            "linecolor": "white",
            "showbackground": true,
            "ticks": "",
            "zerolinecolor": "white"
           }
          },
          "shapedefaults": {
           "line": {
            "color": "#2a3f5f"
           }
          },
          "ternary": {
           "aaxis": {
            "gridcolor": "white",
            "linecolor": "white",
            "ticks": ""
           },
           "baxis": {
            "gridcolor": "white",
            "linecolor": "white",
            "ticks": ""
           },
           "bgcolor": "#E5ECF6",
           "caxis": {
            "gridcolor": "white",
            "linecolor": "white",
            "ticks": ""
           }
          },
          "title": {
           "x": 0.05
          },
          "xaxis": {
           "automargin": true,
           "gridcolor": "white",
           "linecolor": "white",
           "ticks": "",
           "title": {
            "standoff": 15
           },
           "zerolinecolor": "white",
           "zerolinewidth": 2
          },
          "yaxis": {
           "automargin": true,
           "gridcolor": "white",
           "linecolor": "white",
           "ticks": "",
           "title": {
            "standoff": 15
           },
           "zerolinecolor": "white",
           "zerolinewidth": 2
          }
         }
        },
        "title": {
         "text": "Top 5 American Companies"
        },
        "xaxis": {
         "anchor": "y",
         "domain": [
          0,
          1
         ],
         "title": {
          "text": "Companies"
         }
        },
        "yaxis": {
         "anchor": "x",
         "domain": [
          0,
          1
         ],
         "title": {
          "text": "Count"
         }
        }
       }
      }
     },
     "metadata": {},
     "output_type": "display_data"
    }
   ],
   "source": [
    "\n",
    "fig = px.bar(x = top_5_american_companies.index, y = top_5_american_companies.values)\n",
    "fig.update_layout(title = 'Top 5 American Companies', xaxis_title = 'Companies', yaxis_title = 'Count')\n",
    "fig.show()"
   ]
  },
  {
   "cell_type": "markdown",
   "metadata": {},
   "source": [
    "<center><b>Figure 4.</b>- Top 5 American Companies</center>"
   ]
  },
  {
   "cell_type": "markdown",
   "metadata": {},
   "source": [
    "### Q3. Check the Co-Producers(Note) top companies?"
   ]
  },
  {
   "cell_type": "code",
   "execution_count": 80,
   "metadata": {},
   "outputs": [
    {
     "data": {
      "text/html": [
       "<div>\n",
       "<style scoped>\n",
       "    .dataframe tbody tr th:only-of-type {\n",
       "        vertical-align: middle;\n",
       "    }\n",
       "\n",
       "    .dataframe tbody tr th {\n",
       "        vertical-align: top;\n",
       "    }\n",
       "\n",
       "    .dataframe thead th {\n",
       "        text-align: right;\n",
       "    }\n",
       "</style>\n",
       "<table border=\"1\" class=\"dataframe\">\n",
       "  <thead>\n",
       "    <tr style=\"text-align: right;\">\n",
       "      <th></th>\n",
       "      <th>Company Name</th>\n",
       "      <th>count</th>\n",
       "    </tr>\n",
       "  </thead>\n",
       "  <tbody>\n",
       "    <tr>\n",
       "      <th>0</th>\n",
       "      <td>Canadian co-production</td>\n",
       "      <td>216</td>\n",
       "    </tr>\n",
       "    <tr>\n",
       "      <th>1</th>\n",
       "      <td>French co-production</td>\n",
       "      <td>39</td>\n",
       "    </tr>\n",
       "    <tr>\n",
       "      <th>2</th>\n",
       "      <td>British co-production</td>\n",
       "      <td>38</td>\n",
       "    </tr>\n",
       "    <tr>\n",
       "      <th>3</th>\n",
       "      <td>Japanese co-production</td>\n",
       "      <td>34</td>\n",
       "    </tr>\n",
       "    <tr>\n",
       "      <th>4</th>\n",
       "      <td>Australian co-production</td>\n",
       "      <td>18</td>\n",
       "    </tr>\n",
       "  </tbody>\n",
       "</table>\n",
       "</div>"
      ],
      "text/plain": [
       "               Company Name  count\n",
       "0    Canadian co-production    216\n",
       "1      French co-production     39\n",
       "2     British co-production     38\n",
       "3    Japanese co-production     34\n",
       "4  Australian co-production     18"
      ]
     },
     "execution_count": 80,
     "metadata": {},
     "output_type": "execute_result"
    }
   ],
   "source": [
    "\n",
    "top_5_notes = df['Note'].value_counts().sort_values(ascending = False).head(6)\n",
    "top_5_notes_reset = top_5_notes.drop('Not Available')\n",
    "top_5_notes_reset.reset_index().rename(columns = {'index': 'Note', 'Note': 'Company Name'})"
   ]
  },
  {
   "cell_type": "code",
   "execution_count": 81,
   "metadata": {},
   "outputs": [
    {
     "data": {
      "application/vnd.plotly.v1+json": {
       "config": {
        "plotlyServerURL": "https://plot.ly"
       },
       "data": [
        {
         "alignmentgroup": "True",
         "hovertemplate": "x=%{x}<br>y=%{y}<extra></extra>",
         "legendgroup": "",
         "marker": {
          "color": "#636efa",
          "pattern": {
           "shape": ""
          }
         },
         "name": "",
         "offsetgroup": "",
         "orientation": "v",
         "showlegend": false,
         "textposition": "auto",
         "type": "bar",
         "x": [
          "Canadian co-production",
          "French co-production",
          "British co-production",
          "Japanese co-production",
          "Australian co-production"
         ],
         "xaxis": "x",
         "y": [
          216,
          39,
          38,
          34,
          18
         ],
         "yaxis": "y"
        }
       ],
       "layout": {
        "barmode": "relative",
        "legend": {
         "tracegroupgap": 0
        },
        "margin": {
         "t": 60
        },
        "template": {
         "data": {
          "bar": [
           {
            "error_x": {
             "color": "#2a3f5f"
            },
            "error_y": {
             "color": "#2a3f5f"
            },
            "marker": {
             "line": {
              "color": "#E5ECF6",
              "width": 0.5
             },
             "pattern": {
              "fillmode": "overlay",
              "size": 10,
              "solidity": 0.2
             }
            },
            "type": "bar"
           }
          ],
          "barpolar": [
           {
            "marker": {
             "line": {
              "color": "#E5ECF6",
              "width": 0.5
             },
             "pattern": {
              "fillmode": "overlay",
              "size": 10,
              "solidity": 0.2
             }
            },
            "type": "barpolar"
           }
          ],
          "carpet": [
           {
            "aaxis": {
             "endlinecolor": "#2a3f5f",
             "gridcolor": "white",
             "linecolor": "white",
             "minorgridcolor": "white",
             "startlinecolor": "#2a3f5f"
            },
            "baxis": {
             "endlinecolor": "#2a3f5f",
             "gridcolor": "white",
             "linecolor": "white",
             "minorgridcolor": "white",
             "startlinecolor": "#2a3f5f"
            },
            "type": "carpet"
           }
          ],
          "choropleth": [
           {
            "colorbar": {
             "outlinewidth": 0,
             "ticks": ""
            },
            "type": "choropleth"
           }
          ],
          "contour": [
           {
            "colorbar": {
             "outlinewidth": 0,
             "ticks": ""
            },
            "colorscale": [
             [
              0,
              "#0d0887"
             ],
             [
              0.1111111111111111,
              "#46039f"
             ],
             [
              0.2222222222222222,
              "#7201a8"
             ],
             [
              0.3333333333333333,
              "#9c179e"
             ],
             [
              0.4444444444444444,
              "#bd3786"
             ],
             [
              0.5555555555555556,
              "#d8576b"
             ],
             [
              0.6666666666666666,
              "#ed7953"
             ],
             [
              0.7777777777777778,
              "#fb9f3a"
             ],
             [
              0.8888888888888888,
              "#fdca26"
             ],
             [
              1,
              "#f0f921"
             ]
            ],
            "type": "contour"
           }
          ],
          "contourcarpet": [
           {
            "colorbar": {
             "outlinewidth": 0,
             "ticks": ""
            },
            "type": "contourcarpet"
           }
          ],
          "heatmap": [
           {
            "colorbar": {
             "outlinewidth": 0,
             "ticks": ""
            },
            "colorscale": [
             [
              0,
              "#0d0887"
             ],
             [
              0.1111111111111111,
              "#46039f"
             ],
             [
              0.2222222222222222,
              "#7201a8"
             ],
             [
              0.3333333333333333,
              "#9c179e"
             ],
             [
              0.4444444444444444,
              "#bd3786"
             ],
             [
              0.5555555555555556,
              "#d8576b"
             ],
             [
              0.6666666666666666,
              "#ed7953"
             ],
             [
              0.7777777777777778,
              "#fb9f3a"
             ],
             [
              0.8888888888888888,
              "#fdca26"
             ],
             [
              1,
              "#f0f921"
             ]
            ],
            "type": "heatmap"
           }
          ],
          "heatmapgl": [
           {
            "colorbar": {
             "outlinewidth": 0,
             "ticks": ""
            },
            "colorscale": [
             [
              0,
              "#0d0887"
             ],
             [
              0.1111111111111111,
              "#46039f"
             ],
             [
              0.2222222222222222,
              "#7201a8"
             ],
             [
              0.3333333333333333,
              "#9c179e"
             ],
             [
              0.4444444444444444,
              "#bd3786"
             ],
             [
              0.5555555555555556,
              "#d8576b"
             ],
             [
              0.6666666666666666,
              "#ed7953"
             ],
             [
              0.7777777777777778,
              "#fb9f3a"
             ],
             [
              0.8888888888888888,
              "#fdca26"
             ],
             [
              1,
              "#f0f921"
             ]
            ],
            "type": "heatmapgl"
           }
          ],
          "histogram": [
           {
            "marker": {
             "pattern": {
              "fillmode": "overlay",
              "size": 10,
              "solidity": 0.2
             }
            },
            "type": "histogram"
           }
          ],
          "histogram2d": [
           {
            "colorbar": {
             "outlinewidth": 0,
             "ticks": ""
            },
            "colorscale": [
             [
              0,
              "#0d0887"
             ],
             [
              0.1111111111111111,
              "#46039f"
             ],
             [
              0.2222222222222222,
              "#7201a8"
             ],
             [
              0.3333333333333333,
              "#9c179e"
             ],
             [
              0.4444444444444444,
              "#bd3786"
             ],
             [
              0.5555555555555556,
              "#d8576b"
             ],
             [
              0.6666666666666666,
              "#ed7953"
             ],
             [
              0.7777777777777778,
              "#fb9f3a"
             ],
             [
              0.8888888888888888,
              "#fdca26"
             ],
             [
              1,
              "#f0f921"
             ]
            ],
            "type": "histogram2d"
           }
          ],
          "histogram2dcontour": [
           {
            "colorbar": {
             "outlinewidth": 0,
             "ticks": ""
            },
            "colorscale": [
             [
              0,
              "#0d0887"
             ],
             [
              0.1111111111111111,
              "#46039f"
             ],
             [
              0.2222222222222222,
              "#7201a8"
             ],
             [
              0.3333333333333333,
              "#9c179e"
             ],
             [
              0.4444444444444444,
              "#bd3786"
             ],
             [
              0.5555555555555556,
              "#d8576b"
             ],
             [
              0.6666666666666666,
              "#ed7953"
             ],
             [
              0.7777777777777778,
              "#fb9f3a"
             ],
             [
              0.8888888888888888,
              "#fdca26"
             ],
             [
              1,
              "#f0f921"
             ]
            ],
            "type": "histogram2dcontour"
           }
          ],
          "mesh3d": [
           {
            "colorbar": {
             "outlinewidth": 0,
             "ticks": ""
            },
            "type": "mesh3d"
           }
          ],
          "parcoords": [
           {
            "line": {
             "colorbar": {
              "outlinewidth": 0,
              "ticks": ""
             }
            },
            "type": "parcoords"
           }
          ],
          "pie": [
           {
            "automargin": true,
            "type": "pie"
           }
          ],
          "scatter": [
           {
            "fillpattern": {
             "fillmode": "overlay",
             "size": 10,
             "solidity": 0.2
            },
            "type": "scatter"
           }
          ],
          "scatter3d": [
           {
            "line": {
             "colorbar": {
              "outlinewidth": 0,
              "ticks": ""
             }
            },
            "marker": {
             "colorbar": {
              "outlinewidth": 0,
              "ticks": ""
             }
            },
            "type": "scatter3d"
           }
          ],
          "scattercarpet": [
           {
            "marker": {
             "colorbar": {
              "outlinewidth": 0,
              "ticks": ""
             }
            },
            "type": "scattercarpet"
           }
          ],
          "scattergeo": [
           {
            "marker": {
             "colorbar": {
              "outlinewidth": 0,
              "ticks": ""
             }
            },
            "type": "scattergeo"
           }
          ],
          "scattergl": [
           {
            "marker": {
             "colorbar": {
              "outlinewidth": 0,
              "ticks": ""
             }
            },
            "type": "scattergl"
           }
          ],
          "scattermapbox": [
           {
            "marker": {
             "colorbar": {
              "outlinewidth": 0,
              "ticks": ""
             }
            },
            "type": "scattermapbox"
           }
          ],
          "scatterpolar": [
           {
            "marker": {
             "colorbar": {
              "outlinewidth": 0,
              "ticks": ""
             }
            },
            "type": "scatterpolar"
           }
          ],
          "scatterpolargl": [
           {
            "marker": {
             "colorbar": {
              "outlinewidth": 0,
              "ticks": ""
             }
            },
            "type": "scatterpolargl"
           }
          ],
          "scatterternary": [
           {
            "marker": {
             "colorbar": {
              "outlinewidth": 0,
              "ticks": ""
             }
            },
            "type": "scatterternary"
           }
          ],
          "surface": [
           {
            "colorbar": {
             "outlinewidth": 0,
             "ticks": ""
            },
            "colorscale": [
             [
              0,
              "#0d0887"
             ],
             [
              0.1111111111111111,
              "#46039f"
             ],
             [
              0.2222222222222222,
              "#7201a8"
             ],
             [
              0.3333333333333333,
              "#9c179e"
             ],
             [
              0.4444444444444444,
              "#bd3786"
             ],
             [
              0.5555555555555556,
              "#d8576b"
             ],
             [
              0.6666666666666666,
              "#ed7953"
             ],
             [
              0.7777777777777778,
              "#fb9f3a"
             ],
             [
              0.8888888888888888,
              "#fdca26"
             ],
             [
              1,
              "#f0f921"
             ]
            ],
            "type": "surface"
           }
          ],
          "table": [
           {
            "cells": {
             "fill": {
              "color": "#EBF0F8"
             },
             "line": {
              "color": "white"
             }
            },
            "header": {
             "fill": {
              "color": "#C8D4E3"
             },
             "line": {
              "color": "white"
             }
            },
            "type": "table"
           }
          ]
         },
         "layout": {
          "annotationdefaults": {
           "arrowcolor": "#2a3f5f",
           "arrowhead": 0,
           "arrowwidth": 1
          },
          "autotypenumbers": "strict",
          "coloraxis": {
           "colorbar": {
            "outlinewidth": 0,
            "ticks": ""
           }
          },
          "colorscale": {
           "diverging": [
            [
             0,
             "#8e0152"
            ],
            [
             0.1,
             "#c51b7d"
            ],
            [
             0.2,
             "#de77ae"
            ],
            [
             0.3,
             "#f1b6da"
            ],
            [
             0.4,
             "#fde0ef"
            ],
            [
             0.5,
             "#f7f7f7"
            ],
            [
             0.6,
             "#e6f5d0"
            ],
            [
             0.7,
             "#b8e186"
            ],
            [
             0.8,
             "#7fbc41"
            ],
            [
             0.9,
             "#4d9221"
            ],
            [
             1,
             "#276419"
            ]
           ],
           "sequential": [
            [
             0,
             "#0d0887"
            ],
            [
             0.1111111111111111,
             "#46039f"
            ],
            [
             0.2222222222222222,
             "#7201a8"
            ],
            [
             0.3333333333333333,
             "#9c179e"
            ],
            [
             0.4444444444444444,
             "#bd3786"
            ],
            [
             0.5555555555555556,
             "#d8576b"
            ],
            [
             0.6666666666666666,
             "#ed7953"
            ],
            [
             0.7777777777777778,
             "#fb9f3a"
            ],
            [
             0.8888888888888888,
             "#fdca26"
            ],
            [
             1,
             "#f0f921"
            ]
           ],
           "sequentialminus": [
            [
             0,
             "#0d0887"
            ],
            [
             0.1111111111111111,
             "#46039f"
            ],
            [
             0.2222222222222222,
             "#7201a8"
            ],
            [
             0.3333333333333333,
             "#9c179e"
            ],
            [
             0.4444444444444444,
             "#bd3786"
            ],
            [
             0.5555555555555556,
             "#d8576b"
            ],
            [
             0.6666666666666666,
             "#ed7953"
            ],
            [
             0.7777777777777778,
             "#fb9f3a"
            ],
            [
             0.8888888888888888,
             "#fdca26"
            ],
            [
             1,
             "#f0f921"
            ]
           ]
          },
          "colorway": [
           "#636efa",
           "#EF553B",
           "#00cc96",
           "#ab63fa",
           "#FFA15A",
           "#19d3f3",
           "#FF6692",
           "#B6E880",
           "#FF97FF",
           "#FECB52"
          ],
          "font": {
           "color": "#2a3f5f"
          },
          "geo": {
           "bgcolor": "white",
           "lakecolor": "white",
           "landcolor": "#E5ECF6",
           "showlakes": true,
           "showland": true,
           "subunitcolor": "white"
          },
          "hoverlabel": {
           "align": "left"
          },
          "hovermode": "closest",
          "mapbox": {
           "style": "light"
          },
          "paper_bgcolor": "white",
          "plot_bgcolor": "#E5ECF6",
          "polar": {
           "angularaxis": {
            "gridcolor": "white",
            "linecolor": "white",
            "ticks": ""
           },
           "bgcolor": "#E5ECF6",
           "radialaxis": {
            "gridcolor": "white",
            "linecolor": "white",
            "ticks": ""
           }
          },
          "scene": {
           "xaxis": {
            "backgroundcolor": "#E5ECF6",
            "gridcolor": "white",
            "gridwidth": 2,
            "linecolor": "white",
            "showbackground": true,
            "ticks": "",
            "zerolinecolor": "white"
           },
           "yaxis": {
            "backgroundcolor": "#E5ECF6",
            "gridcolor": "white",
            "gridwidth": 2,
            "linecolor": "white",
            "showbackground": true,
            "ticks": "",
            "zerolinecolor": "white"
           },
           "zaxis": {
            "backgroundcolor": "#E5ECF6",
            "gridcolor": "white",
            "gridwidth": 2,
            "linecolor": "white",
            "showbackground": true,
            "ticks": "",
            "zerolinecolor": "white"
           }
          },
          "shapedefaults": {
           "line": {
            "color": "#2a3f5f"
           }
          },
          "ternary": {
           "aaxis": {
            "gridcolor": "white",
            "linecolor": "white",
            "ticks": ""
           },
           "baxis": {
            "gridcolor": "white",
            "linecolor": "white",
            "ticks": ""
           },
           "bgcolor": "#E5ECF6",
           "caxis": {
            "gridcolor": "white",
            "linecolor": "white",
            "ticks": ""
           }
          },
          "title": {
           "x": 0.05
          },
          "xaxis": {
           "automargin": true,
           "gridcolor": "white",
           "linecolor": "white",
           "ticks": "",
           "title": {
            "standoff": 15
           },
           "zerolinecolor": "white",
           "zerolinewidth": 2
          },
          "yaxis": {
           "automargin": true,
           "gridcolor": "white",
           "linecolor": "white",
           "ticks": "",
           "title": {
            "standoff": 15
           },
           "zerolinecolor": "white",
           "zerolinewidth": 2
          }
         }
        },
        "title": {
         "text": "Top 5 Notes"
        },
        "xaxis": {
         "anchor": "y",
         "domain": [
          0,
          1
         ],
         "title": {
          "text": "Notes"
         }
        },
        "yaxis": {
         "anchor": "x",
         "domain": [
          0,
          1
         ],
         "title": {
          "text": "Count"
         }
        }
       }
      }
     },
     "metadata": {},
     "output_type": "display_data"
    }
   ],
   "source": [
    "\n",
    "fig = px.bar(x = top_5_notes_reset.index, y = top_5_notes_reset.values)\n",
    "fig.update_layout(title = 'Top 5 Notes', xaxis_title = 'Notes', yaxis_title = 'Count')\n",
    "fig.show()"
   ]
  },
  {
   "cell_type": "markdown",
   "metadata": {},
   "source": [
    "<center><b>Figure 5.</b>- Top 5 Co-Producers</center>"
   ]
  },
  {
   "cell_type": "markdown",
   "metadata": {},
   "source": [
    "### Q4. Find out the top `Technique` used in animated series?"
   ]
  },
  {
   "cell_type": "code",
   "execution_count": 83,
   "metadata": {},
   "outputs": [
    {
     "data": {
      "text/html": [
       "<div>\n",
       "<style scoped>\n",
       "    .dataframe tbody tr th:only-of-type {\n",
       "        vertical-align: middle;\n",
       "    }\n",
       "\n",
       "    .dataframe tbody tr th {\n",
       "        vertical-align: top;\n",
       "    }\n",
       "\n",
       "    .dataframe thead th {\n",
       "        text-align: right;\n",
       "    }\n",
       "</style>\n",
       "<table border=\"1\" class=\"dataframe\">\n",
       "  <thead>\n",
       "    <tr style=\"text-align: right;\">\n",
       "      <th></th>\n",
       "      <th>Technique Name</th>\n",
       "      <th>count</th>\n",
       "    </tr>\n",
       "  </thead>\n",
       "  <tbody>\n",
       "    <tr>\n",
       "      <th>0</th>\n",
       "      <td>Traditional</td>\n",
       "      <td>1053</td>\n",
       "    </tr>\n",
       "    <tr>\n",
       "      <th>1</th>\n",
       "      <td>Flash</td>\n",
       "      <td>356</td>\n",
       "    </tr>\n",
       "    <tr>\n",
       "      <th>2</th>\n",
       "      <td>CGI</td>\n",
       "      <td>277</td>\n",
       "    </tr>\n",
       "    <tr>\n",
       "      <th>3</th>\n",
       "      <td>Stop-Motion</td>\n",
       "      <td>31</td>\n",
       "    </tr>\n",
       "    <tr>\n",
       "      <th>4</th>\n",
       "      <td>Traditional/Live-Action</td>\n",
       "      <td>15</td>\n",
       "    </tr>\n",
       "  </tbody>\n",
       "</table>\n",
       "</div>"
      ],
      "text/plain": [
       "            Technique Name  count\n",
       "0              Traditional   1053\n",
       "1                    Flash    356\n",
       "2                      CGI    277\n",
       "3              Stop-Motion     31\n",
       "4  Traditional/Live-Action     15"
      ]
     },
     "execution_count": 83,
     "metadata": {},
     "output_type": "execute_result"
    }
   ],
   "source": [
    "\n",
    "top_5_techniques = df['Technique'].value_counts().sort_values(ascending = False).head()\n",
    "top_5_techniques.reset_index().rename(columns = {'index': 'Technique', 'Technique': 'Technique Name'})"
   ]
  },
  {
   "cell_type": "code",
   "execution_count": 84,
   "metadata": {},
   "outputs": [
    {
     "data": {
      "application/vnd.plotly.v1+json": {
       "config": {
        "plotlyServerURL": "https://plot.ly"
       },
       "data": [
        {
         "alignmentgroup": "True",
         "hovertemplate": "x=%{x}<br>y=%{y}<extra></extra>",
         "legendgroup": "",
         "marker": {
          "color": "#636efa",
          "pattern": {
           "shape": ""
          }
         },
         "name": "",
         "offsetgroup": "",
         "orientation": "v",
         "showlegend": false,
         "textposition": "auto",
         "type": "bar",
         "x": [
          "Traditional",
          "Flash",
          "CGI",
          "Stop-Motion",
          "Traditional/Live-Action"
         ],
         "xaxis": "x",
         "y": [
          1053,
          356,
          277,
          31,
          15
         ],
         "yaxis": "y"
        }
       ],
       "layout": {
        "barmode": "relative",
        "legend": {
         "tracegroupgap": 0
        },
        "margin": {
         "t": 60
        },
        "template": {
         "data": {
          "bar": [
           {
            "error_x": {
             "color": "#2a3f5f"
            },
            "error_y": {
             "color": "#2a3f5f"
            },
            "marker": {
             "line": {
              "color": "#E5ECF6",
              "width": 0.5
             },
             "pattern": {
              "fillmode": "overlay",
              "size": 10,
              "solidity": 0.2
             }
            },
            "type": "bar"
           }
          ],
          "barpolar": [
           {
            "marker": {
             "line": {
              "color": "#E5ECF6",
              "width": 0.5
             },
             "pattern": {
              "fillmode": "overlay",
              "size": 10,
              "solidity": 0.2
             }
            },
            "type": "barpolar"
           }
          ],
          "carpet": [
           {
            "aaxis": {
             "endlinecolor": "#2a3f5f",
             "gridcolor": "white",
             "linecolor": "white",
             "minorgridcolor": "white",
             "startlinecolor": "#2a3f5f"
            },
            "baxis": {
             "endlinecolor": "#2a3f5f",
             "gridcolor": "white",
             "linecolor": "white",
             "minorgridcolor": "white",
             "startlinecolor": "#2a3f5f"
            },
            "type": "carpet"
           }
          ],
          "choropleth": [
           {
            "colorbar": {
             "outlinewidth": 0,
             "ticks": ""
            },
            "type": "choropleth"
           }
          ],
          "contour": [
           {
            "colorbar": {
             "outlinewidth": 0,
             "ticks": ""
            },
            "colorscale": [
             [
              0,
              "#0d0887"
             ],
             [
              0.1111111111111111,
              "#46039f"
             ],
             [
              0.2222222222222222,
              "#7201a8"
             ],
             [
              0.3333333333333333,
              "#9c179e"
             ],
             [
              0.4444444444444444,
              "#bd3786"
             ],
             [
              0.5555555555555556,
              "#d8576b"
             ],
             [
              0.6666666666666666,
              "#ed7953"
             ],
             [
              0.7777777777777778,
              "#fb9f3a"
             ],
             [
              0.8888888888888888,
              "#fdca26"
             ],
             [
              1,
              "#f0f921"
             ]
            ],
            "type": "contour"
           }
          ],
          "contourcarpet": [
           {
            "colorbar": {
             "outlinewidth": 0,
             "ticks": ""
            },
            "type": "contourcarpet"
           }
          ],
          "heatmap": [
           {
            "colorbar": {
             "outlinewidth": 0,
             "ticks": ""
            },
            "colorscale": [
             [
              0,
              "#0d0887"
             ],
             [
              0.1111111111111111,
              "#46039f"
             ],
             [
              0.2222222222222222,
              "#7201a8"
             ],
             [
              0.3333333333333333,
              "#9c179e"
             ],
             [
              0.4444444444444444,
              "#bd3786"
             ],
             [
              0.5555555555555556,
              "#d8576b"
             ],
             [
              0.6666666666666666,
              "#ed7953"
             ],
             [
              0.7777777777777778,
              "#fb9f3a"
             ],
             [
              0.8888888888888888,
              "#fdca26"
             ],
             [
              1,
              "#f0f921"
             ]
            ],
            "type": "heatmap"
           }
          ],
          "heatmapgl": [
           {
            "colorbar": {
             "outlinewidth": 0,
             "ticks": ""
            },
            "colorscale": [
             [
              0,
              "#0d0887"
             ],
             [
              0.1111111111111111,
              "#46039f"
             ],
             [
              0.2222222222222222,
              "#7201a8"
             ],
             [
              0.3333333333333333,
              "#9c179e"
             ],
             [
              0.4444444444444444,
              "#bd3786"
             ],
             [
              0.5555555555555556,
              "#d8576b"
             ],
             [
              0.6666666666666666,
              "#ed7953"
             ],
             [
              0.7777777777777778,
              "#fb9f3a"
             ],
             [
              0.8888888888888888,
              "#fdca26"
             ],
             [
              1,
              "#f0f921"
             ]
            ],
            "type": "heatmapgl"
           }
          ],
          "histogram": [
           {
            "marker": {
             "pattern": {
              "fillmode": "overlay",
              "size": 10,
              "solidity": 0.2
             }
            },
            "type": "histogram"
           }
          ],
          "histogram2d": [
           {
            "colorbar": {
             "outlinewidth": 0,
             "ticks": ""
            },
            "colorscale": [
             [
              0,
              "#0d0887"
             ],
             [
              0.1111111111111111,
              "#46039f"
             ],
             [
              0.2222222222222222,
              "#7201a8"
             ],
             [
              0.3333333333333333,
              "#9c179e"
             ],
             [
              0.4444444444444444,
              "#bd3786"
             ],
             [
              0.5555555555555556,
              "#d8576b"
             ],
             [
              0.6666666666666666,
              "#ed7953"
             ],
             [
              0.7777777777777778,
              "#fb9f3a"
             ],
             [
              0.8888888888888888,
              "#fdca26"
             ],
             [
              1,
              "#f0f921"
             ]
            ],
            "type": "histogram2d"
           }
          ],
          "histogram2dcontour": [
           {
            "colorbar": {
             "outlinewidth": 0,
             "ticks": ""
            },
            "colorscale": [
             [
              0,
              "#0d0887"
             ],
             [
              0.1111111111111111,
              "#46039f"
             ],
             [
              0.2222222222222222,
              "#7201a8"
             ],
             [
              0.3333333333333333,
              "#9c179e"
             ],
             [
              0.4444444444444444,
              "#bd3786"
             ],
             [
              0.5555555555555556,
              "#d8576b"
             ],
             [
              0.6666666666666666,
              "#ed7953"
             ],
             [
              0.7777777777777778,
              "#fb9f3a"
             ],
             [
              0.8888888888888888,
              "#fdca26"
             ],
             [
              1,
              "#f0f921"
             ]
            ],
            "type": "histogram2dcontour"
           }
          ],
          "mesh3d": [
           {
            "colorbar": {
             "outlinewidth": 0,
             "ticks": ""
            },
            "type": "mesh3d"
           }
          ],
          "parcoords": [
           {
            "line": {
             "colorbar": {
              "outlinewidth": 0,
              "ticks": ""
             }
            },
            "type": "parcoords"
           }
          ],
          "pie": [
           {
            "automargin": true,
            "type": "pie"
           }
          ],
          "scatter": [
           {
            "fillpattern": {
             "fillmode": "overlay",
             "size": 10,
             "solidity": 0.2
            },
            "type": "scatter"
           }
          ],
          "scatter3d": [
           {
            "line": {
             "colorbar": {
              "outlinewidth": 0,
              "ticks": ""
             }
            },
            "marker": {
             "colorbar": {
              "outlinewidth": 0,
              "ticks": ""
             }
            },
            "type": "scatter3d"
           }
          ],
          "scattercarpet": [
           {
            "marker": {
             "colorbar": {
              "outlinewidth": 0,
              "ticks": ""
             }
            },
            "type": "scattercarpet"
           }
          ],
          "scattergeo": [
           {
            "marker": {
             "colorbar": {
              "outlinewidth": 0,
              "ticks": ""
             }
            },
            "type": "scattergeo"
           }
          ],
          "scattergl": [
           {
            "marker": {
             "colorbar": {
              "outlinewidth": 0,
              "ticks": ""
             }
            },
            "type": "scattergl"
           }
          ],
          "scattermapbox": [
           {
            "marker": {
             "colorbar": {
              "outlinewidth": 0,
              "ticks": ""
             }
            },
            "type": "scattermapbox"
           }
          ],
          "scatterpolar": [
           {
            "marker": {
             "colorbar": {
              "outlinewidth": 0,
              "ticks": ""
             }
            },
            "type": "scatterpolar"
           }
          ],
          "scatterpolargl": [
           {
            "marker": {
             "colorbar": {
              "outlinewidth": 0,
              "ticks": ""
             }
            },
            "type": "scatterpolargl"
           }
          ],
          "scatterternary": [
           {
            "marker": {
             "colorbar": {
              "outlinewidth": 0,
              "ticks": ""
             }
            },
            "type": "scatterternary"
           }
          ],
          "surface": [
           {
            "colorbar": {
             "outlinewidth": 0,
             "ticks": ""
            },
            "colorscale": [
             [
              0,
              "#0d0887"
             ],
             [
              0.1111111111111111,
              "#46039f"
             ],
             [
              0.2222222222222222,
              "#7201a8"
             ],
             [
              0.3333333333333333,
              "#9c179e"
             ],
             [
              0.4444444444444444,
              "#bd3786"
             ],
             [
              0.5555555555555556,
              "#d8576b"
             ],
             [
              0.6666666666666666,
              "#ed7953"
             ],
             [
              0.7777777777777778,
              "#fb9f3a"
             ],
             [
              0.8888888888888888,
              "#fdca26"
             ],
             [
              1,
              "#f0f921"
             ]
            ],
            "type": "surface"
           }
          ],
          "table": [
           {
            "cells": {
             "fill": {
              "color": "#EBF0F8"
             },
             "line": {
              "color": "white"
             }
            },
            "header": {
             "fill": {
              "color": "#C8D4E3"
             },
             "line": {
              "color": "white"
             }
            },
            "type": "table"
           }
          ]
         },
         "layout": {
          "annotationdefaults": {
           "arrowcolor": "#2a3f5f",
           "arrowhead": 0,
           "arrowwidth": 1
          },
          "autotypenumbers": "strict",
          "coloraxis": {
           "colorbar": {
            "outlinewidth": 0,
            "ticks": ""
           }
          },
          "colorscale": {
           "diverging": [
            [
             0,
             "#8e0152"
            ],
            [
             0.1,
             "#c51b7d"
            ],
            [
             0.2,
             "#de77ae"
            ],
            [
             0.3,
             "#f1b6da"
            ],
            [
             0.4,
             "#fde0ef"
            ],
            [
             0.5,
             "#f7f7f7"
            ],
            [
             0.6,
             "#e6f5d0"
            ],
            [
             0.7,
             "#b8e186"
            ],
            [
             0.8,
             "#7fbc41"
            ],
            [
             0.9,
             "#4d9221"
            ],
            [
             1,
             "#276419"
            ]
           ],
           "sequential": [
            [
             0,
             "#0d0887"
            ],
            [
             0.1111111111111111,
             "#46039f"
            ],
            [
             0.2222222222222222,
             "#7201a8"
            ],
            [
             0.3333333333333333,
             "#9c179e"
            ],
            [
             0.4444444444444444,
             "#bd3786"
            ],
            [
             0.5555555555555556,
             "#d8576b"
            ],
            [
             0.6666666666666666,
             "#ed7953"
            ],
            [
             0.7777777777777778,
             "#fb9f3a"
            ],
            [
             0.8888888888888888,
             "#fdca26"
            ],
            [
             1,
             "#f0f921"
            ]
           ],
           "sequentialminus": [
            [
             0,
             "#0d0887"
            ],
            [
             0.1111111111111111,
             "#46039f"
            ],
            [
             0.2222222222222222,
             "#7201a8"
            ],
            [
             0.3333333333333333,
             "#9c179e"
            ],
            [
             0.4444444444444444,
             "#bd3786"
            ],
            [
             0.5555555555555556,
             "#d8576b"
            ],
            [
             0.6666666666666666,
             "#ed7953"
            ],
            [
             0.7777777777777778,
             "#fb9f3a"
            ],
            [
             0.8888888888888888,
             "#fdca26"
            ],
            [
             1,
             "#f0f921"
            ]
           ]
          },
          "colorway": [
           "#636efa",
           "#EF553B",
           "#00cc96",
           "#ab63fa",
           "#FFA15A",
           "#19d3f3",
           "#FF6692",
           "#B6E880",
           "#FF97FF",
           "#FECB52"
          ],
          "font": {
           "color": "#2a3f5f"
          },
          "geo": {
           "bgcolor": "white",
           "lakecolor": "white",
           "landcolor": "#E5ECF6",
           "showlakes": true,
           "showland": true,
           "subunitcolor": "white"
          },
          "hoverlabel": {
           "align": "left"
          },
          "hovermode": "closest",
          "mapbox": {
           "style": "light"
          },
          "paper_bgcolor": "white",
          "plot_bgcolor": "#E5ECF6",
          "polar": {
           "angularaxis": {
            "gridcolor": "white",
            "linecolor": "white",
            "ticks": ""
           },
           "bgcolor": "#E5ECF6",
           "radialaxis": {
            "gridcolor": "white",
            "linecolor": "white",
            "ticks": ""
           }
          },
          "scene": {
           "xaxis": {
            "backgroundcolor": "#E5ECF6",
            "gridcolor": "white",
            "gridwidth": 2,
            "linecolor": "white",
            "showbackground": true,
            "ticks": "",
            "zerolinecolor": "white"
           },
           "yaxis": {
            "backgroundcolor": "#E5ECF6",
            "gridcolor": "white",
            "gridwidth": 2,
            "linecolor": "white",
            "showbackground": true,
            "ticks": "",
            "zerolinecolor": "white"
           },
           "zaxis": {
            "backgroundcolor": "#E5ECF6",
            "gridcolor": "white",
            "gridwidth": 2,
            "linecolor": "white",
            "showbackground": true,
            "ticks": "",
            "zerolinecolor": "white"
           }
          },
          "shapedefaults": {
           "line": {
            "color": "#2a3f5f"
           }
          },
          "ternary": {
           "aaxis": {
            "gridcolor": "white",
            "linecolor": "white",
            "ticks": ""
           },
           "baxis": {
            "gridcolor": "white",
            "linecolor": "white",
            "ticks": ""
           },
           "bgcolor": "#E5ECF6",
           "caxis": {
            "gridcolor": "white",
            "linecolor": "white",
            "ticks": ""
           }
          },
          "title": {
           "x": 0.05
          },
          "xaxis": {
           "automargin": true,
           "gridcolor": "white",
           "linecolor": "white",
           "ticks": "",
           "title": {
            "standoff": 15
           },
           "zerolinecolor": "white",
           "zerolinewidth": 2
          },
          "yaxis": {
           "automargin": true,
           "gridcolor": "white",
           "linecolor": "white",
           "ticks": "",
           "title": {
            "standoff": 15
           },
           "zerolinecolor": "white",
           "zerolinewidth": 2
          }
         }
        },
        "title": {
         "text": "Top 5 Techniques"
        },
        "xaxis": {
         "anchor": "y",
         "domain": [
          0,
          1
         ],
         "title": {
          "text": "Techniques"
         }
        },
        "yaxis": {
         "anchor": "x",
         "domain": [
          0,
          1
         ],
         "title": {
          "text": "Count"
         }
        }
       }
      }
     },
     "metadata": {},
     "output_type": "display_data"
    }
   ],
   "source": [
    "\n",
    "fig = px.bar(x = top_5_techniques.index, y = top_5_techniques.values)\n",
    "fig.update_layout(title = 'Top 5 Techniques', xaxis_title = 'Techniques', yaxis_title = 'Count')\n",
    "fig.show()"
   ]
  },
  {
   "cell_type": "markdown",
   "metadata": {},
   "source": [
    "<center><b>Figure 6.</b>- Top 5 Technique</center>"
   ]
  },
  {
   "cell_type": "markdown",
   "metadata": {},
   "source": [
    "### Q5. Highest IMDs rating TV Series? "
   ]
  },
  {
   "cell_type": "code",
   "execution_count": 98,
   "metadata": {},
   "outputs": [
    {
     "data": {
      "text/html": [
       "<div>\n",
       "<style scoped>\n",
       "    .dataframe tbody tr th:only-of-type {\n",
       "        vertical-align: middle;\n",
       "    }\n",
       "\n",
       "    .dataframe tbody tr th {\n",
       "        vertical-align: top;\n",
       "    }\n",
       "\n",
       "    .dataframe thead th {\n",
       "        text-align: right;\n",
       "    }\n",
       "</style>\n",
       "<table border=\"1\" class=\"dataframe\">\n",
       "  <thead>\n",
       "    <tr style=\"text-align: right;\">\n",
       "      <th></th>\n",
       "      <th>Title</th>\n",
       "      <th>Rating</th>\n",
       "    </tr>\n",
       "  </thead>\n",
       "  <tbody>\n",
       "    <tr>\n",
       "      <th>0</th>\n",
       "      <td>Avatar: The Last Airbender</td>\n",
       "      <td>9.3</td>\n",
       "    </tr>\n",
       "    <tr>\n",
       "      <th>1</th>\n",
       "      <td>Jelly, Ben, &amp; Pogo</td>\n",
       "      <td>9.3</td>\n",
       "    </tr>\n",
       "    <tr>\n",
       "      <th>2</th>\n",
       "      <td>Rick and Morty</td>\n",
       "      <td>9.1</td>\n",
       "    </tr>\n",
       "    <tr>\n",
       "      <th>3</th>\n",
       "      <td>Office Ladies: The Animated Series</td>\n",
       "      <td>9.1</td>\n",
       "    </tr>\n",
       "    <tr>\n",
       "      <th>4</th>\n",
       "      <td>Arcane</td>\n",
       "      <td>9.0</td>\n",
       "    </tr>\n",
       "  </tbody>\n",
       "</table>\n",
       "</div>"
      ],
      "text/plain": [
       "                                Title  Rating\n",
       "0          Avatar: The Last Airbender     9.3\n",
       "1                  Jelly, Ben, & Pogo     9.3\n",
       "2                      Rick and Morty     9.1\n",
       "3  Office Ladies: The Animated Series     9.1\n",
       "4                              Arcane     9.0"
      ]
     },
     "execution_count": 98,
     "metadata": {},
     "output_type": "execute_result"
    }
   ],
   "source": [
    "\n",
    "title_with_highest_IMDb = df.groupby('Title')['IMDb'].max().sort_values(ascending = False).head()\n",
    "title_with_highest_IMDb.reset_index().rename(columns = {'Index': 'title', 'IMDb': 'Rating'})"
   ]
  },
  {
   "cell_type": "code",
   "execution_count": 107,
   "metadata": {},
   "outputs": [
    {
     "data": {
      "application/vnd.plotly.v1+json": {
       "config": {
        "plotlyServerURL": "https://plot.ly"
       },
       "data": [
        {
         "alignmentgroup": "True",
         "hovertemplate": "x=%{x}<br>y=%{y}<extra></extra>",
         "legendgroup": "",
         "marker": {
          "color": "#636efa",
          "pattern": {
           "shape": ""
          }
         },
         "name": "",
         "offsetgroup": "",
         "orientation": "v",
         "showlegend": false,
         "textposition": "auto",
         "type": "bar",
         "x": [
          "Avatar: The Last Airbender",
          "Jelly, Ben, & Pogo",
          "Rick and Morty",
          "Office Ladies: The Animated Series",
          "Arcane"
         ],
         "xaxis": "x",
         "y": [
          9.3,
          9.3,
          9.1,
          9.1,
          9
         ],
         "yaxis": "y"
        }
       ],
       "layout": {
        "barmode": "relative",
        "legend": {
         "tracegroupgap": 0
        },
        "margin": {
         "t": 60
        },
        "template": {
         "data": {
          "bar": [
           {
            "error_x": {
             "color": "#2a3f5f"
            },
            "error_y": {
             "color": "#2a3f5f"
            },
            "marker": {
             "line": {
              "color": "#E5ECF6",
              "width": 0.5
             },
             "pattern": {
              "fillmode": "overlay",
              "size": 10,
              "solidity": 0.2
             }
            },
            "type": "bar"
           }
          ],
          "barpolar": [
           {
            "marker": {
             "line": {
              "color": "#E5ECF6",
              "width": 0.5
             },
             "pattern": {
              "fillmode": "overlay",
              "size": 10,
              "solidity": 0.2
             }
            },
            "type": "barpolar"
           }
          ],
          "carpet": [
           {
            "aaxis": {
             "endlinecolor": "#2a3f5f",
             "gridcolor": "white",
             "linecolor": "white",
             "minorgridcolor": "white",
             "startlinecolor": "#2a3f5f"
            },
            "baxis": {
             "endlinecolor": "#2a3f5f",
             "gridcolor": "white",
             "linecolor": "white",
             "minorgridcolor": "white",
             "startlinecolor": "#2a3f5f"
            },
            "type": "carpet"
           }
          ],
          "choropleth": [
           {
            "colorbar": {
             "outlinewidth": 0,
             "ticks": ""
            },
            "type": "choropleth"
           }
          ],
          "contour": [
           {
            "colorbar": {
             "outlinewidth": 0,
             "ticks": ""
            },
            "colorscale": [
             [
              0,
              "#0d0887"
             ],
             [
              0.1111111111111111,
              "#46039f"
             ],
             [
              0.2222222222222222,
              "#7201a8"
             ],
             [
              0.3333333333333333,
              "#9c179e"
             ],
             [
              0.4444444444444444,
              "#bd3786"
             ],
             [
              0.5555555555555556,
              "#d8576b"
             ],
             [
              0.6666666666666666,
              "#ed7953"
             ],
             [
              0.7777777777777778,
              "#fb9f3a"
             ],
             [
              0.8888888888888888,
              "#fdca26"
             ],
             [
              1,
              "#f0f921"
             ]
            ],
            "type": "contour"
           }
          ],
          "contourcarpet": [
           {
            "colorbar": {
             "outlinewidth": 0,
             "ticks": ""
            },
            "type": "contourcarpet"
           }
          ],
          "heatmap": [
           {
            "colorbar": {
             "outlinewidth": 0,
             "ticks": ""
            },
            "colorscale": [
             [
              0,
              "#0d0887"
             ],
             [
              0.1111111111111111,
              "#46039f"
             ],
             [
              0.2222222222222222,
              "#7201a8"
             ],
             [
              0.3333333333333333,
              "#9c179e"
             ],
             [
              0.4444444444444444,
              "#bd3786"
             ],
             [
              0.5555555555555556,
              "#d8576b"
             ],
             [
              0.6666666666666666,
              "#ed7953"
             ],
             [
              0.7777777777777778,
              "#fb9f3a"
             ],
             [
              0.8888888888888888,
              "#fdca26"
             ],
             [
              1,
              "#f0f921"
             ]
            ],
            "type": "heatmap"
           }
          ],
          "heatmapgl": [
           {
            "colorbar": {
             "outlinewidth": 0,
             "ticks": ""
            },
            "colorscale": [
             [
              0,
              "#0d0887"
             ],
             [
              0.1111111111111111,
              "#46039f"
             ],
             [
              0.2222222222222222,
              "#7201a8"
             ],
             [
              0.3333333333333333,
              "#9c179e"
             ],
             [
              0.4444444444444444,
              "#bd3786"
             ],
             [
              0.5555555555555556,
              "#d8576b"
             ],
             [
              0.6666666666666666,
              "#ed7953"
             ],
             [
              0.7777777777777778,
              "#fb9f3a"
             ],
             [
              0.8888888888888888,
              "#fdca26"
             ],
             [
              1,
              "#f0f921"
             ]
            ],
            "type": "heatmapgl"
           }
          ],
          "histogram": [
           {
            "marker": {
             "pattern": {
              "fillmode": "overlay",
              "size": 10,
              "solidity": 0.2
             }
            },
            "type": "histogram"
           }
          ],
          "histogram2d": [
           {
            "colorbar": {
             "outlinewidth": 0,
             "ticks": ""
            },
            "colorscale": [
             [
              0,
              "#0d0887"
             ],
             [
              0.1111111111111111,
              "#46039f"
             ],
             [
              0.2222222222222222,
              "#7201a8"
             ],
             [
              0.3333333333333333,
              "#9c179e"
             ],
             [
              0.4444444444444444,
              "#bd3786"
             ],
             [
              0.5555555555555556,
              "#d8576b"
             ],
             [
              0.6666666666666666,
              "#ed7953"
             ],
             [
              0.7777777777777778,
              "#fb9f3a"
             ],
             [
              0.8888888888888888,
              "#fdca26"
             ],
             [
              1,
              "#f0f921"
             ]
            ],
            "type": "histogram2d"
           }
          ],
          "histogram2dcontour": [
           {
            "colorbar": {
             "outlinewidth": 0,
             "ticks": ""
            },
            "colorscale": [
             [
              0,
              "#0d0887"
             ],
             [
              0.1111111111111111,
              "#46039f"
             ],
             [
              0.2222222222222222,
              "#7201a8"
             ],
             [
              0.3333333333333333,
              "#9c179e"
             ],
             [
              0.4444444444444444,
              "#bd3786"
             ],
             [
              0.5555555555555556,
              "#d8576b"
             ],
             [
              0.6666666666666666,
              "#ed7953"
             ],
             [
              0.7777777777777778,
              "#fb9f3a"
             ],
             [
              0.8888888888888888,
              "#fdca26"
             ],
             [
              1,
              "#f0f921"
             ]
            ],
            "type": "histogram2dcontour"
           }
          ],
          "mesh3d": [
           {
            "colorbar": {
             "outlinewidth": 0,
             "ticks": ""
            },
            "type": "mesh3d"
           }
          ],
          "parcoords": [
           {
            "line": {
             "colorbar": {
              "outlinewidth": 0,
              "ticks": ""
             }
            },
            "type": "parcoords"
           }
          ],
          "pie": [
           {
            "automargin": true,
            "type": "pie"
           }
          ],
          "scatter": [
           {
            "fillpattern": {
             "fillmode": "overlay",
             "size": 10,
             "solidity": 0.2
            },
            "type": "scatter"
           }
          ],
          "scatter3d": [
           {
            "line": {
             "colorbar": {
              "outlinewidth": 0,
              "ticks": ""
             }
            },
            "marker": {
             "colorbar": {
              "outlinewidth": 0,
              "ticks": ""
             }
            },
            "type": "scatter3d"
           }
          ],
          "scattercarpet": [
           {
            "marker": {
             "colorbar": {
              "outlinewidth": 0,
              "ticks": ""
             }
            },
            "type": "scattercarpet"
           }
          ],
          "scattergeo": [
           {
            "marker": {
             "colorbar": {
              "outlinewidth": 0,
              "ticks": ""
             }
            },
            "type": "scattergeo"
           }
          ],
          "scattergl": [
           {
            "marker": {
             "colorbar": {
              "outlinewidth": 0,
              "ticks": ""
             }
            },
            "type": "scattergl"
           }
          ],
          "scattermapbox": [
           {
            "marker": {
             "colorbar": {
              "outlinewidth": 0,
              "ticks": ""
             }
            },
            "type": "scattermapbox"
           }
          ],
          "scatterpolar": [
           {
            "marker": {
             "colorbar": {
              "outlinewidth": 0,
              "ticks": ""
             }
            },
            "type": "scatterpolar"
           }
          ],
          "scatterpolargl": [
           {
            "marker": {
             "colorbar": {
              "outlinewidth": 0,
              "ticks": ""
             }
            },
            "type": "scatterpolargl"
           }
          ],
          "scatterternary": [
           {
            "marker": {
             "colorbar": {
              "outlinewidth": 0,
              "ticks": ""
             }
            },
            "type": "scatterternary"
           }
          ],
          "surface": [
           {
            "colorbar": {
             "outlinewidth": 0,
             "ticks": ""
            },
            "colorscale": [
             [
              0,
              "#0d0887"
             ],
             [
              0.1111111111111111,
              "#46039f"
             ],
             [
              0.2222222222222222,
              "#7201a8"
             ],
             [
              0.3333333333333333,
              "#9c179e"
             ],
             [
              0.4444444444444444,
              "#bd3786"
             ],
             [
              0.5555555555555556,
              "#d8576b"
             ],
             [
              0.6666666666666666,
              "#ed7953"
             ],
             [
              0.7777777777777778,
              "#fb9f3a"
             ],
             [
              0.8888888888888888,
              "#fdca26"
             ],
             [
              1,
              "#f0f921"
             ]
            ],
            "type": "surface"
           }
          ],
          "table": [
           {
            "cells": {
             "fill": {
              "color": "#EBF0F8"
             },
             "line": {
              "color": "white"
             }
            },
            "header": {
             "fill": {
              "color": "#C8D4E3"
             },
             "line": {
              "color": "white"
             }
            },
            "type": "table"
           }
          ]
         },
         "layout": {
          "annotationdefaults": {
           "arrowcolor": "#2a3f5f",
           "arrowhead": 0,
           "arrowwidth": 1
          },
          "autotypenumbers": "strict",
          "coloraxis": {
           "colorbar": {
            "outlinewidth": 0,
            "ticks": ""
           }
          },
          "colorscale": {
           "diverging": [
            [
             0,
             "#8e0152"
            ],
            [
             0.1,
             "#c51b7d"
            ],
            [
             0.2,
             "#de77ae"
            ],
            [
             0.3,
             "#f1b6da"
            ],
            [
             0.4,
             "#fde0ef"
            ],
            [
             0.5,
             "#f7f7f7"
            ],
            [
             0.6,
             "#e6f5d0"
            ],
            [
             0.7,
             "#b8e186"
            ],
            [
             0.8,
             "#7fbc41"
            ],
            [
             0.9,
             "#4d9221"
            ],
            [
             1,
             "#276419"
            ]
           ],
           "sequential": [
            [
             0,
             "#0d0887"
            ],
            [
             0.1111111111111111,
             "#46039f"
            ],
            [
             0.2222222222222222,
             "#7201a8"
            ],
            [
             0.3333333333333333,
             "#9c179e"
            ],
            [
             0.4444444444444444,
             "#bd3786"
            ],
            [
             0.5555555555555556,
             "#d8576b"
            ],
            [
             0.6666666666666666,
             "#ed7953"
            ],
            [
             0.7777777777777778,
             "#fb9f3a"
            ],
            [
             0.8888888888888888,
             "#fdca26"
            ],
            [
             1,
             "#f0f921"
            ]
           ],
           "sequentialminus": [
            [
             0,
             "#0d0887"
            ],
            [
             0.1111111111111111,
             "#46039f"
            ],
            [
             0.2222222222222222,
             "#7201a8"
            ],
            [
             0.3333333333333333,
             "#9c179e"
            ],
            [
             0.4444444444444444,
             "#bd3786"
            ],
            [
             0.5555555555555556,
             "#d8576b"
            ],
            [
             0.6666666666666666,
             "#ed7953"
            ],
            [
             0.7777777777777778,
             "#fb9f3a"
            ],
            [
             0.8888888888888888,
             "#fdca26"
            ],
            [
             1,
             "#f0f921"
            ]
           ]
          },
          "colorway": [
           "#636efa",
           "#EF553B",
           "#00cc96",
           "#ab63fa",
           "#FFA15A",
           "#19d3f3",
           "#FF6692",
           "#B6E880",
           "#FF97FF",
           "#FECB52"
          ],
          "font": {
           "color": "#2a3f5f"
          },
          "geo": {
           "bgcolor": "white",
           "lakecolor": "white",
           "landcolor": "#E5ECF6",
           "showlakes": true,
           "showland": true,
           "subunitcolor": "white"
          },
          "hoverlabel": {
           "align": "left"
          },
          "hovermode": "closest",
          "mapbox": {
           "style": "light"
          },
          "paper_bgcolor": "white",
          "plot_bgcolor": "#E5ECF6",
          "polar": {
           "angularaxis": {
            "gridcolor": "white",
            "linecolor": "white",
            "ticks": ""
           },
           "bgcolor": "#E5ECF6",
           "radialaxis": {
            "gridcolor": "white",
            "linecolor": "white",
            "ticks": ""
           }
          },
          "scene": {
           "xaxis": {
            "backgroundcolor": "#E5ECF6",
            "gridcolor": "white",
            "gridwidth": 2,
            "linecolor": "white",
            "showbackground": true,
            "ticks": "",
            "zerolinecolor": "white"
           },
           "yaxis": {
            "backgroundcolor": "#E5ECF6",
            "gridcolor": "white",
            "gridwidth": 2,
            "linecolor": "white",
            "showbackground": true,
            "ticks": "",
            "zerolinecolor": "white"
           },
           "zaxis": {
            "backgroundcolor": "#E5ECF6",
            "gridcolor": "white",
            "gridwidth": 2,
            "linecolor": "white",
            "showbackground": true,
            "ticks": "",
            "zerolinecolor": "white"
           }
          },
          "shapedefaults": {
           "line": {
            "color": "#2a3f5f"
           }
          },
          "ternary": {
           "aaxis": {
            "gridcolor": "white",
            "linecolor": "white",
            "ticks": ""
           },
           "baxis": {
            "gridcolor": "white",
            "linecolor": "white",
            "ticks": ""
           },
           "bgcolor": "#E5ECF6",
           "caxis": {
            "gridcolor": "white",
            "linecolor": "white",
            "ticks": ""
           }
          },
          "title": {
           "x": 0.05
          },
          "xaxis": {
           "automargin": true,
           "gridcolor": "white",
           "linecolor": "white",
           "ticks": "",
           "title": {
            "standoff": 15
           },
           "zerolinecolor": "white",
           "zerolinewidth": 2
          },
          "yaxis": {
           "automargin": true,
           "gridcolor": "white",
           "linecolor": "white",
           "ticks": "",
           "title": {
            "standoff": 15
           },
           "zerolinecolor": "white",
           "zerolinewidth": 2
          }
         }
        },
        "title": {
         "text": "Title with Highest IMDb Rating"
        },
        "xaxis": {
         "anchor": "y",
         "domain": [
          0,
          1
         ],
         "title": {
          "text": "TV Series"
         }
        },
        "yaxis": {
         "anchor": "x",
         "domain": [
          0,
          1
         ],
         "title": {
          "text": "Rating"
         }
        }
       }
      }
     },
     "metadata": {},
     "output_type": "display_data"
    }
   ],
   "source": [
    "\n",
    "fig = px.bar(x = title_with_highest_IMDb.index, y = title_with_highest_IMDb.values)\n",
    "fig.update_layout(title = 'Title with Highest IMDb Rating', xaxis_title = 'TV Series', yaxis_title = 'Rating')\n",
    "fig.show()"
   ]
  },
  {
   "cell_type": "markdown",
   "metadata": {},
   "source": [
    "<center><b>Figure 7.</b>- High Rating TV Shows</center>"
   ]
  },
  {
   "cell_type": "markdown",
   "metadata": {},
   "source": [
    "### Q6. TV Series with highest google users likes?"
   ]
  },
  {
   "cell_type": "code",
   "execution_count": 101,
   "metadata": {},
   "outputs": [
    {
     "data": {
      "text/html": [
       "<div>\n",
       "<style scoped>\n",
       "    .dataframe tbody tr th:only-of-type {\n",
       "        vertical-align: middle;\n",
       "    }\n",
       "\n",
       "    .dataframe tbody tr th {\n",
       "        vertical-align: top;\n",
       "    }\n",
       "\n",
       "    .dataframe thead th {\n",
       "        text-align: right;\n",
       "    }\n",
       "</style>\n",
       "<table border=\"1\" class=\"dataframe\">\n",
       "  <thead>\n",
       "    <tr style=\"text-align: right;\">\n",
       "      <th></th>\n",
       "      <th>Title</th>\n",
       "      <th>Likes</th>\n",
       "    </tr>\n",
       "  </thead>\n",
       "  <tbody>\n",
       "    <tr>\n",
       "      <th>0</th>\n",
       "      <td>The Wonderful Stories of Professor Kitzel</td>\n",
       "      <td>100.0</td>\n",
       "    </tr>\n",
       "    <tr>\n",
       "      <th>1</th>\n",
       "      <td>Bee and PuppyCat: Lazy in Space</td>\n",
       "      <td>98.0</td>\n",
       "    </tr>\n",
       "    <tr>\n",
       "      <th>2</th>\n",
       "      <td>Epithet Erased</td>\n",
       "      <td>98.0</td>\n",
       "    </tr>\n",
       "    <tr>\n",
       "      <th>3</th>\n",
       "      <td>Mina and the Count</td>\n",
       "      <td>98.0</td>\n",
       "    </tr>\n",
       "    <tr>\n",
       "      <th>4</th>\n",
       "      <td>Braingames</td>\n",
       "      <td>98.0</td>\n",
       "    </tr>\n",
       "  </tbody>\n",
       "</table>\n",
       "</div>"
      ],
      "text/plain": [
       "                                       Title  Likes\n",
       "0  The Wonderful Stories of Professor Kitzel  100.0\n",
       "1            Bee and PuppyCat: Lazy in Space   98.0\n",
       "2                             Epithet Erased   98.0\n",
       "3                         Mina and the Count   98.0\n",
       "4                                 Braingames   98.0"
      ]
     },
     "execution_count": 101,
     "metadata": {},
     "output_type": "execute_result"
    }
   ],
   "source": [
    "title_with_highest_google_users = df.groupby('Title')['Google users'].max().sort_values(ascending = False).head()\n",
    "title_with_highest_google_users.reset_index().rename(columns = {'Index': 'title', 'Google users': 'Likes'})"
   ]
  },
  {
   "cell_type": "code",
   "execution_count": null,
   "metadata": {},
   "outputs": [],
   "source": []
  },
  {
   "cell_type": "code",
   "execution_count": 106,
   "metadata": {},
   "outputs": [
    {
     "data": {
      "application/vnd.plotly.v1+json": {
       "config": {
        "plotlyServerURL": "https://plot.ly"
       },
       "data": [
        {
         "alignmentgroup": "True",
         "hovertemplate": "x=%{x}<br>y=%{y}<extra></extra>",
         "legendgroup": "",
         "marker": {
          "color": "#636efa",
          "pattern": {
           "shape": ""
          }
         },
         "name": "",
         "offsetgroup": "",
         "orientation": "v",
         "showlegend": false,
         "textposition": "auto",
         "type": "bar",
         "x": [
          "The Wonderful Stories of Professor Kitzel",
          "Bee and PuppyCat: Lazy in Space",
          "Epithet Erased",
          "Mina and the Count",
          "Braingames"
         ],
         "xaxis": "x",
         "y": [
          100,
          98,
          98,
          98,
          98
         ],
         "yaxis": "y"
        }
       ],
       "layout": {
        "barmode": "relative",
        "legend": {
         "tracegroupgap": 0
        },
        "margin": {
         "t": 60
        },
        "template": {
         "data": {
          "bar": [
           {
            "error_x": {
             "color": "#2a3f5f"
            },
            "error_y": {
             "color": "#2a3f5f"
            },
            "marker": {
             "line": {
              "color": "#E5ECF6",
              "width": 0.5
             },
             "pattern": {
              "fillmode": "overlay",
              "size": 10,
              "solidity": 0.2
             }
            },
            "type": "bar"
           }
          ],
          "barpolar": [
           {
            "marker": {
             "line": {
              "color": "#E5ECF6",
              "width": 0.5
             },
             "pattern": {
              "fillmode": "overlay",
              "size": 10,
              "solidity": 0.2
             }
            },
            "type": "barpolar"
           }
          ],
          "carpet": [
           {
            "aaxis": {
             "endlinecolor": "#2a3f5f",
             "gridcolor": "white",
             "linecolor": "white",
             "minorgridcolor": "white",
             "startlinecolor": "#2a3f5f"
            },
            "baxis": {
             "endlinecolor": "#2a3f5f",
             "gridcolor": "white",
             "linecolor": "white",
             "minorgridcolor": "white",
             "startlinecolor": "#2a3f5f"
            },
            "type": "carpet"
           }
          ],
          "choropleth": [
           {
            "colorbar": {
             "outlinewidth": 0,
             "ticks": ""
            },
            "type": "choropleth"
           }
          ],
          "contour": [
           {
            "colorbar": {
             "outlinewidth": 0,
             "ticks": ""
            },
            "colorscale": [
             [
              0,
              "#0d0887"
             ],
             [
              0.1111111111111111,
              "#46039f"
             ],
             [
              0.2222222222222222,
              "#7201a8"
             ],
             [
              0.3333333333333333,
              "#9c179e"
             ],
             [
              0.4444444444444444,
              "#bd3786"
             ],
             [
              0.5555555555555556,
              "#d8576b"
             ],
             [
              0.6666666666666666,
              "#ed7953"
             ],
             [
              0.7777777777777778,
              "#fb9f3a"
             ],
             [
              0.8888888888888888,
              "#fdca26"
             ],
             [
              1,
              "#f0f921"
             ]
            ],
            "type": "contour"
           }
          ],
          "contourcarpet": [
           {
            "colorbar": {
             "outlinewidth": 0,
             "ticks": ""
            },
            "type": "contourcarpet"
           }
          ],
          "heatmap": [
           {
            "colorbar": {
             "outlinewidth": 0,
             "ticks": ""
            },
            "colorscale": [
             [
              0,
              "#0d0887"
             ],
             [
              0.1111111111111111,
              "#46039f"
             ],
             [
              0.2222222222222222,
              "#7201a8"
             ],
             [
              0.3333333333333333,
              "#9c179e"
             ],
             [
              0.4444444444444444,
              "#bd3786"
             ],
             [
              0.5555555555555556,
              "#d8576b"
             ],
             [
              0.6666666666666666,
              "#ed7953"
             ],
             [
              0.7777777777777778,
              "#fb9f3a"
             ],
             [
              0.8888888888888888,
              "#fdca26"
             ],
             [
              1,
              "#f0f921"
             ]
            ],
            "type": "heatmap"
           }
          ],
          "heatmapgl": [
           {
            "colorbar": {
             "outlinewidth": 0,
             "ticks": ""
            },
            "colorscale": [
             [
              0,
              "#0d0887"
             ],
             [
              0.1111111111111111,
              "#46039f"
             ],
             [
              0.2222222222222222,
              "#7201a8"
             ],
             [
              0.3333333333333333,
              "#9c179e"
             ],
             [
              0.4444444444444444,
              "#bd3786"
             ],
             [
              0.5555555555555556,
              "#d8576b"
             ],
             [
              0.6666666666666666,
              "#ed7953"
             ],
             [
              0.7777777777777778,
              "#fb9f3a"
             ],
             [
              0.8888888888888888,
              "#fdca26"
             ],
             [
              1,
              "#f0f921"
             ]
            ],
            "type": "heatmapgl"
           }
          ],
          "histogram": [
           {
            "marker": {
             "pattern": {
              "fillmode": "overlay",
              "size": 10,
              "solidity": 0.2
             }
            },
            "type": "histogram"
           }
          ],
          "histogram2d": [
           {
            "colorbar": {
             "outlinewidth": 0,
             "ticks": ""
            },
            "colorscale": [
             [
              0,
              "#0d0887"
             ],
             [
              0.1111111111111111,
              "#46039f"
             ],
             [
              0.2222222222222222,
              "#7201a8"
             ],
             [
              0.3333333333333333,
              "#9c179e"
             ],
             [
              0.4444444444444444,
              "#bd3786"
             ],
             [
              0.5555555555555556,
              "#d8576b"
             ],
             [
              0.6666666666666666,
              "#ed7953"
             ],
             [
              0.7777777777777778,
              "#fb9f3a"
             ],
             [
              0.8888888888888888,
              "#fdca26"
             ],
             [
              1,
              "#f0f921"
             ]
            ],
            "type": "histogram2d"
           }
          ],
          "histogram2dcontour": [
           {
            "colorbar": {
             "outlinewidth": 0,
             "ticks": ""
            },
            "colorscale": [
             [
              0,
              "#0d0887"
             ],
             [
              0.1111111111111111,
              "#46039f"
             ],
             [
              0.2222222222222222,
              "#7201a8"
             ],
             [
              0.3333333333333333,
              "#9c179e"
             ],
             [
              0.4444444444444444,
              "#bd3786"
             ],
             [
              0.5555555555555556,
              "#d8576b"
             ],
             [
              0.6666666666666666,
              "#ed7953"
             ],
             [
              0.7777777777777778,
              "#fb9f3a"
             ],
             [
              0.8888888888888888,
              "#fdca26"
             ],
             [
              1,
              "#f0f921"
             ]
            ],
            "type": "histogram2dcontour"
           }
          ],
          "mesh3d": [
           {
            "colorbar": {
             "outlinewidth": 0,
             "ticks": ""
            },
            "type": "mesh3d"
           }
          ],
          "parcoords": [
           {
            "line": {
             "colorbar": {
              "outlinewidth": 0,
              "ticks": ""
             }
            },
            "type": "parcoords"
           }
          ],
          "pie": [
           {
            "automargin": true,
            "type": "pie"
           }
          ],
          "scatter": [
           {
            "fillpattern": {
             "fillmode": "overlay",
             "size": 10,
             "solidity": 0.2
            },
            "type": "scatter"
           }
          ],
          "scatter3d": [
           {
            "line": {
             "colorbar": {
              "outlinewidth": 0,
              "ticks": ""
             }
            },
            "marker": {
             "colorbar": {
              "outlinewidth": 0,
              "ticks": ""
             }
            },
            "type": "scatter3d"
           }
          ],
          "scattercarpet": [
           {
            "marker": {
             "colorbar": {
              "outlinewidth": 0,
              "ticks": ""
             }
            },
            "type": "scattercarpet"
           }
          ],
          "scattergeo": [
           {
            "marker": {
             "colorbar": {
              "outlinewidth": 0,
              "ticks": ""
             }
            },
            "type": "scattergeo"
           }
          ],
          "scattergl": [
           {
            "marker": {
             "colorbar": {
              "outlinewidth": 0,
              "ticks": ""
             }
            },
            "type": "scattergl"
           }
          ],
          "scattermapbox": [
           {
            "marker": {
             "colorbar": {
              "outlinewidth": 0,
              "ticks": ""
             }
            },
            "type": "scattermapbox"
           }
          ],
          "scatterpolar": [
           {
            "marker": {
             "colorbar": {
              "outlinewidth": 0,
              "ticks": ""
             }
            },
            "type": "scatterpolar"
           }
          ],
          "scatterpolargl": [
           {
            "marker": {
             "colorbar": {
              "outlinewidth": 0,
              "ticks": ""
             }
            },
            "type": "scatterpolargl"
           }
          ],
          "scatterternary": [
           {
            "marker": {
             "colorbar": {
              "outlinewidth": 0,
              "ticks": ""
             }
            },
            "type": "scatterternary"
           }
          ],
          "surface": [
           {
            "colorbar": {
             "outlinewidth": 0,
             "ticks": ""
            },
            "colorscale": [
             [
              0,
              "#0d0887"
             ],
             [
              0.1111111111111111,
              "#46039f"
             ],
             [
              0.2222222222222222,
              "#7201a8"
             ],
             [
              0.3333333333333333,
              "#9c179e"
             ],
             [
              0.4444444444444444,
              "#bd3786"
             ],
             [
              0.5555555555555556,
              "#d8576b"
             ],
             [
              0.6666666666666666,
              "#ed7953"
             ],
             [
              0.7777777777777778,
              "#fb9f3a"
             ],
             [
              0.8888888888888888,
              "#fdca26"
             ],
             [
              1,
              "#f0f921"
             ]
            ],
            "type": "surface"
           }
          ],
          "table": [
           {
            "cells": {
             "fill": {
              "color": "#EBF0F8"
             },
             "line": {
              "color": "white"
             }
            },
            "header": {
             "fill": {
              "color": "#C8D4E3"
             },
             "line": {
              "color": "white"
             }
            },
            "type": "table"
           }
          ]
         },
         "layout": {
          "annotationdefaults": {
           "arrowcolor": "#2a3f5f",
           "arrowhead": 0,
           "arrowwidth": 1
          },
          "autotypenumbers": "strict",
          "coloraxis": {
           "colorbar": {
            "outlinewidth": 0,
            "ticks": ""
           }
          },
          "colorscale": {
           "diverging": [
            [
             0,
             "#8e0152"
            ],
            [
             0.1,
             "#c51b7d"
            ],
            [
             0.2,
             "#de77ae"
            ],
            [
             0.3,
             "#f1b6da"
            ],
            [
             0.4,
             "#fde0ef"
            ],
            [
             0.5,
             "#f7f7f7"
            ],
            [
             0.6,
             "#e6f5d0"
            ],
            [
             0.7,
             "#b8e186"
            ],
            [
             0.8,
             "#7fbc41"
            ],
            [
             0.9,
             "#4d9221"
            ],
            [
             1,
             "#276419"
            ]
           ],
           "sequential": [
            [
             0,
             "#0d0887"
            ],
            [
             0.1111111111111111,
             "#46039f"
            ],
            [
             0.2222222222222222,
             "#7201a8"
            ],
            [
             0.3333333333333333,
             "#9c179e"
            ],
            [
             0.4444444444444444,
             "#bd3786"
            ],
            [
             0.5555555555555556,
             "#d8576b"
            ],
            [
             0.6666666666666666,
             "#ed7953"
            ],
            [
             0.7777777777777778,
             "#fb9f3a"
            ],
            [
             0.8888888888888888,
             "#fdca26"
            ],
            [
             1,
             "#f0f921"
            ]
           ],
           "sequentialminus": [
            [
             0,
             "#0d0887"
            ],
            [
             0.1111111111111111,
             "#46039f"
            ],
            [
             0.2222222222222222,
             "#7201a8"
            ],
            [
             0.3333333333333333,
             "#9c179e"
            ],
            [
             0.4444444444444444,
             "#bd3786"
            ],
            [
             0.5555555555555556,
             "#d8576b"
            ],
            [
             0.6666666666666666,
             "#ed7953"
            ],
            [
             0.7777777777777778,
             "#fb9f3a"
            ],
            [
             0.8888888888888888,
             "#fdca26"
            ],
            [
             1,
             "#f0f921"
            ]
           ]
          },
          "colorway": [
           "#636efa",
           "#EF553B",
           "#00cc96",
           "#ab63fa",
           "#FFA15A",
           "#19d3f3",
           "#FF6692",
           "#B6E880",
           "#FF97FF",
           "#FECB52"
          ],
          "font": {
           "color": "#2a3f5f"
          },
          "geo": {
           "bgcolor": "white",
           "lakecolor": "white",
           "landcolor": "#E5ECF6",
           "showlakes": true,
           "showland": true,
           "subunitcolor": "white"
          },
          "hoverlabel": {
           "align": "left"
          },
          "hovermode": "closest",
          "mapbox": {
           "style": "light"
          },
          "paper_bgcolor": "white",
          "plot_bgcolor": "#E5ECF6",
          "polar": {
           "angularaxis": {
            "gridcolor": "white",
            "linecolor": "white",
            "ticks": ""
           },
           "bgcolor": "#E5ECF6",
           "radialaxis": {
            "gridcolor": "white",
            "linecolor": "white",
            "ticks": ""
           }
          },
          "scene": {
           "xaxis": {
            "backgroundcolor": "#E5ECF6",
            "gridcolor": "white",
            "gridwidth": 2,
            "linecolor": "white",
            "showbackground": true,
            "ticks": "",
            "zerolinecolor": "white"
           },
           "yaxis": {
            "backgroundcolor": "#E5ECF6",
            "gridcolor": "white",
            "gridwidth": 2,
            "linecolor": "white",
            "showbackground": true,
            "ticks": "",
            "zerolinecolor": "white"
           },
           "zaxis": {
            "backgroundcolor": "#E5ECF6",
            "gridcolor": "white",
            "gridwidth": 2,
            "linecolor": "white",
            "showbackground": true,
            "ticks": "",
            "zerolinecolor": "white"
           }
          },
          "shapedefaults": {
           "line": {
            "color": "#2a3f5f"
           }
          },
          "ternary": {
           "aaxis": {
            "gridcolor": "white",
            "linecolor": "white",
            "ticks": ""
           },
           "baxis": {
            "gridcolor": "white",
            "linecolor": "white",
            "ticks": ""
           },
           "bgcolor": "#E5ECF6",
           "caxis": {
            "gridcolor": "white",
            "linecolor": "white",
            "ticks": ""
           }
          },
          "title": {
           "x": 0.05
          },
          "xaxis": {
           "automargin": true,
           "gridcolor": "white",
           "linecolor": "white",
           "ticks": "",
           "title": {
            "standoff": 15
           },
           "zerolinecolor": "white",
           "zerolinewidth": 2
          },
          "yaxis": {
           "automargin": true,
           "gridcolor": "white",
           "linecolor": "white",
           "ticks": "",
           "title": {
            "standoff": 15
           },
           "zerolinecolor": "white",
           "zerolinewidth": 2
          }
         }
        },
        "title": {
         "text": "TV Shows with Highest Google Likes"
        },
        "xaxis": {
         "anchor": "y",
         "domain": [
          0,
          1
         ],
         "title": {
          "text": "TV Series"
         }
        },
        "yaxis": {
         "anchor": "x",
         "domain": [
          0,
          1
         ],
         "title": {
          "text": "Likes"
         }
        }
       }
      }
     },
     "metadata": {},
     "output_type": "display_data"
    }
   ],
   "source": [
    "fig = px.bar(x = title_with_highest_google_users.index, y= title_with_highest_google_users.values)\n",
    "fig.update_layout(title= 'TV Shows with Highest Google Likes', xaxis_title='TV Series', yaxis_title='Likes')\n",
    "fig.show()"
   ]
  },
  {
   "cell_type": "markdown",
   "metadata": {},
   "source": [
    "<center><b>Figure 8.</b>- Highest Google Likes TV Shows</center>"
   ]
  },
  {
   "cell_type": "markdown",
   "metadata": {},
   "source": [
    "### Q7. Original Channel with highest google Rating?"
   ]
  },
  {
   "cell_type": "code",
   "execution_count": 110,
   "metadata": {},
   "outputs": [
    {
     "data": {
      "text/html": [
       "<div>\n",
       "<style scoped>\n",
       "    .dataframe tbody tr th:only-of-type {\n",
       "        vertical-align: middle;\n",
       "    }\n",
       "\n",
       "    .dataframe tbody tr th {\n",
       "        vertical-align: top;\n",
       "    }\n",
       "\n",
       "    .dataframe thead th {\n",
       "        text-align: right;\n",
       "    }\n",
       "</style>\n",
       "<table border=\"1\" class=\"dataframe\">\n",
       "  <thead>\n",
       "    <tr style=\"text-align: right;\">\n",
       "      <th></th>\n",
       "      <th>Original channel</th>\n",
       "      <th>Google users</th>\n",
       "    </tr>\n",
       "  </thead>\n",
       "  <tbody>\n",
       "    <tr>\n",
       "      <th>0</th>\n",
       "      <td>Syndication</td>\n",
       "      <td>100.0</td>\n",
       "    </tr>\n",
       "    <tr>\n",
       "      <th>1</th>\n",
       "      <td>Netflix</td>\n",
       "      <td>98.0</td>\n",
       "    </tr>\n",
       "    <tr>\n",
       "      <th>2</th>\n",
       "      <td>HBO</td>\n",
       "      <td>98.0</td>\n",
       "    </tr>\n",
       "    <tr>\n",
       "      <th>3</th>\n",
       "      <td>MTV</td>\n",
       "      <td>98.0</td>\n",
       "    </tr>\n",
       "    <tr>\n",
       "      <th>4</th>\n",
       "      <td>VRV</td>\n",
       "      <td>98.0</td>\n",
       "    </tr>\n",
       "  </tbody>\n",
       "</table>\n",
       "</div>"
      ],
      "text/plain": [
       "  Original channel  Google users\n",
       "0      Syndication         100.0\n",
       "1          Netflix          98.0\n",
       "2              HBO          98.0\n",
       "3              MTV          98.0\n",
       "4              VRV          98.0"
      ]
     },
     "execution_count": 110,
     "metadata": {},
     "output_type": "execute_result"
    }
   ],
   "source": [
    "Channels_with_highest_google_users =df.groupby('Original channel')['Google users'].max().sort_values(ascending = False).head()\n",
    "Channels_with_highest_google_users.reset_index().rename(columns = {'Index': 'Original channel', 'Google users': 'Google users'})"
   ]
  },
  {
   "cell_type": "markdown",
   "metadata": {},
   "source": [
    "### Q8. Original Channel with highest IMDb Rating?"
   ]
  },
  {
   "cell_type": "code",
   "execution_count": 111,
   "metadata": {},
   "outputs": [
    {
     "data": {
      "text/html": [
       "<div>\n",
       "<style scoped>\n",
       "    .dataframe tbody tr th:only-of-type {\n",
       "        vertical-align: middle;\n",
       "    }\n",
       "\n",
       "    .dataframe tbody tr th {\n",
       "        vertical-align: top;\n",
       "    }\n",
       "\n",
       "    .dataframe thead th {\n",
       "        text-align: right;\n",
       "    }\n",
       "</style>\n",
       "<table border=\"1\" class=\"dataframe\">\n",
       "  <thead>\n",
       "    <tr style=\"text-align: right;\">\n",
       "      <th></th>\n",
       "      <th>Original channel</th>\n",
       "      <th>IMDb</th>\n",
       "    </tr>\n",
       "  </thead>\n",
       "  <tbody>\n",
       "    <tr>\n",
       "      <th>0</th>\n",
       "      <td>PBS Kids</td>\n",
       "      <td>9.3</td>\n",
       "    </tr>\n",
       "    <tr>\n",
       "      <th>1</th>\n",
       "      <td>Nickelodeon</td>\n",
       "      <td>9.3</td>\n",
       "    </tr>\n",
       "    <tr>\n",
       "      <th>2</th>\n",
       "      <td>Comedy Central</td>\n",
       "      <td>9.1</td>\n",
       "    </tr>\n",
       "    <tr>\n",
       "      <th>3</th>\n",
       "      <td>Adult Swim</td>\n",
       "      <td>9.1</td>\n",
       "    </tr>\n",
       "    <tr>\n",
       "      <th>4</th>\n",
       "      <td>Netflix</td>\n",
       "      <td>9.0</td>\n",
       "    </tr>\n",
       "  </tbody>\n",
       "</table>\n",
       "</div>"
      ],
      "text/plain": [
       "  Original channel  IMDb\n",
       "0         PBS Kids   9.3\n",
       "1      Nickelodeon   9.3\n",
       "2   Comedy Central   9.1\n",
       "3       Adult Swim   9.1\n",
       "4          Netflix   9.0"
      ]
     },
     "execution_count": 111,
     "metadata": {},
     "output_type": "execute_result"
    }
   ],
   "source": [
    "Channels_with_highest_IMDb = df.groupby('Original channel')['IMDb'].max().sort_values(ascending = False).head()\n",
    "Channels_with_highest_IMDb.reset_index().rename(columns = {'Index': 'Original channel', 'IMDb': 'IMDb'})"
   ]
  },
  {
   "cell_type": "markdown",
   "metadata": {},
   "source": [
    "### Q9. Lowest IMDb rating tv series?"
   ]
  },
  {
   "cell_type": "code",
   "execution_count": 114,
   "metadata": {},
   "outputs": [
    {
     "data": {
      "text/html": [
       "<div>\n",
       "<style scoped>\n",
       "    .dataframe tbody tr th:only-of-type {\n",
       "        vertical-align: middle;\n",
       "    }\n",
       "\n",
       "    .dataframe tbody tr th {\n",
       "        vertical-align: top;\n",
       "    }\n",
       "\n",
       "    .dataframe thead th {\n",
       "        text-align: right;\n",
       "    }\n",
       "</style>\n",
       "<table border=\"1\" class=\"dataframe\">\n",
       "  <thead>\n",
       "    <tr style=\"text-align: right;\">\n",
       "      <th></th>\n",
       "      <th>Title</th>\n",
       "      <th>IMDb</th>\n",
       "    </tr>\n",
       "  </thead>\n",
       "  <tbody>\n",
       "    <tr>\n",
       "      <th>0</th>\n",
       "      <td>High Guardian Spice</td>\n",
       "      <td>1.5</td>\n",
       "    </tr>\n",
       "    <tr>\n",
       "      <th>1</th>\n",
       "      <td>Fairview</td>\n",
       "      <td>1.5</td>\n",
       "    </tr>\n",
       "    <tr>\n",
       "      <th>2</th>\n",
       "      <td>The Adventures of Paddy the Pelican</td>\n",
       "      <td>1.6</td>\n",
       "    </tr>\n",
       "    <tr>\n",
       "      <th>3</th>\n",
       "      <td>Velma</td>\n",
       "      <td>1.6</td>\n",
       "    </tr>\n",
       "    <tr>\n",
       "      <th>4</th>\n",
       "      <td>Santa Inc.</td>\n",
       "      <td>1.7</td>\n",
       "    </tr>\n",
       "  </tbody>\n",
       "</table>\n",
       "</div>"
      ],
      "text/plain": [
       "                                 Title  IMDb\n",
       "0                  High Guardian Spice   1.5\n",
       "1                             Fairview   1.5\n",
       "2  The Adventures of Paddy the Pelican   1.6\n",
       "3                                Velma   1.6\n",
       "4                           Santa Inc.   1.7"
      ]
     },
     "execution_count": 114,
     "metadata": {},
     "output_type": "execute_result"
    }
   ],
   "source": [
    "\n",
    "title_with_lowest_IMDb=df.groupby('Title')['IMDb'].min().sort_values(ascending = True).head()\n",
    "title_with_lowest_IMDb.reset_index().rename(columns = {'Index': 'title', 'IMDb': 'IMDb'})"
   ]
  },
  {
   "cell_type": "code",
   "execution_count": 126,
   "metadata": {},
   "outputs": [
    {
     "data": {
      "image/png": "[encoded data removed]",
      "text/plain": [
       "<Figure size 640x480 with 1 Axes>"
      ]
     },
     "metadata": {},
     "output_type": "display_data"
    }
   ],
   "source": [
    "\n",
    "sns.barplot(x = title_with_lowest_IMDb.index, y = title_with_lowest_IMDb.values)\n",
    "plt.title('Title with Lowest IMDb Rating')\n",
    "plt.xlabel('TV Series')\n",
    "plt.ylabel('IMDb Rating')\n",
    "plt.xticks(rotation = 45)\n",
    "plt.show()"
   ]
  },
  {
   "cell_type": "markdown",
   "metadata": {},
   "source": [
    "<center><b>Figure 9.</b>- Lowest IMDb Rating TV Shows</center>"
   ]
  },
  {
   "cell_type": "markdown",
   "metadata": {},
   "source": [
    "### Q10. Lowest Google rating tv series?"
   ]
  },
  {
   "cell_type": "code",
   "execution_count": 115,
   "metadata": {},
   "outputs": [
    {
     "data": {
      "text/html": [
       "<div>\n",
       "<style scoped>\n",
       "    .dataframe tbody tr th:only-of-type {\n",
       "        vertical-align: middle;\n",
       "    }\n",
       "\n",
       "    .dataframe tbody tr th {\n",
       "        vertical-align: top;\n",
       "    }\n",
       "\n",
       "    .dataframe thead th {\n",
       "        text-align: right;\n",
       "    }\n",
       "</style>\n",
       "<table border=\"1\" class=\"dataframe\">\n",
       "  <thead>\n",
       "    <tr style=\"text-align: right;\">\n",
       "      <th></th>\n",
       "      <th>Title</th>\n",
       "      <th>Google users</th>\n",
       "    </tr>\n",
       "  </thead>\n",
       "  <tbody>\n",
       "    <tr>\n",
       "      <th>0</th>\n",
       "      <td>Fairview</td>\n",
       "      <td>9.0</td>\n",
       "    </tr>\n",
       "    <tr>\n",
       "      <th>1</th>\n",
       "      <td>Santa Inc.</td>\n",
       "      <td>9.0</td>\n",
       "    </tr>\n",
       "    <tr>\n",
       "      <th>2</th>\n",
       "      <td>Breezly and Sneezly</td>\n",
       "      <td>10.0</td>\n",
       "    </tr>\n",
       "    <tr>\n",
       "      <th>3</th>\n",
       "      <td>Slacker Cats</td>\n",
       "      <td>10.0</td>\n",
       "    </tr>\n",
       "    <tr>\n",
       "      <th>4</th>\n",
       "      <td>Velma</td>\n",
       "      <td>11.0</td>\n",
       "    </tr>\n",
       "  </tbody>\n",
       "</table>\n",
       "</div>"
      ],
      "text/plain": [
       "                 Title  Google users\n",
       "0             Fairview           9.0\n",
       "1           Santa Inc.           9.0\n",
       "2  Breezly and Sneezly          10.0\n",
       "3         Slacker Cats          10.0\n",
       "4                Velma          11.0"
      ]
     },
     "execution_count": 115,
     "metadata": {},
     "output_type": "execute_result"
    }
   ],
   "source": [
    "title_with_lowest_google_users = df.groupby('Title')['Google users'].min().sort_values(ascending = True).head()\n",
    "title_with_lowest_google_users.reset_index().rename(columns = {'Index': 'title', 'Google users': 'Google users'})"
   ]
  },
  {
   "cell_type": "code",
   "execution_count": 127,
   "metadata": {},
   "outputs": [
    {
     "data": {
      "image/png": "[encoded data removed]",
      "text/plain": [
       "<Figure size 640x480 with 1 Axes>"
      ]
     },
     "metadata": {},
     "output_type": "display_data"
    }
   ],
   "source": [
    "sns.barplot(x = title_with_lowest_google_users.index, y = title_with_lowest_google_users.values)\n",
    "plt.title('Title with Lowest Google Users')\n",
    "plt.xlabel('TV Series')\n",
    "plt.ylabel('IMDb Rating')\n",
    "plt.xticks(rotation = 45)\n",
    "plt.show()"
   ]
  },
  {
   "cell_type": "markdown",
   "metadata": {},
   "source": [
    "<center><b>Figure 10.</b>- Lowest Google Likes TV Shows</center>"
   ]
  },
  {
   "cell_type": "markdown",
   "metadata": {},
   "source": [
    "### Q11. Which TV Series produce highest numbers of episodes?"
   ]
  },
  {
   "cell_type": "code",
   "execution_count": 130,
   "metadata": {},
   "outputs": [
    {
     "data": {
      "text/html": [
       "<div>\n",
       "<style scoped>\n",
       "    .dataframe tbody tr th:only-of-type {\n",
       "        vertical-align: middle;\n",
       "    }\n",
       "\n",
       "    .dataframe tbody tr th {\n",
       "        vertical-align: top;\n",
       "    }\n",
       "\n",
       "    .dataframe thead th {\n",
       "        text-align: right;\n",
       "    }\n",
       "</style>\n",
       "<table border=\"1\" class=\"dataframe\">\n",
       "  <thead>\n",
       "    <tr style=\"text-align: right;\">\n",
       "      <th></th>\n",
       "      <th>Title</th>\n",
       "      <th>Episodes</th>\n",
       "    </tr>\n",
       "  </thead>\n",
       "  <tbody>\n",
       "    <tr>\n",
       "      <th>0</th>\n",
       "      <td>Sesame Street</td>\n",
       "      <td>4633.0</td>\n",
       "    </tr>\n",
       "    <tr>\n",
       "      <th>1</th>\n",
       "      <td>The Simpsons</td>\n",
       "      <td>753.0</td>\n",
       "    </tr>\n",
       "    <tr>\n",
       "      <th>2</th>\n",
       "      <td>The Bugs Bunny Show</td>\n",
       "      <td>684.0</td>\n",
       "    </tr>\n",
       "    <tr>\n",
       "      <th>3</th>\n",
       "      <td>Toon In with Me</td>\n",
       "      <td>600.0</td>\n",
       "    </tr>\n",
       "    <tr>\n",
       "      <th>4</th>\n",
       "      <td>Crusader Rabbit</td>\n",
       "      <td>455.0</td>\n",
       "    </tr>\n",
       "  </tbody>\n",
       "</table>\n",
       "</div>"
      ],
      "text/plain": [
       "                 Title  Episodes\n",
       "0        Sesame Street    4633.0\n",
       "1         The Simpsons     753.0\n",
       "2  The Bugs Bunny Show     684.0\n",
       "3      Toon In with Me     600.0\n",
       "4      Crusader Rabbit     455.0"
      ]
     },
     "execution_count": 130,
     "metadata": {},
     "output_type": "execute_result"
    }
   ],
   "source": [
    "title_with_highest_episodes =df.groupby('Title')['Episodes'].max().sort_values(ascending = False).head()\n",
    "title_with_highest_episodes.reset_index().rename(columns = {'Index': 'title', 'Episodes': 'Episodes'})"
   ]
  },
  {
   "cell_type": "code",
   "execution_count": 131,
   "metadata": {},
   "outputs": [
    {
     "data": {
      "application/vnd.plotly.v1+json": {
       "config": {
        "plotlyServerURL": "https://plot.ly"
       },
       "data": [
        {
         "alignmentgroup": "True",
         "hovertemplate": "x=%{x}<br>y=%{y}<extra></extra>",
         "legendgroup": "",
         "marker": {
          "color": "#636efa",
          "pattern": {
           "shape": ""
          }
         },
         "name": "",
         "offsetgroup": "",
         "orientation": "v",
         "showlegend": false,
         "textposition": "auto",
         "type": "bar",
         "x": [
          "Sesame Street",
          "The Simpsons",
          "The Bugs Bunny Show",
          "Toon In with Me",
          "Crusader Rabbit"
         ],
         "xaxis": "x",
         "y": [
          4633,
          753,
          684,
          600,
          455
         ],
         "yaxis": "y"
        }
       ],
       "layout": {
        "barmode": "relative",
        "legend": {
         "tracegroupgap": 0
        },
        "margin": {
         "t": 60
        },
        "template": {
         "data": {
          "bar": [
           {
            "error_x": {
             "color": "#2a3f5f"
            },
            "error_y": {
             "color": "#2a3f5f"
            },
            "marker": {
             "line": {
              "color": "#E5ECF6",
              "width": 0.5
             },
             "pattern": {
              "fillmode": "overlay",
              "size": 10,
              "solidity": 0.2
             }
            },
            "type": "bar"
           }
          ],
          "barpolar": [
           {
            "marker": {
             "line": {
              "color": "#E5ECF6",
              "width": 0.5
             },
             "pattern": {
              "fillmode": "overlay",
              "size": 10,
              "solidity": 0.2
             }
            },
            "type": "barpolar"
           }
          ],
          "carpet": [
           {
            "aaxis": {
             "endlinecolor": "#2a3f5f",
             "gridcolor": "white",
             "linecolor": "white",
             "minorgridcolor": "white",
             "startlinecolor": "#2a3f5f"
            },
            "baxis": {
             "endlinecolor": "#2a3f5f",
             "gridcolor": "white",
             "linecolor": "white",
             "minorgridcolor": "white",
             "startlinecolor": "#2a3f5f"
            },
            "type": "carpet"
           }
          ],
          "choropleth": [
           {
            "colorbar": {
             "outlinewidth": 0,
             "ticks": ""
            },
            "type": "choropleth"
           }
          ],
          "contour": [
           {
            "colorbar": {
             "outlinewidth": 0,
             "ticks": ""
            },
            "colorscale": [
             [
              0,
              "#0d0887"
             ],
             [
              0.1111111111111111,
              "#46039f"
             ],
             [
              0.2222222222222222,
              "#7201a8"
             ],
             [
              0.3333333333333333,
              "#9c179e"
             ],
             [
              0.4444444444444444,
              "#bd3786"
             ],
             [
              0.5555555555555556,
              "#d8576b"
             ],
             [
              0.6666666666666666,
              "#ed7953"
             ],
             [
              0.7777777777777778,
              "#fb9f3a"
             ],
             [
              0.8888888888888888,
              "#fdca26"
             ],
             [
              1,
              "#f0f921"
             ]
            ],
            "type": "contour"
           }
          ],
          "contourcarpet": [
           {
            "colorbar": {
             "outlinewidth": 0,
             "ticks": ""
            },
            "type": "contourcarpet"
           }
          ],
          "heatmap": [
           {
            "colorbar": {
             "outlinewidth": 0,
             "ticks": ""
            },
            "colorscale": [
             [
              0,
              "#0d0887"
             ],
             [
              0.1111111111111111,
              "#46039f"
             ],
             [
              0.2222222222222222,
              "#7201a8"
             ],
             [
              0.3333333333333333,
              "#9c179e"
             ],
             [
              0.4444444444444444,
              "#bd3786"
             ],
             [
              0.5555555555555556,
              "#d8576b"
             ],
             [
              0.6666666666666666,
              "#ed7953"
             ],
             [
              0.7777777777777778,
              "#fb9f3a"
             ],
             [
              0.8888888888888888,
              "#fdca26"
             ],
             [
              1,
              "#f0f921"
             ]
            ],
            "type": "heatmap"
           }
          ],
          "heatmapgl": [
           {
            "colorbar": {
             "outlinewidth": 0,
             "ticks": ""
            },
            "colorscale": [
             [
              0,
              "#0d0887"
             ],
             [
              0.1111111111111111,
              "#46039f"
             ],
             [
              0.2222222222222222,
              "#7201a8"
             ],
             [
              0.3333333333333333,
              "#9c179e"
             ],
             [
              0.4444444444444444,
              "#bd3786"
             ],
             [
              0.5555555555555556,
              "#d8576b"
             ],
             [
              0.6666666666666666,
              "#ed7953"
             ],
             [
              0.7777777777777778,
              "#fb9f3a"
             ],
             [
              0.8888888888888888,
              "#fdca26"
             ],
             [
              1,
              "#f0f921"
             ]
            ],
            "type": "heatmapgl"
           }
          ],
          "histogram": [
           {
            "marker": {
             "pattern": {
              "fillmode": "overlay",
              "size": 10,
              "solidity": 0.2
             }
            },
            "type": "histogram"
           }
          ],
          "histogram2d": [
           {
            "colorbar": {
             "outlinewidth": 0,
             "ticks": ""
            },
            "colorscale": [
             [
              0,
              "#0d0887"
             ],
             [
              0.1111111111111111,
              "#46039f"
             ],
             [
              0.2222222222222222,
              "#7201a8"
             ],
             [
              0.3333333333333333,
              "#9c179e"
             ],
             [
              0.4444444444444444,
              "#bd3786"
             ],
             [
              0.5555555555555556,
              "#d8576b"
             ],
             [
              0.6666666666666666,
              "#ed7953"
             ],
             [
              0.7777777777777778,
              "#fb9f3a"
             ],
             [
              0.8888888888888888,
              "#fdca26"
             ],
             [
              1,
              "#f0f921"
             ]
            ],
            "type": "histogram2d"
           }
          ],
          "histogram2dcontour": [
           {
            "colorbar": {
             "outlinewidth": 0,
             "ticks": ""
            },
            "colorscale": [
             [
              0,
              "#0d0887"
             ],
             [
              0.1111111111111111,
              "#46039f"
             ],
             [
              0.2222222222222222,
              "#7201a8"
             ],
             [
              0.3333333333333333,
              "#9c179e"
             ],
             [
              0.4444444444444444,
              "#bd3786"
             ],
             [
              0.5555555555555556,
              "#d8576b"
             ],
             [
              0.6666666666666666,
              "#ed7953"
             ],
             [
              0.7777777777777778,
              "#fb9f3a"
             ],
             [
              0.8888888888888888,
              "#fdca26"
             ],
             [
              1,
              "#f0f921"
             ]
            ],
            "type": "histogram2dcontour"
           }
          ],
          "mesh3d": [
           {
            "colorbar": {
             "outlinewidth": 0,
             "ticks": ""
            },
            "type": "mesh3d"
           }
          ],
          "parcoords": [
           {
            "line": {
             "colorbar": {
              "outlinewidth": 0,
              "ticks": ""
             }
            },
            "type": "parcoords"
           }
          ],
          "pie": [
           {
            "automargin": true,
            "type": "pie"
           }
          ],
          "scatter": [
           {
            "fillpattern": {
             "fillmode": "overlay",
             "size": 10,
             "solidity": 0.2
            },
            "type": "scatter"
           }
          ],
          "scatter3d": [
           {
            "line": {
             "colorbar": {
              "outlinewidth": 0,
              "ticks": ""
             }
            },
            "marker": {
             "colorbar": {
              "outlinewidth": 0,
              "ticks": ""
             }
            },
            "type": "scatter3d"
           }
          ],
          "scattercarpet": [
           {
            "marker": {
             "colorbar": {
              "outlinewidth": 0,
              "ticks": ""
             }
            },
            "type": "scattercarpet"
           }
          ],
          "scattergeo": [
           {
            "marker": {
             "colorbar": {
              "outlinewidth": 0,
              "ticks": ""
             }
            },
            "type": "scattergeo"
           }
          ],
          "scattergl": [
           {
            "marker": {
             "colorbar": {
              "outlinewidth": 0,
              "ticks": ""
             }
            },
            "type": "scattergl"
           }
          ],
          "scattermapbox": [
           {
            "marker": {
             "colorbar": {
              "outlinewidth": 0,
              "ticks": ""
             }
            },
            "type": "scattermapbox"
           }
          ],
          "scatterpolar": [
           {
            "marker": {
             "colorbar": {
              "outlinewidth": 0,
              "ticks": ""
             }
            },
            "type": "scatterpolar"
           }
          ],
          "scatterpolargl": [
           {
            "marker": {
             "colorbar": {
              "outlinewidth": 0,
              "ticks": ""
             }
            },
            "type": "scatterpolargl"
           }
          ],
          "scatterternary": [
           {
            "marker": {
             "colorbar": {
              "outlinewidth": 0,
              "ticks": ""
             }
            },
            "type": "scatterternary"
           }
          ],
          "surface": [
           {
            "colorbar": {
             "outlinewidth": 0,
             "ticks": ""
            },
            "colorscale": [
             [
              0,
              "#0d0887"
             ],
             [
              0.1111111111111111,
              "#46039f"
             ],
             [
              0.2222222222222222,
              "#7201a8"
             ],
             [
              0.3333333333333333,
              "#9c179e"
             ],
             [
              0.4444444444444444,
              "#bd3786"
             ],
             [
              0.5555555555555556,
              "#d8576b"
             ],
             [
              0.6666666666666666,
              "#ed7953"
             ],
             [
              0.7777777777777778,
              "#fb9f3a"
             ],
             [
              0.8888888888888888,
              "#fdca26"
             ],
             [
              1,
              "#f0f921"
             ]
            ],
            "type": "surface"
           }
          ],
          "table": [
           {
            "cells": {
             "fill": {
              "color": "#EBF0F8"
             },
             "line": {
              "color": "white"
             }
            },
            "header": {
             "fill": {
              "color": "#C8D4E3"
             },
             "line": {
              "color": "white"
             }
            },
            "type": "table"
           }
          ]
         },
         "layout": {
          "annotationdefaults": {
           "arrowcolor": "#2a3f5f",
           "arrowhead": 0,
           "arrowwidth": 1
          },
          "autotypenumbers": "strict",
          "coloraxis": {
           "colorbar": {
            "outlinewidth": 0,
            "ticks": ""
           }
          },
          "colorscale": {
           "diverging": [
            [
             0,
             "#8e0152"
            ],
            [
             0.1,
             "#c51b7d"
            ],
            [
             0.2,
             "#de77ae"
            ],
            [
             0.3,
             "#f1b6da"
            ],
            [
             0.4,
             "#fde0ef"
            ],
            [
             0.5,
             "#f7f7f7"
            ],
            [
             0.6,
             "#e6f5d0"
            ],
            [
             0.7,
             "#b8e186"
            ],
            [
             0.8,
             "#7fbc41"
            ],
            [
             0.9,
             "#4d9221"
            ],
            [
             1,
             "#276419"
            ]
           ],
           "sequential": [
            [
             0,
             "#0d0887"
            ],
            [
             0.1111111111111111,
             "#46039f"
            ],
            [
             0.2222222222222222,
             "#7201a8"
            ],
            [
             0.3333333333333333,
             "#9c179e"
            ],
            [
             0.4444444444444444,
             "#bd3786"
            ],
            [
             0.5555555555555556,
             "#d8576b"
            ],
            [
             0.6666666666666666,
             "#ed7953"
            ],
            [
             0.7777777777777778,
             "#fb9f3a"
            ],
            [
             0.8888888888888888,
             "#fdca26"
            ],
            [
             1,
             "#f0f921"
            ]
           ],
           "sequentialminus": [
            [
             0,
             "#0d0887"
            ],
            [
             0.1111111111111111,
             "#46039f"
            ],
            [
             0.2222222222222222,
             "#7201a8"
            ],
            [
             0.3333333333333333,
             "#9c179e"
            ],
            [
             0.4444444444444444,
             "#bd3786"
            ],
            [
             0.5555555555555556,
             "#d8576b"
            ],
            [
             0.6666666666666666,
             "#ed7953"
            ],
            [
             0.7777777777777778,
             "#fb9f3a"
            ],
            [
             0.8888888888888888,
             "#fdca26"
            ],
            [
             1,
             "#f0f921"
            ]
           ]
          },
          "colorway": [
           "#636efa",
           "#EF553B",
           "#00cc96",
           "#ab63fa",
           "#FFA15A",
           "#19d3f3",
           "#FF6692",
           "#B6E880",
           "#FF97FF",
           "#FECB52"
          ],
          "font": {
           "color": "#2a3f5f"
          },
          "geo": {
           "bgcolor": "white",
           "lakecolor": "white",
           "landcolor": "#E5ECF6",
           "showlakes": true,
           "showland": true,
           "subunitcolor": "white"
          },
          "hoverlabel": {
           "align": "left"
          },
          "hovermode": "closest",
          "mapbox": {
           "style": "light"
          },
          "paper_bgcolor": "white",
          "plot_bgcolor": "#E5ECF6",
          "polar": {
           "angularaxis": {
            "gridcolor": "white",
            "linecolor": "white",
            "ticks": ""
           },
           "bgcolor": "#E5ECF6",
           "radialaxis": {
            "gridcolor": "white",
            "linecolor": "white",
            "ticks": ""
           }
          },
          "scene": {
           "xaxis": {
            "backgroundcolor": "#E5ECF6",
            "gridcolor": "white",
            "gridwidth": 2,
            "linecolor": "white",
            "showbackground": true,
            "ticks": "",
            "zerolinecolor": "white"
           },
           "yaxis": {
            "backgroundcolor": "#E5ECF6",
            "gridcolor": "white",
            "gridwidth": 2,
            "linecolor": "white",
            "showbackground": true,
            "ticks": "",
            "zerolinecolor": "white"
           },
           "zaxis": {
            "backgroundcolor": "#E5ECF6",
            "gridcolor": "white",
            "gridwidth": 2,
            "linecolor": "white",
            "showbackground": true,
            "ticks": "",
            "zerolinecolor": "white"
           }
          },
          "shapedefaults": {
           "line": {
            "color": "#2a3f5f"
           }
          },
          "ternary": {
           "aaxis": {
            "gridcolor": "white",
            "linecolor": "white",
            "ticks": ""
           },
           "baxis": {
            "gridcolor": "white",
            "linecolor": "white",
            "ticks": ""
           },
           "bgcolor": "#E5ECF6",
           "caxis": {
            "gridcolor": "white",
            "linecolor": "white",
            "ticks": ""
           }
          },
          "title": {
           "x": 0.05
          },
          "xaxis": {
           "automargin": true,
           "gridcolor": "white",
           "linecolor": "white",
           "ticks": "",
           "title": {
            "standoff": 15
           },
           "zerolinecolor": "white",
           "zerolinewidth": 2
          },
          "yaxis": {
           "automargin": true,
           "gridcolor": "white",
           "linecolor": "white",
           "ticks": "",
           "title": {
            "standoff": 15
           },
           "zerolinecolor": "white",
           "zerolinewidth": 2
          }
         }
        },
        "title": {
         "text": "Title with Highest Episodes"
        },
        "xaxis": {
         "anchor": "y",
         "domain": [
          0,
          1
         ],
         "title": {
          "text": "TV Series"
         }
        },
        "yaxis": {
         "anchor": "x",
         "domain": [
          0,
          1
         ],
         "title": {
          "text": "Episodes"
         }
        }
       }
      }
     },
     "metadata": {},
     "output_type": "display_data"
    }
   ],
   "source": [
    "fig = px.bar(x = title_with_highest_episodes.index, y = title_with_highest_episodes.values)\n",
    "fig.update_layout(title = 'Title with Highest Episodes', xaxis_title = 'TV Series', yaxis_title = 'Episodes')\n",
    "fig.show()"
   ]
  },
  {
   "cell_type": "markdown",
   "metadata": {},
   "source": [
    "<center><b>Figure 11.</b>- TV Shows highest number of Episodes</center>"
   ]
  },
  {
   "cell_type": "markdown",
   "metadata": {},
   "source": [
    "### Q12. Which Original channel Produce highest numbers of episodes?"
   ]
  },
  {
   "cell_type": "code",
   "execution_count": 133,
   "metadata": {},
   "outputs": [
    {
     "data": {
      "text/html": [
       "<div>\n",
       "<style scoped>\n",
       "    .dataframe tbody tr th:only-of-type {\n",
       "        vertical-align: middle;\n",
       "    }\n",
       "\n",
       "    .dataframe tbody tr th {\n",
       "        vertical-align: top;\n",
       "    }\n",
       "\n",
       "    .dataframe thead th {\n",
       "        text-align: right;\n",
       "    }\n",
       "</style>\n",
       "<table border=\"1\" class=\"dataframe\">\n",
       "  <thead>\n",
       "    <tr style=\"text-align: right;\">\n",
       "      <th></th>\n",
       "      <th>Original channel</th>\n",
       "      <th>Episodes</th>\n",
       "    </tr>\n",
       "  </thead>\n",
       "  <tbody>\n",
       "    <tr>\n",
       "      <th>0</th>\n",
       "      <td>PBSPBS KidsHBO</td>\n",
       "      <td>4633.0</td>\n",
       "    </tr>\n",
       "    <tr>\n",
       "      <th>1</th>\n",
       "      <td>Fox</td>\n",
       "      <td>753.0</td>\n",
       "    </tr>\n",
       "    <tr>\n",
       "      <th>2</th>\n",
       "      <td>ABC\\r\\nCBS</td>\n",
       "      <td>684.0</td>\n",
       "    </tr>\n",
       "    <tr>\n",
       "      <th>3</th>\n",
       "      <td>MeTV</td>\n",
       "      <td>600.0</td>\n",
       "    </tr>\n",
       "    <tr>\n",
       "      <th>4</th>\n",
       "      <td>Syndication</td>\n",
       "      <td>455.0</td>\n",
       "    </tr>\n",
       "  </tbody>\n",
       "</table>\n",
       "</div>"
      ],
      "text/plain": [
       "  Original channel  Episodes\n",
       "0   PBSPBS KidsHBO    4633.0\n",
       "1              Fox     753.0\n",
       "2       ABC\\r\\nCBS     684.0\n",
       "3             MeTV     600.0\n",
       "4      Syndication     455.0"
      ]
     },
     "execution_count": 133,
     "metadata": {},
     "output_type": "execute_result"
    }
   ],
   "source": [
    "Channels_with_high_no_of_episodes = df.groupby('Original channel')['Episodes'].max().sort_values(ascending = False).head()\n",
    "Channels_with_high_no_of_episodes.reset_index().rename(columns = {'Index': 'Original channel', 'Episodes': 'Episodes'})"
   ]
  },
  {
   "cell_type": "markdown",
   "metadata": {},
   "source": [
    "### Q13. Which Company Produce highest numbers of episodes?"
   ]
  },
  {
   "cell_type": "code",
   "execution_count": 135,
   "metadata": {},
   "outputs": [
    {
     "data": {
      "text/html": [
       "<div>\n",
       "<style scoped>\n",
       "    .dataframe tbody tr th:only-of-type {\n",
       "        vertical-align: middle;\n",
       "    }\n",
       "\n",
       "    .dataframe tbody tr th {\n",
       "        vertical-align: top;\n",
       "    }\n",
       "\n",
       "    .dataframe thead th {\n",
       "        text-align: right;\n",
       "    }\n",
       "</style>\n",
       "<table border=\"1\" class=\"dataframe\">\n",
       "  <thead>\n",
       "    <tr style=\"text-align: right;\">\n",
       "      <th></th>\n",
       "      <th>American company</th>\n",
       "      <th>Episodes</th>\n",
       "    </tr>\n",
       "  </thead>\n",
       "  <tbody>\n",
       "    <tr>\n",
       "      <th>0</th>\n",
       "      <td>Sesame Workshop</td>\n",
       "      <td>4633.0</td>\n",
       "    </tr>\n",
       "    <tr>\n",
       "      <th>1</th>\n",
       "      <td>Gracie Films20th century</td>\n",
       "      <td>753.0</td>\n",
       "    </tr>\n",
       "    <tr>\n",
       "      <th>2</th>\n",
       "      <td>Warner Bros. Cartoons</td>\n",
       "      <td>684.0</td>\n",
       "    </tr>\n",
       "    <tr>\n",
       "      <th>3</th>\n",
       "      <td>Spartina Productions</td>\n",
       "      <td>600.0</td>\n",
       "    </tr>\n",
       "    <tr>\n",
       "      <th>4</th>\n",
       "      <td>Television Arts Productions</td>\n",
       "      <td>455.0</td>\n",
       "    </tr>\n",
       "  </tbody>\n",
       "</table>\n",
       "</div>"
      ],
      "text/plain": [
       "              American company  Episodes\n",
       "0              Sesame Workshop    4633.0\n",
       "1     Gracie Films20th century     753.0\n",
       "2        Warner Bros. Cartoons     684.0\n",
       "3         Spartina Productions     600.0\n",
       "4  Television Arts Productions     455.0"
      ]
     },
     "execution_count": 135,
     "metadata": {},
     "output_type": "execute_result"
    }
   ],
   "source": [
    "companys_with_highest_no_of_episodes = df.groupby('American company')['Episodes'].max().sort_values(ascending = False).head()\n",
    "companys_with_highest_no_of_episodes.reset_index().rename(columns = {'Index': 'American company', 'Episodes': 'Episodes'})"
   ]
  },
  {
   "cell_type": "markdown",
   "metadata": {},
   "source": [
    "### Q14. How many Tv Series are continue in present year according to given dataset?"
   ]
  },
  {
   "cell_type": "code",
   "execution_count": 146,
   "metadata": {},
   "outputs": [
    {
     "name": "stdout",
     "output_type": "stream",
     "text": [
      "166 TV Shows are Continue\n"
     ]
    },
    {
     "data": {
      "text/html": [
       "<div>\n",
       "<style scoped>\n",
       "    .dataframe tbody tr th:only-of-type {\n",
       "        vertical-align: middle;\n",
       "    }\n",
       "\n",
       "    .dataframe tbody tr th {\n",
       "        vertical-align: top;\n",
       "    }\n",
       "\n",
       "    .dataframe thead th {\n",
       "        text-align: right;\n",
       "    }\n",
       "</style>\n",
       "<table border=\"1\" class=\"dataframe\">\n",
       "  <thead>\n",
       "    <tr style=\"text-align: right;\">\n",
       "      <th></th>\n",
       "      <th>No. of TV Shows</th>\n",
       "      <th>count</th>\n",
       "    </tr>\n",
       "  </thead>\n",
       "  <tbody>\n",
       "    <tr>\n",
       "      <th>0</th>\n",
       "      <td>2023-present</td>\n",
       "      <td>43</td>\n",
       "    </tr>\n",
       "    <tr>\n",
       "      <th>1</th>\n",
       "      <td>2022-present</td>\n",
       "      <td>33</td>\n",
       "    </tr>\n",
       "    <tr>\n",
       "      <th>2</th>\n",
       "      <td>2021-present</td>\n",
       "      <td>30</td>\n",
       "    </tr>\n",
       "    <tr>\n",
       "      <th>3</th>\n",
       "      <td>2020-present</td>\n",
       "      <td>7</td>\n",
       "    </tr>\n",
       "    <tr>\n",
       "      <th>4</th>\n",
       "      <td>2024-present</td>\n",
       "      <td>7</td>\n",
       "    </tr>\n",
       "    <tr>\n",
       "      <th>5</th>\n",
       "      <td>2019-present</td>\n",
       "      <td>7</td>\n",
       "    </tr>\n",
       "    <tr>\n",
       "      <th>6</th>\n",
       "      <td>2018-present</td>\n",
       "      <td>6</td>\n",
       "    </tr>\n",
       "    <tr>\n",
       "      <th>7</th>\n",
       "      <td>2011-present</td>\n",
       "      <td>5</td>\n",
       "    </tr>\n",
       "    <tr>\n",
       "      <th>8</th>\n",
       "      <td>2016-present</td>\n",
       "      <td>4</td>\n",
       "    </tr>\n",
       "    <tr>\n",
       "      <th>9</th>\n",
       "      <td>1999-present</td>\n",
       "      <td>3</td>\n",
       "    </tr>\n",
       "    <tr>\n",
       "      <th>10</th>\n",
       "      <td>2017-present</td>\n",
       "      <td>3</td>\n",
       "    </tr>\n",
       "    <tr>\n",
       "      <th>11</th>\n",
       "      <td>2013-present</td>\n",
       "      <td>3</td>\n",
       "    </tr>\n",
       "    <tr>\n",
       "      <th>12</th>\n",
       "      <td>2014-present</td>\n",
       "      <td>2</td>\n",
       "    </tr>\n",
       "    <tr>\n",
       "      <th>13</th>\n",
       "      <td>1997-present</td>\n",
       "      <td>2</td>\n",
       "    </tr>\n",
       "    <tr>\n",
       "      <th>14</th>\n",
       "      <td>2009-present</td>\n",
       "      <td>1</td>\n",
       "    </tr>\n",
       "    <tr>\n",
       "      <th>15</th>\n",
       "      <td>1989-present</td>\n",
       "      <td>1</td>\n",
       "    </tr>\n",
       "    <tr>\n",
       "      <th>16</th>\n",
       "      <td>2007-present</td>\n",
       "      <td>1</td>\n",
       "    </tr>\n",
       "    <tr>\n",
       "      <th>17</th>\n",
       "      <td>2011-2016, 2021-present</td>\n",
       "      <td>1</td>\n",
       "    </tr>\n",
       "    <tr>\n",
       "      <th>18</th>\n",
       "      <td>2002-present</td>\n",
       "      <td>1</td>\n",
       "    </tr>\n",
       "    <tr>\n",
       "      <th>19</th>\n",
       "      <td>2005-present</td>\n",
       "      <td>1</td>\n",
       "    </tr>\n",
       "    <tr>\n",
       "      <th>20</th>\n",
       "      <td>2012-present</td>\n",
       "      <td>1</td>\n",
       "    </tr>\n",
       "    <tr>\n",
       "      <th>21</th>\n",
       "      <td>1993-present</td>\n",
       "      <td>1</td>\n",
       "    </tr>\n",
       "    <tr>\n",
       "      <th>22</th>\n",
       "      <td>2002-2003, 2023-present</td>\n",
       "      <td>1</td>\n",
       "    </tr>\n",
       "    <tr>\n",
       "      <th>23</th>\n",
       "      <td>2000-present</td>\n",
       "      <td>1</td>\n",
       "    </tr>\n",
       "    <tr>\n",
       "      <th>24</th>\n",
       "      <td>1969-present</td>\n",
       "      <td>1</td>\n",
       "    </tr>\n",
       "  </tbody>\n",
       "</table>\n",
       "</div>"
      ],
      "text/plain": [
       "            No. of TV Shows  count\n",
       "0              2023-present     43\n",
       "1              2022-present     33\n",
       "2              2021-present     30\n",
       "3              2020-present      7\n",
       "4              2024-present      7\n",
       "5              2019-present      7\n",
       "6              2018-present      6\n",
       "7              2011-present      5\n",
       "8              2016-present      4\n",
       "9              1999-present      3\n",
       "10             2017-present      3\n",
       "11             2013-present      3\n",
       "12             2014-present      2\n",
       "13             1997-present      2\n",
       "14             2009-present      1\n",
       "15             1989-present      1\n",
       "16             2007-present      1\n",
       "17  2011-2016, 2021-present      1\n",
       "18             2002-present      1\n",
       "19             2005-present      1\n",
       "20             2012-present      1\n",
       "21             1993-present      1\n",
       "22  2002-2003, 2023-present      1\n",
       "23             2000-present      1\n",
       "24             1969-present      1"
      ]
     },
     "execution_count": 146,
     "metadata": {},
     "output_type": "execute_result"
    }
   ],
   "source": [
    "print(f\"{df['Year'].loc[df['Year'].str.contains('present')==True].value_counts().sum()} TV Shows are Continue\")\n",
    "df['Year'].loc[df['Year'].str.contains('present')==True].value_counts().reset_index().rename(columns = {'index': 'Year', 'Year': 'No. of TV Shows'})"
   ]
  },
  {
   "cell_type": "markdown",
   "metadata": {},
   "source": [
    "### Q15. Check the Correlation between `IMDb` and `Google users`?"
   ]
  },
  {
   "cell_type": "code",
   "execution_count": 149,
   "metadata": {},
   "outputs": [
    {
     "data": {
      "image/png": "[encoded data removed]",
      "text/plain": [
       "<Figure size 640x480 with 2 Axes>"
      ]
     },
     "metadata": {},
     "output_type": "display_data"
    }
   ],
   "source": [
    "# Check the correlation IMDb and Google users\n",
    "cor_relation = df[['IMDb', 'Google users']].corr()\n",
    "sns.heatmap(cor_relation, annot = True, cmap='coolwarm')\n",
    "plt.title('Correlation IMDb and Google users')\n",
    "plt.show()"
   ]
  },
  {
   "cell_type": "markdown",
   "metadata": {},
   "source": [
    "<center><b>Figure 12.</b>- Correlation IMDb vs Google users</center>"
   ]
  },
  {
   "cell_type": "code",
   "execution_count": 150,
   "metadata": {},
   "outputs": [
    {
     "data": {
      "image/png": "[encoded data removed]",
      "text/plain": [
       "<Figure size 640x480 with 2 Axes>"
      ]
     },
     "metadata": {},
     "output_type": "display_data"
    }
   ],
   "source": [
    "# check numarical columns with include function\n",
    "cor_relation_num = df.select_dtypes(include = ['int64', 'float64'])\n",
    "sns.heatmap(cor_relation_num.corr(), annot = True, cmap='viridis')\n",
    "plt.title('Correlation All Columns')\n",
    "plt.show()"
   ]
  },
  {
   "cell_type": "markdown",
   "metadata": {},
   "source": [
    "<center><b>Figure 13.</b>- Correlation all Columns</center>"
   ]
  },
  {
   "cell_type": "markdown",
   "metadata": {},
   "source": [
    "# Summary of data set\n",
    "- Top Original Channels based on count `Syndication, Netflix, ABC, CBS, Cartoon Network`.\n",
    "- Top American Companies `Hanna-Barbera, DIC Entertainment, Warner Bros. Animation, Nickelodeon Animation Studio, Cartoon Network Studios`.\n",
    "- Top Notes are `Canadian`, `French`, `British`, `Japanese` and `Australian`.\n",
    "- Most Popular Techniques for animated TV Shows `Traditional`, `Flash`.\n",
    "- Highest IMDB Rating animated movies  `Avatar: The Last Airbender`, `Jelly, Ben, & Pogo`.\n",
    "- Highest Google Likes TV Shows `The Wonderful Stories of Professor Kitzel`.\n",
    "- Original Channels based on highest Google Users `Syndication`.\n",
    "- Original channels based on highest IMDb `PBS Kids`, `Nickelodeon`.\n",
    "- IMDb low rating series `High Guardian Spice`.\n",
    "- Google low rating series `Faiview`, `Santa Inc`.\n",
    "- `Sesame Street` tv series Produce highest number of episodes from  `PBSPBS KidsHBO` Channel Productions by `Sesame Workshop`.\n",
    "- `166` TV Show/Series Continues in prasent year.\n",
    "- `0.52%` Cor_relation between IMDb and Google users."
   ]
  }
 ],
 "metadata": {
  "kernelspec": {
   "display_name": "eda_evniroment",
   "language": "python",
   "name": "python3"
  },
  "language_info": {
   "codemirror_mode": {
    "name": "ipython",
    "version": 3
   },
   "file_extension": ".py",
   "mimetype": "text/x-python",
   "name": "python",
   "nbconvert_exporter": "python",
   "pygments_lexer": "ipython3",
   "version": "3.11.5"
  }
 },
 "nbformat": 4,
 "nbformat_minor": 2
}
