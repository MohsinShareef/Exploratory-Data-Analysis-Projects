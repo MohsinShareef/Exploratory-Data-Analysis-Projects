{
 "cells": [
  {
   "cell_type": "markdown",
   "metadata": {},
   "source": [
    "# About Author:-\n",
    "- Name: Moshin Shareef.\n",
    "- [Email](mohsinshareef822@gmail.com)\n",
    "- [Github](https://github.com/MohsinShareef/Exploratory-Data-Analysis-Projects)\n",
    "- [Kaggle](https://www.kaggle.com/mohsin31202)\n",
    "- Project: Student Study Performance.\n",
    "- Submision Date: March 2024.\n",
    "\n",
    "## About Data:-\n",
    "- Data Owner: Bhavik Jikadara\n",
    "### Problem Statement:\n",
    "- This project understands how the student's performance (test scores) is affected by other variables such as Gender, Ethnicity, Parental level of education, Lunch and Test preparation course.\n",
    "\n",
    "### Content\n",
    "- This data set consists of the marks secured by the students in various subjects.\n",
    "\n",
    "- gender : sex of students -> (Male/female)\n",
    "- race/ethnicity : ethnicity of students -> (Group A, B,C, D,E)\n",
    "- parental level of education : parents' final education ->(bachelor's degree,some college,master's degree,associate's degree,- high school)\n",
    "- lunch : having lunch before test (standard or free/reduced)\n",
    "- test preparation course : complete or not complete before test\n",
    "- math score\n",
    "- reading score\n",
    "- writing score"
   ]
  },
  {
   "cell_type": "markdown",
   "metadata": {},
   "source": [
    "## Import LibrariesL-\n",
    "- Pandas\n",
    "- Numpy\n",
    "- Matplotlib\n",
    "- Seaborn\n",
    "## Version:-\n",
    "- Python 3.11.5"
   ]
  },
  {
   "cell_type": "code",
   "execution_count": 91,
   "metadata": {},
   "outputs": [],
   "source": [
    "# import libraries\n",
    "import pandas as pd\n",
    "import numpy as np\n",
    "import matplotlib.pyplot as plt\n",
    "import seaborn as sns\n",
    "import plotly.express as px\n",
    "# display all columns\n",
    "pd.pandas.set_option('display.max_columns', None)\n",
    "# display all rows\n",
    "pd.pandas.set_option('display.max_rows', None)\n",
    "\n",
    "# ignore warnings\n",
    "import warnings\n",
    "warnings.filterwarnings('ignore')\n",
    "\n",
    "# load data online\n",
    "import os\n",
    "for dirname, _, filenames in os.walk('/kaggle/input'):\n",
    "    for filename in filenames:\n",
    "        print(os.path.join(dirname, filename))\n"
   ]
  },
  {
   "cell_type": "markdown",
   "metadata": {},
   "source": [
    "## Load the daataset \n",
    "- create dataframe(df).\n",
    "- Store data in variable df."
   ]
  },
  {
   "cell_type": "code",
   "execution_count": 92,
   "metadata": {},
   "outputs": [],
   "source": [
    "# Load data online\n",
    "#df = pd.read_csv('/kaggle/input/student-study-performance/study_performance.csv')\n",
    "# load data locally\n",
    "df = pd.read_csv('./data/study_performance.csv')"
   ]
  },
  {
   "cell_type": "markdown",
   "metadata": {},
   "source": [
    "# Let's Start Data Wrangling\n",
    "- Look first five rows"
   ]
  },
  {
   "cell_type": "code",
   "execution_count": 93,
   "metadata": {},
   "outputs": [
    {
     "data": {
      "text/html": [
       "<div>\n",
       "<style scoped>\n",
       "    .dataframe tbody tr th:only-of-type {\n",
       "        vertical-align: middle;\n",
       "    }\n",
       "\n",
       "    .dataframe tbody tr th {\n",
       "        vertical-align: top;\n",
       "    }\n",
       "\n",
       "    .dataframe thead th {\n",
       "        text-align: right;\n",
       "    }\n",
       "</style>\n",
       "<table border=\"1\" class=\"dataframe\">\n",
       "  <thead>\n",
       "    <tr style=\"text-align: right;\">\n",
       "      <th></th>\n",
       "      <th>gender</th>\n",
       "      <th>race_ethnicity</th>\n",
       "      <th>parental_level_of_education</th>\n",
       "      <th>lunch</th>\n",
       "      <th>test_preparation_course</th>\n",
       "      <th>math_score</th>\n",
       "      <th>reading_score</th>\n",
       "      <th>writing_score</th>\n",
       "    </tr>\n",
       "  </thead>\n",
       "  <tbody>\n",
       "    <tr>\n",
       "      <th>0</th>\n",
       "      <td>female</td>\n",
       "      <td>group B</td>\n",
       "      <td>bachelor's degree</td>\n",
       "      <td>standard</td>\n",
       "      <td>none</td>\n",
       "      <td>72</td>\n",
       "      <td>72</td>\n",
       "      <td>74</td>\n",
       "    </tr>\n",
       "    <tr>\n",
       "      <th>1</th>\n",
       "      <td>female</td>\n",
       "      <td>group C</td>\n",
       "      <td>some college</td>\n",
       "      <td>standard</td>\n",
       "      <td>completed</td>\n",
       "      <td>69</td>\n",
       "      <td>90</td>\n",
       "      <td>88</td>\n",
       "    </tr>\n",
       "    <tr>\n",
       "      <th>2</th>\n",
       "      <td>female</td>\n",
       "      <td>group B</td>\n",
       "      <td>master's degree</td>\n",
       "      <td>standard</td>\n",
       "      <td>none</td>\n",
       "      <td>90</td>\n",
       "      <td>95</td>\n",
       "      <td>93</td>\n",
       "    </tr>\n",
       "    <tr>\n",
       "      <th>3</th>\n",
       "      <td>male</td>\n",
       "      <td>group A</td>\n",
       "      <td>associate's degree</td>\n",
       "      <td>free/reduced</td>\n",
       "      <td>none</td>\n",
       "      <td>47</td>\n",
       "      <td>57</td>\n",
       "      <td>44</td>\n",
       "    </tr>\n",
       "    <tr>\n",
       "      <th>4</th>\n",
       "      <td>male</td>\n",
       "      <td>group C</td>\n",
       "      <td>some college</td>\n",
       "      <td>standard</td>\n",
       "      <td>none</td>\n",
       "      <td>76</td>\n",
       "      <td>78</td>\n",
       "      <td>75</td>\n",
       "    </tr>\n",
       "  </tbody>\n",
       "</table>\n",
       "</div>"
      ],
      "text/plain": [
       "   gender race_ethnicity parental_level_of_education         lunch  \\\n",
       "0  female        group B           bachelor's degree      standard   \n",
       "1  female        group C                some college      standard   \n",
       "2  female        group B             master's degree      standard   \n",
       "3    male        group A          associate's degree  free/reduced   \n",
       "4    male        group C                some college      standard   \n",
       "\n",
       "  test_preparation_course  math_score  reading_score  writing_score  \n",
       "0                    none          72             72             74  \n",
       "1               completed          69             90             88  \n",
       "2                    none          90             95             93  \n",
       "3                    none          47             57             44  \n",
       "4                    none          76             78             75  "
      ]
     },
     "execution_count": 93,
     "metadata": {},
     "output_type": "execute_result"
    }
   ],
   "source": [
    "# Get head of the data\n",
    "df.head()"
   ]
  },
  {
   "cell_type": "code",
   "execution_count": 94,
   "metadata": {},
   "outputs": [
    {
     "data": {
      "text/plain": [
       "(1000, 8)"
      ]
     },
     "execution_count": 94,
     "metadata": {},
     "output_type": "execute_result"
    }
   ],
   "source": [
    "# Get the shape of the dataset\n",
    "df.shape"
   ]
  },
  {
   "cell_type": "code",
   "execution_count": 95,
   "metadata": {},
   "outputs": [
    {
     "name": "stdout",
     "output_type": "stream",
     "text": [
      "<class 'pandas.core.frame.DataFrame'>\n",
      "RangeIndex: 1000 entries, 0 to 999\n",
      "Data columns (total 8 columns):\n",
      " #   Column                       Non-Null Count  Dtype \n",
      "---  ------                       --------------  ----- \n",
      " 0   gender                       1000 non-null   object\n",
      " 1   race_ethnicity               1000 non-null   object\n",
      " 2   parental_level_of_education  1000 non-null   object\n",
      " 3   lunch                        1000 non-null   object\n",
      " 4   test_preparation_course      1000 non-null   object\n",
      " 5   math_score                   1000 non-null   int64 \n",
      " 6   reading_score                1000 non-null   int64 \n",
      " 7   writing_score                1000 non-null   int64 \n",
      "dtypes: int64(3), object(5)\n",
      "memory usage: 62.6+ KB\n"
     ]
    }
   ],
   "source": [
    "# Get the basic information about the dataset\n",
    "df.info()"
   ]
  },
  {
   "cell_type": "code",
   "execution_count": 96,
   "metadata": {},
   "outputs": [
    {
     "data": {
      "text/html": [
       "<div>\n",
       "<style scoped>\n",
       "    .dataframe tbody tr th:only-of-type {\n",
       "        vertical-align: middle;\n",
       "    }\n",
       "\n",
       "    .dataframe tbody tr th {\n",
       "        vertical-align: top;\n",
       "    }\n",
       "\n",
       "    .dataframe thead th {\n",
       "        text-align: right;\n",
       "    }\n",
       "</style>\n",
       "<table border=\"1\" class=\"dataframe\">\n",
       "  <thead>\n",
       "    <tr style=\"text-align: right;\">\n",
       "      <th></th>\n",
       "      <th>math_score</th>\n",
       "      <th>reading_score</th>\n",
       "      <th>writing_score</th>\n",
       "    </tr>\n",
       "  </thead>\n",
       "  <tbody>\n",
       "    <tr>\n",
       "      <th>count</th>\n",
       "      <td>1000.00000</td>\n",
       "      <td>1000.000000</td>\n",
       "      <td>1000.000000</td>\n",
       "    </tr>\n",
       "    <tr>\n",
       "      <th>mean</th>\n",
       "      <td>66.08900</td>\n",
       "      <td>69.169000</td>\n",
       "      <td>68.054000</td>\n",
       "    </tr>\n",
       "    <tr>\n",
       "      <th>std</th>\n",
       "      <td>15.16308</td>\n",
       "      <td>14.600192</td>\n",
       "      <td>15.195657</td>\n",
       "    </tr>\n",
       "    <tr>\n",
       "      <th>min</th>\n",
       "      <td>0.00000</td>\n",
       "      <td>17.000000</td>\n",
       "      <td>10.000000</td>\n",
       "    </tr>\n",
       "    <tr>\n",
       "      <th>25%</th>\n",
       "      <td>57.00000</td>\n",
       "      <td>59.000000</td>\n",
       "      <td>57.750000</td>\n",
       "    </tr>\n",
       "    <tr>\n",
       "      <th>50%</th>\n",
       "      <td>66.00000</td>\n",
       "      <td>70.000000</td>\n",
       "      <td>69.000000</td>\n",
       "    </tr>\n",
       "    <tr>\n",
       "      <th>75%</th>\n",
       "      <td>77.00000</td>\n",
       "      <td>79.000000</td>\n",
       "      <td>79.000000</td>\n",
       "    </tr>\n",
       "    <tr>\n",
       "      <th>max</th>\n",
       "      <td>100.00000</td>\n",
       "      <td>100.000000</td>\n",
       "      <td>100.000000</td>\n",
       "    </tr>\n",
       "  </tbody>\n",
       "</table>\n",
       "</div>"
      ],
      "text/plain": [
       "       math_score  reading_score  writing_score\n",
       "count  1000.00000    1000.000000    1000.000000\n",
       "mean     66.08900      69.169000      68.054000\n",
       "std      15.16308      14.600192      15.195657\n",
       "min       0.00000      17.000000      10.000000\n",
       "25%      57.00000      59.000000      57.750000\n",
       "50%      66.00000      70.000000      69.000000\n",
       "75%      77.00000      79.000000      79.000000\n",
       "max     100.00000     100.000000     100.000000"
      ]
     },
     "execution_count": 96,
     "metadata": {},
     "output_type": "execute_result"
    }
   ],
   "source": [
    "# Summary of the dataset\n",
    "df.describe()"
   ]
  },
  {
   "cell_type": "code",
   "execution_count": 97,
   "metadata": {},
   "outputs": [
    {
     "data": {
      "text/plain": [
       "Index(['gender', 'race_ethnicity', 'parental_level_of_education', 'lunch',\n",
       "       'test_preparation_course', 'math_score', 'reading_score',\n",
       "       'writing_score'],\n",
       "      dtype='object')"
      ]
     },
     "execution_count": 97,
     "metadata": {},
     "output_type": "execute_result"
    }
   ],
   "source": [
    "# Columns in the dataset\n",
    "df.columns"
   ]
  },
  {
   "cell_type": "markdown",
   "metadata": {},
   "source": [
    "## Obervation Set 1:-\n",
    "- Data set have 8 columns.\n",
    "- Data set have 1000 rows.\n",
    "- 3 columns are Interger data type.\n",
    "- 5 columns are Object data type.\n",
    "- Columms name are following:\n",
    "  - ['gender', 'race_ethnicity', 'parental_level_of_education', 'lunch',\n",
    "  - 'test_preparation_course', 'math_score', 'reading_score',\n",
    "  - 'writing_score']"
   ]
  },
  {
   "cell_type": "markdown",
   "metadata": {},
   "source": [
    "# Check missing values of this dataset"
   ]
  },
  {
   "cell_type": "code",
   "execution_count": 98,
   "metadata": {},
   "outputs": [
    {
     "data": {
      "text/plain": [
       "gender                         0\n",
       "race_ethnicity                 0\n",
       "parental_level_of_education    0\n",
       "lunch                          0\n",
       "test_preparation_course        0\n",
       "math_score                     0\n",
       "reading_score                  0\n",
       "writing_score                  0\n",
       "dtype: int64"
      ]
     },
     "execution_count": 98,
     "metadata": {},
     "output_type": "execute_result"
    }
   ],
   "source": [
    "# Missing values\n",
    "df.isnull().sum()"
   ]
  },
  {
   "cell_type": "markdown",
   "metadata": {},
   "source": [
    "- This data set have no missing value\n",
    "- we are good to go "
   ]
  },
  {
   "cell_type": "markdown",
   "metadata": {},
   "source": [
    "## Check the duplicates values"
   ]
  },
  {
   "cell_type": "code",
   "execution_count": 99,
   "metadata": {},
   "outputs": [
    {
     "data": {
      "text/plain": [
       "0"
      ]
     },
     "execution_count": 99,
     "metadata": {},
     "output_type": "execute_result"
    }
   ],
   "source": [
    "# Duplicates\n",
    "df.duplicated().sum()"
   ]
  },
  {
   "cell_type": "markdown",
   "metadata": {},
   "source": [
    "- This data set have no duplicate values\n",
    "- we are good to go "
   ]
  },
  {
   "cell_type": "markdown",
   "metadata": {},
   "source": [
    "# Let's Start Exploratory Data Analysis.\n",
    "- Find the hidden insighs of data\n",
    "- Explore column by column"
   ]
  },
  {
   "cell_type": "code",
   "execution_count": 100,
   "metadata": {},
   "outputs": [
    {
     "data": {
      "text/plain": [
       "array(['female', 'male'], dtype=object)"
      ]
     },
     "execution_count": 100,
     "metadata": {},
     "output_type": "execute_result"
    }
   ],
   "source": [
    "df['gender'].unique()"
   ]
  },
  {
   "cell_type": "code",
   "execution_count": 101,
   "metadata": {},
   "outputs": [
    {
     "name": "stdout",
     "output_type": "stream",
     "text": [
      "['group B' 'group C' 'group A' 'group D' 'group E']\n",
      "5\n"
     ]
    }
   ],
   "source": [
    "print(df['race_ethnicity'].unique())\n",
    "print(df['race_ethnicity'].nunique())"
   ]
  },
  {
   "cell_type": "code",
   "execution_count": 102,
   "metadata": {},
   "outputs": [
    {
     "name": "stdout",
     "output_type": "stream",
     "text": [
      "[\"bachelor's degree\" 'some college' \"master's degree\" \"associate's degree\"\n",
      " 'high school' 'some high school']\n",
      "6\n"
     ]
    }
   ],
   "source": [
    "print(df['parental_level_of_education'].unique())\n",
    "print(df['parental_level_of_education'].nunique())"
   ]
  },
  {
   "cell_type": "code",
   "execution_count": 103,
   "metadata": {},
   "outputs": [
    {
     "name": "stdout",
     "output_type": "stream",
     "text": [
      "['standard' 'free/reduced']\n",
      "2\n"
     ]
    }
   ],
   "source": [
    "print(df['lunch'].unique())\n",
    "print(df['lunch'].nunique())"
   ]
  },
  {
   "cell_type": "code",
   "execution_count": 104,
   "metadata": {},
   "outputs": [
    {
     "name": "stdout",
     "output_type": "stream",
     "text": [
      "['none' 'completed']\n",
      "2\n"
     ]
    }
   ],
   "source": [
    "print(df['test_preparation_course'].unique())\n",
    "print(df['test_preparation_course'].nunique())"
   ]
  },
  {
   "cell_type": "markdown",
   "metadata": {},
   "source": [
    "### Obervation Set 2:-\n",
    "- Check the parental_level_of_education column.\n",
    "- This column have high school or same high school values.\n",
    "- explore this column."
   ]
  },
  {
   "cell_type": "code",
   "execution_count": 105,
   "metadata": {},
   "outputs": [
    {
     "data": {
      "text/plain": [
       "parental_level_of_education\n",
       "some college          226\n",
       "associate's degree    222\n",
       "high school           196\n",
       "some high school      179\n",
       "bachelor's degree     118\n",
       "master's degree        59\n",
       "Name: count, dtype: int64"
      ]
     },
     "execution_count": 105,
     "metadata": {},
     "output_type": "execute_result"
    }
   ],
   "source": [
    "df['parental_level_of_education'].value_counts()"
   ]
  },
  {
   "cell_type": "code",
   "execution_count": 106,
   "metadata": {},
   "outputs": [
    {
     "data": {
      "text/html": [
       "<div>\n",
       "<style scoped>\n",
       "    .dataframe tbody tr th:only-of-type {\n",
       "        vertical-align: middle;\n",
       "    }\n",
       "\n",
       "    .dataframe tbody tr th {\n",
       "        vertical-align: top;\n",
       "    }\n",
       "\n",
       "    .dataframe thead th {\n",
       "        text-align: right;\n",
       "    }\n",
       "</style>\n",
       "<table border=\"1\" class=\"dataframe\">\n",
       "  <thead>\n",
       "    <tr style=\"text-align: right;\">\n",
       "      <th></th>\n",
       "      <th>gender</th>\n",
       "      <th>race_ethnicity</th>\n",
       "      <th>parental_level_of_education</th>\n",
       "      <th>lunch</th>\n",
       "      <th>test_preparation_course</th>\n",
       "      <th>math_score</th>\n",
       "      <th>reading_score</th>\n",
       "      <th>writing_score</th>\n",
       "    </tr>\n",
       "  </thead>\n",
       "  <tbody>\n",
       "    <tr>\n",
       "      <th>15</th>\n",
       "      <td>female</td>\n",
       "      <td>group C</td>\n",
       "      <td>some high school</td>\n",
       "      <td>standard</td>\n",
       "      <td>none</td>\n",
       "      <td>69</td>\n",
       "      <td>75</td>\n",
       "      <td>78</td>\n",
       "    </tr>\n",
       "    <tr>\n",
       "      <th>17</th>\n",
       "      <td>female</td>\n",
       "      <td>group B</td>\n",
       "      <td>some high school</td>\n",
       "      <td>free/reduced</td>\n",
       "      <td>none</td>\n",
       "      <td>18</td>\n",
       "      <td>32</td>\n",
       "      <td>28</td>\n",
       "    </tr>\n",
       "    <tr>\n",
       "      <th>23</th>\n",
       "      <td>female</td>\n",
       "      <td>group C</td>\n",
       "      <td>some high school</td>\n",
       "      <td>standard</td>\n",
       "      <td>none</td>\n",
       "      <td>69</td>\n",
       "      <td>73</td>\n",
       "      <td>73</td>\n",
       "    </tr>\n",
       "    <tr>\n",
       "      <th>37</th>\n",
       "      <td>female</td>\n",
       "      <td>group D</td>\n",
       "      <td>some high school</td>\n",
       "      <td>free/reduced</td>\n",
       "      <td>none</td>\n",
       "      <td>50</td>\n",
       "      <td>64</td>\n",
       "      <td>59</td>\n",
       "    </tr>\n",
       "    <tr>\n",
       "      <th>54</th>\n",
       "      <td>female</td>\n",
       "      <td>group C</td>\n",
       "      <td>some high school</td>\n",
       "      <td>free/reduced</td>\n",
       "      <td>completed</td>\n",
       "      <td>71</td>\n",
       "      <td>84</td>\n",
       "      <td>87</td>\n",
       "    </tr>\n",
       "    <tr>\n",
       "      <th>59</th>\n",
       "      <td>female</td>\n",
       "      <td>group C</td>\n",
       "      <td>some high school</td>\n",
       "      <td>free/reduced</td>\n",
       "      <td>none</td>\n",
       "      <td>0</td>\n",
       "      <td>17</td>\n",
       "      <td>10</td>\n",
       "    </tr>\n",
       "    <tr>\n",
       "      <th>61</th>\n",
       "      <td>male</td>\n",
       "      <td>group A</td>\n",
       "      <td>some high school</td>\n",
       "      <td>free/reduced</td>\n",
       "      <td>none</td>\n",
       "      <td>39</td>\n",
       "      <td>39</td>\n",
       "      <td>34</td>\n",
       "    </tr>\n",
       "    <tr>\n",
       "      <th>64</th>\n",
       "      <td>female</td>\n",
       "      <td>group D</td>\n",
       "      <td>some high school</td>\n",
       "      <td>standard</td>\n",
       "      <td>none</td>\n",
       "      <td>59</td>\n",
       "      <td>58</td>\n",
       "      <td>59</td>\n",
       "    </tr>\n",
       "    <tr>\n",
       "      <th>65</th>\n",
       "      <td>male</td>\n",
       "      <td>group B</td>\n",
       "      <td>some high school</td>\n",
       "      <td>standard</td>\n",
       "      <td>none</td>\n",
       "      <td>67</td>\n",
       "      <td>64</td>\n",
       "      <td>61</td>\n",
       "    </tr>\n",
       "    <tr>\n",
       "      <th>66</th>\n",
       "      <td>male</td>\n",
       "      <td>group D</td>\n",
       "      <td>some high school</td>\n",
       "      <td>free/reduced</td>\n",
       "      <td>none</td>\n",
       "      <td>45</td>\n",
       "      <td>37</td>\n",
       "      <td>37</td>\n",
       "    </tr>\n",
       "  </tbody>\n",
       "</table>\n",
       "</div>"
      ],
      "text/plain": [
       "    gender race_ethnicity parental_level_of_education         lunch  \\\n",
       "15  female        group C            some high school      standard   \n",
       "17  female        group B            some high school  free/reduced   \n",
       "23  female        group C            some high school      standard   \n",
       "37  female        group D            some high school  free/reduced   \n",
       "54  female        group C            some high school  free/reduced   \n",
       "59  female        group C            some high school  free/reduced   \n",
       "61    male        group A            some high school  free/reduced   \n",
       "64  female        group D            some high school      standard   \n",
       "65    male        group B            some high school      standard   \n",
       "66    male        group D            some high school  free/reduced   \n",
       "\n",
       "   test_preparation_course  math_score  reading_score  writing_score  \n",
       "15                    none          69             75             78  \n",
       "17                    none          18             32             28  \n",
       "23                    none          69             73             73  \n",
       "37                    none          50             64             59  \n",
       "54               completed          71             84             87  \n",
       "59                    none           0             17             10  \n",
       "61                    none          39             39             34  \n",
       "64                    none          59             58             59  \n",
       "65                    none          67             64             61  \n",
       "66                    none          45             37             37  "
      ]
     },
     "execution_count": 106,
     "metadata": {},
     "output_type": "execute_result"
    }
   ],
   "source": [
    "df[df['parental_level_of_education']== 'some high school'].head(10)"
   ]
  },
  {
   "cell_type": "code",
   "execution_count": 107,
   "metadata": {},
   "outputs": [
    {
     "data": {
      "text/html": [
       "<div>\n",
       "<style scoped>\n",
       "    .dataframe tbody tr th:only-of-type {\n",
       "        vertical-align: middle;\n",
       "    }\n",
       "\n",
       "    .dataframe tbody tr th {\n",
       "        vertical-align: top;\n",
       "    }\n",
       "\n",
       "    .dataframe thead th {\n",
       "        text-align: right;\n",
       "    }\n",
       "</style>\n",
       "<table border=\"1\" class=\"dataframe\">\n",
       "  <thead>\n",
       "    <tr style=\"text-align: right;\">\n",
       "      <th></th>\n",
       "      <th>gender</th>\n",
       "      <th>race_ethnicity</th>\n",
       "      <th>parental_level_of_education</th>\n",
       "      <th>lunch</th>\n",
       "      <th>test_preparation_course</th>\n",
       "      <th>math_score</th>\n",
       "      <th>reading_score</th>\n",
       "      <th>writing_score</th>\n",
       "    </tr>\n",
       "  </thead>\n",
       "  <tbody>\n",
       "    <tr>\n",
       "      <th>8</th>\n",
       "      <td>male</td>\n",
       "      <td>group D</td>\n",
       "      <td>high school</td>\n",
       "      <td>free/reduced</td>\n",
       "      <td>completed</td>\n",
       "      <td>64</td>\n",
       "      <td>64</td>\n",
       "      <td>67</td>\n",
       "    </tr>\n",
       "    <tr>\n",
       "      <th>9</th>\n",
       "      <td>female</td>\n",
       "      <td>group B</td>\n",
       "      <td>high school</td>\n",
       "      <td>free/reduced</td>\n",
       "      <td>none</td>\n",
       "      <td>38</td>\n",
       "      <td>60</td>\n",
       "      <td>50</td>\n",
       "    </tr>\n",
       "    <tr>\n",
       "      <th>12</th>\n",
       "      <td>female</td>\n",
       "      <td>group B</td>\n",
       "      <td>high school</td>\n",
       "      <td>standard</td>\n",
       "      <td>none</td>\n",
       "      <td>65</td>\n",
       "      <td>81</td>\n",
       "      <td>73</td>\n",
       "    </tr>\n",
       "    <tr>\n",
       "      <th>16</th>\n",
       "      <td>male</td>\n",
       "      <td>group C</td>\n",
       "      <td>high school</td>\n",
       "      <td>standard</td>\n",
       "      <td>none</td>\n",
       "      <td>88</td>\n",
       "      <td>89</td>\n",
       "      <td>86</td>\n",
       "    </tr>\n",
       "    <tr>\n",
       "      <th>20</th>\n",
       "      <td>male</td>\n",
       "      <td>group D</td>\n",
       "      <td>high school</td>\n",
       "      <td>standard</td>\n",
       "      <td>none</td>\n",
       "      <td>66</td>\n",
       "      <td>69</td>\n",
       "      <td>63</td>\n",
       "    </tr>\n",
       "    <tr>\n",
       "      <th>28</th>\n",
       "      <td>male</td>\n",
       "      <td>group C</td>\n",
       "      <td>high school</td>\n",
       "      <td>standard</td>\n",
       "      <td>none</td>\n",
       "      <td>70</td>\n",
       "      <td>70</td>\n",
       "      <td>65</td>\n",
       "    </tr>\n",
       "    <tr>\n",
       "      <th>47</th>\n",
       "      <td>female</td>\n",
       "      <td>group C</td>\n",
       "      <td>high school</td>\n",
       "      <td>standard</td>\n",
       "      <td>none</td>\n",
       "      <td>66</td>\n",
       "      <td>71</td>\n",
       "      <td>76</td>\n",
       "    </tr>\n",
       "    <tr>\n",
       "      <th>49</th>\n",
       "      <td>male</td>\n",
       "      <td>group C</td>\n",
       "      <td>high school</td>\n",
       "      <td>standard</td>\n",
       "      <td>completed</td>\n",
       "      <td>82</td>\n",
       "      <td>84</td>\n",
       "      <td>82</td>\n",
       "    </tr>\n",
       "    <tr>\n",
       "      <th>53</th>\n",
       "      <td>male</td>\n",
       "      <td>group D</td>\n",
       "      <td>high school</td>\n",
       "      <td>standard</td>\n",
       "      <td>none</td>\n",
       "      <td>88</td>\n",
       "      <td>78</td>\n",
       "      <td>75</td>\n",
       "    </tr>\n",
       "    <tr>\n",
       "      <th>55</th>\n",
       "      <td>female</td>\n",
       "      <td>group C</td>\n",
       "      <td>high school</td>\n",
       "      <td>free/reduced</td>\n",
       "      <td>none</td>\n",
       "      <td>33</td>\n",
       "      <td>41</td>\n",
       "      <td>43</td>\n",
       "    </tr>\n",
       "  </tbody>\n",
       "</table>\n",
       "</div>"
      ],
      "text/plain": [
       "    gender race_ethnicity parental_level_of_education         lunch  \\\n",
       "8     male        group D                 high school  free/reduced   \n",
       "9   female        group B                 high school  free/reduced   \n",
       "12  female        group B                 high school      standard   \n",
       "16    male        group C                 high school      standard   \n",
       "20    male        group D                 high school      standard   \n",
       "28    male        group C                 high school      standard   \n",
       "47  female        group C                 high school      standard   \n",
       "49    male        group C                 high school      standard   \n",
       "53    male        group D                 high school      standard   \n",
       "55  female        group C                 high school  free/reduced   \n",
       "\n",
       "   test_preparation_course  math_score  reading_score  writing_score  \n",
       "8                completed          64             64             67  \n",
       "9                     none          38             60             50  \n",
       "12                    none          65             81             73  \n",
       "16                    none          88             89             86  \n",
       "20                    none          66             69             63  \n",
       "28                    none          70             70             65  \n",
       "47                    none          66             71             76  \n",
       "49               completed          82             84             82  \n",
       "53                    none          88             78             75  \n",
       "55                    none          33             41             43  "
      ]
     },
     "execution_count": 107,
     "metadata": {},
     "output_type": "execute_result"
    }
   ],
   "source": [
    "df[df['parental_level_of_education']== 'high school'].head(10)"
   ]
  },
  {
   "cell_type": "markdown",
   "metadata": {},
   "source": [
    "- Convert the some high school to high school"
   ]
  },
  {
   "cell_type": "code",
   "execution_count": 108,
   "metadata": {},
   "outputs": [],
   "source": [
    "# some high school replace with high school\n",
    "df['parental_level_of_education'] = df['parental_level_of_education'].replace('some high school', 'high school')"
   ]
  },
  {
   "cell_type": "code",
   "execution_count": 109,
   "metadata": {},
   "outputs": [
    {
     "data": {
      "text/plain": [
       "parental_level_of_education\n",
       "high school           375\n",
       "some college          226\n",
       "associate's degree    222\n",
       "bachelor's degree     118\n",
       "master's degree        59\n",
       "Name: count, dtype: int64"
      ]
     },
     "execution_count": 109,
     "metadata": {},
     "output_type": "execute_result"
    }
   ],
   "source": [
    "df['parental_level_of_education'].value_counts()"
   ]
  },
  {
   "cell_type": "markdown",
   "metadata": {},
   "source": [
    "### Obervation Set 3:-\n",
    "- Create new column `Total Number`.\n",
    "- Add `math_score`, `reading_score`, and `writing_score`.\n",
    "- Create another new column `Average`\n",
    "- Show the average of `math_scoure`, `reading_score` and `writing_score`."
   ]
  },
  {
   "cell_type": "code",
   "execution_count": 110,
   "metadata": {},
   "outputs": [
    {
     "data": {
      "text/html": [
       "<div>\n",
       "<style scoped>\n",
       "    .dataframe tbody tr th:only-of-type {\n",
       "        vertical-align: middle;\n",
       "    }\n",
       "\n",
       "    .dataframe tbody tr th {\n",
       "        vertical-align: top;\n",
       "    }\n",
       "\n",
       "    .dataframe thead th {\n",
       "        text-align: right;\n",
       "    }\n",
       "</style>\n",
       "<table border=\"1\" class=\"dataframe\">\n",
       "  <thead>\n",
       "    <tr style=\"text-align: right;\">\n",
       "      <th></th>\n",
       "      <th>gender</th>\n",
       "      <th>race_ethnicity</th>\n",
       "      <th>parental_level_of_education</th>\n",
       "      <th>lunch</th>\n",
       "      <th>test_preparation_course</th>\n",
       "      <th>math_score</th>\n",
       "      <th>reading_score</th>\n",
       "      <th>writing_score</th>\n",
       "      <th>total_number</th>\n",
       "      <th>average</th>\n",
       "    </tr>\n",
       "  </thead>\n",
       "  <tbody>\n",
       "    <tr>\n",
       "      <th>0</th>\n",
       "      <td>female</td>\n",
       "      <td>group B</td>\n",
       "      <td>bachelor's degree</td>\n",
       "      <td>standard</td>\n",
       "      <td>none</td>\n",
       "      <td>72</td>\n",
       "      <td>72</td>\n",
       "      <td>74</td>\n",
       "      <td>218</td>\n",
       "      <td>72.666667</td>\n",
       "    </tr>\n",
       "    <tr>\n",
       "      <th>1</th>\n",
       "      <td>female</td>\n",
       "      <td>group C</td>\n",
       "      <td>some college</td>\n",
       "      <td>standard</td>\n",
       "      <td>completed</td>\n",
       "      <td>69</td>\n",
       "      <td>90</td>\n",
       "      <td>88</td>\n",
       "      <td>247</td>\n",
       "      <td>82.333333</td>\n",
       "    </tr>\n",
       "    <tr>\n",
       "      <th>2</th>\n",
       "      <td>female</td>\n",
       "      <td>group B</td>\n",
       "      <td>master's degree</td>\n",
       "      <td>standard</td>\n",
       "      <td>none</td>\n",
       "      <td>90</td>\n",
       "      <td>95</td>\n",
       "      <td>93</td>\n",
       "      <td>278</td>\n",
       "      <td>92.666667</td>\n",
       "    </tr>\n",
       "    <tr>\n",
       "      <th>3</th>\n",
       "      <td>male</td>\n",
       "      <td>group A</td>\n",
       "      <td>associate's degree</td>\n",
       "      <td>free/reduced</td>\n",
       "      <td>none</td>\n",
       "      <td>47</td>\n",
       "      <td>57</td>\n",
       "      <td>44</td>\n",
       "      <td>148</td>\n",
       "      <td>49.333333</td>\n",
       "    </tr>\n",
       "    <tr>\n",
       "      <th>4</th>\n",
       "      <td>male</td>\n",
       "      <td>group C</td>\n",
       "      <td>some college</td>\n",
       "      <td>standard</td>\n",
       "      <td>none</td>\n",
       "      <td>76</td>\n",
       "      <td>78</td>\n",
       "      <td>75</td>\n",
       "      <td>229</td>\n",
       "      <td>76.333333</td>\n",
       "    </tr>\n",
       "  </tbody>\n",
       "</table>\n",
       "</div>"
      ],
      "text/plain": [
       "   gender race_ethnicity parental_level_of_education         lunch  \\\n",
       "0  female        group B           bachelor's degree      standard   \n",
       "1  female        group C                some college      standard   \n",
       "2  female        group B             master's degree      standard   \n",
       "3    male        group A          associate's degree  free/reduced   \n",
       "4    male        group C                some college      standard   \n",
       "\n",
       "  test_preparation_course  math_score  reading_score  writing_score  \\\n",
       "0                    none          72             72             74   \n",
       "1               completed          69             90             88   \n",
       "2                    none          90             95             93   \n",
       "3                    none          47             57             44   \n",
       "4                    none          76             78             75   \n",
       "\n",
       "   total_number    average  \n",
       "0           218  72.666667  \n",
       "1           247  82.333333  \n",
       "2           278  92.666667  \n",
       "3           148  49.333333  \n",
       "4           229  76.333333  "
      ]
     },
     "execution_count": 110,
     "metadata": {},
     "output_type": "execute_result"
    }
   ],
   "source": [
    "df['total_number'] = df['math_score'] + df['reading_score'] + df['writing_score']\n",
    "df['average'] = df['total_number']/3\n",
    "df.head()"
   ]
  },
  {
   "cell_type": "markdown",
   "metadata": {},
   "source": [
    "# Let's start find the patterns and insight"
   ]
  },
  {
   "cell_type": "markdown",
   "metadata": {},
   "source": [
    "### Q1. who dominate in this data set male or female?\n",
    "### Q2. `In race_ethnicity` which group is high contribution?\n",
    "### Q3. Check the Parents level of education?\n",
    "### Q4. How many student take standard `lunch`?\n",
    "### Q5. How many student complete test preparation?\n",
    "### Q6. Test numbers base on the parental level of education?\n",
    "### Q7- Can Parental level of education effect on children score?\n",
    "### Q8. Test numbers base on `race/ethnicity`?\n",
    "### Q9. Can `race/ethnicity` effect on student score?\n",
    "### Q10. How many student's take full marks, check math, writing and reading test?\n",
    "### Q11. How many student's take less then 20 marks, check math, writing and reading test?\n",
    "### Q12. How many student's take zero  marks, check math, writing and reading test?\n",
    "### Q13. Who's take more numbers male or female?\n",
    "### Q14. Which group top of the score base on `race_ethnicity`? \n",
    "### 15. Which group top on average base on `parental_level_of_education`"
   ]
  },
  {
   "cell_type": "markdown",
   "metadata": {},
   "source": [
    "### Q1. who dominate in this data set male or female?"
   ]
  },
  {
   "cell_type": "code",
   "execution_count": 111,
   "metadata": {},
   "outputs": [
    {
     "name": "stdout",
     "output_type": "stream",
     "text": [
      "    count  count\n",
      "0  female    518\n",
      "1    male    482\n"
     ]
    },
    {
     "data": {
      "image/png": "[encoded data removed]",
      "text/plain": [
       "<Figure size 640x480 with 1 Axes>"
      ]
     },
     "metadata": {},
     "output_type": "display_data"
    }
   ],
   "source": [
    "count_gender = df['gender'].value_counts()\n",
    "print(count_gender.reset_index().rename(columns = {'index':'gender', 'gender':'count'}))\n",
    "# make pie chart\n",
    "plt.pie(count_gender, labels = count_gender.index, autopct = '%.2f%%')\n",
    "plt.title('Distribution of Gender')\n",
    "plt.show()"
   ]
  },
  {
   "cell_type": "markdown",
   "metadata": {},
   "source": [
    "<center><b>Figure:1 </b> -Female more then Male.</center>"
   ]
  },
  {
   "cell_type": "markdown",
   "metadata": {},
   "source": [
    "### Q2. In `race_ethnicity` which group is high contribution?"
   ]
  },
  {
   "cell_type": "code",
   "execution_count": 112,
   "metadata": {},
   "outputs": [
    {
     "name": "stdout",
     "output_type": "stream",
     "text": [
      "  Race_Ethnicity  count\n",
      "0        group C    319\n",
      "1        group D    262\n",
      "2        group B    190\n",
      "3        group E    140\n",
      "4        group A     89\n"
     ]
    },
    {
     "data": {
      "image/png": "[encoded data removed]",
      "text/plain": [
       "<Figure size 640x480 with 1 Axes>"
      ]
     },
     "metadata": {},
     "output_type": "display_data"
    }
   ],
   "source": [
    "# Value counts of race_ethnicity\n",
    "count_race_ethnicity = df['race_ethnicity'].value_counts()\n",
    "print(count_race_ethnicity.reset_index().rename(columns = {'index':'race_ethnicity', 'race_ethnicity':'Race_Ethnicity'}))\n",
    "# Create bar chart\n",
    "plt.bar(count_race_ethnicity.index, count_race_ethnicity)\n",
    "plt.title('Distribution of race_ethnicity')\n",
    "plt.xlabel('race_ethnicity')\n",
    "plt.ylabel('count')\n",
    "plt.show()"
   ]
  },
  {
   "cell_type": "markdown",
   "metadata": {},
   "source": [
    "<center><b>Figure:2 </b>- Group C is highest group.</center>"
   ]
  },
  {
   "cell_type": "markdown",
   "metadata": {},
   "source": [
    "### Q3. Check the Parents level of education?"
   ]
  },
  {
   "cell_type": "code",
   "execution_count": 113,
   "metadata": {},
   "outputs": [
    {
     "name": "stdout",
     "output_type": "stream",
     "text": [
      "  Parental_Level_of_Education  count\n",
      "0                 high school    375\n",
      "1                some college    226\n",
      "2          associate's degree    222\n",
      "3           bachelor's degree    118\n",
      "4             master's degree     59\n"
     ]
    },
    {
     "data": {
      "image/png": "[encoded data removed]",
      "text/plain": [
       "<Figure size 640x480 with 1 Axes>"
      ]
     },
     "metadata": {},
     "output_type": "display_data"
    }
   ],
   "source": [
    "# Value counts of parental_level_of_education\n",
    "count_parental_level_of_education = df['parental_level_of_education'].value_counts()\n",
    "print(count_parental_level_of_education.reset_index().rename(columns = {'index':'parental_level_of_education', 'parental_level_of_education':'Parental_Level_of_Education'}))\n",
    "# Create bar chart\n",
    "plt.bar(count_parental_level_of_education.index, count_parental_level_of_education)\n",
    "plt.title('Distribution of parental_level_of_education')\n",
    "plt.xlabel('parental_level_of_education')\n",
    "plt.ylabel('count')\n",
    "plt.xticks(rotation = 45)\n",
    "plt.show()"
   ]
  },
  {
   "cell_type": "markdown",
   "metadata": {},
   "source": [
    "<center><b>Figure:3</b> -Parents education level.</center>"
   ]
  },
  {
   "cell_type": "markdown",
   "metadata": {},
   "source": [
    "### Q4. How many student take standard `lunch`?"
   ]
  },
  {
   "cell_type": "code",
   "execution_count": 114,
   "metadata": {},
   "outputs": [
    {
     "name": "stdout",
     "output_type": "stream",
     "text": [
      "          Lunch  count\n",
      "0      standard    645\n",
      "1  free/reduced    355\n"
     ]
    },
    {
     "data": {
      "image/png": "[encoded data removed]",
      "text/plain": [
       "<Figure size 640x480 with 1 Axes>"
      ]
     },
     "metadata": {},
     "output_type": "display_data"
    }
   ],
   "source": [
    "# Value counts of lunch\n",
    "count_lunch = df['lunch'].value_counts()\n",
    "print(count_lunch.reset_index().rename(columns = {'index':'lunch', 'lunch':'Lunch'}))\n",
    "# Create bar chart\n",
    "plt.bar(count_lunch.index, count_lunch)\n",
    "plt.title('Distribution of lunch')\n",
    "plt.xlabel('lunch')\n",
    "plt.ylabel('count')\n",
    "plt.show()"
   ]
  },
  {
   "cell_type": "markdown",
   "metadata": {},
   "source": [
    "<center><b>Figure:4</b> -Standard group is highest group.</center>"
   ]
  },
  {
   "cell_type": "markdown",
   "metadata": {},
   "source": [
    "### Q5. How many student complete test preparation?"
   ]
  },
  {
   "cell_type": "code",
   "execution_count": 115,
   "metadata": {},
   "outputs": [
    {
     "name": "stdout",
     "output_type": "stream",
     "text": [
      "  Test_Preparation_Course  count\n",
      "0                    none    642\n",
      "1               completed    358\n"
     ]
    },
    {
     "data": {
      "image/png": "[encoded data removed]",
      "text/plain": [
       "<Figure size 640x480 with 1 Axes>"
      ]
     },
     "metadata": {},
     "output_type": "display_data"
    }
   ],
   "source": [
    "# Value counts of test_preparation_course\n",
    "count_test_preparation_course = df['test_preparation_course'].value_counts()\n",
    "print(count_test_preparation_course.reset_index().rename(columns = {'index':'test_preparation_course', 'test_preparation_course':'Test_Preparation_Course'}))\n",
    "# Create bar chart\n",
    "plt.bar(count_test_preparation_course.index, count_test_preparation_course)\n",
    "plt.title('Distribution of test_preparation_course')\n",
    "plt.xlabel('test_preparation_course')\n",
    "plt.ylabel('count')\n",
    "plt.show()"
   ]
  },
  {
   "cell_type": "markdown",
   "metadata": {},
   "source": [
    "<center><b>Figure:5</b> - Test Preparation Course.</center>"
   ]
  },
  {
   "cell_type": "markdown",
   "metadata": {},
   "source": [
    "### Q6. Test numbers base on the parental level of education?\n",
    "### Q7- Can Parental level of education effect on children score?"
   ]
  },
  {
   "cell_type": "code",
   "execution_count": 116,
   "metadata": {},
   "outputs": [
    {
     "data": {
      "image/png": "[encoded data removed]",
      "text/plain": [
       "<Figure size 1400x1800 with 3 Axes>"
      ]
     },
     "metadata": {},
     "output_type": "display_data"
    }
   ],
   "source": [
    "# Multivariate Analysis: Parental Level of Education vs. Scores\n",
    "\n",
    "# Set up the figure size and layout\n",
    "fig, axes = plt.subplots(3, 1, figsize=(14, 18))\n",
    "\n",
    "# Box plots for scores by parental level of education\n",
    "score_columns = ['math_score', 'reading_score', 'writing_score']\n",
    "titles = ['Math numbers by Parental Level of Education', 'Reading numbers by Parental Level of Education', 'Writing numbers by Parental Level of Education']\n",
    "\n",
    "for i, score in enumerate(score_columns):\n",
    "    sns.boxplot(x='parental_level_of_education', y=score, data=df, ax=axes[i], palette='Set2')\n",
    "    axes[i].set_title(titles[i])\n",
    "    axes[i].set_xticklabels(axes[i].get_xticklabels(), rotation=45)\n",
    "    axes[i].set_xlabel('Parental Level of Education')\n",
    "    axes[i].set_ylabel(score.capitalize().replace('_', ' '))\n",
    "\n",
    "plt.tight_layout()\n",
    "plt.show()"
   ]
  },
  {
   "cell_type": "markdown",
   "metadata": {},
   "source": [
    "<center><b>Figure:6</b> - Yes Master's degree holders and associate's degree holders child are batter perfome in every test.</center>"
   ]
  },
  {
   "cell_type": "markdown",
   "metadata": {},
   "source": [
    "### Q8. Test numbers base on `race/ethnicity`?\n",
    "### Q9. Can `race/ethnicity` effect on student score?"
   ]
  },
  {
   "cell_type": "code",
   "execution_count": 117,
   "metadata": {},
   "outputs": [
    {
     "data": {
      "image/png": "[encoded data removed]",
      "text/plain": [
       "<Figure size 1400x1800 with 3 Axes>"
      ]
     },
     "metadata": {},
     "output_type": "display_data"
    }
   ],
   "source": [
    "# Set up the figure size and layout\n",
    "fig, axes = plt.subplots(3, 1, figsize=(14, 18))\n",
    "\n",
    "# Box plots for scores by race/ethnicity\n",
    "score_columns = ['math_score', 'reading_score', 'writing_score']\n",
    "titles = ['Math Numbers by Race/Ethnicity', 'Reading Numbers by Race/Ethnicity', 'Writing Numbers by Race/Ethnicity']\n",
    "\n",
    "for i, score in enumerate(score_columns):\n",
    "    sns.boxplot(x='race_ethnicity', y=score, data=df, ax=axes[i], palette='Set3', order=sorted(df['race_ethnicity'].unique()))\n",
    "    axes[i].set_title(titles[i])\n",
    "    axes[i].set_xlabel('Race/Ethnicity')\n",
    "    axes[i].set_ylabel(score.capitalize().replace('_', ' '))\n",
    "\n",
    "plt.tight_layout()\n",
    "plt.show()"
   ]
  },
  {
   "cell_type": "markdown",
   "metadata": {},
   "source": [
    "<center><b>Figure:7</b> - Yes Group A Student are batter perfome in every test.</center>"
   ]
  },
  {
   "cell_type": "markdown",
   "metadata": {},
   "source": [
    "### Q10. How many student's take full marks, check math, writing and reading test?"
   ]
  },
  {
   "cell_type": "code",
   "execution_count": 118,
   "metadata": {},
   "outputs": [
    {
     "name": "stdout",
     "output_type": "stream",
     "text": [
      "Number of students with full marks in Maths: 7\n",
      "Number of students with full marks in Writing: 14\n",
      "Number of students with full marks in Reading: 17\n"
     ]
    }
   ],
   "source": [
    "reading_full = df[df['reading_score'] == 100]['average'].count()\n",
    "writing_full = df[df['writing_score'] == 100]['average'].count()\n",
    "math_full = df[df['math_score'] == 100]['average'].count()\n",
    "\n",
    "print(f'Number of students with full marks in Maths: {math_full}')\n",
    "print(f'Number of students with full marks in Writing: {writing_full}')\n",
    "print(f'Number of students with full marks in Reading: {reading_full}')"
   ]
  },
  {
   "cell_type": "markdown",
   "metadata": {},
   "source": [
    "### Q11. How many student's take less then 20 marks, check math, writing and reading test?"
   ]
  },
  {
   "cell_type": "code",
   "execution_count": 119,
   "metadata": {},
   "outputs": [
    {
     "name": "stdout",
     "output_type": "stream",
     "text": [
      "Number of students with less than 20 marks in Maths: 4\n",
      "Number of students with less than 20 marks in Writing: 3\n",
      "Number of students with less than 20 marks in Reading: 1\n"
     ]
    }
   ],
   "source": [
    "reading_less_20 = df[df['reading_score'] <= 20]['average'].count()\n",
    "writing_less_20 = df[df['writing_score'] <= 20]['average'].count()\n",
    "math_less_20 = df[df['math_score'] <= 20]['average'].count()\n",
    "\n",
    "print(f'Number of students with less than 20 marks in Maths: {math_less_20}')\n",
    "print(f'Number of students with less than 20 marks in Writing: {writing_less_20}')\n",
    "print(f'Number of students with less than 20 marks in Reading: {reading_less_20}')"
   ]
  },
  {
   "cell_type": "markdown",
   "metadata": {},
   "source": [
    "### Q12. How many student's take zero  marks, check math, writing and reading test?"
   ]
  },
  {
   "cell_type": "code",
   "execution_count": 120,
   "metadata": {},
   "outputs": [
    {
     "name": "stdout",
     "output_type": "stream",
     "text": [
      "Number of students with less than 20 marks in Maths: 1\n",
      "Number of students with less than 20 marks in Writing: 0\n",
      "Number of students with less than 20 marks in Reading: 0\n"
     ]
    }
   ],
   "source": [
    "reading_zero = df[df['reading_score'] == 0]['average'].count()\n",
    "writing_zero = df[df['writing_score'] == 0]['average'].count()\n",
    "math_zero = df[df['math_score'] == 0]['average'].count()\n",
    "\n",
    "print(f'Number of students with less than 20 marks in Maths: {math_zero}')\n",
    "print(f'Number of students with less than 20 marks in Writing: {writing_zero}')\n",
    "print(f'Number of students with less than 20 marks in Reading: {reading_zero}')"
   ]
  },
  {
   "cell_type": "code",
   "execution_count": 121,
   "metadata": {},
   "outputs": [
    {
     "data": {
      "text/html": [
       "<div>\n",
       "<style scoped>\n",
       "    .dataframe tbody tr th:only-of-type {\n",
       "        vertical-align: middle;\n",
       "    }\n",
       "\n",
       "    .dataframe tbody tr th {\n",
       "        vertical-align: top;\n",
       "    }\n",
       "\n",
       "    .dataframe thead th {\n",
       "        text-align: right;\n",
       "    }\n",
       "</style>\n",
       "<table border=\"1\" class=\"dataframe\">\n",
       "  <thead>\n",
       "    <tr style=\"text-align: right;\">\n",
       "      <th></th>\n",
       "      <th>gender</th>\n",
       "      <th>race_ethnicity</th>\n",
       "      <th>parental_level_of_education</th>\n",
       "      <th>lunch</th>\n",
       "      <th>test_preparation_course</th>\n",
       "      <th>math_score</th>\n",
       "      <th>reading_score</th>\n",
       "      <th>writing_score</th>\n",
       "      <th>total_number</th>\n",
       "      <th>average</th>\n",
       "    </tr>\n",
       "  </thead>\n",
       "  <tbody>\n",
       "    <tr>\n",
       "      <th>59</th>\n",
       "      <td>female</td>\n",
       "      <td>group C</td>\n",
       "      <td>high school</td>\n",
       "      <td>free/reduced</td>\n",
       "      <td>none</td>\n",
       "      <td>0</td>\n",
       "      <td>17</td>\n",
       "      <td>10</td>\n",
       "      <td>27</td>\n",
       "      <td>9.0</td>\n",
       "    </tr>\n",
       "  </tbody>\n",
       "</table>\n",
       "</div>"
      ],
      "text/plain": [
       "    gender race_ethnicity parental_level_of_education         lunch  \\\n",
       "59  female        group C                 high school  free/reduced   \n",
       "\n",
       "   test_preparation_course  math_score  reading_score  writing_score  \\\n",
       "59                    none           0             17             10   \n",
       "\n",
       "    total_number  average  \n",
       "59            27      9.0  "
      ]
     },
     "execution_count": 121,
     "metadata": {},
     "output_type": "execute_result"
    }
   ],
   "source": [
    "df[df['math_score'] == 0]"
   ]
  },
  {
   "cell_type": "markdown",
   "metadata": {},
   "source": [
    "### Q13. Who's take more numbers male or female?"
   ]
  },
  {
   "cell_type": "code",
   "execution_count": 122,
   "metadata": {},
   "outputs": [
    {
     "data": {
      "text/plain": [
       "gender\n",
       "female    108111\n",
       "male       95201\n",
       "Name: total_number, dtype: int64"
      ]
     },
     "execution_count": 122,
     "metadata": {},
     "output_type": "execute_result"
    }
   ],
   "source": [
    "df.groupby('gender')['total_number'].sum()"
   ]
  },
  {
   "cell_type": "markdown",
   "metadata": {},
   "source": [
    "### Q14. Which group top of the score base on `race_ethnicity`? "
   ]
  },
  {
   "cell_type": "code",
   "execution_count": 123,
   "metadata": {},
   "outputs": [
    {
     "name": "stdout",
     "output_type": "stream",
     "text": [
      "race_ethnicity\n",
      "group C    64245\n",
      "group D    54375\n",
      "group B    37317\n",
      "group E    30556\n",
      "group A    16819\n",
      "Name: total_number, dtype: int64\n"
     ]
    }
   ],
   "source": [
    "print(df.groupby('race_ethnicity')['total_number'].sum().sort_values(ascending=False))\n"
   ]
  },
  {
   "cell_type": "markdown",
   "metadata": {},
   "source": [
    "### 15. Which group top on average base on `parental_level_of_education`"
   ]
  },
  {
   "cell_type": "code",
   "execution_count": 124,
   "metadata": {},
   "outputs": [
    {
     "data": {
      "text/plain": [
       "parental_level_of_education\n",
       "master's degree       73.598870\n",
       "bachelor's degree     71.923729\n",
       "associate's degree    69.569069\n",
       "some college          68.476401\n",
       "high school           64.056889\n",
       "Name: average, dtype: float64"
      ]
     },
     "execution_count": 124,
     "metadata": {},
     "output_type": "execute_result"
    }
   ],
   "source": [
    "df.groupby('parental_level_of_education')['average'].mean().sort_values(ascending=False)"
   ]
  },
  {
   "cell_type": "markdown",
   "metadata": {},
   "source": [
    "# Data Visualization:-"
   ]
  },
  {
   "cell_type": "code",
   "execution_count": 125,
   "metadata": {},
   "outputs": [
    {
     "data": {
      "application/vnd.plotly.v1+json": {
       "config": {
        "plotlyServerURL": "https://plot.ly"
       },
       "data": [
        {
         "alignmentgroup": "True",
         "bingroup": "x",
         "hovertemplate": "average=%{x}<br>count=%{y}<extra></extra>",
         "legendgroup": "",
         "marker": {
          "color": "#636efa",
          "pattern": {
           "shape": ""
          }
         },
         "name": "",
         "nbinsx": 30,
         "offsetgroup": "",
         "orientation": "v",
         "showlegend": false,
         "type": "histogram",
         "x": [
          72.66666666666667,
          82.33333333333333,
          92.66666666666667,
          49.333333333333336,
          76.33333333333333,
          77.33333333333333,
          91.66666666666667,
          40.666666666666664,
          65,
          49.333333333333336,
          54.666666666666664,
          45,
          73,
          73.33333333333333,
          53.666666666666664,
          74,
          87.66666666666667,
          26,
          44.666666666666664,
          57.666666666666664,
          66,
          70,
          50.333333333333336,
          71.66666666666667,
          75,
          73,
          59.333333333333336,
          70.33333333333333,
          68.33333333333333,
          69,
          72.33333333333333,
          63,
          64.33333333333333,
          40,
          88.66666666666667,
          80.33333333333333,
          79.33333333333333,
          57.666666666666664,
          84.33333333333333,
          56.666666666666664,
          56.666666666666664,
          66.33333333333333,
          58.666666666666664,
          63.333333333333336,
          53.333333333333336,
          58.666666666666664,
          60.666666666666664,
          71,
          69,
          82.66666666666667,
          52,
          71.33333333333333,
          46.333333333333336,
          80.33333333333333,
          80.66666666666667,
          39,
          84.33333333333333,
          52,
          58.333333333333336,
          9,
          75,
          37.333333333333336,
          59.333333333333336,
          73.33333333333333,
          58.666666666666664,
          64,
          39.666666666666664,
          68.66666666666667,
          58.333333333333336,
          53.333333333333336,
          64.66666666666667,
          60.333333333333336,
          46.666666666666664,
          58,
          46.333333333333336,
          41,
          26,
          79.66666666666667,
          69,
          66,
          48.666666666666664,
          46.333333333333336,
          50.333333333333336,
          66.33333333333333,
          38.333333333333336,
          78.33333333333333,
          82.33333333333333,
          72,
          65,
          80.33333333333333,
          70.33333333333333,
          32.333333333333336,
          73.66666666666667,
          46,
          85.66666666666667,
          80.33333333333333,
          64.33333333333333,
          68.33333333333333,
          62.333333333333336,
          64.66666666666667,
          71,
          72,
          88.33333333333333,
          50.333333333333336,
          91.33333333333333,
          65.66666666666667,
          95.66666666666667,
          64.33333333333333,
          66,
          68.66666666666667,
          88,
          55.333333333333336,
          51.333333333333336,
          54.333333333333336,
          99.66666666666667,
          78.33333333333333,
          80.66666666666667,
          79.66666666666667,
          58.333333333333336,
          63,
          86.66666666666667,
          90.66666666666667,
          91.33333333333333,
          58.666666666666664,
          78.66666666666667,
          89.33333333333333,
          69,
          72,
          79.33333333333333,
          50.333333333333336,
          85,
          43.333333333333336,
          77,
          80,
          76,
          53.666666666666664,
          48.666666666666664,
          60.333333333333336,
          64,
          67,
          73,
          61.666666666666664,
          50.333333333333336,
          49,
          79.66666666666667,
          31.333333333333332,
          82.33333333333333,
          69,
          74.66666666666667,
          97.66666666666667,
          66,
          70.66666666666667,
          65,
          50,
          63.333333333333336,
          82.33333333333333,
          72.66666666666667,
          60,
          78,
          64,
          78,
          82.66666666666667,
          51.333333333333336,
          51.333333333333336,
          88,
          98.66666666666667,
          51.666666666666664,
          70.66666666666667,
          76.33333333333333,
          70.66666666666667,
          73,
          86.66666666666667,
          82,
          66.66666666666667,
          49.333333333333336,
          86.33333333333333,
          52.666666666666664,
          75,
          61.333333333333336,
          99,
          68.33333333333333,
          58.666666666666664,
          49,
          68,
          48.666666666666664,
          65.66666666666667,
          73.66666666666667,
          65.33333333333333,
          48.333333333333336,
          84,
          66.66666666666667,
          79.33333333333333,
          64,
          67,
          79.33333333333333,
          56,
          64.33333333333333,
          54,
          51,
          77.66666666666667,
          79,
          74.33333333333333,
          71.66666666666667,
          64.66666666666667,
          47.333333333333336,
          74.33333333333333,
          68.66666666666667,
          79,
          77,
          61.666666666666664,
          79.33333333333333,
          30,
          54.666666666666664,
          55.666666666666664,
          86.33333333333333,
          80.66666666666667,
          85.66666666666667,
          38.333333333333336,
          71,
          57.666666666666664,
          66,
          81.66666666666667,
          60.666666666666664,
          80.33333333333333,
          63.666666666666664,
          51.666666666666664,
          71.66666666666667,
          53.666666666666664,
          68,
          92.33333333333333,
          68.66666666666667,
          43.666666666666664,
          78.66666666666667,
          85.66666666666667,
          83,
          77.33333333333333,
          65.33333333333333,
          66,
          52.333333333333336,
          81.33333333333333,
          69,
          82,
          54.333333333333336,
          51,
          72.66666666666667,
          77.33333333333333,
          79.66666666666667,
          65.33333333333333,
          63.666666666666664,
          60.333333333333336,
          48.333333333333336,
          79,
          66.66666666666667,
          77.33333333333333,
          52.666666666666664,
          68.33333333333333,
          68.33333333333333,
          77.33333333333333,
          74.33333333333333,
          75.66666666666667,
          73.33333333333333,
          78.66666666666667,
          48.333333333333336,
          94,
          72.33333333333333,
          47.333333333333336,
          73,
          72.66666666666667,
          91.66666666666667,
          72.33333333333333,
          64.33333333333333,
          49.666666666666664,
          52.666666666666664,
          68.66666666666667,
          83,
          78,
          90,
          65.66666666666667,
          77,
          62,
          49,
          46.333333333333336,
          78.66666666666667,
          75.33333333333333,
          43,
          81.66666666666667,
          89,
          79.33333333333333,
          79.66666666666667,
          76.66666666666667,
          71.33333333333333,
          76.33333333333333,
          60,
          71,
          78.33333333333333,
          63,
          43.333333333333336,
          71,
          45.333333333333336,
          84,
          80,
          54,
          77.33333333333333,
          73.33333333333333,
          77.33333333333333,
          68.33333333333333,
          89,
          49,
          63.666666666666664,
          52.666666666666664,
          76.33333333333333,
          61,
          65.33333333333333,
          68,
          66,
          67.33333333333333,
          83.33333333333333,
          77.66666666666667,
          67.66666666666667,
          61.333333333333336,
          76.66666666666667,
          80,
          77.33333333333333,
          49.666666666666664,
          43.333333333333336,
          88.66666666666667,
          61.333333333333336,
          23.333333333333332,
          78,
          49,
          64,
          39.666666666666664,
          57,
          83,
          90.33333333333333,
          65,
          71.66666666666667,
          47.666666666666664,
          29.666666666666668,
          50,
          57,
          65.66666666666667,
          73,
          68.66666666666667,
          73,
          75.66666666666667,
          60,
          88.66666666666667,
          71.66666666666667,
          79,
          62,
          58.333333333333336,
          73.66666666666667,
          53.666666666666664,
          66.66666666666667,
          67.66666666666667,
          61.666666666666664,
          59,
          60.666666666666664,
          86.33333333333333,
          59.666666666666664,
          82.33333333333333,
          56,
          31,
          59,
          55.666666666666664,
          60,
          62.666666666666664,
          55.333333333333336,
          80.66666666666667,
          77.33333333333333,
          62.666666666666664,
          73.33333333333333,
          91.66666666666667,
          67.33333333333333,
          43.333333333333336,
          84,
          93.33333333333333,
          77,
          64,
          83,
          94,
          77,
          44,
          41.333333333333336,
          72.66666666666667,
          69,
          67.33333333333333,
          63.333333333333336,
          72.66666666666667,
          66.33333333333333,
          74,
          70,
          55.666666666666664,
          72,
          44.666666666666664,
          60,
          89.66666666666667,
          64.66666666666667,
          57.666666666666664,
          60,
          46.333333333333336,
          56.333333333333336,
          95.66666666666667,
          58.333333333333336,
          68,
          64.33333333333333,
          79.66666666666667,
          55,
          85.33333333333333,
          71.66666666666667,
          81.66666666666667,
          65.66666666666667,
          65.66666666666667,
          67.33333333333333,
          75.33333333333333,
          71,
          71.33333333333333,
          63,
          55.666666666666664,
          89.33333333333333,
          59.666666666666664,
          57.333333333333336,
          74.66666666666667,
          38,
          63.666666666666664,
          85,
          68.33333333333333,
          59,
          61.666666666666664,
          63,
          67.66666666666667,
          57.333333333333336,
          52,
          68.33333333333333,
          50.333333333333336,
          69,
          71.33333333333333,
          59,
          86.33333333333333,
          75.66666666666667,
          79.66666666666667,
          67,
          77.33333333333333,
          78,
          72.66666666666667,
          65,
          82.33333333333333,
          45,
          75.33333333333333,
          78,
          96.33333333333333,
          72,
          57.333333333333336,
          58.666666666666664,
          46.666666666666664,
          85.66666666666667,
          51.666666666666664,
          100,
          68.33333333333333,
          55.333333333333336,
          51,
          72.33333333333333,
          86,
          65,
          87.33333333333333,
          31.666666666666668,
          68,
          83.33333333333333,
          80.33333333333333,
          86,
          68.66666666666667,
          79.33333333333333,
          62.333333333333336,
          90.33333333333333,
          76.66666666666667,
          68,
          73.33333333333333,
          63,
          71.33333333333333,
          70.66666666666667,
          55.666666666666664,
          65.66666666666667,
          52.333333333333336,
          51.666666666666664,
          71.66666666666667,
          54.666666666666664,
          69.66666666666667,
          58,
          81,
          75.33333333333333,
          66,
          85.33333333333333,
          86.33333333333333,
          62,
          66,
          51.333333333333336,
          71,
          67.66666666666667,
          73,
          78.33333333333333,
          91,
          59.333333333333336,
          92,
          51,
          81.33333333333333,
          68,
          56,
          78,
          88.33333333333333,
          73.33333333333333,
          52.333333333333336,
          54.333333333333336,
          59,
          89.33333333333333,
          82.66666666666667,
          82.33333333333333,
          71,
          74,
          74.66666666666667,
          57.333333333333336,
          87,
          61.333333333333336,
          54.333333333333336,
          51.333333333333336,
          62.333333333333336,
          59,
          44,
          39,
          68.66666666666667,
          69.33333333333333,
          51.333333333333336,
          60.333333333333336,
          87,
          70,
          77.33333333333333,
          56.333333333333336,
          59.666666666666664,
          74,
          91.66666666666667,
          70.66666666666667,
          80.33333333333333,
          79,
          88.66666666666667,
          64.33333333333333,
          80.33333333333333,
          96.33333333333333,
          67.66666666666667,
          64.33333333333333,
          73.33333333333333,
          73.33333333333333,
          88.33333333333333,
          46,
          67.66666666666667,
          46,
          34.666666666666664,
          68.66666666666667,
          64.66666666666667,
          64.33333333333333,
          67,
          76,
          70.33333333333333,
          92.66666666666667,
          74.33333333333333,
          48.333333333333336,
          45.333333333333336,
          97.33333333333333,
          70,
          52.666666666666664,
          67.66666666666667,
          72,
          93,
          57,
          60,
          75.33333333333333,
          49.333333333333336,
          54.666666666666664,
          87,
          54,
          60.666666666666664,
          91.33333333333333,
          78.66666666666667,
          71.33333333333333,
          76,
          74.33333333333333,
          72.33333333333333,
          67,
          56.333333333333336,
          61,
          59.666666666666664,
          56.333333333333336,
          61,
          66.66666666666667,
          74.33333333333333,
          97,
          69,
          23,
          51.666666666666664,
          73,
          76,
          59,
          29.333333333333332,
          78,
          56,
          87.66666666666667,
          69.66666666666667,
          83.66666666666667,
          50.666666666666664,
          62.333333333333336,
          62,
          64,
          61,
          91.66666666666667,
          72,
          89.33333333333333,
          66.66666666666667,
          40,
          83,
          86.66666666666667,
          68.66666666666667,
          50,
          60.333333333333336,
          53.666666666666664,
          94,
          60.333333333333336,
          98.66666666666667,
          67.33333333333333,
          51.666666666666664,
          50.666666666666664,
          50,
          67,
          68,
          73.66666666666667,
          82.66666666666667,
          82.66666666666667,
          69.66666666666667,
          76,
          86.66666666666667,
          78.66666666666667,
          74.33333333333333,
          48,
          84,
          77.33333333333333,
          77.66666666666667,
          65,
          75.66666666666667,
          64.66666666666667,
          64.66666666666667,
          52.666666666666664,
          76.33333333333333,
          53.333333333333336,
          74.66666666666667,
          89.66666666666667,
          69.66666666666667,
          77,
          65.33333333333333,
          69.33333333333333,
          65.33333333333333,
          53.666666666666664,
          87.33333333333333,
          74.66666666666667,
          67.33333333333333,
          65,
          67,
          68.66666666666667,
          56.666666666666664,
          69,
          83,
          69.33333333333333,
          76.66666666666667,
          70,
          53,
          74.33333333333333,
          77.66666666666667,
          74.66666666666667,
          60,
          75.66666666666667,
          76,
          78,
          61.333333333333336,
          71,
          62.666666666666664,
          57,
          37.666666666666664,
          65.33333333333333,
          97.66666666666667,
          76,
          76,
          51.666666666666664,
          88.66666666666667,
          51.666666666666664,
          75.66666666666667,
          73.66666666666667,
          75.66666666666667,
          56,
          84.66666666666667,
          82.33333333333333,
          67,
          71.33333333333333,
          63.666666666666664,
          80.66666666666667,
          65.33333333333333,
          86,
          64.66666666666667,
          62,
          66.33333333333333,
          38.666666666666664,
          59,
          85,
          53.666666666666664,
          89,
          83.33333333333333,
          99,
          82,
          68,
          85.66666666666667,
          74.33333333333333,
          97,
          75.33333333333333,
          81.33333333333333,
          68,
          57.666666666666664,
          84,
          46.666666666666664,
          43.666666666666664,
          75.33333333333333,
          72.33333333333333,
          58.666666666666664,
          83,
          43,
          75,
          48,
          90,
          48.666666666666664,
          56,
          61,
          85,
          64,
          75,
          58.666666666666664,
          75,
          50,
          82.33333333333333,
          68,
          52.333333333333336,
          75,
          71.66666666666667,
          67,
          56.333333333333336,
          85.66666666666667,
          69.33333333333333,
          68.33333333333333,
          77,
          84,
          55.333333333333336,
          90.33333333333333,
          55,
          70,
          58.666666666666664,
          74.33333333333333,
          63,
          53.333333333333336,
          81.66666666666667,
          62.333333333333336,
          60.666666666666664,
          72.66666666666667,
          70,
          66,
          71.33333333333333,
          58.333333333333336,
          49.666666666666664,
          74,
          63.666666666666664,
          73,
          63.666666666666664,
          54,
          69.33333333333333,
          40.666666666666664,
          77.66666666666667,
          87,
          53,
          83.66666666666667,
          81,
          57.666666666666664,
          83.66666666666667,
          42.333333333333336,
          76,
          29.666666666666668,
          64.66666666666667,
          59.333333333333336,
          56.666666666666664,
          65.33333333333333,
          69.66666666666667,
          83.33333333333333,
          48.333333333333336,
          66,
          70,
          78.33333333333333,
          61,
          54.666666666666664,
          69.33333333333333,
          76.33333333333333,
          92,
          84.66666666666667,
          75.66666666666667,
          76.66666666666667,
          71,
          42,
          78,
          54.666666666666664,
          39.333333333333336,
          47,
          61.666666666666664,
          82.33333333333333,
          78.33333333333333,
          89,
          56,
          69,
          66.66666666666667,
          85.33333333333333,
          89,
          87,
          50.666666666666664,
          80,
          52.666666666666664,
          62.333333333333336,
          64.66666666666667,
          70,
          78.66666666666667,
          58.333333333333336,
          59.333333333333336,
          83,
          60.666666666666664,
          82.66666666666667,
          51,
          66,
          64.66666666666667,
          78.66666666666667,
          56,
          72,
          45.666666666666664,
          57.666666666666664,
          34.333333333333336,
          75.66666666666667,
          56.333333333333336,
          86.33333333333333,
          87,
          56,
          66.33333333333333,
          74.66666666666667,
          68.33333333333333,
          64,
          88.33333333333333,
          70,
          60.333333333333336,
          96.66666666666667,
          69.33333333333333,
          75,
          49,
          77.33333333333333,
          56,
          84.66666666666667,
          39.666666666666664,
          74,
          93.66666666666667,
          84,
          54.666666666666664,
          48,
          74.66666666666667,
          50.333333333333336,
          54.666666666666664,
          72.66666666666667,
          81.33333333333333,
          87.33333333333333,
          55.333333333333336,
          70,
          82.33333333333333,
          57.333333333333336,
          70.33333333333333,
          71.33333333333333,
          64.33333333333333,
          70.33333333333333,
          69.33333333333333,
          48.333333333333336,
          52,
          72.66666666666667,
          96,
          61.666666666666664,
          69.33333333333333,
          47.666666666666664,
          87.33333333333333,
          87.33333333333333,
          63.333333333333336,
          79,
          63.333333333333336,
          34.666666666666664,
          30.666666666666668,
          73.33333333333333,
          61.333333333333336,
          75,
          86,
          75,
          41,
          97.66666666666667,
          78.33333333333333,
          80.66666666666667,
          52,
          84.66666666666667,
          71.33333333333333,
          68,
          46.666666666666664,
          78.33333333333333,
          59.666666666666664,
          58.333333333333336,
          54,
          68,
          100,
          52.333333333333336,
          71.33333333333333,
          92.66666666666667,
          68.66666666666667,
          44.666666666666664,
          68,
          61.333333333333336,
          71,
          66,
          57.333333333333336,
          65.66666666666667,
          44.333333333333336,
          51.666666666666664,
          70.33333333333333,
          60.333333333333336,
          68.33333333333333,
          73,
          91.66666666666667,
          63.666666666666664,
          59,
          57.333333333333336,
          83.66666666666667,
          71.33333333333333,
          70,
          88.33333333333333,
          70.33333333333333,
          61.333333333333336,
          62.333333333333336,
          57.666666666666664,
          81.33333333333333,
          55.666666666666664,
          50.333333333333336,
          68.33333333333333,
          79.33333333333333,
          78.33333333333333,
          73.33333333333333,
          54.666666666666664,
          66.66666666666667,
          63.666666666666664,
          84,
          97.33333333333333,
          55.666666666666664,
          75.66666666666667,
          59.333333333333336,
          51.666666666666664,
          100,
          72,
          62.333333333333336,
          68,
          66,
          62,
          70.33333333333333,
          79.66666666666667,
          96.33333333333333,
          73,
          54.333333333333336,
          58.333333333333336,
          61.333333333333336,
          74.33333333333333,
          60.666666666666664,
          61.666666666666664,
          48,
          93.33333333333333,
          18.333333333333332,
          79,
          83.33333333333333,
          85.33333333333333,
          77,
          54,
          50,
          77.33333333333333,
          44.666666666666664,
          78.66666666666667,
          80.66666666666667,
          75,
          69,
          69.33333333333333,
          62.666666666666664,
          94,
          57.333333333333336,
          65,
          74.33333333333333,
          83
         ],
         "xaxis": "x",
         "yaxis": "y"
        }
       ],
       "layout": {
        "barmode": "relative",
        "legend": {
         "tracegroupgap": 0
        },
        "margin": {
         "t": 60
        },
        "template": {
         "data": {
          "bar": [
           {
            "error_x": {
             "color": "#2a3f5f"
            },
            "error_y": {
             "color": "#2a3f5f"
            },
            "marker": {
             "line": {
              "color": "#E5ECF6",
              "width": 0.5
             },
             "pattern": {
              "fillmode": "overlay",
              "size": 10,
              "solidity": 0.2
             }
            },
            "type": "bar"
           }
          ],
          "barpolar": [
           {
            "marker": {
             "line": {
              "color": "#E5ECF6",
              "width": 0.5
             },
             "pattern": {
              "fillmode": "overlay",
              "size": 10,
              "solidity": 0.2
             }
            },
            "type": "barpolar"
           }
          ],
          "carpet": [
           {
            "aaxis": {
             "endlinecolor": "#2a3f5f",
             "gridcolor": "white",
             "linecolor": "white",
             "minorgridcolor": "white",
             "startlinecolor": "#2a3f5f"
            },
            "baxis": {
             "endlinecolor": "#2a3f5f",
             "gridcolor": "white",
             "linecolor": "white",
             "minorgridcolor": "white",
             "startlinecolor": "#2a3f5f"
            },
            "type": "carpet"
           }
          ],
          "choropleth": [
           {
            "colorbar": {
             "outlinewidth": 0,
             "ticks": ""
            },
            "type": "choropleth"
           }
          ],
          "contour": [
           {
            "colorbar": {
             "outlinewidth": 0,
             "ticks": ""
            },
            "colorscale": [
             [
              0,
              "#0d0887"
             ],
             [
              0.1111111111111111,
              "#46039f"
             ],
             [
              0.2222222222222222,
              "#7201a8"
             ],
             [
              0.3333333333333333,
              "#9c179e"
             ],
             [
              0.4444444444444444,
              "#bd3786"
             ],
             [
              0.5555555555555556,
              "#d8576b"
             ],
             [
              0.6666666666666666,
              "#ed7953"
             ],
             [
              0.7777777777777778,
              "#fb9f3a"
             ],
             [
              0.8888888888888888,
              "#fdca26"
             ],
             [
              1,
              "#f0f921"
             ]
            ],
            "type": "contour"
           }
          ],
          "contourcarpet": [
           {
            "colorbar": {
             "outlinewidth": 0,
             "ticks": ""
            },
            "type": "contourcarpet"
           }
          ],
          "heatmap": [
           {
            "colorbar": {
             "outlinewidth": 0,
             "ticks": ""
            },
            "colorscale": [
             [
              0,
              "#0d0887"
             ],
             [
              0.1111111111111111,
              "#46039f"
             ],
             [
              0.2222222222222222,
              "#7201a8"
             ],
             [
              0.3333333333333333,
              "#9c179e"
             ],
             [
              0.4444444444444444,
              "#bd3786"
             ],
             [
              0.5555555555555556,
              "#d8576b"
             ],
             [
              0.6666666666666666,
              "#ed7953"
             ],
             [
              0.7777777777777778,
              "#fb9f3a"
             ],
             [
              0.8888888888888888,
              "#fdca26"
             ],
             [
              1,
              "#f0f921"
             ]
            ],
            "type": "heatmap"
           }
          ],
          "heatmapgl": [
           {
            "colorbar": {
             "outlinewidth": 0,
             "ticks": ""
            },
            "colorscale": [
             [
              0,
              "#0d0887"
             ],
             [
              0.1111111111111111,
              "#46039f"
             ],
             [
              0.2222222222222222,
              "#7201a8"
             ],
             [
              0.3333333333333333,
              "#9c179e"
             ],
             [
              0.4444444444444444,
              "#bd3786"
             ],
             [
              0.5555555555555556,
              "#d8576b"
             ],
             [
              0.6666666666666666,
              "#ed7953"
             ],
             [
              0.7777777777777778,
              "#fb9f3a"
             ],
             [
              0.8888888888888888,
              "#fdca26"
             ],
             [
              1,
              "#f0f921"
             ]
            ],
            "type": "heatmapgl"
           }
          ],
          "histogram": [
           {
            "marker": {
             "pattern": {
              "fillmode": "overlay",
              "size": 10,
              "solidity": 0.2
             }
            },
            "type": "histogram"
           }
          ],
          "histogram2d": [
           {
            "colorbar": {
             "outlinewidth": 0,
             "ticks": ""
            },
            "colorscale": [
             [
              0,
              "#0d0887"
             ],
             [
              0.1111111111111111,
              "#46039f"
             ],
             [
              0.2222222222222222,
              "#7201a8"
             ],
             [
              0.3333333333333333,
              "#9c179e"
             ],
             [
              0.4444444444444444,
              "#bd3786"
             ],
             [
              0.5555555555555556,
              "#d8576b"
             ],
             [
              0.6666666666666666,
              "#ed7953"
             ],
             [
              0.7777777777777778,
              "#fb9f3a"
             ],
             [
              0.8888888888888888,
              "#fdca26"
             ],
             [
              1,
              "#f0f921"
             ]
            ],
            "type": "histogram2d"
           }
          ],
          "histogram2dcontour": [
           {
            "colorbar": {
             "outlinewidth": 0,
             "ticks": ""
            },
            "colorscale": [
             [
              0,
              "#0d0887"
             ],
             [
              0.1111111111111111,
              "#46039f"
             ],
             [
              0.2222222222222222,
              "#7201a8"
             ],
             [
              0.3333333333333333,
              "#9c179e"
             ],
             [
              0.4444444444444444,
              "#bd3786"
             ],
             [
              0.5555555555555556,
              "#d8576b"
             ],
             [
              0.6666666666666666,
              "#ed7953"
             ],
             [
              0.7777777777777778,
              "#fb9f3a"
             ],
             [
              0.8888888888888888,
              "#fdca26"
             ],
             [
              1,
              "#f0f921"
             ]
            ],
            "type": "histogram2dcontour"
           }
          ],
          "mesh3d": [
           {
            "colorbar": {
             "outlinewidth": 0,
             "ticks": ""
            },
            "type": "mesh3d"
           }
          ],
          "parcoords": [
           {
            "line": {
             "colorbar": {
              "outlinewidth": 0,
              "ticks": ""
             }
            },
            "type": "parcoords"
           }
          ],
          "pie": [
           {
            "automargin": true,
            "type": "pie"
           }
          ],
          "scatter": [
           {
            "fillpattern": {
             "fillmode": "overlay",
             "size": 10,
             "solidity": 0.2
            },
            "type": "scatter"
           }
          ],
          "scatter3d": [
           {
            "line": {
             "colorbar": {
              "outlinewidth": 0,
              "ticks": ""
             }
            },
            "marker": {
             "colorbar": {
              "outlinewidth": 0,
              "ticks": ""
             }
            },
            "type": "scatter3d"
           }
          ],
          "scattercarpet": [
           {
            "marker": {
             "colorbar": {
              "outlinewidth": 0,
              "ticks": ""
             }
            },
            "type": "scattercarpet"
           }
          ],
          "scattergeo": [
           {
            "marker": {
             "colorbar": {
              "outlinewidth": 0,
              "ticks": ""
             }
            },
            "type": "scattergeo"
           }
          ],
          "scattergl": [
           {
            "marker": {
             "colorbar": {
              "outlinewidth": 0,
              "ticks": ""
             }
            },
            "type": "scattergl"
           }
          ],
          "scattermapbox": [
           {
            "marker": {
             "colorbar": {
              "outlinewidth": 0,
              "ticks": ""
             }
            },
            "type": "scattermapbox"
           }
          ],
          "scatterpolar": [
           {
            "marker": {
             "colorbar": {
              "outlinewidth": 0,
              "ticks": ""
             }
            },
            "type": "scatterpolar"
           }
          ],
          "scatterpolargl": [
           {
            "marker": {
             "colorbar": {
              "outlinewidth": 0,
              "ticks": ""
             }
            },
            "type": "scatterpolargl"
           }
          ],
          "scatterternary": [
           {
            "marker": {
             "colorbar": {
              "outlinewidth": 0,
              "ticks": ""
             }
            },
            "type": "scatterternary"
           }
          ],
          "surface": [
           {
            "colorbar": {
             "outlinewidth": 0,
             "ticks": ""
            },
            "colorscale": [
             [
              0,
              "#0d0887"
             ],
             [
              0.1111111111111111,
              "#46039f"
             ],
             [
              0.2222222222222222,
              "#7201a8"
             ],
             [
              0.3333333333333333,
              "#9c179e"
             ],
             [
              0.4444444444444444,
              "#bd3786"
             ],
             [
              0.5555555555555556,
              "#d8576b"
             ],
             [
              0.6666666666666666,
              "#ed7953"
             ],
             [
              0.7777777777777778,
              "#fb9f3a"
             ],
             [
              0.8888888888888888,
              "#fdca26"
             ],
             [
              1,
              "#f0f921"
             ]
            ],
            "type": "surface"
           }
          ],
          "table": [
           {
            "cells": {
             "fill": {
              "color": "#EBF0F8"
             },
             "line": {
              "color": "white"
             }
            },
            "header": {
             "fill": {
              "color": "#C8D4E3"
             },
             "line": {
              "color": "white"
             }
            },
            "type": "table"
           }
          ]
         },
         "layout": {
          "annotationdefaults": {
           "arrowcolor": "#2a3f5f",
           "arrowhead": 0,
           "arrowwidth": 1
          },
          "autotypenumbers": "strict",
          "coloraxis": {
           "colorbar": {
            "outlinewidth": 0,
            "ticks": ""
           }
          },
          "colorscale": {
           "diverging": [
            [
             0,
             "#8e0152"
            ],
            [
             0.1,
             "#c51b7d"
            ],
            [
             0.2,
             "#de77ae"
            ],
            [
             0.3,
             "#f1b6da"
            ],
            [
             0.4,
             "#fde0ef"
            ],
            [
             0.5,
             "#f7f7f7"
            ],
            [
             0.6,
             "#e6f5d0"
            ],
            [
             0.7,
             "#b8e186"
            ],
            [
             0.8,
             "#7fbc41"
            ],
            [
             0.9,
             "#4d9221"
            ],
            [
             1,
             "#276419"
            ]
           ],
           "sequential": [
            [
             0,
             "#0d0887"
            ],
            [
             0.1111111111111111,
             "#46039f"
            ],
            [
             0.2222222222222222,
             "#7201a8"
            ],
            [
             0.3333333333333333,
             "#9c179e"
            ],
            [
             0.4444444444444444,
             "#bd3786"
            ],
            [
             0.5555555555555556,
             "#d8576b"
            ],
            [
             0.6666666666666666,
             "#ed7953"
            ],
            [
             0.7777777777777778,
             "#fb9f3a"
            ],
            [
             0.8888888888888888,
             "#fdca26"
            ],
            [
             1,
             "#f0f921"
            ]
           ],
           "sequentialminus": [
            [
             0,
             "#0d0887"
            ],
            [
             0.1111111111111111,
             "#46039f"
            ],
            [
             0.2222222222222222,
             "#7201a8"
            ],
            [
             0.3333333333333333,
             "#9c179e"
            ],
            [
             0.4444444444444444,
             "#bd3786"
            ],
            [
             0.5555555555555556,
             "#d8576b"
            ],
            [
             0.6666666666666666,
             "#ed7953"
            ],
            [
             0.7777777777777778,
             "#fb9f3a"
            ],
            [
             0.8888888888888888,
             "#fdca26"
            ],
            [
             1,
             "#f0f921"
            ]
           ]
          },
          "colorway": [
           "#636efa",
           "#EF553B",
           "#00cc96",
           "#ab63fa",
           "#FFA15A",
           "#19d3f3",
           "#FF6692",
           "#B6E880",
           "#FF97FF",
           "#FECB52"
          ],
          "font": {
           "color": "#2a3f5f"
          },
          "geo": {
           "bgcolor": "white",
           "lakecolor": "white",
           "landcolor": "#E5ECF6",
           "showlakes": true,
           "showland": true,
           "subunitcolor": "white"
          },
          "hoverlabel": {
           "align": "left"
          },
          "hovermode": "closest",
          "mapbox": {
           "style": "light"
          },
          "paper_bgcolor": "white",
          "plot_bgcolor": "#E5ECF6",
          "polar": {
           "angularaxis": {
            "gridcolor": "white",
            "linecolor": "white",
            "ticks": ""
           },
           "bgcolor": "#E5ECF6",
           "radialaxis": {
            "gridcolor": "white",
            "linecolor": "white",
            "ticks": ""
           }
          },
          "scene": {
           "xaxis": {
            "backgroundcolor": "#E5ECF6",
            "gridcolor": "white",
            "gridwidth": 2,
            "linecolor": "white",
            "showbackground": true,
            "ticks": "",
            "zerolinecolor": "white"
           },
           "yaxis": {
            "backgroundcolor": "#E5ECF6",
            "gridcolor": "white",
            "gridwidth": 2,
            "linecolor": "white",
            "showbackground": true,
            "ticks": "",
            "zerolinecolor": "white"
           },
           "zaxis": {
            "backgroundcolor": "#E5ECF6",
            "gridcolor": "white",
            "gridwidth": 2,
            "linecolor": "white",
            "showbackground": true,
            "ticks": "",
            "zerolinecolor": "white"
           }
          },
          "shapedefaults": {
           "line": {
            "color": "#2a3f5f"
           }
          },
          "ternary": {
           "aaxis": {
            "gridcolor": "white",
            "linecolor": "white",
            "ticks": ""
           },
           "baxis": {
            "gridcolor": "white",
            "linecolor": "white",
            "ticks": ""
           },
           "bgcolor": "#E5ECF6",
           "caxis": {
            "gridcolor": "white",
            "linecolor": "white",
            "ticks": ""
           }
          },
          "title": {
           "x": 0.05
          },
          "xaxis": {
           "automargin": true,
           "gridcolor": "white",
           "linecolor": "white",
           "ticks": "",
           "title": {
            "standoff": 15
           },
           "zerolinecolor": "white",
           "zerolinewidth": 2
          },
          "yaxis": {
           "automargin": true,
           "gridcolor": "white",
           "linecolor": "white",
           "ticks": "",
           "title": {
            "standoff": 15
           },
           "zerolinecolor": "white",
           "zerolinewidth": 2
          }
         }
        },
        "xaxis": {
         "anchor": "y",
         "domain": [
          0,
          1
         ],
         "title": {
          "text": "average"
         }
        },
        "yaxis": {
         "anchor": "x",
         "domain": [
          0,
          1
         ],
         "title": {
          "text": "count"
         }
        }
       }
      }
     },
     "metadata": {},
     "output_type": "display_data"
    }
   ],
   "source": [
    "# Create histogram with average scores using plotly library\n",
    "fig = px.histogram(df, x='average', nbins=30)\n",
    "fig.show()"
   ]
  },
  {
   "cell_type": "markdown",
   "metadata": {},
   "source": [
    "<center><b>Figure:8</b> - Histogram of Average Column.</center>"
   ]
  },
  {
   "cell_type": "code",
   "execution_count": 126,
   "metadata": {},
   "outputs": [
    {
     "data": {
      "application/vnd.plotly.v1+json": {
       "config": {
        "plotlyServerURL": "https://plot.ly"
       },
       "data": [
        {
         "alignmentgroup": "True",
         "bingroup": "x",
         "hovertemplate": "gender=female<br>average=%{x}<br>count=%{y}<extra></extra>",
         "legendgroup": "female",
         "marker": {
          "color": "#636efa",
          "pattern": {
           "shape": ""
          }
         },
         "name": "female",
         "nbinsx": 30,
         "offsetgroup": "female",
         "orientation": "v",
         "showlegend": true,
         "type": "histogram",
         "x": [
          72.66666666666667,
          82.33333333333333,
          92.66666666666667,
          77.33333333333333,
          91.66666666666667,
          49.333333333333336,
          73,
          53.666666666666664,
          74,
          26,
          57.666666666666664,
          70,
          71.66666666666667,
          70.33333333333333,
          69,
          72.33333333333333,
          63,
          64.33333333333333,
          79.33333333333333,
          57.666666666666664,
          84.33333333333333,
          66.33333333333333,
          58.666666666666664,
          53.333333333333336,
          60.666666666666664,
          71,
          69,
          80.66666666666667,
          39,
          84.33333333333333,
          9,
          73.33333333333333,
          58.666666666666664,
          68.66666666666667,
          53.333333333333336,
          64.66666666666667,
          46.666666666666664,
          69,
          66,
          48.666666666666664,
          78.33333333333333,
          82.33333333333333,
          72,
          65,
          80.33333333333333,
          70.33333333333333,
          85.66666666666667,
          68.33333333333333,
          62.333333333333336,
          64.66666666666667,
          88.33333333333333,
          65.66666666666667,
          95.66666666666667,
          66,
          68.66666666666667,
          88,
          54.333333333333336,
          99.66666666666667,
          80.66666666666667,
          79.66666666666667,
          58.333333333333336,
          63,
          86.66666666666667,
          91.33333333333333,
          89.33333333333333,
          50.333333333333336,
          80,
          64,
          73,
          61.666666666666664,
          50.333333333333336,
          31.333333333333332,
          74.66666666666667,
          65,
          82.33333333333333,
          72.66666666666667,
          78,
          82.66666666666667,
          88,
          98.66666666666667,
          70.66666666666667,
          76.33333333333333,
          70.66666666666667,
          82,
          66.66666666666667,
          49.333333333333336,
          86.33333333333333,
          52.666666666666664,
          75,
          61.333333333333336,
          99,
          58.666666666666664,
          49,
          68,
          84,
          66.66666666666667,
          64,
          79.33333333333333,
          51,
          77.66666666666667,
          79,
          74.33333333333333,
          64.66666666666667,
          77,
          61.666666666666664,
          54.666666666666664,
          85.66666666666667,
          38.333333333333336,
          66,
          60.666666666666664,
          63.666666666666664,
          51.666666666666664,
          71.66666666666667,
          92.33333333333333,
          78.66666666666667,
          66,
          82,
          54.333333333333336,
          65.33333333333333,
          63.666666666666664,
          79,
          66.66666666666667,
          68.33333333333333,
          68.33333333333333,
          74.33333333333333,
          75.66666666666667,
          73.33333333333333,
          48.333333333333336,
          94,
          73,
          72.66666666666667,
          91.66666666666667,
          72.33333333333333,
          52.666666666666664,
          68.66666666666667,
          90,
          65.66666666666667,
          77,
          78.66666666666667,
          75.33333333333333,
          43,
          79.33333333333333,
          71,
          77.33333333333333,
          77.33333333333333,
          63.666666666666664,
          52.666666666666664,
          76.33333333333333,
          68,
          66,
          83.33333333333333,
          61.333333333333336,
          76.66666666666667,
          80,
          77.33333333333333,
          49.666666666666664,
          43.333333333333336,
          88.66666666666667,
          49,
          90.33333333333333,
          65,
          29.666666666666668,
          50,
          65.66666666666667,
          73,
          75.66666666666667,
          88.66666666666667,
          62,
          73.66666666666667,
          53.666666666666664,
          66.66666666666667,
          67.66666666666667,
          59,
          86.33333333333333,
          59.666666666666664,
          56,
          31,
          55.333333333333336,
          80.66666666666667,
          62.666666666666664,
          91.66666666666667,
          67.33333333333333,
          84,
          93.33333333333333,
          77,
          83,
          44,
          41.333333333333336,
          72.66666666666667,
          69,
          67.33333333333333,
          63.333333333333336,
          74,
          72,
          60,
          89.66666666666667,
          60,
          56.333333333333336,
          95.66666666666667,
          58.333333333333336,
          68,
          79.66666666666667,
          55,
          71.66666666666667,
          67.33333333333333,
          89.33333333333333,
          59.666666666666664,
          57.333333333333336,
          74.66666666666667,
          63.666666666666664,
          67.66666666666667,
          52,
          75.66666666666667,
          79.66666666666667,
          67,
          77.33333333333333,
          72.66666666666667,
          78,
          96.33333333333333,
          72,
          58.666666666666664,
          85.66666666666667,
          100,
          72.33333333333333,
          86,
          87.33333333333333,
          31.666666666666668,
          83.33333333333333,
          86,
          68.66666666666667,
          79.33333333333333,
          62.333333333333336,
          90.33333333333333,
          76.66666666666667,
          63,
          55.666666666666664,
          51.666666666666664,
          69.66666666666667,
          75.33333333333333,
          66,
          85.33333333333333,
          86.33333333333333,
          62,
          51.333333333333336,
          71,
          67.66666666666667,
          78.33333333333333,
          91,
          92,
          51,
          81.33333333333333,
          88.33333333333333,
          59,
          89.33333333333333,
          82.66666666666667,
          82.33333333333333,
          71,
          74,
          74.66666666666667,
          87,
          44,
          39,
          68.66666666666667,
          69.33333333333333,
          51.333333333333336,
          87,
          77.33333333333333,
          59.666666666666664,
          79,
          88.66666666666667,
          64.33333333333333,
          96.33333333333333,
          64.33333333333333,
          46,
          34.666666666666664,
          68.66666666666667,
          64.33333333333333,
          76,
          70.33333333333333,
          74.33333333333333,
          97.33333333333333,
          70,
          57,
          60,
          75.33333333333333,
          87,
          54,
          60.666666666666664,
          91.33333333333333,
          78.66666666666667,
          71.33333333333333,
          76,
          74.33333333333333,
          72.33333333333333,
          67,
          56.333333333333336,
          61,
          59.666666666666664,
          74.33333333333333,
          97,
          69,
          73,
          76,
          59,
          29.333333333333332,
          78,
          83.66666666666667,
          50.666666666666664,
          62.333333333333336,
          62,
          61,
          72,
          89.33333333333333,
          66.66666666666667,
          40,
          50,
          60.333333333333336,
          50,
          73.66666666666667,
          82.66666666666667,
          76,
          86.66666666666667,
          74.33333333333333,
          84,
          77.33333333333333,
          77.66666666666667,
          75.66666666666667,
          64.66666666666667,
          64.66666666666667,
          52.666666666666664,
          76.33333333333333,
          74.66666666666667,
          89.66666666666667,
          69.66666666666667,
          77,
          65.33333333333333,
          53.666666666666664,
          65,
          67,
          56.666666666666664,
          69,
          83,
          70,
          74.33333333333333,
          77.66666666666667,
          74.66666666666667,
          60,
          75.66666666666667,
          76,
          71,
          37.666666666666664,
          97.66666666666667,
          51.666666666666664,
          75.66666666666667,
          73.66666666666667,
          75.66666666666667,
          56,
          84.66666666666667,
          82.33333333333333,
          67,
          71.33333333333333,
          80.66666666666667,
          65.33333333333333,
          64.66666666666667,
          62,
          53.666666666666664,
          83.33333333333333,
          99,
          68,
          85.66666666666667,
          97,
          75.33333333333333,
          68,
          84,
          72.33333333333333,
          83,
          75,
          90,
          56,
          64,
          50,
          82.33333333333333,
          68,
          56.333333333333336,
          84,
          90.33333333333333,
          58.666666666666664,
          63,
          53.333333333333336,
          62.333333333333336,
          72.66666666666667,
          70,
          71.33333333333333,
          63.666666666666664,
          73,
          54,
          69.33333333333333,
          40.666666666666664,
          77.66666666666667,
          53,
          83.66666666666667,
          81,
          57.666666666666664,
          42.333333333333336,
          76,
          29.666666666666668,
          59.333333333333336,
          56.666666666666664,
          65.33333333333333,
          48.333333333333336,
          66,
          78.33333333333333,
          54.666666666666664,
          92,
          84.66666666666667,
          75.66666666666667,
          71,
          42,
          61.666666666666664,
          78.33333333333333,
          56,
          66.66666666666667,
          85.33333333333333,
          89,
          87,
          80,
          52.666666666666664,
          64.66666666666667,
          70,
          78.66666666666667,
          59.333333333333336,
          83,
          82.66666666666667,
          66,
          78.66666666666667,
          72,
          45.666666666666664,
          34.333333333333336,
          56.333333333333336,
          66.33333333333333,
          64,
          88.33333333333333,
          96.66666666666667,
          75,
          56,
          84.66666666666667,
          74,
          72.66666666666667,
          55.333333333333336,
          70.33333333333333,
          71.33333333333333,
          70.33333333333333,
          69.33333333333333,
          52,
          72.66666666666667,
          96,
          69.33333333333333,
          87.33333333333333,
          87.33333333333333,
          63.333333333333336,
          63.333333333333336,
          34.666666666666664,
          73.33333333333333,
          75,
          75,
          41,
          97.66666666666667,
          78.33333333333333,
          84.66666666666667,
          71.33333333333333,
          78.33333333333333,
          59.666666666666664,
          58.333333333333336,
          54,
          68,
          52.333333333333336,
          71.33333333333333,
          44.666666666666664,
          61.333333333333336,
          65.66666666666667,
          51.666666666666664,
          57.333333333333336,
          88.33333333333333,
          62.333333333333336,
          57.666666666666664,
          55.666666666666664,
          68.33333333333333,
          78.33333333333333,
          73.33333333333333,
          66.66666666666667,
          97.33333333333333,
          55.666666666666664,
          59.333333333333336,
          51.666666666666664,
          100,
          72,
          68,
          70.33333333333333,
          79.66666666666667,
          96.33333333333333,
          54.333333333333336,
          58.333333333333336,
          61.333333333333336,
          74.33333333333333,
          93.33333333333333,
          18.333333333333332,
          85.33333333333333,
          77,
          50,
          44.666666666666664,
          78.66666666666667,
          75,
          69,
          69.33333333333333,
          94,
          65,
          74.33333333333333,
          83
         ],
         "xaxis": "x",
         "yaxis": "y"
        },
        {
         "alignmentgroup": "True",
         "bingroup": "x",
         "hovertemplate": "gender=male<br>average=%{x}<br>count=%{y}<extra></extra>",
         "legendgroup": "male",
         "marker": {
          "color": "#EF553B",
          "pattern": {
           "shape": ""
          }
         },
         "name": "male",
         "nbinsx": 30,
         "offsetgroup": "male",
         "orientation": "v",
         "showlegend": true,
         "type": "histogram",
         "x": [
          49.333333333333336,
          76.33333333333333,
          40.666666666666664,
          65,
          54.666666666666664,
          45,
          73.33333333333333,
          87.66666666666667,
          44.666666666666664,
          66,
          50.333333333333336,
          75,
          73,
          59.333333333333336,
          68.33333333333333,
          40,
          88.66666666666667,
          80.33333333333333,
          56.666666666666664,
          56.666666666666664,
          63.333333333333336,
          58.666666666666664,
          82.66666666666667,
          52,
          71.33333333333333,
          46.333333333333336,
          80.33333333333333,
          52,
          58.333333333333336,
          75,
          37.333333333333336,
          59.333333333333336,
          64,
          39.666666666666664,
          58.333333333333336,
          60.333333333333336,
          58,
          46.333333333333336,
          41,
          26,
          79.66666666666667,
          46.333333333333336,
          50.333333333333336,
          66.33333333333333,
          38.333333333333336,
          32.333333333333336,
          73.66666666666667,
          46,
          80.33333333333333,
          64.33333333333333,
          71,
          72,
          50.333333333333336,
          91.33333333333333,
          64.33333333333333,
          55.333333333333336,
          51.333333333333336,
          78.33333333333333,
          90.66666666666667,
          58.666666666666664,
          78.66666666666667,
          69,
          72,
          79.33333333333333,
          85,
          43.333333333333336,
          77,
          76,
          53.666666666666664,
          48.666666666666664,
          60.333333333333336,
          67,
          49,
          79.66666666666667,
          82.33333333333333,
          69,
          97.66666666666667,
          66,
          70.66666666666667,
          50,
          63.333333333333336,
          60,
          64,
          78,
          51.333333333333336,
          51.333333333333336,
          51.666666666666664,
          73,
          86.66666666666667,
          68.33333333333333,
          48.666666666666664,
          65.66666666666667,
          73.66666666666667,
          65.33333333333333,
          48.333333333333336,
          79.33333333333333,
          67,
          56,
          64.33333333333333,
          54,
          71.66666666666667,
          47.333333333333336,
          74.33333333333333,
          68.66666666666667,
          79,
          79.33333333333333,
          30,
          55.666666666666664,
          86.33333333333333,
          80.66666666666667,
          71,
          57.666666666666664,
          81.66666666666667,
          80.33333333333333,
          53.666666666666664,
          68,
          68.66666666666667,
          43.666666666666664,
          85.66666666666667,
          83,
          77.33333333333333,
          65.33333333333333,
          52.333333333333336,
          81.33333333333333,
          69,
          51,
          72.66666666666667,
          77.33333333333333,
          79.66666666666667,
          60.333333333333336,
          48.333333333333336,
          77.33333333333333,
          52.666666666666664,
          77.33333333333333,
          78.66666666666667,
          72.33333333333333,
          47.333333333333336,
          64.33333333333333,
          49.666666666666664,
          83,
          78,
          62,
          49,
          46.333333333333336,
          81.66666666666667,
          89,
          79.66666666666667,
          76.66666666666667,
          71.33333333333333,
          76.33333333333333,
          60,
          78.33333333333333,
          63,
          43.333333333333336,
          71,
          45.333333333333336,
          84,
          80,
          54,
          73.33333333333333,
          68.33333333333333,
          89,
          49,
          61,
          65.33333333333333,
          67.33333333333333,
          77.66666666666667,
          67.66666666666667,
          61.333333333333336,
          23.333333333333332,
          78,
          64,
          39.666666666666664,
          57,
          83,
          71.66666666666667,
          47.666666666666664,
          57,
          68.66666666666667,
          73,
          60,
          71.66666666666667,
          79,
          58.333333333333336,
          61.666666666666664,
          60.666666666666664,
          82.33333333333333,
          59,
          55.666666666666664,
          60,
          62.666666666666664,
          77.33333333333333,
          73.33333333333333,
          43.333333333333336,
          64,
          94,
          77,
          72.66666666666667,
          66.33333333333333,
          70,
          55.666666666666664,
          44.666666666666664,
          64.66666666666667,
          57.666666666666664,
          46.333333333333336,
          64.33333333333333,
          85.33333333333333,
          81.66666666666667,
          65.66666666666667,
          65.66666666666667,
          75.33333333333333,
          71,
          71.33333333333333,
          63,
          55.666666666666664,
          38,
          85,
          68.33333333333333,
          59,
          61.666666666666664,
          63,
          57.333333333333336,
          68.33333333333333,
          50.333333333333336,
          69,
          71.33333333333333,
          59,
          86.33333333333333,
          78,
          65,
          82.33333333333333,
          45,
          75.33333333333333,
          57.333333333333336,
          46.666666666666664,
          51.666666666666664,
          68.33333333333333,
          55.333333333333336,
          51,
          65,
          68,
          80.33333333333333,
          68,
          73.33333333333333,
          71.33333333333333,
          70.66666666666667,
          65.66666666666667,
          52.333333333333336,
          71.66666666666667,
          54.666666666666664,
          58,
          81,
          66,
          73,
          59.333333333333336,
          68,
          56,
          78,
          73.33333333333333,
          52.333333333333336,
          54.333333333333336,
          57.333333333333336,
          61.333333333333336,
          54.333333333333336,
          51.333333333333336,
          62.333333333333336,
          59,
          60.333333333333336,
          70,
          56.333333333333336,
          74,
          91.66666666666667,
          70.66666666666667,
          80.33333333333333,
          80.33333333333333,
          67.66666666666667,
          73.33333333333333,
          73.33333333333333,
          88.33333333333333,
          67.66666666666667,
          46,
          64.66666666666667,
          67,
          92.66666666666667,
          48.333333333333336,
          45.333333333333336,
          52.666666666666664,
          67.66666666666667,
          72,
          93,
          49.333333333333336,
          54.666666666666664,
          56.333333333333336,
          61,
          66.66666666666667,
          23,
          51.666666666666664,
          56,
          87.66666666666667,
          69.66666666666667,
          64,
          91.66666666666667,
          83,
          86.66666666666667,
          68.66666666666667,
          60.333333333333336,
          53.666666666666664,
          94,
          98.66666666666667,
          67.33333333333333,
          51.666666666666664,
          50.666666666666664,
          67,
          68,
          82.66666666666667,
          69.66666666666667,
          78.66666666666667,
          48,
          65,
          53.333333333333336,
          69.33333333333333,
          65.33333333333333,
          87.33333333333333,
          74.66666666666667,
          67.33333333333333,
          68.66666666666667,
          69.33333333333333,
          76.66666666666667,
          53,
          78,
          61.333333333333336,
          62.666666666666664,
          57,
          65.33333333333333,
          76,
          76,
          51.666666666666664,
          88.66666666666667,
          63.666666666666664,
          86,
          66.33333333333333,
          38.666666666666664,
          59,
          85,
          89,
          82,
          74.33333333333333,
          81.33333333333333,
          57.666666666666664,
          46.666666666666664,
          43.666666666666664,
          75.33333333333333,
          58.666666666666664,
          43,
          48,
          48.666666666666664,
          61,
          85,
          75,
          58.666666666666664,
          75,
          52.333333333333336,
          75,
          71.66666666666667,
          67,
          85.66666666666667,
          69.33333333333333,
          68.33333333333333,
          77,
          55.333333333333336,
          55,
          70,
          74.33333333333333,
          81.66666666666667,
          60.666666666666664,
          66,
          58.333333333333336,
          49.666666666666664,
          74,
          63.666666666666664,
          87,
          83.66666666666667,
          64.66666666666667,
          69.66666666666667,
          83.33333333333333,
          70,
          61,
          69.33333333333333,
          76.33333333333333,
          76.66666666666667,
          78,
          54.666666666666664,
          39.333333333333336,
          47,
          82.33333333333333,
          89,
          69,
          50.666666666666664,
          62.333333333333336,
          58.333333333333336,
          60.666666666666664,
          51,
          64.66666666666667,
          56,
          57.666666666666664,
          75.66666666666667,
          86.33333333333333,
          87,
          56,
          74.66666666666667,
          68.33333333333333,
          70,
          60.333333333333336,
          69.33333333333333,
          49,
          77.33333333333333,
          39.666666666666664,
          93.66666666666667,
          84,
          54.666666666666664,
          48,
          74.66666666666667,
          50.333333333333336,
          54.666666666666664,
          81.33333333333333,
          87.33333333333333,
          70,
          82.33333333333333,
          57.333333333333336,
          64.33333333333333,
          48.333333333333336,
          61.666666666666664,
          47.666666666666664,
          79,
          30.666666666666668,
          61.333333333333336,
          86,
          80.66666666666667,
          52,
          68,
          46.666666666666664,
          100,
          92.66666666666667,
          68.66666666666667,
          68,
          71,
          66,
          57.333333333333336,
          44.333333333333336,
          70.33333333333333,
          60.333333333333336,
          68.33333333333333,
          73,
          91.66666666666667,
          63.666666666666664,
          59,
          83.66666666666667,
          71.33333333333333,
          70,
          70.33333333333333,
          61.333333333333336,
          81.33333333333333,
          50.333333333333336,
          79.33333333333333,
          54.666666666666664,
          63.666666666666664,
          84,
          75.66666666666667,
          62.333333333333336,
          66,
          62,
          73,
          60.666666666666664,
          61.666666666666664,
          48,
          79,
          83.33333333333333,
          54,
          77.33333333333333,
          80.66666666666667,
          62.666666666666664,
          57.333333333333336
         ],
         "xaxis": "x",
         "yaxis": "y"
        }
       ],
       "layout": {
        "barmode": "relative",
        "legend": {
         "title": {
          "text": "gender"
         },
         "tracegroupgap": 0
        },
        "margin": {
         "t": 60
        },
        "template": {
         "data": {
          "bar": [
           {
            "error_x": {
             "color": "#2a3f5f"
            },
            "error_y": {
             "color": "#2a3f5f"
            },
            "marker": {
             "line": {
              "color": "#E5ECF6",
              "width": 0.5
             },
             "pattern": {
              "fillmode": "overlay",
              "size": 10,
              "solidity": 0.2
             }
            },
            "type": "bar"
           }
          ],
          "barpolar": [
           {
            "marker": {
             "line": {
              "color": "#E5ECF6",
              "width": 0.5
             },
             "pattern": {
              "fillmode": "overlay",
              "size": 10,
              "solidity": 0.2
             }
            },
            "type": "barpolar"
           }
          ],
          "carpet": [
           {
            "aaxis": {
             "endlinecolor": "#2a3f5f",
             "gridcolor": "white",
             "linecolor": "white",
             "minorgridcolor": "white",
             "startlinecolor": "#2a3f5f"
            },
            "baxis": {
             "endlinecolor": "#2a3f5f",
             "gridcolor": "white",
             "linecolor": "white",
             "minorgridcolor": "white",
             "startlinecolor": "#2a3f5f"
            },
            "type": "carpet"
           }
          ],
          "choropleth": [
           {
            "colorbar": {
             "outlinewidth": 0,
             "ticks": ""
            },
            "type": "choropleth"
           }
          ],
          "contour": [
           {
            "colorbar": {
             "outlinewidth": 0,
             "ticks": ""
            },
            "colorscale": [
             [
              0,
              "#0d0887"
             ],
             [
              0.1111111111111111,
              "#46039f"
             ],
             [
              0.2222222222222222,
              "#7201a8"
             ],
             [
              0.3333333333333333,
              "#9c179e"
             ],
             [
              0.4444444444444444,
              "#bd3786"
             ],
             [
              0.5555555555555556,
              "#d8576b"
             ],
             [
              0.6666666666666666,
              "#ed7953"
             ],
             [
              0.7777777777777778,
              "#fb9f3a"
             ],
             [
              0.8888888888888888,
              "#fdca26"
             ],
             [
              1,
              "#f0f921"
             ]
            ],
            "type": "contour"
           }
          ],
          "contourcarpet": [
           {
            "colorbar": {
             "outlinewidth": 0,
             "ticks": ""
            },
            "type": "contourcarpet"
           }
          ],
          "heatmap": [
           {
            "colorbar": {
             "outlinewidth": 0,
             "ticks": ""
            },
            "colorscale": [
             [
              0,
              "#0d0887"
             ],
             [
              0.1111111111111111,
              "#46039f"
             ],
             [
              0.2222222222222222,
              "#7201a8"
             ],
             [
              0.3333333333333333,
              "#9c179e"
             ],
             [
              0.4444444444444444,
              "#bd3786"
             ],
             [
              0.5555555555555556,
              "#d8576b"
             ],
             [
              0.6666666666666666,
              "#ed7953"
             ],
             [
              0.7777777777777778,
              "#fb9f3a"
             ],
             [
              0.8888888888888888,
              "#fdca26"
             ],
             [
              1,
              "#f0f921"
             ]
            ],
            "type": "heatmap"
           }
          ],
          "heatmapgl": [
           {
            "colorbar": {
             "outlinewidth": 0,
             "ticks": ""
            },
            "colorscale": [
             [
              0,
              "#0d0887"
             ],
             [
              0.1111111111111111,
              "#46039f"
             ],
             [
              0.2222222222222222,
              "#7201a8"
             ],
             [
              0.3333333333333333,
              "#9c179e"
             ],
             [
              0.4444444444444444,
              "#bd3786"
             ],
             [
              0.5555555555555556,
              "#d8576b"
             ],
             [
              0.6666666666666666,
              "#ed7953"
             ],
             [
              0.7777777777777778,
              "#fb9f3a"
             ],
             [
              0.8888888888888888,
              "#fdca26"
             ],
             [
              1,
              "#f0f921"
             ]
            ],
            "type": "heatmapgl"
           }
          ],
          "histogram": [
           {
            "marker": {
             "pattern": {
              "fillmode": "overlay",
              "size": 10,
              "solidity": 0.2
             }
            },
            "type": "histogram"
           }
          ],
          "histogram2d": [
           {
            "colorbar": {
             "outlinewidth": 0,
             "ticks": ""
            },
            "colorscale": [
             [
              0,
              "#0d0887"
             ],
             [
              0.1111111111111111,
              "#46039f"
             ],
             [
              0.2222222222222222,
              "#7201a8"
             ],
             [
              0.3333333333333333,
              "#9c179e"
             ],
             [
              0.4444444444444444,
              "#bd3786"
             ],
             [
              0.5555555555555556,
              "#d8576b"
             ],
             [
              0.6666666666666666,
              "#ed7953"
             ],
             [
              0.7777777777777778,
              "#fb9f3a"
             ],
             [
              0.8888888888888888,
              "#fdca26"
             ],
             [
              1,
              "#f0f921"
             ]
            ],
            "type": "histogram2d"
           }
          ],
          "histogram2dcontour": [
           {
            "colorbar": {
             "outlinewidth": 0,
             "ticks": ""
            },
            "colorscale": [
             [
              0,
              "#0d0887"
             ],
             [
              0.1111111111111111,
              "#46039f"
             ],
             [
              0.2222222222222222,
              "#7201a8"
             ],
             [
              0.3333333333333333,
              "#9c179e"
             ],
             [
              0.4444444444444444,
              "#bd3786"
             ],
             [
              0.5555555555555556,
              "#d8576b"
             ],
             [
              0.6666666666666666,
              "#ed7953"
             ],
             [
              0.7777777777777778,
              "#fb9f3a"
             ],
             [
              0.8888888888888888,
              "#fdca26"
             ],
             [
              1,
              "#f0f921"
             ]
            ],
            "type": "histogram2dcontour"
           }
          ],
          "mesh3d": [
           {
            "colorbar": {
             "outlinewidth": 0,
             "ticks": ""
            },
            "type": "mesh3d"
           }
          ],
          "parcoords": [
           {
            "line": {
             "colorbar": {
              "outlinewidth": 0,
              "ticks": ""
             }
            },
            "type": "parcoords"
           }
          ],
          "pie": [
           {
            "automargin": true,
            "type": "pie"
           }
          ],
          "scatter": [
           {
            "fillpattern": {
             "fillmode": "overlay",
             "size": 10,
             "solidity": 0.2
            },
            "type": "scatter"
           }
          ],
          "scatter3d": [
           {
            "line": {
             "colorbar": {
              "outlinewidth": 0,
              "ticks": ""
             }
            },
            "marker": {
             "colorbar": {
              "outlinewidth": 0,
              "ticks": ""
             }
            },
            "type": "scatter3d"
           }
          ],
          "scattercarpet": [
           {
            "marker": {
             "colorbar": {
              "outlinewidth": 0,
              "ticks": ""
             }
            },
            "type": "scattercarpet"
           }
          ],
          "scattergeo": [
           {
            "marker": {
             "colorbar": {
              "outlinewidth": 0,
              "ticks": ""
             }
            },
            "type": "scattergeo"
           }
          ],
          "scattergl": [
           {
            "marker": {
             "colorbar": {
              "outlinewidth": 0,
              "ticks": ""
             }
            },
            "type": "scattergl"
           }
          ],
          "scattermapbox": [
           {
            "marker": {
             "colorbar": {
              "outlinewidth": 0,
              "ticks": ""
             }
            },
            "type": "scattermapbox"
           }
          ],
          "scatterpolar": [
           {
            "marker": {
             "colorbar": {
              "outlinewidth": 0,
              "ticks": ""
             }
            },
            "type": "scatterpolar"
           }
          ],
          "scatterpolargl": [
           {
            "marker": {
             "colorbar": {
              "outlinewidth": 0,
              "ticks": ""
             }
            },
            "type": "scatterpolargl"
           }
          ],
          "scatterternary": [
           {
            "marker": {
             "colorbar": {
              "outlinewidth": 0,
              "ticks": ""
             }
            },
            "type": "scatterternary"
           }
          ],
          "surface": [
           {
            "colorbar": {
             "outlinewidth": 0,
             "ticks": ""
            },
            "colorscale": [
             [
              0,
              "#0d0887"
             ],
             [
              0.1111111111111111,
              "#46039f"
             ],
             [
              0.2222222222222222,
              "#7201a8"
             ],
             [
              0.3333333333333333,
              "#9c179e"
             ],
             [
              0.4444444444444444,
              "#bd3786"
             ],
             [
              0.5555555555555556,
              "#d8576b"
             ],
             [
              0.6666666666666666,
              "#ed7953"
             ],
             [
              0.7777777777777778,
              "#fb9f3a"
             ],
             [
              0.8888888888888888,
              "#fdca26"
             ],
             [
              1,
              "#f0f921"
             ]
            ],
            "type": "surface"
           }
          ],
          "table": [
           {
            "cells": {
             "fill": {
              "color": "#EBF0F8"
             },
             "line": {
              "color": "white"
             }
            },
            "header": {
             "fill": {
              "color": "#C8D4E3"
             },
             "line": {
              "color": "white"
             }
            },
            "type": "table"
           }
          ]
         },
         "layout": {
          "annotationdefaults": {
           "arrowcolor": "#2a3f5f",
           "arrowhead": 0,
           "arrowwidth": 1
          },
          "autotypenumbers": "strict",
          "coloraxis": {
           "colorbar": {
            "outlinewidth": 0,
            "ticks": ""
           }
          },
          "colorscale": {
           "diverging": [
            [
             0,
             "#8e0152"
            ],
            [
             0.1,
             "#c51b7d"
            ],
            [
             0.2,
             "#de77ae"
            ],
            [
             0.3,
             "#f1b6da"
            ],
            [
             0.4,
             "#fde0ef"
            ],
            [
             0.5,
             "#f7f7f7"
            ],
            [
             0.6,
             "#e6f5d0"
            ],
            [
             0.7,
             "#b8e186"
            ],
            [
             0.8,
             "#7fbc41"
            ],
            [
             0.9,
             "#4d9221"
            ],
            [
             1,
             "#276419"
            ]
           ],
           "sequential": [
            [
             0,
             "#0d0887"
            ],
            [
             0.1111111111111111,
             "#46039f"
            ],
            [
             0.2222222222222222,
             "#7201a8"
            ],
            [
             0.3333333333333333,
             "#9c179e"
            ],
            [
             0.4444444444444444,
             "#bd3786"
            ],
            [
             0.5555555555555556,
             "#d8576b"
            ],
            [
             0.6666666666666666,
             "#ed7953"
            ],
            [
             0.7777777777777778,
             "#fb9f3a"
            ],
            [
             0.8888888888888888,
             "#fdca26"
            ],
            [
             1,
             "#f0f921"
            ]
           ],
           "sequentialminus": [
            [
             0,
             "#0d0887"
            ],
            [
             0.1111111111111111,
             "#46039f"
            ],
            [
             0.2222222222222222,
             "#7201a8"
            ],
            [
             0.3333333333333333,
             "#9c179e"
            ],
            [
             0.4444444444444444,
             "#bd3786"
            ],
            [
             0.5555555555555556,
             "#d8576b"
            ],
            [
             0.6666666666666666,
             "#ed7953"
            ],
            [
             0.7777777777777778,
             "#fb9f3a"
            ],
            [
             0.8888888888888888,
             "#fdca26"
            ],
            [
             1,
             "#f0f921"
            ]
           ]
          },
          "colorway": [
           "#636efa",
           "#EF553B",
           "#00cc96",
           "#ab63fa",
           "#FFA15A",
           "#19d3f3",
           "#FF6692",
           "#B6E880",
           "#FF97FF",
           "#FECB52"
          ],
          "font": {
           "color": "#2a3f5f"
          },
          "geo": {
           "bgcolor": "white",
           "lakecolor": "white",
           "landcolor": "#E5ECF6",
           "showlakes": true,
           "showland": true,
           "subunitcolor": "white"
          },
          "hoverlabel": {
           "align": "left"
          },
          "hovermode": "closest",
          "mapbox": {
           "style": "light"
          },
          "paper_bgcolor": "white",
          "plot_bgcolor": "#E5ECF6",
          "polar": {
           "angularaxis": {
            "gridcolor": "white",
            "linecolor": "white",
            "ticks": ""
           },
           "bgcolor": "#E5ECF6",
           "radialaxis": {
            "gridcolor": "white",
            "linecolor": "white",
            "ticks": ""
           }
          },
          "scene": {
           "xaxis": {
            "backgroundcolor": "#E5ECF6",
            "gridcolor": "white",
            "gridwidth": 2,
            "linecolor": "white",
            "showbackground": true,
            "ticks": "",
            "zerolinecolor": "white"
           },
           "yaxis": {
            "backgroundcolor": "#E5ECF6",
            "gridcolor": "white",
            "gridwidth": 2,
            "linecolor": "white",
            "showbackground": true,
            "ticks": "",
            "zerolinecolor": "white"
           },
           "zaxis": {
            "backgroundcolor": "#E5ECF6",
            "gridcolor": "white",
            "gridwidth": 2,
            "linecolor": "white",
            "showbackground": true,
            "ticks": "",
            "zerolinecolor": "white"
           }
          },
          "shapedefaults": {
           "line": {
            "color": "#2a3f5f"
           }
          },
          "ternary": {
           "aaxis": {
            "gridcolor": "white",
            "linecolor": "white",
            "ticks": ""
           },
           "baxis": {
            "gridcolor": "white",
            "linecolor": "white",
            "ticks": ""
           },
           "bgcolor": "#E5ECF6",
           "caxis": {
            "gridcolor": "white",
            "linecolor": "white",
            "ticks": ""
           }
          },
          "title": {
           "x": 0.05
          },
          "xaxis": {
           "automargin": true,
           "gridcolor": "white",
           "linecolor": "white",
           "ticks": "",
           "title": {
            "standoff": 15
           },
           "zerolinecolor": "white",
           "zerolinewidth": 2
          },
          "yaxis": {
           "automargin": true,
           "gridcolor": "white",
           "linecolor": "white",
           "ticks": "",
           "title": {
            "standoff": 15
           },
           "zerolinecolor": "white",
           "zerolinewidth": 2
          }
         }
        },
        "xaxis": {
         "anchor": "y",
         "domain": [
          0,
          1
         ],
         "title": {
          "text": "average"
         }
        },
        "yaxis": {
         "anchor": "x",
         "domain": [
          0,
          1
         ],
         "title": {
          "text": "count"
         }
        }
       }
      }
     },
     "metadata": {},
     "output_type": "display_data"
    }
   ],
   "source": [
    "fig = px.histogram(df, x='average', color='gender', nbins=30)\n",
    "fig.show()"
   ]
  },
  {
   "cell_type": "markdown",
   "metadata": {},
   "source": [
    "<center><b>Figure:9</b> - Histogram of average column base on gender.</center>"
   ]
  },
  {
   "cell_type": "code",
   "execution_count": 127,
   "metadata": {},
   "outputs": [
    {
     "data": {
      "application/vnd.plotly.v1+json": {
       "config": {
        "plotlyServerURL": "https://plot.ly"
       },
       "data": [
        {
         "alignmentgroup": "True",
         "bingroup": "x",
         "hovertemplate": "total_number=%{x}<br>count=%{y}<extra></extra>",
         "legendgroup": "",
         "marker": {
          "color": "#636efa",
          "pattern": {
           "shape": ""
          }
         },
         "name": "",
         "nbinsx": 30,
         "offsetgroup": "",
         "orientation": "v",
         "showlegend": false,
         "type": "histogram",
         "x": [
          218,
          247,
          278,
          148,
          229,
          232,
          275,
          122,
          195,
          148,
          164,
          135,
          219,
          220,
          161,
          222,
          263,
          78,
          134,
          173,
          198,
          210,
          151,
          215,
          225,
          219,
          178,
          211,
          205,
          207,
          217,
          189,
          193,
          120,
          266,
          241,
          238,
          173,
          253,
          170,
          170,
          199,
          176,
          190,
          160,
          176,
          182,
          213,
          207,
          248,
          156,
          214,
          139,
          241,
          242,
          117,
          253,
          156,
          175,
          27,
          225,
          112,
          178,
          220,
          176,
          192,
          119,
          206,
          175,
          160,
          194,
          181,
          140,
          174,
          139,
          123,
          78,
          239,
          207,
          198,
          146,
          139,
          151,
          199,
          115,
          235,
          247,
          216,
          195,
          241,
          211,
          97,
          221,
          138,
          257,
          241,
          193,
          205,
          187,
          194,
          213,
          216,
          265,
          151,
          274,
          197,
          287,
          193,
          198,
          206,
          264,
          166,
          154,
          163,
          299,
          235,
          242,
          239,
          175,
          189,
          260,
          272,
          274,
          176,
          236,
          268,
          207,
          216,
          238,
          151,
          255,
          130,
          231,
          240,
          228,
          161,
          146,
          181,
          192,
          201,
          219,
          185,
          151,
          147,
          239,
          94,
          247,
          207,
          224,
          293,
          198,
          212,
          195,
          150,
          190,
          247,
          218,
          180,
          234,
          192,
          234,
          248,
          154,
          154,
          264,
          296,
          155,
          212,
          229,
          212,
          219,
          260,
          246,
          200,
          148,
          259,
          158,
          225,
          184,
          297,
          205,
          176,
          147,
          204,
          146,
          197,
          221,
          196,
          145,
          252,
          200,
          238,
          192,
          201,
          238,
          168,
          193,
          162,
          153,
          233,
          237,
          223,
          215,
          194,
          142,
          223,
          206,
          237,
          231,
          185,
          238,
          90,
          164,
          167,
          259,
          242,
          257,
          115,
          213,
          173,
          198,
          245,
          182,
          241,
          191,
          155,
          215,
          161,
          204,
          277,
          206,
          131,
          236,
          257,
          249,
          232,
          196,
          198,
          157,
          244,
          207,
          246,
          163,
          153,
          218,
          232,
          239,
          196,
          191,
          181,
          145,
          237,
          200,
          232,
          158,
          205,
          205,
          232,
          223,
          227,
          220,
          236,
          145,
          282,
          217,
          142,
          219,
          218,
          275,
          217,
          193,
          149,
          158,
          206,
          249,
          234,
          270,
          197,
          231,
          186,
          147,
          139,
          236,
          226,
          129,
          245,
          267,
          238,
          239,
          230,
          214,
          229,
          180,
          213,
          235,
          189,
          130,
          213,
          136,
          252,
          240,
          162,
          232,
          220,
          232,
          205,
          267,
          147,
          191,
          158,
          229,
          183,
          196,
          204,
          198,
          202,
          250,
          233,
          203,
          184,
          230,
          240,
          232,
          149,
          130,
          266,
          184,
          70,
          234,
          147,
          192,
          119,
          171,
          249,
          271,
          195,
          215,
          143,
          89,
          150,
          171,
          197,
          219,
          206,
          219,
          227,
          180,
          266,
          215,
          237,
          186,
          175,
          221,
          161,
          200,
          203,
          185,
          177,
          182,
          259,
          179,
          247,
          168,
          93,
          177,
          167,
          180,
          188,
          166,
          242,
          232,
          188,
          220,
          275,
          202,
          130,
          252,
          280,
          231,
          192,
          249,
          282,
          231,
          132,
          124,
          218,
          207,
          202,
          190,
          218,
          199,
          222,
          210,
          167,
          216,
          134,
          180,
          269,
          194,
          173,
          180,
          139,
          169,
          287,
          175,
          204,
          193,
          239,
          165,
          256,
          215,
          245,
          197,
          197,
          202,
          226,
          213,
          214,
          189,
          167,
          268,
          179,
          172,
          224,
          114,
          191,
          255,
          205,
          177,
          185,
          189,
          203,
          172,
          156,
          205,
          151,
          207,
          214,
          177,
          259,
          227,
          239,
          201,
          232,
          234,
          218,
          195,
          247,
          135,
          226,
          234,
          289,
          216,
          172,
          176,
          140,
          257,
          155,
          300,
          205,
          166,
          153,
          217,
          258,
          195,
          262,
          95,
          204,
          250,
          241,
          258,
          206,
          238,
          187,
          271,
          230,
          204,
          220,
          189,
          214,
          212,
          167,
          197,
          157,
          155,
          215,
          164,
          209,
          174,
          243,
          226,
          198,
          256,
          259,
          186,
          198,
          154,
          213,
          203,
          219,
          235,
          273,
          178,
          276,
          153,
          244,
          204,
          168,
          234,
          265,
          220,
          157,
          163,
          177,
          268,
          248,
          247,
          213,
          222,
          224,
          172,
          261,
          184,
          163,
          154,
          187,
          177,
          132,
          117,
          206,
          208,
          154,
          181,
          261,
          210,
          232,
          169,
          179,
          222,
          275,
          212,
          241,
          237,
          266,
          193,
          241,
          289,
          203,
          193,
          220,
          220,
          265,
          138,
          203,
          138,
          104,
          206,
          194,
          193,
          201,
          228,
          211,
          278,
          223,
          145,
          136,
          292,
          210,
          158,
          203,
          216,
          279,
          171,
          180,
          226,
          148,
          164,
          261,
          162,
          182,
          274,
          236,
          214,
          228,
          223,
          217,
          201,
          169,
          183,
          179,
          169,
          183,
          200,
          223,
          291,
          207,
          69,
          155,
          219,
          228,
          177,
          88,
          234,
          168,
          263,
          209,
          251,
          152,
          187,
          186,
          192,
          183,
          275,
          216,
          268,
          200,
          120,
          249,
          260,
          206,
          150,
          181,
          161,
          282,
          181,
          296,
          202,
          155,
          152,
          150,
          201,
          204,
          221,
          248,
          248,
          209,
          228,
          260,
          236,
          223,
          144,
          252,
          232,
          233,
          195,
          227,
          194,
          194,
          158,
          229,
          160,
          224,
          269,
          209,
          231,
          196,
          208,
          196,
          161,
          262,
          224,
          202,
          195,
          201,
          206,
          170,
          207,
          249,
          208,
          230,
          210,
          159,
          223,
          233,
          224,
          180,
          227,
          228,
          234,
          184,
          213,
          188,
          171,
          113,
          196,
          293,
          228,
          228,
          155,
          266,
          155,
          227,
          221,
          227,
          168,
          254,
          247,
          201,
          214,
          191,
          242,
          196,
          258,
          194,
          186,
          199,
          116,
          177,
          255,
          161,
          267,
          250,
          297,
          246,
          204,
          257,
          223,
          291,
          226,
          244,
          204,
          173,
          252,
          140,
          131,
          226,
          217,
          176,
          249,
          129,
          225,
          144,
          270,
          146,
          168,
          183,
          255,
          192,
          225,
          176,
          225,
          150,
          247,
          204,
          157,
          225,
          215,
          201,
          169,
          257,
          208,
          205,
          231,
          252,
          166,
          271,
          165,
          210,
          176,
          223,
          189,
          160,
          245,
          187,
          182,
          218,
          210,
          198,
          214,
          175,
          149,
          222,
          191,
          219,
          191,
          162,
          208,
          122,
          233,
          261,
          159,
          251,
          243,
          173,
          251,
          127,
          228,
          89,
          194,
          178,
          170,
          196,
          209,
          250,
          145,
          198,
          210,
          235,
          183,
          164,
          208,
          229,
          276,
          254,
          227,
          230,
          213,
          126,
          234,
          164,
          118,
          141,
          185,
          247,
          235,
          267,
          168,
          207,
          200,
          256,
          267,
          261,
          152,
          240,
          158,
          187,
          194,
          210,
          236,
          175,
          178,
          249,
          182,
          248,
          153,
          198,
          194,
          236,
          168,
          216,
          137,
          173,
          103,
          227,
          169,
          259,
          261,
          168,
          199,
          224,
          205,
          192,
          265,
          210,
          181,
          290,
          208,
          225,
          147,
          232,
          168,
          254,
          119,
          222,
          281,
          252,
          164,
          144,
          224,
          151,
          164,
          218,
          244,
          262,
          166,
          210,
          247,
          172,
          211,
          214,
          193,
          211,
          208,
          145,
          156,
          218,
          288,
          185,
          208,
          143,
          262,
          262,
          190,
          237,
          190,
          104,
          92,
          220,
          184,
          225,
          258,
          225,
          123,
          293,
          235,
          242,
          156,
          254,
          214,
          204,
          140,
          235,
          179,
          175,
          162,
          204,
          300,
          157,
          214,
          278,
          206,
          134,
          204,
          184,
          213,
          198,
          172,
          197,
          133,
          155,
          211,
          181,
          205,
          219,
          275,
          191,
          177,
          172,
          251,
          214,
          210,
          265,
          211,
          184,
          187,
          173,
          244,
          167,
          151,
          205,
          238,
          235,
          220,
          164,
          200,
          191,
          252,
          292,
          167,
          227,
          178,
          155,
          300,
          216,
          187,
          204,
          198,
          186,
          211,
          239,
          289,
          219,
          163,
          175,
          184,
          223,
          182,
          185,
          144,
          280,
          55,
          237,
          250,
          256,
          231,
          162,
          150,
          232,
          134,
          236,
          242,
          225,
          207,
          208,
          188,
          282,
          172,
          195,
          223,
          249
         ],
         "xaxis": "x",
         "yaxis": "y"
        }
       ],
       "layout": {
        "barmode": "relative",
        "legend": {
         "tracegroupgap": 0
        },
        "margin": {
         "t": 60
        },
        "template": {
         "data": {
          "bar": [
           {
            "error_x": {
             "color": "#2a3f5f"
            },
            "error_y": {
             "color": "#2a3f5f"
            },
            "marker": {
             "line": {
              "color": "#E5ECF6",
              "width": 0.5
             },
             "pattern": {
              "fillmode": "overlay",
              "size": 10,
              "solidity": 0.2
             }
            },
            "type": "bar"
           }
          ],
          "barpolar": [
           {
            "marker": {
             "line": {
              "color": "#E5ECF6",
              "width": 0.5
             },
             "pattern": {
              "fillmode": "overlay",
              "size": 10,
              "solidity": 0.2
             }
            },
            "type": "barpolar"
           }
          ],
          "carpet": [
           {
            "aaxis": {
             "endlinecolor": "#2a3f5f",
             "gridcolor": "white",
             "linecolor": "white",
             "minorgridcolor": "white",
             "startlinecolor": "#2a3f5f"
            },
            "baxis": {
             "endlinecolor": "#2a3f5f",
             "gridcolor": "white",
             "linecolor": "white",
             "minorgridcolor": "white",
             "startlinecolor": "#2a3f5f"
            },
            "type": "carpet"
           }
          ],
          "choropleth": [
           {
            "colorbar": {
             "outlinewidth": 0,
             "ticks": ""
            },
            "type": "choropleth"
           }
          ],
          "contour": [
           {
            "colorbar": {
             "outlinewidth": 0,
             "ticks": ""
            },
            "colorscale": [
             [
              0,
              "#0d0887"
             ],
             [
              0.1111111111111111,
              "#46039f"
             ],
             [
              0.2222222222222222,
              "#7201a8"
             ],
             [
              0.3333333333333333,
              "#9c179e"
             ],
             [
              0.4444444444444444,
              "#bd3786"
             ],
             [
              0.5555555555555556,
              "#d8576b"
             ],
             [
              0.6666666666666666,
              "#ed7953"
             ],
             [
              0.7777777777777778,
              "#fb9f3a"
             ],
             [
              0.8888888888888888,
              "#fdca26"
             ],
             [
              1,
              "#f0f921"
             ]
            ],
            "type": "contour"
           }
          ],
          "contourcarpet": [
           {
            "colorbar": {
             "outlinewidth": 0,
             "ticks": ""
            },
            "type": "contourcarpet"
           }
          ],
          "heatmap": [
           {
            "colorbar": {
             "outlinewidth": 0,
             "ticks": ""
            },
            "colorscale": [
             [
              0,
              "#0d0887"
             ],
             [
              0.1111111111111111,
              "#46039f"
             ],
             [
              0.2222222222222222,
              "#7201a8"
             ],
             [
              0.3333333333333333,
              "#9c179e"
             ],
             [
              0.4444444444444444,
              "#bd3786"
             ],
             [
              0.5555555555555556,
              "#d8576b"
             ],
             [
              0.6666666666666666,
              "#ed7953"
             ],
             [
              0.7777777777777778,
              "#fb9f3a"
             ],
             [
              0.8888888888888888,
              "#fdca26"
             ],
             [
              1,
              "#f0f921"
             ]
            ],
            "type": "heatmap"
           }
          ],
          "heatmapgl": [
           {
            "colorbar": {
             "outlinewidth": 0,
             "ticks": ""
            },
            "colorscale": [
             [
              0,
              "#0d0887"
             ],
             [
              0.1111111111111111,
              "#46039f"
             ],
             [
              0.2222222222222222,
              "#7201a8"
             ],
             [
              0.3333333333333333,
              "#9c179e"
             ],
             [
              0.4444444444444444,
              "#bd3786"
             ],
             [
              0.5555555555555556,
              "#d8576b"
             ],
             [
              0.6666666666666666,
              "#ed7953"
             ],
             [
              0.7777777777777778,
              "#fb9f3a"
             ],
             [
              0.8888888888888888,
              "#fdca26"
             ],
             [
              1,
              "#f0f921"
             ]
            ],
            "type": "heatmapgl"
           }
          ],
          "histogram": [
           {
            "marker": {
             "pattern": {
              "fillmode": "overlay",
              "size": 10,
              "solidity": 0.2
             }
            },
            "type": "histogram"
           }
          ],
          "histogram2d": [
           {
            "colorbar": {
             "outlinewidth": 0,
             "ticks": ""
            },
            "colorscale": [
             [
              0,
              "#0d0887"
             ],
             [
              0.1111111111111111,
              "#46039f"
             ],
             [
              0.2222222222222222,
              "#7201a8"
             ],
             [
              0.3333333333333333,
              "#9c179e"
             ],
             [
              0.4444444444444444,
              "#bd3786"
             ],
             [
              0.5555555555555556,
              "#d8576b"
             ],
             [
              0.6666666666666666,
              "#ed7953"
             ],
             [
              0.7777777777777778,
              "#fb9f3a"
             ],
             [
              0.8888888888888888,
              "#fdca26"
             ],
             [
              1,
              "#f0f921"
             ]
            ],
            "type": "histogram2d"
           }
          ],
          "histogram2dcontour": [
           {
            "colorbar": {
             "outlinewidth": 0,
             "ticks": ""
            },
            "colorscale": [
             [
              0,
              "#0d0887"
             ],
             [
              0.1111111111111111,
              "#46039f"
             ],
             [
              0.2222222222222222,
              "#7201a8"
             ],
             [
              0.3333333333333333,
              "#9c179e"
             ],
             [
              0.4444444444444444,
              "#bd3786"
             ],
             [
              0.5555555555555556,
              "#d8576b"
             ],
             [
              0.6666666666666666,
              "#ed7953"
             ],
             [
              0.7777777777777778,
              "#fb9f3a"
             ],
             [
              0.8888888888888888,
              "#fdca26"
             ],
             [
              1,
              "#f0f921"
             ]
            ],
            "type": "histogram2dcontour"
           }
          ],
          "mesh3d": [
           {
            "colorbar": {
             "outlinewidth": 0,
             "ticks": ""
            },
            "type": "mesh3d"
           }
          ],
          "parcoords": [
           {
            "line": {
             "colorbar": {
              "outlinewidth": 0,
              "ticks": ""
             }
            },
            "type": "parcoords"
           }
          ],
          "pie": [
           {
            "automargin": true,
            "type": "pie"
           }
          ],
          "scatter": [
           {
            "fillpattern": {
             "fillmode": "overlay",
             "size": 10,
             "solidity": 0.2
            },
            "type": "scatter"
           }
          ],
          "scatter3d": [
           {
            "line": {
             "colorbar": {
              "outlinewidth": 0,
              "ticks": ""
             }
            },
            "marker": {
             "colorbar": {
              "outlinewidth": 0,
              "ticks": ""
             }
            },
            "type": "scatter3d"
           }
          ],
          "scattercarpet": [
           {
            "marker": {
             "colorbar": {
              "outlinewidth": 0,
              "ticks": ""
             }
            },
            "type": "scattercarpet"
           }
          ],
          "scattergeo": [
           {
            "marker": {
             "colorbar": {
              "outlinewidth": 0,
              "ticks": ""
             }
            },
            "type": "scattergeo"
           }
          ],
          "scattergl": [
           {
            "marker": {
             "colorbar": {
              "outlinewidth": 0,
              "ticks": ""
             }
            },
            "type": "scattergl"
           }
          ],
          "scattermapbox": [
           {
            "marker": {
             "colorbar": {
              "outlinewidth": 0,
              "ticks": ""
             }
            },
            "type": "scattermapbox"
           }
          ],
          "scatterpolar": [
           {
            "marker": {
             "colorbar": {
              "outlinewidth": 0,
              "ticks": ""
             }
            },
            "type": "scatterpolar"
           }
          ],
          "scatterpolargl": [
           {
            "marker": {
             "colorbar": {
              "outlinewidth": 0,
              "ticks": ""
             }
            },
            "type": "scatterpolargl"
           }
          ],
          "scatterternary": [
           {
            "marker": {
             "colorbar": {
              "outlinewidth": 0,
              "ticks": ""
             }
            },
            "type": "scatterternary"
           }
          ],
          "surface": [
           {
            "colorbar": {
             "outlinewidth": 0,
             "ticks": ""
            },
            "colorscale": [
             [
              0,
              "#0d0887"
             ],
             [
              0.1111111111111111,
              "#46039f"
             ],
             [
              0.2222222222222222,
              "#7201a8"
             ],
             [
              0.3333333333333333,
              "#9c179e"
             ],
             [
              0.4444444444444444,
              "#bd3786"
             ],
             [
              0.5555555555555556,
              "#d8576b"
             ],
             [
              0.6666666666666666,
              "#ed7953"
             ],
             [
              0.7777777777777778,
              "#fb9f3a"
             ],
             [
              0.8888888888888888,
              "#fdca26"
             ],
             [
              1,
              "#f0f921"
             ]
            ],
            "type": "surface"
           }
          ],
          "table": [
           {
            "cells": {
             "fill": {
              "color": "#EBF0F8"
             },
             "line": {
              "color": "white"
             }
            },
            "header": {
             "fill": {
              "color": "#C8D4E3"
             },
             "line": {
              "color": "white"
             }
            },
            "type": "table"
           }
          ]
         },
         "layout": {
          "annotationdefaults": {
           "arrowcolor": "#2a3f5f",
           "arrowhead": 0,
           "arrowwidth": 1
          },
          "autotypenumbers": "strict",
          "coloraxis": {
           "colorbar": {
            "outlinewidth": 0,
            "ticks": ""
           }
          },
          "colorscale": {
           "diverging": [
            [
             0,
             "#8e0152"
            ],
            [
             0.1,
             "#c51b7d"
            ],
            [
             0.2,
             "#de77ae"
            ],
            [
             0.3,
             "#f1b6da"
            ],
            [
             0.4,
             "#fde0ef"
            ],
            [
             0.5,
             "#f7f7f7"
            ],
            [
             0.6,
             "#e6f5d0"
            ],
            [
             0.7,
             "#b8e186"
            ],
            [
             0.8,
             "#7fbc41"
            ],
            [
             0.9,
             "#4d9221"
            ],
            [
             1,
             "#276419"
            ]
           ],
           "sequential": [
            [
             0,
             "#0d0887"
            ],
            [
             0.1111111111111111,
             "#46039f"
            ],
            [
             0.2222222222222222,
             "#7201a8"
            ],
            [
             0.3333333333333333,
             "#9c179e"
            ],
            [
             0.4444444444444444,
             "#bd3786"
            ],
            [
             0.5555555555555556,
             "#d8576b"
            ],
            [
             0.6666666666666666,
             "#ed7953"
            ],
            [
             0.7777777777777778,
             "#fb9f3a"
            ],
            [
             0.8888888888888888,
             "#fdca26"
            ],
            [
             1,
             "#f0f921"
            ]
           ],
           "sequentialminus": [
            [
             0,
             "#0d0887"
            ],
            [
             0.1111111111111111,
             "#46039f"
            ],
            [
             0.2222222222222222,
             "#7201a8"
            ],
            [
             0.3333333333333333,
             "#9c179e"
            ],
            [
             0.4444444444444444,
             "#bd3786"
            ],
            [
             0.5555555555555556,
             "#d8576b"
            ],
            [
             0.6666666666666666,
             "#ed7953"
            ],
            [
             0.7777777777777778,
             "#fb9f3a"
            ],
            [
             0.8888888888888888,
             "#fdca26"
            ],
            [
             1,
             "#f0f921"
            ]
           ]
          },
          "colorway": [
           "#636efa",
           "#EF553B",
           "#00cc96",
           "#ab63fa",
           "#FFA15A",
           "#19d3f3",
           "#FF6692",
           "#B6E880",
           "#FF97FF",
           "#FECB52"
          ],
          "font": {
           "color": "#2a3f5f"
          },
          "geo": {
           "bgcolor": "white",
           "lakecolor": "white",
           "landcolor": "#E5ECF6",
           "showlakes": true,
           "showland": true,
           "subunitcolor": "white"
          },
          "hoverlabel": {
           "align": "left"
          },
          "hovermode": "closest",
          "mapbox": {
           "style": "light"
          },
          "paper_bgcolor": "white",
          "plot_bgcolor": "#E5ECF6",
          "polar": {
           "angularaxis": {
            "gridcolor": "white",
            "linecolor": "white",
            "ticks": ""
           },
           "bgcolor": "#E5ECF6",
           "radialaxis": {
            "gridcolor": "white",
            "linecolor": "white",
            "ticks": ""
           }
          },
          "scene": {
           "xaxis": {
            "backgroundcolor": "#E5ECF6",
            "gridcolor": "white",
            "gridwidth": 2,
            "linecolor": "white",
            "showbackground": true,
            "ticks": "",
            "zerolinecolor": "white"
           },
           "yaxis": {
            "backgroundcolor": "#E5ECF6",
            "gridcolor": "white",
            "gridwidth": 2,
            "linecolor": "white",
            "showbackground": true,
            "ticks": "",
            "zerolinecolor": "white"
           },
           "zaxis": {
            "backgroundcolor": "#E5ECF6",
            "gridcolor": "white",
            "gridwidth": 2,
            "linecolor": "white",
            "showbackground": true,
            "ticks": "",
            "zerolinecolor": "white"
           }
          },
          "shapedefaults": {
           "line": {
            "color": "#2a3f5f"
           }
          },
          "ternary": {
           "aaxis": {
            "gridcolor": "white",
            "linecolor": "white",
            "ticks": ""
           },
           "baxis": {
            "gridcolor": "white",
            "linecolor": "white",
            "ticks": ""
           },
           "bgcolor": "#E5ECF6",
           "caxis": {
            "gridcolor": "white",
            "linecolor": "white",
            "ticks": ""
           }
          },
          "title": {
           "x": 0.05
          },
          "xaxis": {
           "automargin": true,
           "gridcolor": "white",
           "linecolor": "white",
           "ticks": "",
           "title": {
            "standoff": 15
           },
           "zerolinecolor": "white",
           "zerolinewidth": 2
          },
          "yaxis": {
           "automargin": true,
           "gridcolor": "white",
           "linecolor": "white",
           "ticks": "",
           "title": {
            "standoff": 15
           },
           "zerolinecolor": "white",
           "zerolinewidth": 2
          }
         }
        },
        "xaxis": {
         "anchor": "y",
         "domain": [
          0,
          1
         ],
         "title": {
          "text": "total_number"
         }
        },
        "yaxis": {
         "anchor": "x",
         "domain": [
          0,
          1
         ],
         "title": {
          "text": "count"
         }
        }
       }
      }
     },
     "metadata": {},
     "output_type": "display_data"
    }
   ],
   "source": [
    "fig = px.histogram(df, x='total_number', nbins=30)\n",
    "fig.show()"
   ]
  },
  {
   "cell_type": "markdown",
   "metadata": {},
   "source": [
    "<center><b>Figure:10</b> - Histogram of Total_number Column.</center>"
   ]
  },
  {
   "cell_type": "code",
   "execution_count": 128,
   "metadata": {},
   "outputs": [
    {
     "data": {
      "application/vnd.plotly.v1+json": {
       "config": {
        "plotlyServerURL": "https://plot.ly"
       },
       "data": [
        {
         "alignmentgroup": "True",
         "bingroup": "x",
         "hovertemplate": "gender=female<br>total_number=%{x}<br>count=%{y}<extra></extra>",
         "legendgroup": "female",
         "marker": {
          "color": "#636efa",
          "pattern": {
           "shape": ""
          }
         },
         "name": "female",
         "nbinsx": 30,
         "offsetgroup": "female",
         "orientation": "v",
         "showlegend": true,
         "type": "histogram",
         "x": [
          218,
          247,
          278,
          232,
          275,
          148,
          219,
          161,
          222,
          78,
          173,
          210,
          215,
          211,
          207,
          217,
          189,
          193,
          238,
          173,
          253,
          199,
          176,
          160,
          182,
          213,
          207,
          242,
          117,
          253,
          27,
          220,
          176,
          206,
          160,
          194,
          140,
          207,
          198,
          146,
          235,
          247,
          216,
          195,
          241,
          211,
          257,
          205,
          187,
          194,
          265,
          197,
          287,
          198,
          206,
          264,
          163,
          299,
          242,
          239,
          175,
          189,
          260,
          274,
          268,
          151,
          240,
          192,
          219,
          185,
          151,
          94,
          224,
          195,
          247,
          218,
          234,
          248,
          264,
          296,
          212,
          229,
          212,
          246,
          200,
          148,
          259,
          158,
          225,
          184,
          297,
          176,
          147,
          204,
          252,
          200,
          192,
          238,
          153,
          233,
          237,
          223,
          194,
          231,
          185,
          164,
          257,
          115,
          198,
          182,
          191,
          155,
          215,
          277,
          236,
          198,
          246,
          163,
          196,
          191,
          237,
          200,
          205,
          205,
          223,
          227,
          220,
          145,
          282,
          219,
          218,
          275,
          217,
          158,
          206,
          270,
          197,
          231,
          236,
          226,
          129,
          238,
          213,
          232,
          232,
          191,
          158,
          229,
          204,
          198,
          250,
          184,
          230,
          240,
          232,
          149,
          130,
          266,
          147,
          271,
          195,
          89,
          150,
          197,
          219,
          227,
          266,
          186,
          221,
          161,
          200,
          203,
          177,
          259,
          179,
          168,
          93,
          166,
          242,
          188,
          275,
          202,
          252,
          280,
          231,
          249,
          132,
          124,
          218,
          207,
          202,
          190,
          222,
          216,
          180,
          269,
          180,
          169,
          287,
          175,
          204,
          239,
          165,
          215,
          202,
          268,
          179,
          172,
          224,
          191,
          203,
          156,
          227,
          239,
          201,
          232,
          218,
          234,
          289,
          216,
          176,
          257,
          300,
          217,
          258,
          262,
          95,
          250,
          258,
          206,
          238,
          187,
          271,
          230,
          189,
          167,
          155,
          209,
          226,
          198,
          256,
          259,
          186,
          154,
          213,
          203,
          235,
          273,
          276,
          153,
          244,
          265,
          177,
          268,
          248,
          247,
          213,
          222,
          224,
          261,
          132,
          117,
          206,
          208,
          154,
          261,
          232,
          179,
          237,
          266,
          193,
          289,
          193,
          138,
          104,
          206,
          193,
          228,
          211,
          223,
          292,
          210,
          171,
          180,
          226,
          261,
          162,
          182,
          274,
          236,
          214,
          228,
          223,
          217,
          201,
          169,
          183,
          179,
          223,
          291,
          207,
          219,
          228,
          177,
          88,
          234,
          251,
          152,
          187,
          186,
          183,
          216,
          268,
          200,
          120,
          150,
          181,
          150,
          221,
          248,
          228,
          260,
          223,
          252,
          232,
          233,
          227,
          194,
          194,
          158,
          229,
          224,
          269,
          209,
          231,
          196,
          161,
          195,
          201,
          170,
          207,
          249,
          210,
          223,
          233,
          224,
          180,
          227,
          228,
          213,
          113,
          293,
          155,
          227,
          221,
          227,
          168,
          254,
          247,
          201,
          214,
          242,
          196,
          194,
          186,
          161,
          250,
          297,
          204,
          257,
          291,
          226,
          204,
          252,
          217,
          249,
          225,
          270,
          168,
          192,
          150,
          247,
          204,
          169,
          252,
          271,
          176,
          189,
          160,
          187,
          218,
          210,
          214,
          191,
          219,
          162,
          208,
          122,
          233,
          159,
          251,
          243,
          173,
          127,
          228,
          89,
          178,
          170,
          196,
          145,
          198,
          235,
          164,
          276,
          254,
          227,
          213,
          126,
          185,
          235,
          168,
          200,
          256,
          267,
          261,
          240,
          158,
          194,
          210,
          236,
          178,
          249,
          248,
          198,
          236,
          216,
          137,
          103,
          169,
          199,
          192,
          265,
          290,
          225,
          168,
          254,
          222,
          218,
          166,
          211,
          214,
          211,
          208,
          156,
          218,
          288,
          208,
          262,
          262,
          190,
          190,
          104,
          220,
          225,
          225,
          123,
          293,
          235,
          254,
          214,
          235,
          179,
          175,
          162,
          204,
          157,
          214,
          134,
          184,
          197,
          155,
          172,
          265,
          187,
          173,
          167,
          205,
          235,
          220,
          200,
          292,
          167,
          178,
          155,
          300,
          216,
          204,
          211,
          239,
          289,
          163,
          175,
          184,
          223,
          280,
          55,
          256,
          231,
          150,
          134,
          236,
          225,
          207,
          208,
          282,
          195,
          223,
          249
         ],
         "xaxis": "x",
         "yaxis": "y"
        },
        {
         "alignmentgroup": "True",
         "bingroup": "x",
         "hovertemplate": "gender=male<br>total_number=%{x}<br>count=%{y}<extra></extra>",
         "legendgroup": "male",
         "marker": {
          "color": "#EF553B",
          "pattern": {
           "shape": ""
          }
         },
         "name": "male",
         "nbinsx": 30,
         "offsetgroup": "male",
         "orientation": "v",
         "showlegend": true,
         "type": "histogram",
         "x": [
          148,
          229,
          122,
          195,
          164,
          135,
          220,
          263,
          134,
          198,
          151,
          225,
          219,
          178,
          205,
          120,
          266,
          241,
          170,
          170,
          190,
          176,
          248,
          156,
          214,
          139,
          241,
          156,
          175,
          225,
          112,
          178,
          192,
          119,
          175,
          181,
          174,
          139,
          123,
          78,
          239,
          139,
          151,
          199,
          115,
          97,
          221,
          138,
          241,
          193,
          213,
          216,
          151,
          274,
          193,
          166,
          154,
          235,
          272,
          176,
          236,
          207,
          216,
          238,
          255,
          130,
          231,
          228,
          161,
          146,
          181,
          201,
          147,
          239,
          247,
          207,
          293,
          198,
          212,
          150,
          190,
          180,
          192,
          234,
          154,
          154,
          155,
          219,
          260,
          205,
          146,
          197,
          221,
          196,
          145,
          238,
          201,
          168,
          193,
          162,
          215,
          142,
          223,
          206,
          237,
          238,
          90,
          167,
          259,
          242,
          213,
          173,
          245,
          241,
          161,
          204,
          206,
          131,
          257,
          249,
          232,
          196,
          157,
          244,
          207,
          153,
          218,
          232,
          239,
          181,
          145,
          232,
          158,
          232,
          236,
          217,
          142,
          193,
          149,
          249,
          234,
          186,
          147,
          139,
          245,
          267,
          239,
          230,
          214,
          229,
          180,
          235,
          189,
          130,
          213,
          136,
          252,
          240,
          162,
          220,
          205,
          267,
          147,
          183,
          196,
          202,
          233,
          203,
          184,
          70,
          234,
          192,
          119,
          171,
          249,
          215,
          143,
          171,
          206,
          219,
          180,
          215,
          237,
          175,
          185,
          182,
          247,
          177,
          167,
          180,
          188,
          232,
          220,
          130,
          192,
          282,
          231,
          218,
          199,
          210,
          167,
          134,
          194,
          173,
          139,
          193,
          256,
          245,
          197,
          197,
          226,
          213,
          214,
          189,
          167,
          114,
          255,
          205,
          177,
          185,
          189,
          172,
          205,
          151,
          207,
          214,
          177,
          259,
          234,
          195,
          247,
          135,
          226,
          172,
          140,
          155,
          205,
          166,
          153,
          195,
          204,
          241,
          204,
          220,
          214,
          212,
          197,
          157,
          215,
          164,
          174,
          243,
          198,
          219,
          178,
          204,
          168,
          234,
          220,
          157,
          163,
          172,
          184,
          163,
          154,
          187,
          177,
          181,
          210,
          169,
          222,
          275,
          212,
          241,
          241,
          203,
          220,
          220,
          265,
          203,
          138,
          194,
          201,
          278,
          145,
          136,
          158,
          203,
          216,
          279,
          148,
          164,
          169,
          183,
          200,
          69,
          155,
          168,
          263,
          209,
          192,
          275,
          249,
          260,
          206,
          181,
          161,
          282,
          296,
          202,
          155,
          152,
          201,
          204,
          248,
          209,
          236,
          144,
          195,
          160,
          208,
          196,
          262,
          224,
          202,
          206,
          208,
          230,
          159,
          234,
          184,
          188,
          171,
          196,
          228,
          228,
          155,
          266,
          191,
          258,
          199,
          116,
          177,
          255,
          267,
          246,
          223,
          244,
          173,
          140,
          131,
          226,
          176,
          129,
          144,
          146,
          183,
          255,
          225,
          176,
          225,
          157,
          225,
          215,
          201,
          257,
          208,
          205,
          231,
          166,
          165,
          210,
          223,
          245,
          182,
          198,
          175,
          149,
          222,
          191,
          261,
          251,
          194,
          209,
          250,
          210,
          183,
          208,
          229,
          230,
          234,
          164,
          118,
          141,
          247,
          267,
          207,
          152,
          187,
          175,
          182,
          153,
          194,
          168,
          173,
          227,
          259,
          261,
          168,
          224,
          205,
          210,
          181,
          208,
          147,
          232,
          119,
          281,
          252,
          164,
          144,
          224,
          151,
          164,
          244,
          262,
          210,
          247,
          172,
          193,
          145,
          185,
          143,
          237,
          92,
          184,
          258,
          242,
          156,
          204,
          140,
          300,
          278,
          206,
          204,
          213,
          198,
          172,
          133,
          211,
          181,
          205,
          219,
          275,
          191,
          177,
          251,
          214,
          210,
          211,
          184,
          244,
          151,
          238,
          164,
          191,
          252,
          227,
          187,
          198,
          186,
          219,
          182,
          185,
          144,
          237,
          250,
          162,
          232,
          242,
          188,
          172
         ],
         "xaxis": "x",
         "yaxis": "y"
        }
       ],
       "layout": {
        "barmode": "relative",
        "legend": {
         "title": {
          "text": "gender"
         },
         "tracegroupgap": 0
        },
        "margin": {
         "t": 60
        },
        "template": {
         "data": {
          "bar": [
           {
            "error_x": {
             "color": "#2a3f5f"
            },
            "error_y": {
             "color": "#2a3f5f"
            },
            "marker": {
             "line": {
              "color": "#E5ECF6",
              "width": 0.5
             },
             "pattern": {
              "fillmode": "overlay",
              "size": 10,
              "solidity": 0.2
             }
            },
            "type": "bar"
           }
          ],
          "barpolar": [
           {
            "marker": {
             "line": {
              "color": "#E5ECF6",
              "width": 0.5
             },
             "pattern": {
              "fillmode": "overlay",
              "size": 10,
              "solidity": 0.2
             }
            },
            "type": "barpolar"
           }
          ],
          "carpet": [
           {
            "aaxis": {
             "endlinecolor": "#2a3f5f",
             "gridcolor": "white",
             "linecolor": "white",
             "minorgridcolor": "white",
             "startlinecolor": "#2a3f5f"
            },
            "baxis": {
             "endlinecolor": "#2a3f5f",
             "gridcolor": "white",
             "linecolor": "white",
             "minorgridcolor": "white",
             "startlinecolor": "#2a3f5f"
            },
            "type": "carpet"
           }
          ],
          "choropleth": [
           {
            "colorbar": {
             "outlinewidth": 0,
             "ticks": ""
            },
            "type": "choropleth"
           }
          ],
          "contour": [
           {
            "colorbar": {
             "outlinewidth": 0,
             "ticks": ""
            },
            "colorscale": [
             [
              0,
              "#0d0887"
             ],
             [
              0.1111111111111111,
              "#46039f"
             ],
             [
              0.2222222222222222,
              "#7201a8"
             ],
             [
              0.3333333333333333,
              "#9c179e"
             ],
             [
              0.4444444444444444,
              "#bd3786"
             ],
             [
              0.5555555555555556,
              "#d8576b"
             ],
             [
              0.6666666666666666,
              "#ed7953"
             ],
             [
              0.7777777777777778,
              "#fb9f3a"
             ],
             [
              0.8888888888888888,
              "#fdca26"
             ],
             [
              1,
              "#f0f921"
             ]
            ],
            "type": "contour"
           }
          ],
          "contourcarpet": [
           {
            "colorbar": {
             "outlinewidth": 0,
             "ticks": ""
            },
            "type": "contourcarpet"
           }
          ],
          "heatmap": [
           {
            "colorbar": {
             "outlinewidth": 0,
             "ticks": ""
            },
            "colorscale": [
             [
              0,
              "#0d0887"
             ],
             [
              0.1111111111111111,
              "#46039f"
             ],
             [
              0.2222222222222222,
              "#7201a8"
             ],
             [
              0.3333333333333333,
              "#9c179e"
             ],
             [
              0.4444444444444444,
              "#bd3786"
             ],
             [
              0.5555555555555556,
              "#d8576b"
             ],
             [
              0.6666666666666666,
              "#ed7953"
             ],
             [
              0.7777777777777778,
              "#fb9f3a"
             ],
             [
              0.8888888888888888,
              "#fdca26"
             ],
             [
              1,
              "#f0f921"
             ]
            ],
            "type": "heatmap"
           }
          ],
          "heatmapgl": [
           {
            "colorbar": {
             "outlinewidth": 0,
             "ticks": ""
            },
            "colorscale": [
             [
              0,
              "#0d0887"
             ],
             [
              0.1111111111111111,
              "#46039f"
             ],
             [
              0.2222222222222222,
              "#7201a8"
             ],
             [
              0.3333333333333333,
              "#9c179e"
             ],
             [
              0.4444444444444444,
              "#bd3786"
             ],
             [
              0.5555555555555556,
              "#d8576b"
             ],
             [
              0.6666666666666666,
              "#ed7953"
             ],
             [
              0.7777777777777778,
              "#fb9f3a"
             ],
             [
              0.8888888888888888,
              "#fdca26"
             ],
             [
              1,
              "#f0f921"
             ]
            ],
            "type": "heatmapgl"
           }
          ],
          "histogram": [
           {
            "marker": {
             "pattern": {
              "fillmode": "overlay",
              "size": 10,
              "solidity": 0.2
             }
            },
            "type": "histogram"
           }
          ],
          "histogram2d": [
           {
            "colorbar": {
             "outlinewidth": 0,
             "ticks": ""
            },
            "colorscale": [
             [
              0,
              "#0d0887"
             ],
             [
              0.1111111111111111,
              "#46039f"
             ],
             [
              0.2222222222222222,
              "#7201a8"
             ],
             [
              0.3333333333333333,
              "#9c179e"
             ],
             [
              0.4444444444444444,
              "#bd3786"
             ],
             [
              0.5555555555555556,
              "#d8576b"
             ],
             [
              0.6666666666666666,
              "#ed7953"
             ],
             [
              0.7777777777777778,
              "#fb9f3a"
             ],
             [
              0.8888888888888888,
              "#fdca26"
             ],
             [
              1,
              "#f0f921"
             ]
            ],
            "type": "histogram2d"
           }
          ],
          "histogram2dcontour": [
           {
            "colorbar": {
             "outlinewidth": 0,
             "ticks": ""
            },
            "colorscale": [
             [
              0,
              "#0d0887"
             ],
             [
              0.1111111111111111,
              "#46039f"
             ],
             [
              0.2222222222222222,
              "#7201a8"
             ],
             [
              0.3333333333333333,
              "#9c179e"
             ],
             [
              0.4444444444444444,
              "#bd3786"
             ],
             [
              0.5555555555555556,
              "#d8576b"
             ],
             [
              0.6666666666666666,
              "#ed7953"
             ],
             [
              0.7777777777777778,
              "#fb9f3a"
             ],
             [
              0.8888888888888888,
              "#fdca26"
             ],
             [
              1,
              "#f0f921"
             ]
            ],
            "type": "histogram2dcontour"
           }
          ],
          "mesh3d": [
           {
            "colorbar": {
             "outlinewidth": 0,
             "ticks": ""
            },
            "type": "mesh3d"
           }
          ],
          "parcoords": [
           {
            "line": {
             "colorbar": {
              "outlinewidth": 0,
              "ticks": ""
             }
            },
            "type": "parcoords"
           }
          ],
          "pie": [
           {
            "automargin": true,
            "type": "pie"
           }
          ],
          "scatter": [
           {
            "fillpattern": {
             "fillmode": "overlay",
             "size": 10,
             "solidity": 0.2
            },
            "type": "scatter"
           }
          ],
          "scatter3d": [
           {
            "line": {
             "colorbar": {
              "outlinewidth": 0,
              "ticks": ""
             }
            },
            "marker": {
             "colorbar": {
              "outlinewidth": 0,
              "ticks": ""
             }
            },
            "type": "scatter3d"
           }
          ],
          "scattercarpet": [
           {
            "marker": {
             "colorbar": {
              "outlinewidth": 0,
              "ticks": ""
             }
            },
            "type": "scattercarpet"
           }
          ],
          "scattergeo": [
           {
            "marker": {
             "colorbar": {
              "outlinewidth": 0,
              "ticks": ""
             }
            },
            "type": "scattergeo"
           }
          ],
          "scattergl": [
           {
            "marker": {
             "colorbar": {
              "outlinewidth": 0,
              "ticks": ""
             }
            },
            "type": "scattergl"
           }
          ],
          "scattermapbox": [
           {
            "marker": {
             "colorbar": {
              "outlinewidth": 0,
              "ticks": ""
             }
            },
            "type": "scattermapbox"
           }
          ],
          "scatterpolar": [
           {
            "marker": {
             "colorbar": {
              "outlinewidth": 0,
              "ticks": ""
             }
            },
            "type": "scatterpolar"
           }
          ],
          "scatterpolargl": [
           {
            "marker": {
             "colorbar": {
              "outlinewidth": 0,
              "ticks": ""
             }
            },
            "type": "scatterpolargl"
           }
          ],
          "scatterternary": [
           {
            "marker": {
             "colorbar": {
              "outlinewidth": 0,
              "ticks": ""
             }
            },
            "type": "scatterternary"
           }
          ],
          "surface": [
           {
            "colorbar": {
             "outlinewidth": 0,
             "ticks": ""
            },
            "colorscale": [
             [
              0,
              "#0d0887"
             ],
             [
              0.1111111111111111,
              "#46039f"
             ],
             [
              0.2222222222222222,
              "#7201a8"
             ],
             [
              0.3333333333333333,
              "#9c179e"
             ],
             [
              0.4444444444444444,
              "#bd3786"
             ],
             [
              0.5555555555555556,
              "#d8576b"
             ],
             [
              0.6666666666666666,
              "#ed7953"
             ],
             [
              0.7777777777777778,
              "#fb9f3a"
             ],
             [
              0.8888888888888888,
              "#fdca26"
             ],
             [
              1,
              "#f0f921"
             ]
            ],
            "type": "surface"
           }
          ],
          "table": [
           {
            "cells": {
             "fill": {
              "color": "#EBF0F8"
             },
             "line": {
              "color": "white"
             }
            },
            "header": {
             "fill": {
              "color": "#C8D4E3"
             },
             "line": {
              "color": "white"
             }
            },
            "type": "table"
           }
          ]
         },
         "layout": {
          "annotationdefaults": {
           "arrowcolor": "#2a3f5f",
           "arrowhead": 0,
           "arrowwidth": 1
          },
          "autotypenumbers": "strict",
          "coloraxis": {
           "colorbar": {
            "outlinewidth": 0,
            "ticks": ""
           }
          },
          "colorscale": {
           "diverging": [
            [
             0,
             "#8e0152"
            ],
            [
             0.1,
             "#c51b7d"
            ],
            [
             0.2,
             "#de77ae"
            ],
            [
             0.3,
             "#f1b6da"
            ],
            [
             0.4,
             "#fde0ef"
            ],
            [
             0.5,
             "#f7f7f7"
            ],
            [
             0.6,
             "#e6f5d0"
            ],
            [
             0.7,
             "#b8e186"
            ],
            [
             0.8,
             "#7fbc41"
            ],
            [
             0.9,
             "#4d9221"
            ],
            [
             1,
             "#276419"
            ]
           ],
           "sequential": [
            [
             0,
             "#0d0887"
            ],
            [
             0.1111111111111111,
             "#46039f"
            ],
            [
             0.2222222222222222,
             "#7201a8"
            ],
            [
             0.3333333333333333,
             "#9c179e"
            ],
            [
             0.4444444444444444,
             "#bd3786"
            ],
            [
             0.5555555555555556,
             "#d8576b"
            ],
            [
             0.6666666666666666,
             "#ed7953"
            ],
            [
             0.7777777777777778,
             "#fb9f3a"
            ],
            [
             0.8888888888888888,
             "#fdca26"
            ],
            [
             1,
             "#f0f921"
            ]
           ],
           "sequentialminus": [
            [
             0,
             "#0d0887"
            ],
            [
             0.1111111111111111,
             "#46039f"
            ],
            [
             0.2222222222222222,
             "#7201a8"
            ],
            [
             0.3333333333333333,
             "#9c179e"
            ],
            [
             0.4444444444444444,
             "#bd3786"
            ],
            [
             0.5555555555555556,
             "#d8576b"
            ],
            [
             0.6666666666666666,
             "#ed7953"
            ],
            [
             0.7777777777777778,
             "#fb9f3a"
            ],
            [
             0.8888888888888888,
             "#fdca26"
            ],
            [
             1,
             "#f0f921"
            ]
           ]
          },
          "colorway": [
           "#636efa",
           "#EF553B",
           "#00cc96",
           "#ab63fa",
           "#FFA15A",
           "#19d3f3",
           "#FF6692",
           "#B6E880",
           "#FF97FF",
           "#FECB52"
          ],
          "font": {
           "color": "#2a3f5f"
          },
          "geo": {
           "bgcolor": "white",
           "lakecolor": "white",
           "landcolor": "#E5ECF6",
           "showlakes": true,
           "showland": true,
           "subunitcolor": "white"
          },
          "hoverlabel": {
           "align": "left"
          },
          "hovermode": "closest",
          "mapbox": {
           "style": "light"
          },
          "paper_bgcolor": "white",
          "plot_bgcolor": "#E5ECF6",
          "polar": {
           "angularaxis": {
            "gridcolor": "white",
            "linecolor": "white",
            "ticks": ""
           },
           "bgcolor": "#E5ECF6",
           "radialaxis": {
            "gridcolor": "white",
            "linecolor": "white",
            "ticks": ""
           }
          },
          "scene": {
           "xaxis": {
            "backgroundcolor": "#E5ECF6",
            "gridcolor": "white",
            "gridwidth": 2,
            "linecolor": "white",
            "showbackground": true,
            "ticks": "",
            "zerolinecolor": "white"
           },
           "yaxis": {
            "backgroundcolor": "#E5ECF6",
            "gridcolor": "white",
            "gridwidth": 2,
            "linecolor": "white",
            "showbackground": true,
            "ticks": "",
            "zerolinecolor": "white"
           },
           "zaxis": {
            "backgroundcolor": "#E5ECF6",
            "gridcolor": "white",
            "gridwidth": 2,
            "linecolor": "white",
            "showbackground": true,
            "ticks": "",
            "zerolinecolor": "white"
           }
          },
          "shapedefaults": {
           "line": {
            "color": "#2a3f5f"
           }
          },
          "ternary": {
           "aaxis": {
            "gridcolor": "white",
            "linecolor": "white",
            "ticks": ""
           },
           "baxis": {
            "gridcolor": "white",
            "linecolor": "white",
            "ticks": ""
           },
           "bgcolor": "#E5ECF6",
           "caxis": {
            "gridcolor": "white",
            "linecolor": "white",
            "ticks": ""
           }
          },
          "title": {
           "x": 0.05
          },
          "xaxis": {
           "automargin": true,
           "gridcolor": "white",
           "linecolor": "white",
           "ticks": "",
           "title": {
            "standoff": 15
           },
           "zerolinecolor": "white",
           "zerolinewidth": 2
          },
          "yaxis": {
           "automargin": true,
           "gridcolor": "white",
           "linecolor": "white",
           "ticks": "",
           "title": {
            "standoff": 15
           },
           "zerolinecolor": "white",
           "zerolinewidth": 2
          }
         }
        },
        "xaxis": {
         "anchor": "y",
         "domain": [
          0,
          1
         ],
         "title": {
          "text": "total_number"
         }
        },
        "yaxis": {
         "anchor": "x",
         "domain": [
          0,
          1
         ],
         "title": {
          "text": "count"
         }
        }
       }
      }
     },
     "metadata": {},
     "output_type": "display_data"
    }
   ],
   "source": [
    "fig = px.histogram(df, x='total_number', color='gender', nbins=30)\n",
    "fig.show()"
   ]
  },
  {
   "cell_type": "markdown",
   "metadata": {},
   "source": [
    "<center><b>Figure:11</b> - Histogram of total_number column base on gender.</center>"
   ]
  },
  {
   "cell_type": "code",
   "execution_count": 129,
   "metadata": {},
   "outputs": [
    {
     "data": {
      "image/png": "[encoded data removed]",
      "text/plain": [
       "<Figure size 800x600 with 2 Axes>"
      ]
     },
     "metadata": {},
     "output_type": "display_data"
    }
   ],
   "source": [
    "# Compute the correlation matrix for the numerical score variables\n",
    "correlation_matrix = df[['math_score', 'reading_score', 'writing_score']].corr()\n",
    "\n",
    "# Visualize the correlation matrix using a heatmap\n",
    "plt.figure(figsize=(8, 6))\n",
    "sns.heatmap(correlation_matrix, annot=True, cmap='coolwarm', fmt=\".2f\")\n",
    "plt.title('Correlation Matrix of Scores')\n",
    "plt.show()"
   ]
  },
  {
   "cell_type": "markdown",
   "metadata": {},
   "source": [
    "<center><b>Figure:12</b> - Correlation plot of math_score, reading_score, writing_score.</center>"
   ]
  },
  {
   "cell_type": "markdown",
   "metadata": {},
   "source": [
    "# Summary:-\n",
    "- In this data set  approximate male and female are equal.\n",
    "- Base on  `race_ethnicity` `group c` are top contributer.\n",
    "- Base on `parental_level_of_education` `high school` are top contributer.\n",
    "- `Standard group` is highest group base on `lunch`\n",
    "- `test_preparation_course` most of the student are not Complete\n",
    "- Those student are on average good prefome these parents have higher education.\n",
    "- Group A students are on average good perform.\n",
    "- In math subject 7 students take 100% marks and 1 student Take 0 mark.\n",
    "- She belongs to `group c` in `rece ethnicity` parental level of education is `high school`\n",
    "- In Writting subject 14 students take 100% marks.\n",
    "- In Reading subject 17 students take 100% marks."
   ]
  }
 ],
 "metadata": {
  "kernelspec": {
   "display_name": "eda_evniroment",
   "language": "python",
   "name": "python3"
  },
  "language_info": {
   "codemirror_mode": {
    "name": "ipython",
    "version": 3
   },
   "file_extension": ".py",
   "mimetype": "text/x-python",
   "name": "python",
   "nbconvert_exporter": "python",
   "pygments_lexer": "ipython3",
   "version": "3.11.5"
  }
 },
 "nbformat": 4,
 "nbformat_minor": 2
}
